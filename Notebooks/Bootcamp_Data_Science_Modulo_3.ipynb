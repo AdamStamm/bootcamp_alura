{
  "nbformat": 4,
  "nbformat_minor": 0,
  "metadata": {
    "colab": {
      "name": "Bootcamp_Data_Science_Modulo_3",
      "provenance": [],
      "collapsed_sections": [],
      "mount_file_id": "1esRqdTymTtU78Fd30Wqa_0kgGyV3vBlf",
      "authorship_tag": "ABX9TyPL/TemvbL2Yee9xJQ83DRZ",
      "include_colab_link": true
    },
    "kernelspec": {
      "name": "python3",
      "display_name": "Python 3"
    }
  },
  "cells": [
    {
      "cell_type": "markdown",
      "metadata": {
        "id": "view-in-github",
        "colab_type": "text"
      },
      "source": [
        "<a href=\"https://colab.research.google.com/github/AdamStamm/bootcamp_alura/blob/main/Notebooks/Bootcamp_Data_Science_Modulo_3.ipynb\" target=\"_parent\"><img src=\"https://colab.research.google.com/assets/colab-badge.svg\" alt=\"Open In Colab\"/></a>"
      ]
    },
    {
      "cell_type": "markdown",
      "metadata": {
        "id": "HF1U1xUezbdH"
      },
      "source": [
        "#Apresentação\n",
        "\n",
        "Esse notebook contempla os códigos aprendidos no **Módulo 3** do Bootcamp Data Science aplicada desenvolvido pela [Alura](http://alura.com.br). O foco de aprendizado é **Análise descritiva e testes estatíticos**."
      ]
    },
    {
      "cell_type": "markdown",
      "metadata": {
        "id": "ZMf5SaV90ceZ"
      },
      "source": [
        "#Importando bibliotecas."
      ]
    },
    {
      "cell_type": "code",
      "metadata": {
        "id": "s9Nqqs9Xwx00"
      },
      "source": [
        "import pandas as pd\n",
        "from zipfile import ZipFile\n",
        " \n",
        "#biblioteca de fluxo de entrada e saída\n",
        "#importamos o pacote de leitura binária\n",
        "from io import BytesIO\n",
        "import requests"
      ],
      "execution_count": 1,
      "outputs": []
    },
    {
      "cell_type": "markdown",
      "metadata": {
        "id": "IO06TNRpePWA"
      },
      "source": [
        "- A biblioteca IO foi feita para controle de fluxos de entrada/saída de dados, no módulo anterior usamos o pacote StringIO da io para capturar o fluxo de dados que estavam na memória (copy and paste). Agora usaremos para capturar o fluxo de dados binários.\n",
        "Mais informações: https://docs.python.org/3/library/io.html\n",
        " \n",
        "- A biblioteca requests permite que você faça requisições HTTP de maneira fácil sem a necessidade de uma API.\n",
        "mais informações [aqui](https://requests.readthedocs.io/pt_BR/latest/user/quickstart.html) ou [aqui](https://www.digitalocean.com/community/tutorials/how-to-get-started-with-the-requests-library-in-python-pt)"
      ]
    },
    {
      "cell_type": "markdown",
      "metadata": {
        "id": "HwTLHC-Pz5ew"
      },
      "source": [
        "#Aula 1 - Educação, saúde e tipos de dados."
      ]
    },
    {
      "cell_type": "markdown",
      "metadata": {
        "id": "Rp2auuJ9z_Z0"
      },
      "source": [
        "##Carregando dados\n",
        "\n",
        "Dessa vez carregaremos os dados de um arquivo zipado, sem descompacta-lo no computador, por maior comodidade upei o arquivo zip direto no meu [Github](https://github.com/AdamStamm/bootcamp_alura/)."
      ]
    },
    {
      "cell_type": "code",
      "metadata": {
        "id": "amDBkoYf1Jub"
      },
      "source": [
        "#Fazendo requisição binária do arquivo zip do github\n",
        "path = 'https://github.com/AdamStamm/bootcamp_alura/blob/main/dados/PeNSE_2015_AMOSTRA2.zip?raw=true'\n",
        "r = requests.get(path)\n",
        "zip_file = BytesIO(r.content)\n",
        " \n",
        "# Leitura do arquivo zip\n",
        "zip = ZipFile(zip_file) \n",
        " \n",
        "#pega o caminho da lista de arquivos\n",
        "caminho_arquivo_zip = zip.namelist()[1]\n",
        " \n",
        "df = pd.read_csv(zip.open(caminho_arquivo_zip), sep=';')"
      ],
      "execution_count": 2,
      "outputs": []
    },
    {
      "cell_type": "code",
      "metadata": {
        "colab": {
          "base_uri": "https://localhost:8080/",
          "height": 244
        },
        "id": "pkkW4cSec0Ye",
        "outputId": "a87fba4d-2532-4c2b-ba63-9518e0cd7b61"
      },
      "source": [
        "df.head()"
      ],
      "execution_count": 3,
      "outputs": [
        {
          "output_type": "execute_result",
          "data": {
            "text/html": [
              "<div>\n",
              "<style scoped>\n",
              "    .dataframe tbody tr th:only-of-type {\n",
              "        vertical-align: middle;\n",
              "    }\n",
              "\n",
              "    .dataframe tbody tr th {\n",
              "        vertical-align: top;\n",
              "    }\n",
              "\n",
              "    .dataframe thead th {\n",
              "        text-align: right;\n",
              "    }\n",
              "</style>\n",
              "<table border=\"1\" class=\"dataframe\">\n",
              "  <thead>\n",
              "    <tr style=\"text-align: right;\">\n",
              "      <th></th>\n",
              "      <th>ANOPESQ</th>\n",
              "      <th>PAIS</th>\n",
              "      <th>REGEOGR</th>\n",
              "      <th>VB00004</th>\n",
              "      <th>VB01001</th>\n",
              "      <th>VB01002</th>\n",
              "      <th>VB01003</th>\n",
              "      <th>VB01004</th>\n",
              "      <th>VB01005</th>\n",
              "      <th>VB01006</th>\n",
              "      <th>VB01007</th>\n",
              "      <th>VB01008A</th>\n",
              "      <th>VB01010A</th>\n",
              "      <th>VB01011</th>\n",
              "      <th>VB01012</th>\n",
              "      <th>VB01013</th>\n",
              "      <th>VB01014</th>\n",
              "      <th>VB01015A</th>\n",
              "      <th>VB01016</th>\n",
              "      <th>VB01017</th>\n",
              "      <th>VB01018</th>\n",
              "      <th>VB01019</th>\n",
              "      <th>VB01020A</th>\n",
              "      <th>VB01021</th>\n",
              "      <th>VB01022</th>\n",
              "      <th>VB01023</th>\n",
              "      <th>VB01024</th>\n",
              "      <th>VB01025</th>\n",
              "      <th>VB01026</th>\n",
              "      <th>VB02001</th>\n",
              "      <th>VB02002</th>\n",
              "      <th>VB02004A</th>\n",
              "      <th>VB02010</th>\n",
              "      <th>VB02011</th>\n",
              "      <th>VB02013</th>\n",
              "      <th>VB02017A</th>\n",
              "      <th>VB02018A</th>\n",
              "      <th>VB02019A</th>\n",
              "      <th>VB02020A</th>\n",
              "      <th>VB02021</th>\n",
              "      <th>...</th>\n",
              "      <th>VB11005</th>\n",
              "      <th>VB11006</th>\n",
              "      <th>VB11007</th>\n",
              "      <th>VB12001</th>\n",
              "      <th>VB12002</th>\n",
              "      <th>VB12003</th>\n",
              "      <th>VB13001</th>\n",
              "      <th>VB13002A</th>\n",
              "      <th>VB13004A</th>\n",
              "      <th>VB13005</th>\n",
              "      <th>VB13006</th>\n",
              "      <th>VB13007</th>\n",
              "      <th>VB13008</th>\n",
              "      <th>VB13009</th>\n",
              "      <th>VB14001</th>\n",
              "      <th>VB14002</th>\n",
              "      <th>VB16001A01</th>\n",
              "      <th>VB16001A02</th>\n",
              "      <th>VB16001A03</th>\n",
              "      <th>VB16001A04</th>\n",
              "      <th>VB16001A05</th>\n",
              "      <th>VB16001A06</th>\n",
              "      <th>VB16001A07</th>\n",
              "      <th>VB16001A08</th>\n",
              "      <th>VB17001</th>\n",
              "      <th>VB17002</th>\n",
              "      <th>VB17003</th>\n",
              "      <th>VB17004</th>\n",
              "      <th>VB17005</th>\n",
              "      <th>VB17006</th>\n",
              "      <th>ESTRATO_EXP</th>\n",
              "      <th>ESTRATOGEOREG</th>\n",
              "      <th>PESO</th>\n",
              "      <th>V0006</th>\n",
              "      <th>V0007</th>\n",
              "      <th>V0008</th>\n",
              "      <th>V0041</th>\n",
              "      <th>aluno</th>\n",
              "      <th>escola</th>\n",
              "      <th>turma</th>\n",
              "    </tr>\n",
              "  </thead>\n",
              "  <tbody>\n",
              "    <tr>\n",
              "      <th>0</th>\n",
              "      <td>2015</td>\n",
              "      <td>76</td>\n",
              "      <td>1</td>\n",
              "      <td>1</td>\n",
              "      <td>2</td>\n",
              "      <td>1</td>\n",
              "      <td>13</td>\n",
              "      <td>7</td>\n",
              "      <td>7</td>\n",
              "      <td>1</td>\n",
              "      <td>2</td>\n",
              "      <td>7</td>\n",
              "      <td>3</td>\n",
              "      <td>2</td>\n",
              "      <td>-1</td>\n",
              "      <td>1</td>\n",
              "      <td>1</td>\n",
              "      <td>1</td>\n",
              "      <td>1</td>\n",
              "      <td>1</td>\n",
              "      <td>2</td>\n",
              "      <td>4</td>\n",
              "      <td>2</td>\n",
              "      <td>4</td>\n",
              "      <td>1</td>\n",
              "      <td>2</td>\n",
              "      <td>2</td>\n",
              "      <td>5</td>\n",
              "      <td>1</td>\n",
              "      <td>8</td>\n",
              "      <td>3</td>\n",
              "      <td>4</td>\n",
              "      <td>3</td>\n",
              "      <td>6</td>\n",
              "      <td>6</td>\n",
              "      <td>1</td>\n",
              "      <td>6</td>\n",
              "      <td>1</td>\n",
              "      <td>-1</td>\n",
              "      <td>2</td>\n",
              "      <td>...</td>\n",
              "      <td>2</td>\n",
              "      <td>1</td>\n",
              "      <td>2</td>\n",
              "      <td>1</td>\n",
              "      <td>1</td>\n",
              "      <td>4</td>\n",
              "      <td>2</td>\n",
              "      <td>-1</td>\n",
              "      <td>3</td>\n",
              "      <td>1</td>\n",
              "      <td>1</td>\n",
              "      <td>-1</td>\n",
              "      <td>1</td>\n",
              "      <td>1</td>\n",
              "      <td>2</td>\n",
              "      <td>2</td>\n",
              "      <td>1</td>\n",
              "      <td>2</td>\n",
              "      <td>2</td>\n",
              "      <td>2</td>\n",
              "      <td>2</td>\n",
              "      <td>2</td>\n",
              "      <td>2</td>\n",
              "      <td>2</td>\n",
              "      <td>371.0</td>\n",
              "      <td>1570.0</td>\n",
              "      <td>37,1</td>\n",
              "      <td>157</td>\n",
              "      <td>2</td>\n",
              "      <td>1</td>\n",
              "      <td>1223</td>\n",
              "      <td>1</td>\n",
              "      <td>299,735235</td>\n",
              "      <td>1</td>\n",
              "      <td>2</td>\n",
              "      <td>4</td>\n",
              "      <td>1</td>\n",
              "      <td>1</td>\n",
              "      <td>1</td>\n",
              "      <td>296</td>\n",
              "    </tr>\n",
              "    <tr>\n",
              "      <th>1</th>\n",
              "      <td>2015</td>\n",
              "      <td>76</td>\n",
              "      <td>1</td>\n",
              "      <td>1</td>\n",
              "      <td>2</td>\n",
              "      <td>1</td>\n",
              "      <td>14</td>\n",
              "      <td>4</td>\n",
              "      <td>7</td>\n",
              "      <td>1</td>\n",
              "      <td>1</td>\n",
              "      <td>7</td>\n",
              "      <td>3</td>\n",
              "      <td>2</td>\n",
              "      <td>-1</td>\n",
              "      <td>1</td>\n",
              "      <td>1</td>\n",
              "      <td>1</td>\n",
              "      <td>1</td>\n",
              "      <td>1</td>\n",
              "      <td>2</td>\n",
              "      <td>2</td>\n",
              "      <td>2</td>\n",
              "      <td>4</td>\n",
              "      <td>1</td>\n",
              "      <td>2</td>\n",
              "      <td>2</td>\n",
              "      <td>5</td>\n",
              "      <td>3</td>\n",
              "      <td>8</td>\n",
              "      <td>2</td>\n",
              "      <td>1</td>\n",
              "      <td>8</td>\n",
              "      <td>8</td>\n",
              "      <td>6</td>\n",
              "      <td>1</td>\n",
              "      <td>1</td>\n",
              "      <td>5</td>\n",
              "      <td>-1</td>\n",
              "      <td>2</td>\n",
              "      <td>...</td>\n",
              "      <td>2</td>\n",
              "      <td>3</td>\n",
              "      <td>2</td>\n",
              "      <td>4</td>\n",
              "      <td>4</td>\n",
              "      <td>4</td>\n",
              "      <td>1</td>\n",
              "      <td>2</td>\n",
              "      <td>3</td>\n",
              "      <td>3</td>\n",
              "      <td>1</td>\n",
              "      <td>-1</td>\n",
              "      <td>1</td>\n",
              "      <td>1</td>\n",
              "      <td>2</td>\n",
              "      <td>2</td>\n",
              "      <td>2</td>\n",
              "      <td>2</td>\n",
              "      <td>2</td>\n",
              "      <td>1</td>\n",
              "      <td>2</td>\n",
              "      <td>2</td>\n",
              "      <td>2</td>\n",
              "      <td>2</td>\n",
              "      <td>502.0</td>\n",
              "      <td>1520.0</td>\n",
              "      <td>50,2</td>\n",
              "      <td>152</td>\n",
              "      <td>2</td>\n",
              "      <td>2</td>\n",
              "      <td>1223</td>\n",
              "      <td>1</td>\n",
              "      <td>355,170081</td>\n",
              "      <td>1</td>\n",
              "      <td>2</td>\n",
              "      <td>4</td>\n",
              "      <td>1</td>\n",
              "      <td>2</td>\n",
              "      <td>1</td>\n",
              "      <td>296</td>\n",
              "    </tr>\n",
              "    <tr>\n",
              "      <th>2</th>\n",
              "      <td>2015</td>\n",
              "      <td>76</td>\n",
              "      <td>1</td>\n",
              "      <td>1</td>\n",
              "      <td>1</td>\n",
              "      <td>4</td>\n",
              "      <td>13</td>\n",
              "      <td>6</td>\n",
              "      <td>7</td>\n",
              "      <td>1</td>\n",
              "      <td>1</td>\n",
              "      <td>5</td>\n",
              "      <td>5</td>\n",
              "      <td>2</td>\n",
              "      <td>-1</td>\n",
              "      <td>2</td>\n",
              "      <td>1</td>\n",
              "      <td>1</td>\n",
              "      <td>1</td>\n",
              "      <td>1</td>\n",
              "      <td>2</td>\n",
              "      <td>3</td>\n",
              "      <td>1</td>\n",
              "      <td>4</td>\n",
              "      <td>1</td>\n",
              "      <td>2</td>\n",
              "      <td>2</td>\n",
              "      <td>5</td>\n",
              "      <td>3</td>\n",
              "      <td>2</td>\n",
              "      <td>3</td>\n",
              "      <td>1</td>\n",
              "      <td>8</td>\n",
              "      <td>2</td>\n",
              "      <td>8</td>\n",
              "      <td>1</td>\n",
              "      <td>1</td>\n",
              "      <td>5</td>\n",
              "      <td>5</td>\n",
              "      <td>1</td>\n",
              "      <td>...</td>\n",
              "      <td>2</td>\n",
              "      <td>1</td>\n",
              "      <td>2</td>\n",
              "      <td>1</td>\n",
              "      <td>2</td>\n",
              "      <td>3</td>\n",
              "      <td>1</td>\n",
              "      <td>2</td>\n",
              "      <td>1</td>\n",
              "      <td>2</td>\n",
              "      <td>5</td>\n",
              "      <td>99</td>\n",
              "      <td>1</td>\n",
              "      <td>-1</td>\n",
              "      <td>2</td>\n",
              "      <td>2</td>\n",
              "      <td>1</td>\n",
              "      <td>1</td>\n",
              "      <td>1</td>\n",
              "      <td>1</td>\n",
              "      <td>1</td>\n",
              "      <td>1</td>\n",
              "      <td>1</td>\n",
              "      <td>1</td>\n",
              "      <td>482.0</td>\n",
              "      <td>1614.0</td>\n",
              "      <td>48,2</td>\n",
              "      <td>161,4</td>\n",
              "      <td>2</td>\n",
              "      <td>2</td>\n",
              "      <td>1223</td>\n",
              "      <td>1</td>\n",
              "      <td>299,735235</td>\n",
              "      <td>1</td>\n",
              "      <td>2</td>\n",
              "      <td>4</td>\n",
              "      <td>1</td>\n",
              "      <td>3</td>\n",
              "      <td>1</td>\n",
              "      <td>296</td>\n",
              "    </tr>\n",
              "    <tr>\n",
              "      <th>3</th>\n",
              "      <td>2015</td>\n",
              "      <td>76</td>\n",
              "      <td>1</td>\n",
              "      <td>1</td>\n",
              "      <td>1</td>\n",
              "      <td>1</td>\n",
              "      <td>14</td>\n",
              "      <td>6</td>\n",
              "      <td>7</td>\n",
              "      <td>1</td>\n",
              "      <td>1</td>\n",
              "      <td>7</td>\n",
              "      <td>4</td>\n",
              "      <td>2</td>\n",
              "      <td>-1</td>\n",
              "      <td>1</td>\n",
              "      <td>1</td>\n",
              "      <td>1</td>\n",
              "      <td>1</td>\n",
              "      <td>1</td>\n",
              "      <td>2</td>\n",
              "      <td>4</td>\n",
              "      <td>2</td>\n",
              "      <td>4</td>\n",
              "      <td>1</td>\n",
              "      <td>2</td>\n",
              "      <td>2</td>\n",
              "      <td>6</td>\n",
              "      <td>3</td>\n",
              "      <td>2</td>\n",
              "      <td>4</td>\n",
              "      <td>1</td>\n",
              "      <td>3</td>\n",
              "      <td>2</td>\n",
              "      <td>7</td>\n",
              "      <td>1</td>\n",
              "      <td>5</td>\n",
              "      <td>1</td>\n",
              "      <td>-1</td>\n",
              "      <td>2</td>\n",
              "      <td>...</td>\n",
              "      <td>2</td>\n",
              "      <td>1</td>\n",
              "      <td>2</td>\n",
              "      <td>2</td>\n",
              "      <td>2</td>\n",
              "      <td>4</td>\n",
              "      <td>1</td>\n",
              "      <td>10</td>\n",
              "      <td>3</td>\n",
              "      <td>1</td>\n",
              "      <td>2</td>\n",
              "      <td>-1</td>\n",
              "      <td>1</td>\n",
              "      <td>-1</td>\n",
              "      <td>2</td>\n",
              "      <td>2</td>\n",
              "      <td>1</td>\n",
              "      <td>2</td>\n",
              "      <td>2</td>\n",
              "      <td>2</td>\n",
              "      <td>1</td>\n",
              "      <td>2</td>\n",
              "      <td>2</td>\n",
              "      <td>2</td>\n",
              "      <td>694.0</td>\n",
              "      <td>1725.0</td>\n",
              "      <td>69,4</td>\n",
              "      <td>172,5</td>\n",
              "      <td>2</td>\n",
              "      <td>3</td>\n",
              "      <td>1223</td>\n",
              "      <td>1</td>\n",
              "      <td>355,170081</td>\n",
              "      <td>1</td>\n",
              "      <td>2</td>\n",
              "      <td>4</td>\n",
              "      <td>1</td>\n",
              "      <td>4</td>\n",
              "      <td>1</td>\n",
              "      <td>296</td>\n",
              "    </tr>\n",
              "    <tr>\n",
              "      <th>4</th>\n",
              "      <td>2015</td>\n",
              "      <td>76</td>\n",
              "      <td>1</td>\n",
              "      <td>1</td>\n",
              "      <td>1</td>\n",
              "      <td>1</td>\n",
              "      <td>13</td>\n",
              "      <td>9</td>\n",
              "      <td>7</td>\n",
              "      <td>1</td>\n",
              "      <td>2</td>\n",
              "      <td>5</td>\n",
              "      <td>4</td>\n",
              "      <td>2</td>\n",
              "      <td>-1</td>\n",
              "      <td>2</td>\n",
              "      <td>1</td>\n",
              "      <td>1</td>\n",
              "      <td>1</td>\n",
              "      <td>1</td>\n",
              "      <td>2</td>\n",
              "      <td>5</td>\n",
              "      <td>1</td>\n",
              "      <td>4</td>\n",
              "      <td>1</td>\n",
              "      <td>2</td>\n",
              "      <td>2</td>\n",
              "      <td>6</td>\n",
              "      <td>5</td>\n",
              "      <td>6</td>\n",
              "      <td>3</td>\n",
              "      <td>5</td>\n",
              "      <td>2</td>\n",
              "      <td>6</td>\n",
              "      <td>2</td>\n",
              "      <td>1</td>\n",
              "      <td>5</td>\n",
              "      <td>1</td>\n",
              "      <td>5</td>\n",
              "      <td>1</td>\n",
              "      <td>...</td>\n",
              "      <td>2</td>\n",
              "      <td>1</td>\n",
              "      <td>4</td>\n",
              "      <td>2</td>\n",
              "      <td>2</td>\n",
              "      <td>4</td>\n",
              "      <td>1</td>\n",
              "      <td>3</td>\n",
              "      <td>2</td>\n",
              "      <td>2</td>\n",
              "      <td>2</td>\n",
              "      <td>13</td>\n",
              "      <td>1</td>\n",
              "      <td>-1</td>\n",
              "      <td>1</td>\n",
              "      <td>2</td>\n",
              "      <td>1</td>\n",
              "      <td>1</td>\n",
              "      <td>1</td>\n",
              "      <td>1</td>\n",
              "      <td>1</td>\n",
              "      <td>1</td>\n",
              "      <td>1</td>\n",
              "      <td>1</td>\n",
              "      <td>789.0</td>\n",
              "      <td>1675.0</td>\n",
              "      <td>78,9</td>\n",
              "      <td>167,5</td>\n",
              "      <td>2</td>\n",
              "      <td>4</td>\n",
              "      <td>1223</td>\n",
              "      <td>1</td>\n",
              "      <td>299,735235</td>\n",
              "      <td>1</td>\n",
              "      <td>2</td>\n",
              "      <td>4</td>\n",
              "      <td>1</td>\n",
              "      <td>5</td>\n",
              "      <td>1</td>\n",
              "      <td>296</td>\n",
              "    </tr>\n",
              "  </tbody>\n",
              "</table>\n",
              "<p>5 rows × 181 columns</p>\n",
              "</div>"
            ],
            "text/plain": [
              "   ANOPESQ  PAIS  REGEOGR  VB00004  VB01001  ...  V0008  V0041  aluno  escola  turma\n",
              "0     2015    76        1        1        2  ...      4      1      1       1    296\n",
              "1     2015    76        1        1        2  ...      4      1      2       1    296\n",
              "2     2015    76        1        1        1  ...      4      1      3       1    296\n",
              "3     2015    76        1        1        1  ...      4      1      4       1    296\n",
              "4     2015    76        1        1        1  ...      4      1      5       1    296\n",
              "\n",
              "[5 rows x 181 columns]"
            ]
          },
          "metadata": {
            "tags": []
          },
          "execution_count": 3
        }
      ]
    },
    {
      "cell_type": "markdown",
      "metadata": {
        "id": "bjc_h9I-aZJg"
      },
      "source": [
        "Algumas propriedades do ZipFile"
      ]
    },
    {
      "cell_type": "code",
      "metadata": {
        "id": "fx8JTSD91cwf",
        "colab": {
          "base_uri": "https://localhost:8080/"
        },
        "outputId": "eef39564-fcd3-49bb-d582-e02d152eeed3"
      },
      "source": [
        "#mostrando o objeto que o ZipFile possui.  \n",
        "zip"
      ],
      "execution_count": 4,
      "outputs": [
        {
          "output_type": "execute_result",
          "data": {
            "text/plain": [
              "<zipfile.ZipFile file=<_io.BytesIO object at 0x7f331a816bf8> mode='r'>"
            ]
          },
          "metadata": {
            "tags": []
          },
          "execution_count": 4
        }
      ]
    },
    {
      "cell_type": "code",
      "metadata": {
        "colab": {
          "base_uri": "https://localhost:8080/"
        },
        "id": "WpkNoh7vak8m",
        "outputId": "c1dded5a-5ec9-42af-8c19-88403fd6b011"
      },
      "source": [
        "#vendo a lista de arquivos contidos no .zip\n",
        "zip.infolist()"
      ],
      "execution_count": 5,
      "outputs": [
        {
          "output_type": "execute_result",
          "data": {
            "text/plain": [
              "[<ZipInfo filename='arquivos csv/' external_attr=0x10>,\n",
              " <ZipInfo filename='arquivos csv/PENSE_AMOSTRA2_ALUNO.CSV' compress_type=deflate external_attr=0x20 file_size=7262170 compress_size=1235667>,\n",
              " <ZipInfo filename='arquivos csv/PENSE_AMOSTRA2_ALUNOESCOLA.CSV' compress_type=deflate external_attr=0x20 file_size=11420533 compress_size=1329882>,\n",
              " <ZipInfo filename='arquivos csv/PENSE_AMOSTRA2_ESCOLA.CSV' compress_type=deflate external_attr=0x20 file_size=5000642 compress_size=114324>,\n",
              " <ZipInfo filename='arquivos sas/' external_attr=0x10>,\n",
              " <ZipInfo filename='arquivos sas/pense_amostra2_aluno.sas7bdat' compress_type=deflate external_attr=0x20 file_size=24691712 compress_size=1957530>,\n",
              " <ZipInfo filename='arquivos sas/pense_amostra2_alunoescola.sas7bdat' compress_type=deflate external_attr=0x20 file_size=45253632 compress_size=2461932>,\n",
              " <ZipInfo filename='arquivos sas/pense_amostra2_escola.sas7bdat' compress_type=deflate external_attr=0x20 file_size=18105344 compress_size=332162>,\n",
              " <ZipInfo filename='arquivos xlsx/' external_attr=0x10>,\n",
              " <ZipInfo filename='arquivos xlsx/PENSE_AMOSTRA2_ALUNO.xlsx' compress_type=deflate external_attr=0x20 file_size=11757246 compress_size=11337133>,\n",
              " <ZipInfo filename='arquivos xlsx/PENSE_AMOSTRA2_ALUNOESCOLA.xlsx' compress_type=deflate external_attr=0x20 file_size=18732739 compress_size=17064325>,\n",
              " <ZipInfo filename='arquivos xlsx/PENSE_AMOSTRA2_ESCOLA.xlsx' compress_type=deflate external_attr=0x20 file_size=7159579 compress_size=3209953>,\n",
              " <ZipInfo filename='Dicionario_PENSE_Microdados_AMOSTRA2.xls' compress_type=deflate external_attr=0x20 file_size=144896 compress_size=35737>]"
            ]
          },
          "metadata": {
            "tags": []
          },
          "execution_count": 5
        }
      ]
    },
    {
      "cell_type": "code",
      "metadata": {
        "colab": {
          "base_uri": "https://localhost:8080/"
        },
        "id": "s6Adecmzbjcv",
        "outputId": "603f04e8-3275-47ab-aa00-6fae4f9d19af"
      },
      "source": [
        "#outra forma de ver os arquivos, retornando uma lista\n",
        "zip.namelist()"
      ],
      "execution_count": 6,
      "outputs": [
        {
          "output_type": "execute_result",
          "data": {
            "text/plain": [
              "['arquivos csv/',\n",
              " 'arquivos csv/PENSE_AMOSTRA2_ALUNO.CSV',\n",
              " 'arquivos csv/PENSE_AMOSTRA2_ALUNOESCOLA.CSV',\n",
              " 'arquivos csv/PENSE_AMOSTRA2_ESCOLA.CSV',\n",
              " 'arquivos sas/',\n",
              " 'arquivos sas/pense_amostra2_aluno.sas7bdat',\n",
              " 'arquivos sas/pense_amostra2_alunoescola.sas7bdat',\n",
              " 'arquivos sas/pense_amostra2_escola.sas7bdat',\n",
              " 'arquivos xlsx/',\n",
              " 'arquivos xlsx/PENSE_AMOSTRA2_ALUNO.xlsx',\n",
              " 'arquivos xlsx/PENSE_AMOSTRA2_ALUNOESCOLA.xlsx',\n",
              " 'arquivos xlsx/PENSE_AMOSTRA2_ESCOLA.xlsx',\n",
              " 'Dicionario_PENSE_Microdados_AMOSTRA2.xls']"
            ]
          },
          "metadata": {
            "tags": []
          },
          "execution_count": 6
        }
      ]
    },
    {
      "cell_type": "markdown",
      "metadata": {
        "id": "TvZRAJLehMj6"
      },
      "source": [
        "Propriedade do requests"
      ]
    },
    {
      "cell_type": "code",
      "metadata": {
        "colab": {
          "base_uri": "https://localhost:8080/",
          "height": 35
        },
        "id": "XslnxhYAf04y",
        "outputId": "08a17441-aa20-47aa-fe25-a70d0768ab16"
      },
      "source": [
        "#verificando a URL que a requests capturou\n",
        "r.url"
      ],
      "execution_count": 7,
      "outputs": [
        {
          "output_type": "execute_result",
          "data": {
            "application/vnd.google.colaboratory.intrinsic+json": {
              "type": "string"
            },
            "text/plain": [
              "'https://raw.githubusercontent.com/AdamStamm/bootcamp_alura/main/dados/PeNSE_2015_AMOSTRA2.zip'"
            ]
          },
          "metadata": {
            "tags": []
          },
          "execution_count": 7
        }
      ]
    },
    {
      "cell_type": "markdown",
      "metadata": {
        "id": "V7-soFjs8_Tr"
      },
      "source": [
        "Iniciando análises iniciais"
      ]
    },
    {
      "cell_type": "code",
      "metadata": {
        "colab": {
          "base_uri": "https://localhost:8080/"
        },
        "id": "uaFoogME9JO0",
        "outputId": "9f780307-b107-4d9a-9d51-fa493c33e9f8"
      },
      "source": [
        "#verificando o tamanho do data frame\n",
        "print(f'O conjunto tem {df.shape[0]} linhas e {df.shape[1]} colunas')"
      ],
      "execution_count": 8,
      "outputs": [
        {
          "output_type": "stream",
          "text": [
            "O conjunto tem 16556 linhas e 181 colunas\n"
          ],
          "name": "stdout"
        }
      ]
    },
    {
      "cell_type": "code",
      "metadata": {
        "colab": {
          "base_uri": "https://localhost:8080/"
        },
        "id": "MfGQvU4F-vL9",
        "outputId": "2fba381c-575b-4a50-c993-fc0f7bbd1b15"
      },
      "source": [
        "#visualizando colunas\n",
        "df.columns"
      ],
      "execution_count": 9,
      "outputs": [
        {
          "output_type": "execute_result",
          "data": {
            "text/plain": [
              "Index(['ANOPESQ', 'PAIS', 'REGEOGR', 'VB00004', 'VB01001', 'VB01002',\n",
              "       'VB01003', 'VB01004', 'VB01005', 'VB01006',\n",
              "       ...\n",
              "       'ESTRATO_EXP', 'ESTRATOGEOREG', 'PESO', 'V0006', 'V0007', 'V0008',\n",
              "       'V0041', 'aluno', 'escola', 'turma'],\n",
              "      dtype='object', length=181)"
            ]
          },
          "metadata": {
            "tags": []
          },
          "execution_count": 9
        }
      ]
    },
    {
      "cell_type": "markdown",
      "metadata": {
        "id": "ChdHJWhJ-8Sv"
      },
      "source": [
        "Percebemos que existem colunas com os nomes das variáveis difíceis de serem identificados, por essa razão é necessário estudarmos o dicionário de variáveis que acompanha o arquivo zip. Uma outra forma de abordagem é observar a forma desses dados como faremos a seguir."
      ]
    },
    {
      "cell_type": "code",
      "metadata": {
        "colab": {
          "base_uri": "https://localhost:8080/"
        },
        "id": "CAS3PvXu_Ztb",
        "outputId": "59e308c3-9b3f-45a2-e1db-51369f493a7d"
      },
      "source": [
        "df.info()"
      ],
      "execution_count": 10,
      "outputs": [
        {
          "output_type": "stream",
          "text": [
            "<class 'pandas.core.frame.DataFrame'>\n",
            "RangeIndex: 16556 entries, 0 to 16555\n",
            "Columns: 181 entries, ANOPESQ to turma\n",
            "dtypes: float64(7), int64(171), object(3)\n",
            "memory usage: 22.9+ MB\n"
          ],
          "name": "stdout"
        }
      ]
    },
    {
      "cell_type": "markdown",
      "metadata": {
        "id": "0NLJGJJa_dkg"
      },
      "source": [
        "Percebemos que existem 7 colunas do tipo float, 171 do tipo inteiro e 3 objects."
      ]
    },
    {
      "cell_type": "code",
      "metadata": {
        "colab": {
          "base_uri": "https://localhost:8080/",
          "height": 402
        },
        "id": "R5aiBKYt_mo_",
        "outputId": "efac54ca-534a-47cc-ff34-a2dfd678a2e2"
      },
      "source": [
        "#visualizando dados por tipo\n",
        "df.select_dtypes(include='object')"
      ],
      "execution_count": 11,
      "outputs": [
        {
          "output_type": "execute_result",
          "data": {
            "text/html": [
              "<div>\n",
              "<style scoped>\n",
              "    .dataframe tbody tr th:only-of-type {\n",
              "        vertical-align: middle;\n",
              "    }\n",
              "\n",
              "    .dataframe tbody tr th {\n",
              "        vertical-align: top;\n",
              "    }\n",
              "\n",
              "    .dataframe thead th {\n",
              "        text-align: right;\n",
              "    }\n",
              "</style>\n",
              "<table border=\"1\" class=\"dataframe\">\n",
              "  <thead>\n",
              "    <tr style=\"text-align: right;\">\n",
              "      <th></th>\n",
              "      <th>VB17003</th>\n",
              "      <th>VB17004</th>\n",
              "      <th>PESO</th>\n",
              "    </tr>\n",
              "  </thead>\n",
              "  <tbody>\n",
              "    <tr>\n",
              "      <th>0</th>\n",
              "      <td>37,1</td>\n",
              "      <td>157</td>\n",
              "      <td>299,735235</td>\n",
              "    </tr>\n",
              "    <tr>\n",
              "      <th>1</th>\n",
              "      <td>50,2</td>\n",
              "      <td>152</td>\n",
              "      <td>355,170081</td>\n",
              "    </tr>\n",
              "    <tr>\n",
              "      <th>2</th>\n",
              "      <td>48,2</td>\n",
              "      <td>161,4</td>\n",
              "      <td>299,735235</td>\n",
              "    </tr>\n",
              "    <tr>\n",
              "      <th>3</th>\n",
              "      <td>69,4</td>\n",
              "      <td>172,5</td>\n",
              "      <td>355,170081</td>\n",
              "    </tr>\n",
              "    <tr>\n",
              "      <th>4</th>\n",
              "      <td>78,9</td>\n",
              "      <td>167,5</td>\n",
              "      <td>299,735235</td>\n",
              "    </tr>\n",
              "    <tr>\n",
              "      <th>...</th>\n",
              "      <td>...</td>\n",
              "      <td>...</td>\n",
              "      <td>...</td>\n",
              "    </tr>\n",
              "    <tr>\n",
              "      <th>16551</th>\n",
              "      <td>56,7</td>\n",
              "      <td>167,9</td>\n",
              "      <td>447,815539</td>\n",
              "    </tr>\n",
              "    <tr>\n",
              "      <th>16552</th>\n",
              "      <td>61,9</td>\n",
              "      <td>185,8</td>\n",
              "      <td>592,50744</td>\n",
              "    </tr>\n",
              "    <tr>\n",
              "      <th>16553</th>\n",
              "      <td>60,9</td>\n",
              "      <td>159,4</td>\n",
              "      <td>401,131512</td>\n",
              "    </tr>\n",
              "    <tr>\n",
              "      <th>16554</th>\n",
              "      <td>47,3</td>\n",
              "      <td>157,8</td>\n",
              "      <td>442,718091</td>\n",
              "    </tr>\n",
              "    <tr>\n",
              "      <th>16555</th>\n",
              "      <td>62,6</td>\n",
              "      <td>163,9</td>\n",
              "      <td>592,50744</td>\n",
              "    </tr>\n",
              "  </tbody>\n",
              "</table>\n",
              "<p>16556 rows × 3 columns</p>\n",
              "</div>"
            ],
            "text/plain": [
              "      VB17003 VB17004        PESO\n",
              "0        37,1     157  299,735235\n",
              "1        50,2     152  355,170081\n",
              "2        48,2   161,4  299,735235\n",
              "3        69,4   172,5  355,170081\n",
              "4        78,9   167,5  299,735235\n",
              "...       ...     ...         ...\n",
              "16551    56,7   167,9  447,815539\n",
              "16552    61,9   185,8   592,50744\n",
              "16553    60,9   159,4  401,131512\n",
              "16554    47,3   157,8  442,718091\n",
              "16555    62,6   163,9   592,50744\n",
              "\n",
              "[16556 rows x 3 columns]"
            ]
          },
          "metadata": {
            "tags": []
          },
          "execution_count": 11
        }
      ]
    },
    {
      "cell_type": "markdown",
      "metadata": {
        "id": "W3GRnbDLAZJA"
      },
      "source": [
        "Note que o tipo object em geral trata de strings, mas temos 3 colunas de tipo float sendo tratadas como strings, isso acontece por que no nosso idioma pontos flutuantes são debitados por vírgula, no formato americano são demorados por ponto, isso faz com que o código seja classificado como string na hora do carregamento dos dados. Para corrigir isso basta, na hora do carregamento dos dados, informar essa característica incluindo os parâmetros thousands para milhar e decimal para decimais.\n",
        " \n",
        "Também é importante olhar o dicionário de dados, se verificarmos a coluna PESO refere-se ao peso *estatístico* dos dados e **não** do peso dos alunos.\n",
        "\n",
        "- **VB17003:** Peso(Kg) do aluno\n",
        "- **VB17004:** Altura do aluno\n",
        "- **PESO:** Peso amostral para expansão."
      ]
    },
    {
      "cell_type": "code",
      "metadata": {
        "id": "AvhLSBrE0V7N"
      },
      "source": [
        "#carregando conjunto de dados com os parâmetros adicionais (deixei uma nova\r\n",
        "#célula apenas por questão didática)\r\n",
        "df = pd.read_csv(zip.open(caminho_arquivo_zip), sep=';',thousands='.', decimal=',')"
      ],
      "execution_count": 12,
      "outputs": []
    },
    {
      "cell_type": "code",
      "metadata": {
        "colab": {
          "base_uri": "https://localhost:8080/"
        },
        "id": "5n8eBbIFEBhk",
        "outputId": "851ab660-28dd-4062-d03d-5e51f42a7185"
      },
      "source": [
        "df.info()"
      ],
      "execution_count": 13,
      "outputs": [
        {
          "output_type": "stream",
          "text": [
            "<class 'pandas.core.frame.DataFrame'>\n",
            "RangeIndex: 16556 entries, 0 to 16555\n",
            "Columns: 181 entries, ANOPESQ to turma\n",
            "dtypes: float64(10), int64(171)\n",
            "memory usage: 22.9 MB\n"
          ],
          "name": "stdout"
        }
      ]
    },
    {
      "cell_type": "markdown",
      "metadata": {
        "id": "Lyd-zE2aEHbW"
      },
      "source": [
        "Note que já não temos mais as colunas do tipo objeto, vamos observar então as colunas do tipo float."
      ]
    },
    {
      "cell_type": "code",
      "metadata": {
        "colab": {
          "base_uri": "https://localhost:8080/",
          "height": 402
        },
        "id": "K12Rf8SdEQyj",
        "outputId": "09dbe229-be7a-470b-d3ee-0a71e96992a0"
      },
      "source": [
        "df.select_dtypes(include='float64')"
      ],
      "execution_count": 14,
      "outputs": [
        {
          "output_type": "execute_result",
          "data": {
            "text/html": [
              "<div>\n",
              "<style scoped>\n",
              "    .dataframe tbody tr th:only-of-type {\n",
              "        vertical-align: middle;\n",
              "    }\n",
              "\n",
              "    .dataframe tbody tr th {\n",
              "        vertical-align: top;\n",
              "    }\n",
              "\n",
              "    .dataframe thead th {\n",
              "        text-align: right;\n",
              "    }\n",
              "</style>\n",
              "<table border=\"1\" class=\"dataframe\">\n",
              "  <thead>\n",
              "    <tr style=\"text-align: right;\">\n",
              "      <th></th>\n",
              "      <th>TEMPODESLOC</th>\n",
              "      <th>TEMPOTOTAL</th>\n",
              "      <th>TEMPOEDFIS</th>\n",
              "      <th>TEMPOEXTRA</th>\n",
              "      <th>TEMPOEST</th>\n",
              "      <th>VB17001</th>\n",
              "      <th>VB17002</th>\n",
              "      <th>VB17003</th>\n",
              "      <th>VB17004</th>\n",
              "      <th>PESO</th>\n",
              "    </tr>\n",
              "  </thead>\n",
              "  <tbody>\n",
              "    <tr>\n",
              "      <th>0</th>\n",
              "      <td>0.0</td>\n",
              "      <td>15.0</td>\n",
              "      <td>0.0</td>\n",
              "      <td>15.0</td>\n",
              "      <td>60.0</td>\n",
              "      <td>371.0</td>\n",
              "      <td>1570.0</td>\n",
              "      <td>37.1</td>\n",
              "      <td>157.0</td>\n",
              "      <td>299.735235</td>\n",
              "    </tr>\n",
              "    <tr>\n",
              "      <th>1</th>\n",
              "      <td>120.0</td>\n",
              "      <td>510.0</td>\n",
              "      <td>260.0</td>\n",
              "      <td>130.0</td>\n",
              "      <td>300.0</td>\n",
              "      <td>502.0</td>\n",
              "      <td>1520.0</td>\n",
              "      <td>50.2</td>\n",
              "      <td>152.0</td>\n",
              "      <td>355.170081</td>\n",
              "    </tr>\n",
              "    <tr>\n",
              "      <th>2</th>\n",
              "      <td>0.0</td>\n",
              "      <td>585.0</td>\n",
              "      <td>130.0</td>\n",
              "      <td>455.0</td>\n",
              "      <td>420.0</td>\n",
              "      <td>482.0</td>\n",
              "      <td>1614.0</td>\n",
              "      <td>48.2</td>\n",
              "      <td>161.4</td>\n",
              "      <td>299.735235</td>\n",
              "    </tr>\n",
              "    <tr>\n",
              "      <th>3</th>\n",
              "      <td>0.0</td>\n",
              "      <td>0.0</td>\n",
              "      <td>0.0</td>\n",
              "      <td>0.0</td>\n",
              "      <td>0.0</td>\n",
              "      <td>694.0</td>\n",
              "      <td>1725.0</td>\n",
              "      <td>69.4</td>\n",
              "      <td>172.5</td>\n",
              "      <td>355.170081</td>\n",
              "    </tr>\n",
              "    <tr>\n",
              "      <th>4</th>\n",
              "      <td>30.0</td>\n",
              "      <td>165.0</td>\n",
              "      <td>90.0</td>\n",
              "      <td>45.0</td>\n",
              "      <td>60.0</td>\n",
              "      <td>789.0</td>\n",
              "      <td>1675.0</td>\n",
              "      <td>78.9</td>\n",
              "      <td>167.5</td>\n",
              "      <td>299.735235</td>\n",
              "    </tr>\n",
              "    <tr>\n",
              "      <th>...</th>\n",
              "      <td>...</td>\n",
              "      <td>...</td>\n",
              "      <td>...</td>\n",
              "      <td>...</td>\n",
              "      <td>...</td>\n",
              "      <td>...</td>\n",
              "      <td>...</td>\n",
              "      <td>...</td>\n",
              "      <td>...</td>\n",
              "      <td>...</td>\n",
              "    </tr>\n",
              "    <tr>\n",
              "      <th>16551</th>\n",
              "      <td>30.0</td>\n",
              "      <td>400.0</td>\n",
              "      <td>110.0</td>\n",
              "      <td>260.0</td>\n",
              "      <td>240.0</td>\n",
              "      <td>567.0</td>\n",
              "      <td>1679.0</td>\n",
              "      <td>56.7</td>\n",
              "      <td>167.9</td>\n",
              "      <td>447.815539</td>\n",
              "    </tr>\n",
              "    <tr>\n",
              "      <th>16552</th>\n",
              "      <td>20.0</td>\n",
              "      <td>800.0</td>\n",
              "      <td>325.0</td>\n",
              "      <td>455.0</td>\n",
              "      <td>240.0</td>\n",
              "      <td>619.0</td>\n",
              "      <td>1858.0</td>\n",
              "      <td>61.9</td>\n",
              "      <td>185.8</td>\n",
              "      <td>592.507440</td>\n",
              "    </tr>\n",
              "    <tr>\n",
              "      <th>16553</th>\n",
              "      <td>0.0</td>\n",
              "      <td>0.0</td>\n",
              "      <td>0.0</td>\n",
              "      <td>0.0</td>\n",
              "      <td>60.0</td>\n",
              "      <td>609.0</td>\n",
              "      <td>1594.0</td>\n",
              "      <td>60.9</td>\n",
              "      <td>159.4</td>\n",
              "      <td>401.131512</td>\n",
              "    </tr>\n",
              "    <tr>\n",
              "      <th>16554</th>\n",
              "      <td>75.0</td>\n",
              "      <td>215.0</td>\n",
              "      <td>35.0</td>\n",
              "      <td>105.0</td>\n",
              "      <td>120.0</td>\n",
              "      <td>473.0</td>\n",
              "      <td>1578.0</td>\n",
              "      <td>47.3</td>\n",
              "      <td>157.8</td>\n",
              "      <td>442.718091</td>\n",
              "    </tr>\n",
              "    <tr>\n",
              "      <th>16555</th>\n",
              "      <td>50.0</td>\n",
              "      <td>485.0</td>\n",
              "      <td>110.0</td>\n",
              "      <td>325.0</td>\n",
              "      <td>360.0</td>\n",
              "      <td>626.0</td>\n",
              "      <td>1639.0</td>\n",
              "      <td>62.6</td>\n",
              "      <td>163.9</td>\n",
              "      <td>592.507440</td>\n",
              "    </tr>\n",
              "  </tbody>\n",
              "</table>\n",
              "<p>16556 rows × 10 columns</p>\n",
              "</div>"
            ],
            "text/plain": [
              "       TEMPODESLOC  TEMPOTOTAL  TEMPOEDFIS  ...  VB17003  VB17004        PESO\n",
              "0              0.0        15.0         0.0  ...     37.1    157.0  299.735235\n",
              "1            120.0       510.0       260.0  ...     50.2    152.0  355.170081\n",
              "2              0.0       585.0       130.0  ...     48.2    161.4  299.735235\n",
              "3              0.0         0.0         0.0  ...     69.4    172.5  355.170081\n",
              "4             30.0       165.0        90.0  ...     78.9    167.5  299.735235\n",
              "...            ...         ...         ...  ...      ...      ...         ...\n",
              "16551         30.0       400.0       110.0  ...     56.7    167.9  447.815539\n",
              "16552         20.0       800.0       325.0  ...     61.9    185.8  592.507440\n",
              "16553          0.0         0.0         0.0  ...     60.9    159.4  401.131512\n",
              "16554         75.0       215.0        35.0  ...     47.3    157.8  442.718091\n",
              "16555         50.0       485.0       110.0  ...     62.6    163.9  592.507440\n",
              "\n",
              "[16556 rows x 10 columns]"
            ]
          },
          "metadata": {
            "tags": []
          },
          "execution_count": 14
        }
      ]
    },
    {
      "cell_type": "markdown",
      "metadata": {
        "id": "Jk9cPO3R1z8B"
      },
      "source": [
        "*Dicionário:\r\n",
        "\r\n",
        "- **VB17001**: Qual o peso do aluno?\r\n",
        "- **VB17002**: Qual a altura do aluno?\r\n",
        "\r\n",
        "OBS: Anteriormente tinhamos visto que peso e aluna do aluno eram a coluna VB17003 e VB17004, por que isso? As de final 01 e 02 são dados aferidos dos alunos e as 03 e 04 são dados imputados pelo sistema."
      ]
    },
    {
      "cell_type": "markdown",
      "metadata": {
        "id": "kZ9vPR1S2vfe"
      },
      "source": [
        "#Tipos de variáveis."
      ]
    },
    {
      "cell_type": "markdown",
      "metadata": {
        "id": "PStJZS9D3Ems"
      },
      "source": [
        "##Exemplos de tipos distintos"
      ]
    },
    {
      "cell_type": "markdown",
      "metadata": {
        "id": "svwhMQEJ2y_M"
      },
      "source": [
        "**Qualitativas**: São características que não possuem valores quantitativos, mas, ao contrário são definidas por diversas categorias, ou seja, representam uma classificação dos indivíduos. Podem ser de dois tipos.\r\n",
        "\r\n",
        "- **Nominais**: São dados que não podem ser ordenados entre as categorias. Ex: cor dos olhos, doente/sadio, etc...\r\n",
        "\r\n",
        "- **Ordinais**: São dados que possuem uma ordenação entre as categorias. Ex: estágio da doença (inicial, intermediário, terminal), mês de observação (janeiro, fevereiro...).\r\n",
        "\r\n",
        "**Quantitativas**: São as características que podem ser medidas em uma escala quantitativa, ou seja, apresentam valores numéricos que fazem sentido. Também podem ser de dois tipos.\r\n",
        "\r\n",
        "- **Contínuas**:  Características mensuráveis que assumem valores em uma escala contínua (na reta real do plano cartesiano), para quais valores fracionais fazem sentido. Ex: Peso (balança), altura (régua), tempo (relógio), pressão arterial, idade, etc...\r\n",
        "\r\n",
        "- **Discretas**: São características mensuráveis que podem assumir apenas um número finito ou infinito contável de valores e, assim, somente fazem sentido valores inteiros. Geralmente são o resultado de contagens. Ex: Número de filhos, número de bactérias por litro de leite, número de cigarros fumados por dia."
      ]
    },
    {
      "cell_type": "markdown",
      "metadata": {
        "id": "GdmyQXDclvIP"
      },
      "source": [
        "#Desafio 1: Descompactar a pasta zipada utilizando outro método."
      ]
    },
    {
      "cell_type": "markdown",
      "metadata": {
        "id": "9x58umIenO76"
      },
      "source": [
        "Para esse desafio irei fazer upload da pasta para o Google drive uma vez que o GitHub não permite a manipulação de dados sem que sejam dados commits. Portanto irei montar o drive e então trabalhar com o zip.\n",
        " \n",
        "Após o drive montado irei utilizar comandos de Shell Script, ou seja, comandos bashrc. Os servidores colab utilizam por baixo dos panos o sistema Unix e isso permite esse tipo de utilização. Para enviarmos comandos para o sistema usamos o sinal de exclamação antes do comando."
      ]
    },
    {
      "cell_type": "code",
      "metadata": {
        "id": "BCd3IMYul6Q7",
        "colab": {
          "base_uri": "https://localhost:8080/"
        },
        "outputId": "8163167d-4bf3-4120-e9ab-47a3eab5bc4b"
      },
      "source": [
        "!unzip /content/drive/MyDrive/Dados_Bootcamp/PeNSE_2015_AMOSTRA2.zip -d /content/drive/MyDrive/Dados_Bootcamp"
      ],
      "execution_count": 15,
      "outputs": [
        {
          "output_type": "stream",
          "text": [
            "Archive:  /content/drive/MyDrive/Dados_Bootcamp/PeNSE_2015_AMOSTRA2.zip\n",
            "   creating: /content/drive/MyDrive/Dados_Bootcamp/arquivos csv/\n",
            "  inflating: /content/drive/MyDrive/Dados_Bootcamp/arquivos csv/PENSE_AMOSTRA2_ALUNO.CSV  \n",
            "  inflating: /content/drive/MyDrive/Dados_Bootcamp/arquivos csv/PENSE_AMOSTRA2_ALUNOESCOLA.CSV  \n",
            "  inflating: /content/drive/MyDrive/Dados_Bootcamp/arquivos csv/PENSE_AMOSTRA2_ESCOLA.CSV  \n",
            "   creating: /content/drive/MyDrive/Dados_Bootcamp/arquivos sas/\n",
            "  inflating: /content/drive/MyDrive/Dados_Bootcamp/arquivos sas/pense_amostra2_aluno.sas7bdat  \n",
            "  inflating: /content/drive/MyDrive/Dados_Bootcamp/arquivos sas/pense_amostra2_alunoescola.sas7bdat  \n",
            "  inflating: /content/drive/MyDrive/Dados_Bootcamp/arquivos sas/pense_amostra2_escola.sas7bdat  \n",
            "   creating: /content/drive/MyDrive/Dados_Bootcamp/arquivos xlsx/\n",
            "  inflating: /content/drive/MyDrive/Dados_Bootcamp/arquivos xlsx/PENSE_AMOSTRA2_ALUNO.xlsx  \n",
            "  inflating: /content/drive/MyDrive/Dados_Bootcamp/arquivos xlsx/PENSE_AMOSTRA2_ALUNOESCOLA.xlsx  \n",
            "  inflating: /content/drive/MyDrive/Dados_Bootcamp/arquivos xlsx/PENSE_AMOSTRA2_ESCOLA.xlsx  \n",
            "  inflating: /content/drive/MyDrive/Dados_Bootcamp/Dicionario_PENSE_Microdados_AMOSTRA2.xls  \n"
          ],
          "name": "stdout"
        }
      ]
    },
    {
      "cell_type": "code",
      "metadata": {
        "colab": {
          "base_uri": "https://localhost:8080/"
        },
        "id": "nFaeGQVUqgkb",
        "outputId": "d86bc3e4-938a-4cbc-9e95-e72214f69d4c"
      },
      "source": [
        "#visualizando arquivos extraídos\n",
        "!ls /content/drive/MyDrive/Dados_Bootcamp"
      ],
      "execution_count": 16,
      "outputs": [
        {
          "output_type": "stream",
          "text": [
            "'arquivos csv'\t  Dicionario_PENSE_Microdados_AMOSTRA2.xls\n",
            "'arquivos sas'\t  PeNSE_2015_AMOSTRA2.zip\n",
            "'arquivos xlsx'\n"
          ],
          "name": "stdout"
        }
      ]
    },
    {
      "cell_type": "markdown",
      "metadata": {
        "id": "uOD4vCCDmv4L"
      },
      "source": [
        "#Desafio 2: Estudar a base PeNSE."
      ]
    },
    {
      "cell_type": "code",
      "metadata": {
        "colab": {
          "base_uri": "https://localhost:8080/",
          "height": 325
        },
        "id": "1JWk_tSDuZcg",
        "outputId": "eb48f6b4-3ef6-418d-81d8-adf1b44b044a"
      },
      "source": [
        "#incluindo vídeo no notebook\n",
        "from IPython.core.display import HTML\n",
        " \n",
        "HTML('<iframe id=\"ytplayer\" type=\"texto/html\" width=\"500\" height=\"300\" \\ src=\"https://www.youtube.com/embed/watch?v=z4BBCHZUvD4\" frameborder=\"2\"/>')"
      ],
      "execution_count": 17,
      "outputs": [
        {
          "output_type": "execute_result",
          "data": {
            "text/html": [
              "<iframe id=\"ytplayer\" type=\"texto/html\" width=\"500\" height=\"300\" \\ src=\"https://www.youtube.com/embed/watch?v=z4BBCHZUvD4\" frameborder=\"2\"/>"
            ],
            "text/plain": [
              "<IPython.core.display.HTML object>"
            ]
          },
          "metadata": {
            "tags": []
          },
          "execution_count": 17
        }
      ]
    },
    {
      "cell_type": "markdown",
      "metadata": {
        "id": "RV1I7Mruvw22"
      },
      "source": [
        "Os dados que serão trabalhados são da Pesquisa Nacional de Saúde do Escolar de 2015. Essa foi a terceira edição da PeNSE e foi a primeira que inclui alunos do ensino médio na faixa dos 13 aos 17 anos, as edições anteriores contemplavam apenas alunos até o nono ano (antiga oitava série).\n",
        " \n",
        "Os estudantes são selecionados de um conjunto de escolas previamente definido (Amostra), e para cada um desses grupos escolares foi criado um plano tabular.\n",
        " \n",
        "A Pesquisa é realizada \n",
        "graças à parceria do Ministério da Saúde com o Instituto Brasileiro de Geografia e Estatística e o apoio do Ministério da \n",
        "Educação. Ela faz parte da Vigilância dos Fatores de Risco e Proteção das Doenças Crônicas do Brasil. Em 2015, com a inclusão da amostra de estudantes de 13 a 17 anos, tornou a PeNSE \n",
        "comparável aos inquéritos internacionais."
      ]
    },
    {
      "cell_type": "markdown",
      "metadata": {
        "id": "ZX6p_Eji6VXS"
      },
      "source": [
        "#Desafio 3: Classificar algumas das perguntas do conjunto de dados como qualitativas e quantitativas."
      ]
    },
    {
      "cell_type": "markdown",
      "metadata": {
        "id": "8gey-IjL7sdw"
      },
      "source": [
        "**Quantitativas**\r\n",
        "- Discretas:\r\n",
        " \r\n",
        ">>- VB01010A (Contando com você, quantas pessoas moram na sua casa ou apartamento?)\r\n",
        "- VB01019 (Quantos banheiros com chuveiro têm dentro da sua casa?)\r\n",
        "- VB02001 (Nos últimos 7 dias, em quantos dias você comeu feijão?)\r\n",
        "- VB02002 (Nos últimos 7 dias, em quantos dias você comeu salgados fritos?)\r\n",
        "- VB02004A (Nos últimos 7 dias, em quantos dias você comeu pelo menos um tipo de vegetal?)\r\n",
        "- VB03001A2 (Nos últimos 7 dias, em quantos você voltou a pé ou de bicicleta da escola?)\r\n",
        "\r\n",
        "- Contínuas:\r\n",
        "\r\n",
        ">>- VB17001: Qual o peso do aluno?\r\n",
        "- VB17002: Qual a altura do aluno?\r\n",
        "- TEMPODESLOC: Tempo de deslocamento diário acumulado pelo escolar, com deslocamento da casa para a escola e da escola para casa feito a pé ou de bicicleta.\r\n",
        "- TEMPOEDFIS: Tempo médio acumulado em que o escolar fez atividades físicas.\r\n",
        "- TEMPOEXTRA: Tempo médio diário acumulado do escolar com a prática de uma atividade física extraescolar como esportes, dança, ginástica, musculação...\r\n",
        "\r\n",
        "\r\n",
        "**Qualitativas**\r\n",
        "- Nominais:\r\n",
        "\r\n",
        ">>- VB01023 (Você estuda em regime integral?)\r\n",
        "- VB01024 (Você estuda em regime de internato?)\r\n",
        "- VB01026 (Quando terminar o ciclo/curso que você está frequentando atualmente, você pretende?)\r\n",
        "- VB01006 (Você mora com sua mãe?)\r\n",
        "- VB01007 (Você mora com seu pai?)\r\n",
        "- VB01013 (Na sua casa tem telefone fixo?)\r\n",
        "- VB01014 (Você tem celular?)\r\n",
        "- VB01015A (Na sua casa tem computador?)\r\n",
        "- VB01016 (Você tem aceso à internet em sua casa?)\r\n",
        "- VB01018 (Alguém que mora na sua casa tem carro?)\r\n",
        "\r\n",
        "- Ordinais:\r\n",
        "\r\n",
        ">>- VB01004 (Mês de aniversário?)\r\n",
        "- VB01005 (Em que ano nasceu?)\r\n",
        "- VB01021 (Em que série/ano você está?)\r\n",
        "- VB01022 (Em que turno você estuda?)\r\n",
        "- VB01025 (Qual o grau de escolaridade mais elevado que pretendo concluir?)\r\n",
        "- VB01008A (Que nível de ensino (grau) sua mãe estudou ou estuda?\r\n",
        "- VB03002A1 (Quando você vai para a escola a pé ou de bicicleta, quanto tempo você gasta?\r\n",
        "- VB06006 (Quantos amigos seus usam drogas?)"
      ]
    },
    {
      "cell_type": "code",
      "metadata": {
        "id": "N5N4ynS776U1"
      },
      "source": [
        ""
      ],
      "execution_count": 17,
      "outputs": []
    }
  ]
}
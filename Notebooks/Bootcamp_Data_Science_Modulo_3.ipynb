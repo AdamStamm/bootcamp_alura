{
  "nbformat": 4,
  "nbformat_minor": 0,
  "metadata": {
    "colab": {
      "name": "Bootcamp_Data_Science_Modulo_3",
      "provenance": [],
      "collapsed_sections": [],
      "toc_visible": true,
      "mount_file_id": "1esRqdTymTtU78Fd30Wqa_0kgGyV3vBlf",
      "authorship_tag": "ABX9TyPAf7KWrAWCFwMintwyGNy4",
      "include_colab_link": true
    },
    "kernelspec": {
      "name": "python3",
      "display_name": "Python 3"
    }
  },
  "cells": [
    {
      "cell_type": "markdown",
      "metadata": {
        "id": "view-in-github",
        "colab_type": "text"
      },
      "source": [
        "<a href=\"https://colab.research.google.com/github/AdamStamm/bootcamp_alura/blob/main/Notebooks/Bootcamp_Data_Science_Modulo_3.ipynb\" target=\"_parent\"><img src=\"https://colab.research.google.com/assets/colab-badge.svg\" alt=\"Open In Colab\"/></a>"
      ]
    },
    {
      "cell_type": "markdown",
      "metadata": {
        "id": "HF1U1xUezbdH"
      },
      "source": [
        "#Apresentação\n",
        "\n",
        "Esse notebook contempla os códigos aprendidos no **Módulo 3** do Bootcamp Data Science aplicada desenvolvido pela [Alura](http://alura.com.br). O foco de aprendizado é **Análise descritiva e testes estatíticos**."
      ]
    },
    {
      "cell_type": "markdown",
      "metadata": {
        "id": "ZMf5SaV90ceZ"
      },
      "source": [
        "#Importando bibliotecas."
      ]
    },
    {
      "cell_type": "code",
      "metadata": {
        "id": "s9Nqqs9Xwx00"
      },
      "source": [
        "import pandas as pd\n",
        "from zipfile import ZipFile\n",
        " \n",
        "#biblioteca de fluxo de entrada e saída\n",
        "#importamos o pacote de leitura binária\n",
        "from io import BytesIO\n",
        "import requests"
      ],
      "execution_count": 1,
      "outputs": []
    },
    {
      "cell_type": "markdown",
      "metadata": {
        "id": "IO06TNRpePWA"
      },
      "source": [
        "- A biblioteca IO foi feita para controle de fluxos de entrada/saída de dados, no módulo anterior usamos o pacote StringIO da io para capturar o fluxo de dados que estavam na memória (copy and paste). Agora usaremos para capturar o fluxo de dados binários.\n",
        "Mais informações: https://docs.python.org/3/library/io.html\n",
        " \n",
        "- A biblioteca requests permite que você faça requisições HTTP de maneira fácil sem a necessidade de uma API.\n",
        "mais informações [aqui](https://requests.readthedocs.io/pt_BR/latest/user/quickstart.html) ou [aqui](https://www.digitalocean.com/community/tutorials/how-to-get-started-with-the-requests-library-in-python-pt)"
      ]
    },
    {
      "cell_type": "markdown",
      "metadata": {
        "id": "HwTLHC-Pz5ew"
      },
      "source": [
        "#Aula 1 - Educação, saúde e tipos de dados."
      ]
    },
    {
      "cell_type": "markdown",
      "metadata": {
        "id": "Rp2auuJ9z_Z0"
      },
      "source": [
        "##Carregando dados\n",
        "\n",
        "Dessa vez carregaremos os dados de um arquivo zipado, sem descompacta-lo no computador, por maior comodidade upei o arquivo zip direto no meu [Github](https://github.com/AdamStamm/bootcamp_alura/)."
      ]
    },
    {
      "cell_type": "code",
      "metadata": {
        "id": "amDBkoYf1Jub"
      },
      "source": [
        "#Fazendo requisição binária do arquivo zip do github\n",
        "path = 'https://github.com/AdamStamm/bootcamp_alura/blob/main/dados/PeNSE_2015_AMOSTRA2.zip?raw=true'\n",
        "r = requests.get(path)\n",
        "zip_file = BytesIO(r.content)\n",
        " \n",
        "# Leitura do arquivo zip\n",
        "zip = ZipFile(zip_file) \n",
        " \n",
        "#pega o caminho da lista de arquivos\n",
        "caminho_arquivo_zip = zip.namelist()[1]\n",
        " \n",
        "dados = pd.read_csv(zip.open(caminho_arquivo_zip), sep=';')"
      ],
      "execution_count": 2,
      "outputs": []
    },
    {
      "cell_type": "code",
      "metadata": {
        "colab": {
          "base_uri": "https://localhost:8080/",
          "height": 244
        },
        "id": "pkkW4cSec0Ye",
        "outputId": "65670c8d-815c-4765-f8c1-1be7916d82da"
      },
      "source": [
        "dados.head()"
      ],
      "execution_count": 3,
      "outputs": [
        {
          "output_type": "execute_result",
          "data": {
            "text/html": [
              "<div>\n",
              "<style scoped>\n",
              "    .dataframe tbody tr th:only-of-type {\n",
              "        vertical-align: middle;\n",
              "    }\n",
              "\n",
              "    .dataframe tbody tr th {\n",
              "        vertical-align: top;\n",
              "    }\n",
              "\n",
              "    .dataframe thead th {\n",
              "        text-align: right;\n",
              "    }\n",
              "</style>\n",
              "<table border=\"1\" class=\"dataframe\">\n",
              "  <thead>\n",
              "    <tr style=\"text-align: right;\">\n",
              "      <th></th>\n",
              "      <th>ANOPESQ</th>\n",
              "      <th>PAIS</th>\n",
              "      <th>REGEOGR</th>\n",
              "      <th>VB00004</th>\n",
              "      <th>VB01001</th>\n",
              "      <th>VB01002</th>\n",
              "      <th>VB01003</th>\n",
              "      <th>VB01004</th>\n",
              "      <th>VB01005</th>\n",
              "      <th>VB01006</th>\n",
              "      <th>VB01007</th>\n",
              "      <th>VB01008A</th>\n",
              "      <th>VB01010A</th>\n",
              "      <th>VB01011</th>\n",
              "      <th>VB01012</th>\n",
              "      <th>VB01013</th>\n",
              "      <th>VB01014</th>\n",
              "      <th>VB01015A</th>\n",
              "      <th>VB01016</th>\n",
              "      <th>VB01017</th>\n",
              "      <th>VB01018</th>\n",
              "      <th>VB01019</th>\n",
              "      <th>VB01020A</th>\n",
              "      <th>VB01021</th>\n",
              "      <th>VB01022</th>\n",
              "      <th>VB01023</th>\n",
              "      <th>VB01024</th>\n",
              "      <th>VB01025</th>\n",
              "      <th>VB01026</th>\n",
              "      <th>VB02001</th>\n",
              "      <th>VB02002</th>\n",
              "      <th>VB02004A</th>\n",
              "      <th>VB02010</th>\n",
              "      <th>VB02011</th>\n",
              "      <th>VB02013</th>\n",
              "      <th>VB02017A</th>\n",
              "      <th>VB02018A</th>\n",
              "      <th>VB02019A</th>\n",
              "      <th>VB02020A</th>\n",
              "      <th>VB02021</th>\n",
              "      <th>...</th>\n",
              "      <th>VB11005</th>\n",
              "      <th>VB11006</th>\n",
              "      <th>VB11007</th>\n",
              "      <th>VB12001</th>\n",
              "      <th>VB12002</th>\n",
              "      <th>VB12003</th>\n",
              "      <th>VB13001</th>\n",
              "      <th>VB13002A</th>\n",
              "      <th>VB13004A</th>\n",
              "      <th>VB13005</th>\n",
              "      <th>VB13006</th>\n",
              "      <th>VB13007</th>\n",
              "      <th>VB13008</th>\n",
              "      <th>VB13009</th>\n",
              "      <th>VB14001</th>\n",
              "      <th>VB14002</th>\n",
              "      <th>VB16001A01</th>\n",
              "      <th>VB16001A02</th>\n",
              "      <th>VB16001A03</th>\n",
              "      <th>VB16001A04</th>\n",
              "      <th>VB16001A05</th>\n",
              "      <th>VB16001A06</th>\n",
              "      <th>VB16001A07</th>\n",
              "      <th>VB16001A08</th>\n",
              "      <th>VB17001</th>\n",
              "      <th>VB17002</th>\n",
              "      <th>VB17003</th>\n",
              "      <th>VB17004</th>\n",
              "      <th>VB17005</th>\n",
              "      <th>VB17006</th>\n",
              "      <th>ESTRATO_EXP</th>\n",
              "      <th>ESTRATOGEOREG</th>\n",
              "      <th>PESO</th>\n",
              "      <th>V0006</th>\n",
              "      <th>V0007</th>\n",
              "      <th>V0008</th>\n",
              "      <th>V0041</th>\n",
              "      <th>aluno</th>\n",
              "      <th>escola</th>\n",
              "      <th>turma</th>\n",
              "    </tr>\n",
              "  </thead>\n",
              "  <tbody>\n",
              "    <tr>\n",
              "      <th>0</th>\n",
              "      <td>2015</td>\n",
              "      <td>76</td>\n",
              "      <td>1</td>\n",
              "      <td>1</td>\n",
              "      <td>2</td>\n",
              "      <td>1</td>\n",
              "      <td>13</td>\n",
              "      <td>7</td>\n",
              "      <td>7</td>\n",
              "      <td>1</td>\n",
              "      <td>2</td>\n",
              "      <td>7</td>\n",
              "      <td>3</td>\n",
              "      <td>2</td>\n",
              "      <td>-1</td>\n",
              "      <td>1</td>\n",
              "      <td>1</td>\n",
              "      <td>1</td>\n",
              "      <td>1</td>\n",
              "      <td>1</td>\n",
              "      <td>2</td>\n",
              "      <td>4</td>\n",
              "      <td>2</td>\n",
              "      <td>4</td>\n",
              "      <td>1</td>\n",
              "      <td>2</td>\n",
              "      <td>2</td>\n",
              "      <td>5</td>\n",
              "      <td>1</td>\n",
              "      <td>8</td>\n",
              "      <td>3</td>\n",
              "      <td>4</td>\n",
              "      <td>3</td>\n",
              "      <td>6</td>\n",
              "      <td>6</td>\n",
              "      <td>1</td>\n",
              "      <td>6</td>\n",
              "      <td>1</td>\n",
              "      <td>-1</td>\n",
              "      <td>2</td>\n",
              "      <td>...</td>\n",
              "      <td>2</td>\n",
              "      <td>1</td>\n",
              "      <td>2</td>\n",
              "      <td>1</td>\n",
              "      <td>1</td>\n",
              "      <td>4</td>\n",
              "      <td>2</td>\n",
              "      <td>-1</td>\n",
              "      <td>3</td>\n",
              "      <td>1</td>\n",
              "      <td>1</td>\n",
              "      <td>-1</td>\n",
              "      <td>1</td>\n",
              "      <td>1</td>\n",
              "      <td>2</td>\n",
              "      <td>2</td>\n",
              "      <td>1</td>\n",
              "      <td>2</td>\n",
              "      <td>2</td>\n",
              "      <td>2</td>\n",
              "      <td>2</td>\n",
              "      <td>2</td>\n",
              "      <td>2</td>\n",
              "      <td>2</td>\n",
              "      <td>371.0</td>\n",
              "      <td>1570.0</td>\n",
              "      <td>37,1</td>\n",
              "      <td>157</td>\n",
              "      <td>2</td>\n",
              "      <td>1</td>\n",
              "      <td>1223</td>\n",
              "      <td>1</td>\n",
              "      <td>299,735235</td>\n",
              "      <td>1</td>\n",
              "      <td>2</td>\n",
              "      <td>4</td>\n",
              "      <td>1</td>\n",
              "      <td>1</td>\n",
              "      <td>1</td>\n",
              "      <td>296</td>\n",
              "    </tr>\n",
              "    <tr>\n",
              "      <th>1</th>\n",
              "      <td>2015</td>\n",
              "      <td>76</td>\n",
              "      <td>1</td>\n",
              "      <td>1</td>\n",
              "      <td>2</td>\n",
              "      <td>1</td>\n",
              "      <td>14</td>\n",
              "      <td>4</td>\n",
              "      <td>7</td>\n",
              "      <td>1</td>\n",
              "      <td>1</td>\n",
              "      <td>7</td>\n",
              "      <td>3</td>\n",
              "      <td>2</td>\n",
              "      <td>-1</td>\n",
              "      <td>1</td>\n",
              "      <td>1</td>\n",
              "      <td>1</td>\n",
              "      <td>1</td>\n",
              "      <td>1</td>\n",
              "      <td>2</td>\n",
              "      <td>2</td>\n",
              "      <td>2</td>\n",
              "      <td>4</td>\n",
              "      <td>1</td>\n",
              "      <td>2</td>\n",
              "      <td>2</td>\n",
              "      <td>5</td>\n",
              "      <td>3</td>\n",
              "      <td>8</td>\n",
              "      <td>2</td>\n",
              "      <td>1</td>\n",
              "      <td>8</td>\n",
              "      <td>8</td>\n",
              "      <td>6</td>\n",
              "      <td>1</td>\n",
              "      <td>1</td>\n",
              "      <td>5</td>\n",
              "      <td>-1</td>\n",
              "      <td>2</td>\n",
              "      <td>...</td>\n",
              "      <td>2</td>\n",
              "      <td>3</td>\n",
              "      <td>2</td>\n",
              "      <td>4</td>\n",
              "      <td>4</td>\n",
              "      <td>4</td>\n",
              "      <td>1</td>\n",
              "      <td>2</td>\n",
              "      <td>3</td>\n",
              "      <td>3</td>\n",
              "      <td>1</td>\n",
              "      <td>-1</td>\n",
              "      <td>1</td>\n",
              "      <td>1</td>\n",
              "      <td>2</td>\n",
              "      <td>2</td>\n",
              "      <td>2</td>\n",
              "      <td>2</td>\n",
              "      <td>2</td>\n",
              "      <td>1</td>\n",
              "      <td>2</td>\n",
              "      <td>2</td>\n",
              "      <td>2</td>\n",
              "      <td>2</td>\n",
              "      <td>502.0</td>\n",
              "      <td>1520.0</td>\n",
              "      <td>50,2</td>\n",
              "      <td>152</td>\n",
              "      <td>2</td>\n",
              "      <td>2</td>\n",
              "      <td>1223</td>\n",
              "      <td>1</td>\n",
              "      <td>355,170081</td>\n",
              "      <td>1</td>\n",
              "      <td>2</td>\n",
              "      <td>4</td>\n",
              "      <td>1</td>\n",
              "      <td>2</td>\n",
              "      <td>1</td>\n",
              "      <td>296</td>\n",
              "    </tr>\n",
              "    <tr>\n",
              "      <th>2</th>\n",
              "      <td>2015</td>\n",
              "      <td>76</td>\n",
              "      <td>1</td>\n",
              "      <td>1</td>\n",
              "      <td>1</td>\n",
              "      <td>4</td>\n",
              "      <td>13</td>\n",
              "      <td>6</td>\n",
              "      <td>7</td>\n",
              "      <td>1</td>\n",
              "      <td>1</td>\n",
              "      <td>5</td>\n",
              "      <td>5</td>\n",
              "      <td>2</td>\n",
              "      <td>-1</td>\n",
              "      <td>2</td>\n",
              "      <td>1</td>\n",
              "      <td>1</td>\n",
              "      <td>1</td>\n",
              "      <td>1</td>\n",
              "      <td>2</td>\n",
              "      <td>3</td>\n",
              "      <td>1</td>\n",
              "      <td>4</td>\n",
              "      <td>1</td>\n",
              "      <td>2</td>\n",
              "      <td>2</td>\n",
              "      <td>5</td>\n",
              "      <td>3</td>\n",
              "      <td>2</td>\n",
              "      <td>3</td>\n",
              "      <td>1</td>\n",
              "      <td>8</td>\n",
              "      <td>2</td>\n",
              "      <td>8</td>\n",
              "      <td>1</td>\n",
              "      <td>1</td>\n",
              "      <td>5</td>\n",
              "      <td>5</td>\n",
              "      <td>1</td>\n",
              "      <td>...</td>\n",
              "      <td>2</td>\n",
              "      <td>1</td>\n",
              "      <td>2</td>\n",
              "      <td>1</td>\n",
              "      <td>2</td>\n",
              "      <td>3</td>\n",
              "      <td>1</td>\n",
              "      <td>2</td>\n",
              "      <td>1</td>\n",
              "      <td>2</td>\n",
              "      <td>5</td>\n",
              "      <td>99</td>\n",
              "      <td>1</td>\n",
              "      <td>-1</td>\n",
              "      <td>2</td>\n",
              "      <td>2</td>\n",
              "      <td>1</td>\n",
              "      <td>1</td>\n",
              "      <td>1</td>\n",
              "      <td>1</td>\n",
              "      <td>1</td>\n",
              "      <td>1</td>\n",
              "      <td>1</td>\n",
              "      <td>1</td>\n",
              "      <td>482.0</td>\n",
              "      <td>1614.0</td>\n",
              "      <td>48,2</td>\n",
              "      <td>161,4</td>\n",
              "      <td>2</td>\n",
              "      <td>2</td>\n",
              "      <td>1223</td>\n",
              "      <td>1</td>\n",
              "      <td>299,735235</td>\n",
              "      <td>1</td>\n",
              "      <td>2</td>\n",
              "      <td>4</td>\n",
              "      <td>1</td>\n",
              "      <td>3</td>\n",
              "      <td>1</td>\n",
              "      <td>296</td>\n",
              "    </tr>\n",
              "    <tr>\n",
              "      <th>3</th>\n",
              "      <td>2015</td>\n",
              "      <td>76</td>\n",
              "      <td>1</td>\n",
              "      <td>1</td>\n",
              "      <td>1</td>\n",
              "      <td>1</td>\n",
              "      <td>14</td>\n",
              "      <td>6</td>\n",
              "      <td>7</td>\n",
              "      <td>1</td>\n",
              "      <td>1</td>\n",
              "      <td>7</td>\n",
              "      <td>4</td>\n",
              "      <td>2</td>\n",
              "      <td>-1</td>\n",
              "      <td>1</td>\n",
              "      <td>1</td>\n",
              "      <td>1</td>\n",
              "      <td>1</td>\n",
              "      <td>1</td>\n",
              "      <td>2</td>\n",
              "      <td>4</td>\n",
              "      <td>2</td>\n",
              "      <td>4</td>\n",
              "      <td>1</td>\n",
              "      <td>2</td>\n",
              "      <td>2</td>\n",
              "      <td>6</td>\n",
              "      <td>3</td>\n",
              "      <td>2</td>\n",
              "      <td>4</td>\n",
              "      <td>1</td>\n",
              "      <td>3</td>\n",
              "      <td>2</td>\n",
              "      <td>7</td>\n",
              "      <td>1</td>\n",
              "      <td>5</td>\n",
              "      <td>1</td>\n",
              "      <td>-1</td>\n",
              "      <td>2</td>\n",
              "      <td>...</td>\n",
              "      <td>2</td>\n",
              "      <td>1</td>\n",
              "      <td>2</td>\n",
              "      <td>2</td>\n",
              "      <td>2</td>\n",
              "      <td>4</td>\n",
              "      <td>1</td>\n",
              "      <td>10</td>\n",
              "      <td>3</td>\n",
              "      <td>1</td>\n",
              "      <td>2</td>\n",
              "      <td>-1</td>\n",
              "      <td>1</td>\n",
              "      <td>-1</td>\n",
              "      <td>2</td>\n",
              "      <td>2</td>\n",
              "      <td>1</td>\n",
              "      <td>2</td>\n",
              "      <td>2</td>\n",
              "      <td>2</td>\n",
              "      <td>1</td>\n",
              "      <td>2</td>\n",
              "      <td>2</td>\n",
              "      <td>2</td>\n",
              "      <td>694.0</td>\n",
              "      <td>1725.0</td>\n",
              "      <td>69,4</td>\n",
              "      <td>172,5</td>\n",
              "      <td>2</td>\n",
              "      <td>3</td>\n",
              "      <td>1223</td>\n",
              "      <td>1</td>\n",
              "      <td>355,170081</td>\n",
              "      <td>1</td>\n",
              "      <td>2</td>\n",
              "      <td>4</td>\n",
              "      <td>1</td>\n",
              "      <td>4</td>\n",
              "      <td>1</td>\n",
              "      <td>296</td>\n",
              "    </tr>\n",
              "    <tr>\n",
              "      <th>4</th>\n",
              "      <td>2015</td>\n",
              "      <td>76</td>\n",
              "      <td>1</td>\n",
              "      <td>1</td>\n",
              "      <td>1</td>\n",
              "      <td>1</td>\n",
              "      <td>13</td>\n",
              "      <td>9</td>\n",
              "      <td>7</td>\n",
              "      <td>1</td>\n",
              "      <td>2</td>\n",
              "      <td>5</td>\n",
              "      <td>4</td>\n",
              "      <td>2</td>\n",
              "      <td>-1</td>\n",
              "      <td>2</td>\n",
              "      <td>1</td>\n",
              "      <td>1</td>\n",
              "      <td>1</td>\n",
              "      <td>1</td>\n",
              "      <td>2</td>\n",
              "      <td>5</td>\n",
              "      <td>1</td>\n",
              "      <td>4</td>\n",
              "      <td>1</td>\n",
              "      <td>2</td>\n",
              "      <td>2</td>\n",
              "      <td>6</td>\n",
              "      <td>5</td>\n",
              "      <td>6</td>\n",
              "      <td>3</td>\n",
              "      <td>5</td>\n",
              "      <td>2</td>\n",
              "      <td>6</td>\n",
              "      <td>2</td>\n",
              "      <td>1</td>\n",
              "      <td>5</td>\n",
              "      <td>1</td>\n",
              "      <td>5</td>\n",
              "      <td>1</td>\n",
              "      <td>...</td>\n",
              "      <td>2</td>\n",
              "      <td>1</td>\n",
              "      <td>4</td>\n",
              "      <td>2</td>\n",
              "      <td>2</td>\n",
              "      <td>4</td>\n",
              "      <td>1</td>\n",
              "      <td>3</td>\n",
              "      <td>2</td>\n",
              "      <td>2</td>\n",
              "      <td>2</td>\n",
              "      <td>13</td>\n",
              "      <td>1</td>\n",
              "      <td>-1</td>\n",
              "      <td>1</td>\n",
              "      <td>2</td>\n",
              "      <td>1</td>\n",
              "      <td>1</td>\n",
              "      <td>1</td>\n",
              "      <td>1</td>\n",
              "      <td>1</td>\n",
              "      <td>1</td>\n",
              "      <td>1</td>\n",
              "      <td>1</td>\n",
              "      <td>789.0</td>\n",
              "      <td>1675.0</td>\n",
              "      <td>78,9</td>\n",
              "      <td>167,5</td>\n",
              "      <td>2</td>\n",
              "      <td>4</td>\n",
              "      <td>1223</td>\n",
              "      <td>1</td>\n",
              "      <td>299,735235</td>\n",
              "      <td>1</td>\n",
              "      <td>2</td>\n",
              "      <td>4</td>\n",
              "      <td>1</td>\n",
              "      <td>5</td>\n",
              "      <td>1</td>\n",
              "      <td>296</td>\n",
              "    </tr>\n",
              "  </tbody>\n",
              "</table>\n",
              "<p>5 rows × 181 columns</p>\n",
              "</div>"
            ],
            "text/plain": [
              "   ANOPESQ  PAIS  REGEOGR  VB00004  VB01001  ...  V0008  V0041  aluno  escola  turma\n",
              "0     2015    76        1        1        2  ...      4      1      1       1    296\n",
              "1     2015    76        1        1        2  ...      4      1      2       1    296\n",
              "2     2015    76        1        1        1  ...      4      1      3       1    296\n",
              "3     2015    76        1        1        1  ...      4      1      4       1    296\n",
              "4     2015    76        1        1        1  ...      4      1      5       1    296\n",
              "\n",
              "[5 rows x 181 columns]"
            ]
          },
          "metadata": {
            "tags": []
          },
          "execution_count": 3
        }
      ]
    },
    {
      "cell_type": "markdown",
      "metadata": {
        "id": "bjc_h9I-aZJg"
      },
      "source": [
        "Algumas propriedades do ZipFile"
      ]
    },
    {
      "cell_type": "code",
      "metadata": {
        "id": "fx8JTSD91cwf",
        "colab": {
          "base_uri": "https://localhost:8080/"
        },
        "outputId": "5a35daaf-b0f5-4d23-bcec-4a8b6e4febe3"
      },
      "source": [
        "#mostrando o objeto que o ZipFile possui.  \n",
        "zip"
      ],
      "execution_count": 4,
      "outputs": [
        {
          "output_type": "execute_result",
          "data": {
            "text/plain": [
              "<zipfile.ZipFile file=<_io.BytesIO object at 0x7f0f80334d00> mode='r'>"
            ]
          },
          "metadata": {
            "tags": []
          },
          "execution_count": 4
        }
      ]
    },
    {
      "cell_type": "code",
      "metadata": {
        "colab": {
          "base_uri": "https://localhost:8080/"
        },
        "id": "WpkNoh7vak8m",
        "outputId": "bdb08800-6988-47bf-84ab-db0a0a286bb9"
      },
      "source": [
        "#vendo a lista de arquivos contidos no .zip\n",
        "zip.infolist()"
      ],
      "execution_count": 5,
      "outputs": [
        {
          "output_type": "execute_result",
          "data": {
            "text/plain": [
              "[<ZipInfo filename='arquivos csv/' external_attr=0x10>,\n",
              " <ZipInfo filename='arquivos csv/PENSE_AMOSTRA2_ALUNO.CSV' compress_type=deflate external_attr=0x20 file_size=7262170 compress_size=1235667>,\n",
              " <ZipInfo filename='arquivos csv/PENSE_AMOSTRA2_ALUNOESCOLA.CSV' compress_type=deflate external_attr=0x20 file_size=11420533 compress_size=1329882>,\n",
              " <ZipInfo filename='arquivos csv/PENSE_AMOSTRA2_ESCOLA.CSV' compress_type=deflate external_attr=0x20 file_size=5000642 compress_size=114324>,\n",
              " <ZipInfo filename='arquivos sas/' external_attr=0x10>,\n",
              " <ZipInfo filename='arquivos sas/pense_amostra2_aluno.sas7bdat' compress_type=deflate external_attr=0x20 file_size=24691712 compress_size=1957530>,\n",
              " <ZipInfo filename='arquivos sas/pense_amostra2_alunoescola.sas7bdat' compress_type=deflate external_attr=0x20 file_size=45253632 compress_size=2461932>,\n",
              " <ZipInfo filename='arquivos sas/pense_amostra2_escola.sas7bdat' compress_type=deflate external_attr=0x20 file_size=18105344 compress_size=332162>,\n",
              " <ZipInfo filename='arquivos xlsx/' external_attr=0x10>,\n",
              " <ZipInfo filename='arquivos xlsx/PENSE_AMOSTRA2_ALUNO.xlsx' compress_type=deflate external_attr=0x20 file_size=11757246 compress_size=11337133>,\n",
              " <ZipInfo filename='arquivos xlsx/PENSE_AMOSTRA2_ALUNOESCOLA.xlsx' compress_type=deflate external_attr=0x20 file_size=18732739 compress_size=17064325>,\n",
              " <ZipInfo filename='arquivos xlsx/PENSE_AMOSTRA2_ESCOLA.xlsx' compress_type=deflate external_attr=0x20 file_size=7159579 compress_size=3209953>,\n",
              " <ZipInfo filename='Dicionario_PENSE_Microdados_AMOSTRA2.xls' compress_type=deflate external_attr=0x20 file_size=144896 compress_size=35737>]"
            ]
          },
          "metadata": {
            "tags": []
          },
          "execution_count": 5
        }
      ]
    },
    {
      "cell_type": "code",
      "metadata": {
        "colab": {
          "base_uri": "https://localhost:8080/"
        },
        "id": "s6Adecmzbjcv",
        "outputId": "0fafe1a2-f5a2-4304-e60f-77c1527ad641"
      },
      "source": [
        "#outra forma de ver os arquivos, retornando uma lista\n",
        "zip.namelist()"
      ],
      "execution_count": 6,
      "outputs": [
        {
          "output_type": "execute_result",
          "data": {
            "text/plain": [
              "['arquivos csv/',\n",
              " 'arquivos csv/PENSE_AMOSTRA2_ALUNO.CSV',\n",
              " 'arquivos csv/PENSE_AMOSTRA2_ALUNOESCOLA.CSV',\n",
              " 'arquivos csv/PENSE_AMOSTRA2_ESCOLA.CSV',\n",
              " 'arquivos sas/',\n",
              " 'arquivos sas/pense_amostra2_aluno.sas7bdat',\n",
              " 'arquivos sas/pense_amostra2_alunoescola.sas7bdat',\n",
              " 'arquivos sas/pense_amostra2_escola.sas7bdat',\n",
              " 'arquivos xlsx/',\n",
              " 'arquivos xlsx/PENSE_AMOSTRA2_ALUNO.xlsx',\n",
              " 'arquivos xlsx/PENSE_AMOSTRA2_ALUNOESCOLA.xlsx',\n",
              " 'arquivos xlsx/PENSE_AMOSTRA2_ESCOLA.xlsx',\n",
              " 'Dicionario_PENSE_Microdados_AMOSTRA2.xls']"
            ]
          },
          "metadata": {
            "tags": []
          },
          "execution_count": 6
        }
      ]
    },
    {
      "cell_type": "markdown",
      "metadata": {
        "id": "TvZRAJLehMj6"
      },
      "source": [
        "Propriedade do requests"
      ]
    },
    {
      "cell_type": "code",
      "metadata": {
        "colab": {
          "base_uri": "https://localhost:8080/",
          "height": 35
        },
        "id": "XslnxhYAf04y",
        "outputId": "3379cc87-9911-4a74-db6f-bcd7b3e83f36"
      },
      "source": [
        "#verificando a URL que a requests capturou\n",
        "r.url"
      ],
      "execution_count": 7,
      "outputs": [
        {
          "output_type": "execute_result",
          "data": {
            "application/vnd.google.colaboratory.intrinsic+json": {
              "type": "string"
            },
            "text/plain": [
              "'https://raw.githubusercontent.com/AdamStamm/bootcamp_alura/main/dados/PeNSE_2015_AMOSTRA2.zip'"
            ]
          },
          "metadata": {
            "tags": []
          },
          "execution_count": 7
        }
      ]
    },
    {
      "cell_type": "markdown",
      "metadata": {
        "id": "V7-soFjs8_Tr"
      },
      "source": [
        "Iniciando análises iniciais"
      ]
    },
    {
      "cell_type": "code",
      "metadata": {
        "colab": {
          "base_uri": "https://localhost:8080/"
        },
        "id": "uaFoogME9JO0",
        "outputId": "7896083a-9d72-4500-c819-8236298a1c7a"
      },
      "source": [
        "#verificando o tamanho do data frame\n",
        "print(f'O conjunto tem {dados.shape[0]} linhas e {dados.shape[1]} colunas')"
      ],
      "execution_count": 8,
      "outputs": [
        {
          "output_type": "stream",
          "text": [
            "O conjunto tem 16556 linhas e 181 colunas\n"
          ],
          "name": "stdout"
        }
      ]
    },
    {
      "cell_type": "code",
      "metadata": {
        "colab": {
          "base_uri": "https://localhost:8080/"
        },
        "id": "MfGQvU4F-vL9",
        "outputId": "0e854612-72f1-406b-b7a4-c0f8788a08c3"
      },
      "source": [
        "#visualizando colunas\n",
        "dados.columns"
      ],
      "execution_count": 9,
      "outputs": [
        {
          "output_type": "execute_result",
          "data": {
            "text/plain": [
              "Index(['ANOPESQ', 'PAIS', 'REGEOGR', 'VB00004', 'VB01001', 'VB01002',\n",
              "       'VB01003', 'VB01004', 'VB01005', 'VB01006',\n",
              "       ...\n",
              "       'ESTRATO_EXP', 'ESTRATOGEOREG', 'PESO', 'V0006', 'V0007', 'V0008',\n",
              "       'V0041', 'aluno', 'escola', 'turma'],\n",
              "      dtype='object', length=181)"
            ]
          },
          "metadata": {
            "tags": []
          },
          "execution_count": 9
        }
      ]
    },
    {
      "cell_type": "markdown",
      "metadata": {
        "id": "ChdHJWhJ-8Sv"
      },
      "source": [
        "Percebemos que existem colunas com os nomes das variáveis difíceis de serem identificados, por essa razão é necessário estudarmos o dicionário de variáveis que acompanha o arquivo zip. Uma outra forma de abordagem é observar a forma desses dados como faremos a seguir."
      ]
    },
    {
      "cell_type": "code",
      "metadata": {
        "colab": {
          "base_uri": "https://localhost:8080/"
        },
        "id": "CAS3PvXu_Ztb",
        "outputId": "54e82d68-b9df-4837-b0ad-dad23fae12d2"
      },
      "source": [
        "dados.info()"
      ],
      "execution_count": 10,
      "outputs": [
        {
          "output_type": "stream",
          "text": [
            "<class 'pandas.core.frame.DataFrame'>\n",
            "RangeIndex: 16556 entries, 0 to 16555\n",
            "Columns: 181 entries, ANOPESQ to turma\n",
            "dtypes: float64(7), int64(171), object(3)\n",
            "memory usage: 22.9+ MB\n"
          ],
          "name": "stdout"
        }
      ]
    },
    {
      "cell_type": "markdown",
      "metadata": {
        "id": "0NLJGJJa_dkg"
      },
      "source": [
        "Percebemos que existem 7 colunas do tipo float, 171 do tipo inteiro e 3 objects."
      ]
    },
    {
      "cell_type": "code",
      "metadata": {
        "colab": {
          "base_uri": "https://localhost:8080/",
          "height": 402
        },
        "id": "R5aiBKYt_mo_",
        "outputId": "c0f7a0c8-2635-4f1e-e782-f9601bfea9c7"
      },
      "source": [
        "#visualizando dados por tipo\n",
        "dados.select_dtypes(include='object')"
      ],
      "execution_count": 11,
      "outputs": [
        {
          "output_type": "execute_result",
          "data": {
            "text/html": [
              "<div>\n",
              "<style scoped>\n",
              "    .dataframe tbody tr th:only-of-type {\n",
              "        vertical-align: middle;\n",
              "    }\n",
              "\n",
              "    .dataframe tbody tr th {\n",
              "        vertical-align: top;\n",
              "    }\n",
              "\n",
              "    .dataframe thead th {\n",
              "        text-align: right;\n",
              "    }\n",
              "</style>\n",
              "<table border=\"1\" class=\"dataframe\">\n",
              "  <thead>\n",
              "    <tr style=\"text-align: right;\">\n",
              "      <th></th>\n",
              "      <th>VB17003</th>\n",
              "      <th>VB17004</th>\n",
              "      <th>PESO</th>\n",
              "    </tr>\n",
              "  </thead>\n",
              "  <tbody>\n",
              "    <tr>\n",
              "      <th>0</th>\n",
              "      <td>37,1</td>\n",
              "      <td>157</td>\n",
              "      <td>299,735235</td>\n",
              "    </tr>\n",
              "    <tr>\n",
              "      <th>1</th>\n",
              "      <td>50,2</td>\n",
              "      <td>152</td>\n",
              "      <td>355,170081</td>\n",
              "    </tr>\n",
              "    <tr>\n",
              "      <th>2</th>\n",
              "      <td>48,2</td>\n",
              "      <td>161,4</td>\n",
              "      <td>299,735235</td>\n",
              "    </tr>\n",
              "    <tr>\n",
              "      <th>3</th>\n",
              "      <td>69,4</td>\n",
              "      <td>172,5</td>\n",
              "      <td>355,170081</td>\n",
              "    </tr>\n",
              "    <tr>\n",
              "      <th>4</th>\n",
              "      <td>78,9</td>\n",
              "      <td>167,5</td>\n",
              "      <td>299,735235</td>\n",
              "    </tr>\n",
              "    <tr>\n",
              "      <th>...</th>\n",
              "      <td>...</td>\n",
              "      <td>...</td>\n",
              "      <td>...</td>\n",
              "    </tr>\n",
              "    <tr>\n",
              "      <th>16551</th>\n",
              "      <td>56,7</td>\n",
              "      <td>167,9</td>\n",
              "      <td>447,815539</td>\n",
              "    </tr>\n",
              "    <tr>\n",
              "      <th>16552</th>\n",
              "      <td>61,9</td>\n",
              "      <td>185,8</td>\n",
              "      <td>592,50744</td>\n",
              "    </tr>\n",
              "    <tr>\n",
              "      <th>16553</th>\n",
              "      <td>60,9</td>\n",
              "      <td>159,4</td>\n",
              "      <td>401,131512</td>\n",
              "    </tr>\n",
              "    <tr>\n",
              "      <th>16554</th>\n",
              "      <td>47,3</td>\n",
              "      <td>157,8</td>\n",
              "      <td>442,718091</td>\n",
              "    </tr>\n",
              "    <tr>\n",
              "      <th>16555</th>\n",
              "      <td>62,6</td>\n",
              "      <td>163,9</td>\n",
              "      <td>592,50744</td>\n",
              "    </tr>\n",
              "  </tbody>\n",
              "</table>\n",
              "<p>16556 rows × 3 columns</p>\n",
              "</div>"
            ],
            "text/plain": [
              "      VB17003 VB17004        PESO\n",
              "0        37,1     157  299,735235\n",
              "1        50,2     152  355,170081\n",
              "2        48,2   161,4  299,735235\n",
              "3        69,4   172,5  355,170081\n",
              "4        78,9   167,5  299,735235\n",
              "...       ...     ...         ...\n",
              "16551    56,7   167,9  447,815539\n",
              "16552    61,9   185,8   592,50744\n",
              "16553    60,9   159,4  401,131512\n",
              "16554    47,3   157,8  442,718091\n",
              "16555    62,6   163,9   592,50744\n",
              "\n",
              "[16556 rows x 3 columns]"
            ]
          },
          "metadata": {
            "tags": []
          },
          "execution_count": 11
        }
      ]
    },
    {
      "cell_type": "markdown",
      "metadata": {
        "id": "W3GRnbDLAZJA"
      },
      "source": [
        "Note que o tipo object em geral trata de strings, mas temos 3 colunas de tipo float sendo tratadas como strings, isso acontece por que no nosso idioma pontos flutuantes são debitados por vírgula, no formato americano são demorados por ponto, isso faz com que o código seja classificado como string na hora do carregamento dos dados. Para corrigir isso basta, na hora do carregamento dos dados, informar essa característica incluindo os parâmetros thousands para milhar e decimal para decimais.\n",
        " \n",
        "Também é importante olhar o dicionário de dados, se verificarmos a coluna PESO refere-se ao peso *estatístico* dos dados e **não** do peso dos alunos.\n",
        "\n",
        "- **VB17003:** Peso(Kg) do aluno\n",
        "- **VB17004:** Altura do aluno\n",
        "- **PESO:** Peso amostral para expansão."
      ]
    },
    {
      "cell_type": "code",
      "metadata": {
        "id": "AvhLSBrE0V7N"
      },
      "source": [
        "#carregando conjunto de dados com os parâmetros adicionais (deixei uma nova\r\n",
        "#célula apenas por questão didática)\r\n",
        "dados = pd.read_csv(zip.open(caminho_arquivo_zip), sep=';',thousands='.', decimal=',')"
      ],
      "execution_count": 12,
      "outputs": []
    },
    {
      "cell_type": "code",
      "metadata": {
        "colab": {
          "base_uri": "https://localhost:8080/"
        },
        "id": "5n8eBbIFEBhk",
        "outputId": "1172712d-0e6b-4f57-bace-b4cc3795c6ce"
      },
      "source": [
        "dados.info()"
      ],
      "execution_count": 13,
      "outputs": [
        {
          "output_type": "stream",
          "text": [
            "<class 'pandas.core.frame.DataFrame'>\n",
            "RangeIndex: 16556 entries, 0 to 16555\n",
            "Columns: 181 entries, ANOPESQ to turma\n",
            "dtypes: float64(10), int64(171)\n",
            "memory usage: 22.9 MB\n"
          ],
          "name": "stdout"
        }
      ]
    },
    {
      "cell_type": "markdown",
      "metadata": {
        "id": "Lyd-zE2aEHbW"
      },
      "source": [
        "Note que já não temos mais as colunas do tipo objeto, vamos observar então as colunas do tipo float."
      ]
    },
    {
      "cell_type": "code",
      "metadata": {
        "colab": {
          "base_uri": "https://localhost:8080/",
          "height": 402
        },
        "id": "K12Rf8SdEQyj",
        "outputId": "db4bc884-98aa-46de-84d9-ad0bcf872dff"
      },
      "source": [
        "dados.select_dtypes(include='float64')"
      ],
      "execution_count": 14,
      "outputs": [
        {
          "output_type": "execute_result",
          "data": {
            "text/html": [
              "<div>\n",
              "<style scoped>\n",
              "    .dataframe tbody tr th:only-of-type {\n",
              "        vertical-align: middle;\n",
              "    }\n",
              "\n",
              "    .dataframe tbody tr th {\n",
              "        vertical-align: top;\n",
              "    }\n",
              "\n",
              "    .dataframe thead th {\n",
              "        text-align: right;\n",
              "    }\n",
              "</style>\n",
              "<table border=\"1\" class=\"dataframe\">\n",
              "  <thead>\n",
              "    <tr style=\"text-align: right;\">\n",
              "      <th></th>\n",
              "      <th>TEMPODESLOC</th>\n",
              "      <th>TEMPOTOTAL</th>\n",
              "      <th>TEMPOEDFIS</th>\n",
              "      <th>TEMPOEXTRA</th>\n",
              "      <th>TEMPOEST</th>\n",
              "      <th>VB17001</th>\n",
              "      <th>VB17002</th>\n",
              "      <th>VB17003</th>\n",
              "      <th>VB17004</th>\n",
              "      <th>PESO</th>\n",
              "    </tr>\n",
              "  </thead>\n",
              "  <tbody>\n",
              "    <tr>\n",
              "      <th>0</th>\n",
              "      <td>0.0</td>\n",
              "      <td>15.0</td>\n",
              "      <td>0.0</td>\n",
              "      <td>15.0</td>\n",
              "      <td>60.0</td>\n",
              "      <td>371.0</td>\n",
              "      <td>1570.0</td>\n",
              "      <td>37.1</td>\n",
              "      <td>157.0</td>\n",
              "      <td>299.735235</td>\n",
              "    </tr>\n",
              "    <tr>\n",
              "      <th>1</th>\n",
              "      <td>120.0</td>\n",
              "      <td>510.0</td>\n",
              "      <td>260.0</td>\n",
              "      <td>130.0</td>\n",
              "      <td>300.0</td>\n",
              "      <td>502.0</td>\n",
              "      <td>1520.0</td>\n",
              "      <td>50.2</td>\n",
              "      <td>152.0</td>\n",
              "      <td>355.170081</td>\n",
              "    </tr>\n",
              "    <tr>\n",
              "      <th>2</th>\n",
              "      <td>0.0</td>\n",
              "      <td>585.0</td>\n",
              "      <td>130.0</td>\n",
              "      <td>455.0</td>\n",
              "      <td>420.0</td>\n",
              "      <td>482.0</td>\n",
              "      <td>1614.0</td>\n",
              "      <td>48.2</td>\n",
              "      <td>161.4</td>\n",
              "      <td>299.735235</td>\n",
              "    </tr>\n",
              "    <tr>\n",
              "      <th>3</th>\n",
              "      <td>0.0</td>\n",
              "      <td>0.0</td>\n",
              "      <td>0.0</td>\n",
              "      <td>0.0</td>\n",
              "      <td>0.0</td>\n",
              "      <td>694.0</td>\n",
              "      <td>1725.0</td>\n",
              "      <td>69.4</td>\n",
              "      <td>172.5</td>\n",
              "      <td>355.170081</td>\n",
              "    </tr>\n",
              "    <tr>\n",
              "      <th>4</th>\n",
              "      <td>30.0</td>\n",
              "      <td>165.0</td>\n",
              "      <td>90.0</td>\n",
              "      <td>45.0</td>\n",
              "      <td>60.0</td>\n",
              "      <td>789.0</td>\n",
              "      <td>1675.0</td>\n",
              "      <td>78.9</td>\n",
              "      <td>167.5</td>\n",
              "      <td>299.735235</td>\n",
              "    </tr>\n",
              "    <tr>\n",
              "      <th>...</th>\n",
              "      <td>...</td>\n",
              "      <td>...</td>\n",
              "      <td>...</td>\n",
              "      <td>...</td>\n",
              "      <td>...</td>\n",
              "      <td>...</td>\n",
              "      <td>...</td>\n",
              "      <td>...</td>\n",
              "      <td>...</td>\n",
              "      <td>...</td>\n",
              "    </tr>\n",
              "    <tr>\n",
              "      <th>16551</th>\n",
              "      <td>30.0</td>\n",
              "      <td>400.0</td>\n",
              "      <td>110.0</td>\n",
              "      <td>260.0</td>\n",
              "      <td>240.0</td>\n",
              "      <td>567.0</td>\n",
              "      <td>1679.0</td>\n",
              "      <td>56.7</td>\n",
              "      <td>167.9</td>\n",
              "      <td>447.815539</td>\n",
              "    </tr>\n",
              "    <tr>\n",
              "      <th>16552</th>\n",
              "      <td>20.0</td>\n",
              "      <td>800.0</td>\n",
              "      <td>325.0</td>\n",
              "      <td>455.0</td>\n",
              "      <td>240.0</td>\n",
              "      <td>619.0</td>\n",
              "      <td>1858.0</td>\n",
              "      <td>61.9</td>\n",
              "      <td>185.8</td>\n",
              "      <td>592.507440</td>\n",
              "    </tr>\n",
              "    <tr>\n",
              "      <th>16553</th>\n",
              "      <td>0.0</td>\n",
              "      <td>0.0</td>\n",
              "      <td>0.0</td>\n",
              "      <td>0.0</td>\n",
              "      <td>60.0</td>\n",
              "      <td>609.0</td>\n",
              "      <td>1594.0</td>\n",
              "      <td>60.9</td>\n",
              "      <td>159.4</td>\n",
              "      <td>401.131512</td>\n",
              "    </tr>\n",
              "    <tr>\n",
              "      <th>16554</th>\n",
              "      <td>75.0</td>\n",
              "      <td>215.0</td>\n",
              "      <td>35.0</td>\n",
              "      <td>105.0</td>\n",
              "      <td>120.0</td>\n",
              "      <td>473.0</td>\n",
              "      <td>1578.0</td>\n",
              "      <td>47.3</td>\n",
              "      <td>157.8</td>\n",
              "      <td>442.718091</td>\n",
              "    </tr>\n",
              "    <tr>\n",
              "      <th>16555</th>\n",
              "      <td>50.0</td>\n",
              "      <td>485.0</td>\n",
              "      <td>110.0</td>\n",
              "      <td>325.0</td>\n",
              "      <td>360.0</td>\n",
              "      <td>626.0</td>\n",
              "      <td>1639.0</td>\n",
              "      <td>62.6</td>\n",
              "      <td>163.9</td>\n",
              "      <td>592.507440</td>\n",
              "    </tr>\n",
              "  </tbody>\n",
              "</table>\n",
              "<p>16556 rows × 10 columns</p>\n",
              "</div>"
            ],
            "text/plain": [
              "       TEMPODESLOC  TEMPOTOTAL  TEMPOEDFIS  ...  VB17003  VB17004        PESO\n",
              "0              0.0        15.0         0.0  ...     37.1    157.0  299.735235\n",
              "1            120.0       510.0       260.0  ...     50.2    152.0  355.170081\n",
              "2              0.0       585.0       130.0  ...     48.2    161.4  299.735235\n",
              "3              0.0         0.0         0.0  ...     69.4    172.5  355.170081\n",
              "4             30.0       165.0        90.0  ...     78.9    167.5  299.735235\n",
              "...            ...         ...         ...  ...      ...      ...         ...\n",
              "16551         30.0       400.0       110.0  ...     56.7    167.9  447.815539\n",
              "16552         20.0       800.0       325.0  ...     61.9    185.8  592.507440\n",
              "16553          0.0         0.0         0.0  ...     60.9    159.4  401.131512\n",
              "16554         75.0       215.0        35.0  ...     47.3    157.8  442.718091\n",
              "16555         50.0       485.0       110.0  ...     62.6    163.9  592.507440\n",
              "\n",
              "[16556 rows x 10 columns]"
            ]
          },
          "metadata": {
            "tags": []
          },
          "execution_count": 14
        }
      ]
    },
    {
      "cell_type": "markdown",
      "metadata": {
        "id": "Jk9cPO3R1z8B"
      },
      "source": [
        "*Dicionário:\r\n",
        "\r\n",
        "- **VB17001**: Qual o peso do aluno?\r\n",
        "- **VB17002**: Qual a altura do aluno?\r\n",
        "\r\n",
        "OBS: Anteriormente tinhamos visto que peso e aluna do aluno eram a coluna VB17003 e VB17004, por que isso? As de final 01 e 02 são dados aferidos dos alunos e as 03 e 04 são dados imputados pelo sistema."
      ]
    },
    {
      "cell_type": "markdown",
      "metadata": {
        "id": "kZ9vPR1S2vfe"
      },
      "source": [
        "#Tipos de variáveis."
      ]
    },
    {
      "cell_type": "markdown",
      "metadata": {
        "id": "PStJZS9D3Ems"
      },
      "source": [
        "##Exemplos de tipos distintos"
      ]
    },
    {
      "cell_type": "markdown",
      "metadata": {
        "id": "svwhMQEJ2y_M"
      },
      "source": [
        "**Qualitativas**: São características que não possuem valores quantitativos, mas, ao contrário são definidas por diversas categorias, ou seja, representam uma classificação dos indivíduos. Podem ser de dois tipos.\r\n",
        "\r\n",
        "- **Nominais**: São dados que não podem ser ordenados entre as categorias. Ex: cor dos olhos, doente/sadio, etc...\r\n",
        "\r\n",
        "- **Ordinais**: São dados que possuem uma ordenação entre as categorias. Ex: estágio da doença (inicial, intermediário, terminal), mês de observação (janeiro, fevereiro...).\r\n",
        "\r\n",
        "**Quantitativas**: São as características que podem ser medidas em uma escala quantitativa, ou seja, apresentam valores numéricos que fazem sentido. Também podem ser de dois tipos.\r\n",
        "\r\n",
        "- **Contínuas**:  Características mensuráveis que assumem valores em uma escala contínua (na reta real do plano cartesiano), para quais valores fracionais fazem sentido. Ex: Peso (balança), altura (régua), tempo (relógio), pressão arterial, idade, etc...\r\n",
        "\r\n",
        "- **Discretas**: São características mensuráveis que podem assumir apenas um número finito ou infinito contável de valores e, assim, somente fazem sentido valores inteiros. Geralmente são o resultado de contagens. Ex: Número de filhos, número de bactérias por litro de leite, número de cigarros fumados por dia."
      ]
    },
    {
      "cell_type": "markdown",
      "metadata": {
        "id": "GdmyQXDclvIP"
      },
      "source": [
        "##Desafio 1: Descompactar a pasta zipada utilizando outro método."
      ]
    },
    {
      "cell_type": "markdown",
      "metadata": {
        "id": "9x58umIenO76"
      },
      "source": [
        "Para esse desafio irei fazer upload da pasta para o Google drive uma vez que o GitHub não permite a manipulação de dados sem que sejam dados commits. Portanto irei montar o drive e então trabalhar com o zip.\n",
        " \n",
        "Após o drive montado irei utilizar comandos de Shell Script, ou seja, comandos bashrc. Os servidores colab utilizam por baixo dos panos o sistema Unix e isso permite esse tipo de utilização. Para enviarmos comandos para o sistema usamos o sinal de exclamação antes do comando."
      ]
    },
    {
      "cell_type": "code",
      "metadata": {
        "id": "BCd3IMYul6Q7"
      },
      "source": [
        "#deixarei a celula comentada pois ainda irei trabalhar muito com esse notebook\n",
        "#!unzip /content/drive/MyDrive/Dados_Bootcamp/PeNSE_2015_AMOSTRA2.zip -d /content/drive/MyDrive/Dados_Bootcamp"
      ],
      "execution_count": 15,
      "outputs": []
    },
    {
      "cell_type": "code",
      "metadata": {
        "colab": {
          "base_uri": "https://localhost:8080/"
        },
        "id": "nFaeGQVUqgkb",
        "outputId": "5e788621-fc71-4e46-bc08-a11dae4def1c"
      },
      "source": [
        "#visualizando arquivos extraídos\n",
        "!ls /content/drive/MyDrive/Dados_Bootcamp"
      ],
      "execution_count": 16,
      "outputs": [
        {
          "output_type": "stream",
          "text": [
            "'arquivos csv'\t  Dicionario_PENSE_Microdados_AMOSTRA2.xls\n",
            "'arquivos sas'\t  PeNSE_2015_AMOSTRA2.zip\n",
            "'arquivos xlsx'\n"
          ],
          "name": "stdout"
        }
      ]
    },
    {
      "cell_type": "markdown",
      "metadata": {
        "id": "uOD4vCCDmv4L"
      },
      "source": [
        "##Desafio 2: Estudar a base PeNSE."
      ]
    },
    {
      "cell_type": "code",
      "metadata": {
        "colab": {
          "base_uri": "https://localhost:8080/",
          "height": 501
        },
        "id": "1JWk_tSDuZcg",
        "outputId": "18b9313d-5d39-45d7-c3f9-730ad57f1782"
      },
      "source": [
        "#incluindo vídeo no notebook\n",
        "from IPython.core.display import HTML\n",
        "HTML('<center><iframe width=\"853\" height=\"480\" src=\"https://www.youtube.com/embed/z4BBCHZUvD4\" frameborder=\"0\" allow=\"accelerometer; autoplay; clipboard-write; encrypted-media; gyroscope; picture-in-picture\" allowfullscreen></iframe></center>')"
      ],
      "execution_count": 17,
      "outputs": [
        {
          "output_type": "execute_result",
          "data": {
            "text/html": [
              "<center><iframe width=\"853\" height=\"480\" src=\"https://www.youtube.com/embed/z4BBCHZUvD4\" frameborder=\"0\" allow=\"accelerometer; autoplay; clipboard-write; encrypted-media; gyroscope; picture-in-picture\" allowfullscreen></iframe></center>"
            ],
            "text/plain": [
              "<IPython.core.display.HTML object>"
            ]
          },
          "metadata": {
            "tags": []
          },
          "execution_count": 17
        }
      ]
    },
    {
      "cell_type": "markdown",
      "metadata": {
        "id": "RV1I7Mruvw22"
      },
      "source": [
        "Os dados que serão trabalhados são da Pesquisa Nacional de Saúde do Escolar de 2015. Essa foi a terceira edição da PeNSE e foi a primeira que inclui alunos do ensino médio na faixa dos 13 aos 17 anos, as edições anteriores contemplavam apenas alunos até o nono ano (antiga oitava série).\n",
        " \n",
        "Os estudantes são selecionados de um conjunto de escolas previamente definido (Amostra), e para cada um desses grupos escolares foi criado um plano tabular.\n",
        " \n",
        "A Pesquisa é realizada \n",
        "graças à parceria do Ministério da Saúde com o Instituto Brasileiro de Geografia e Estatística e o apoio do Ministério da \n",
        "Educação. Ela faz parte da Vigilância dos Fatores de Risco e Proteção das Doenças Crônicas do Brasil. Em 2015, com a inclusão da amostra de estudantes de 13 a 17 anos, tornou a PeNSE \n",
        "comparável aos inquéritos internacionais."
      ]
    },
    {
      "cell_type": "markdown",
      "metadata": {
        "id": "ZX6p_Eji6VXS"
      },
      "source": [
        "##Desafio 3: Classificar algumas das perguntas do conjunto de dados como qualitativas e quantitativas."
      ]
    },
    {
      "cell_type": "markdown",
      "metadata": {
        "id": "8gey-IjL7sdw"
      },
      "source": [
        "**Quantitativas**\r\n",
        "- Discretas:\r\n",
        " \r\n",
        ">>- VB01010A (Contando com você, quantas pessoas moram na sua casa ou apartamento?)\r\n",
        "- VB01019 (Quantos banheiros com chuveiro têm dentro da sua casa?)\r\n",
        "- VB02001 (Nos últimos 7 dias, em quantos dias você comeu feijão?)\r\n",
        "- VB02002 (Nos últimos 7 dias, em quantos dias você comeu salgados fritos?)\r\n",
        "- VB02004A (Nos últimos 7 dias, em quantos dias você comeu pelo menos um tipo de vegetal?)\r\n",
        "- VB03001A2 (Nos últimos 7 dias, em quantos você voltou a pé ou de bicicleta da escola?)\r\n",
        "\r\n",
        "- Contínuas:\r\n",
        "\r\n",
        ">>- VB17001: Qual o peso do aluno?\r\n",
        "- VB17002: Qual a altura do aluno?\r\n",
        "- TEMPODESLOC: Tempo de deslocamento diário acumulado pelo escolar, com deslocamento da casa para a escola e da escola para casa feito a pé ou de bicicleta.\r\n",
        "- TEMPOEDFIS: Tempo médio acumulado em que o escolar fez atividades físicas.\r\n",
        "- TEMPOEXTRA: Tempo médio diário acumulado do escolar com a prática de uma atividade física extraescolar como esportes, dança, ginástica, musculação...\r\n",
        "\r\n",
        "\r\n",
        "**Qualitativas**\r\n",
        "- Nominais:\r\n",
        "\r\n",
        ">>- VB01023 (Você estuda em regime integral?)\r\n",
        "- VB01024 (Você estuda em regime de internato?)\r\n",
        "- VB01026 (Quando terminar o ciclo/curso que você está frequentando atualmente, você pretende?)\r\n",
        "- VB01006 (Você mora com sua mãe?)\r\n",
        "- VB01007 (Você mora com seu pai?)\r\n",
        "- VB01013 (Na sua casa tem telefone fixo?)\r\n",
        "- VB01014 (Você tem celular?)\r\n",
        "- VB01015A (Na sua casa tem computador?)\r\n",
        "- VB01016 (Você tem aceso à internet em sua casa?)\r\n",
        "- VB01018 (Alguém que mora na sua casa tem carro?)\r\n",
        "\r\n",
        "- Ordinais:\r\n",
        "\r\n",
        ">>- VB01004 (Mês de aniversário?)\r\n",
        "- VB01005 (Em que ano nasceu?)\r\n",
        "- VB01021 (Em que série/ano você está?)\r\n",
        "- VB01022 (Em que turno você estuda?)\r\n",
        "- VB01025 (Qual o grau de escolaridade mais elevado que pretendo concluir?)\r\n",
        "- VB01008A (Que nível de ensino (grau) sua mãe estudou ou estuda?\r\n",
        "- VB03002A1 (Quando você vai para a escola a pé ou de bicicleta, quanto tempo você gasta?\r\n",
        "- VB06006 (Quantos amigos seus usam drogas?)"
      ]
    },
    {
      "cell_type": "markdown",
      "metadata": {
        "id": "bCADvShr4FUx"
      },
      "source": [
        "#Aula 2 - Dados qualitativos e tabela de frequência."
      ]
    },
    {
      "cell_type": "markdown",
      "metadata": {
        "id": "l_sd0U8W5JNL"
      },
      "source": [
        "Agora vamos iniciar uma análise da frequência das repostas do questionário."
      ]
    },
    {
      "cell_type": "code",
      "metadata": {
        "colab": {
          "base_uri": "https://localhost:8080/"
        },
        "id": "-Rno740n4EaV",
        "outputId": "e30708a1-16e4-42a4-c63a-06ebec627d64"
      },
      "source": [
        "#Verificando a frequência de respostas por sexo do aluno.\r\n",
        "dados['VB01001'].value_counts()"
      ],
      "execution_count": 18,
      "outputs": [
        {
          "output_type": "execute_result",
          "data": {
            "text/plain": [
              "1    8287\n",
              "2    8269\n",
              "Name: VB01001, dtype: int64"
            ]
          },
          "metadata": {
            "tags": []
          },
          "execution_count": 18
        }
      ]
    },
    {
      "cell_type": "code",
      "metadata": {
        "colab": {
          "base_uri": "https://localhost:8080/"
        },
        "id": "dIFpkHVa5UVb",
        "outputId": "06ff26a2-6b57-4a8e-994f-5f8e012a7d15"
      },
      "source": [
        "#verificando a porcentagem\r\n",
        "dados['VB01001'].value_counts(normalize=True)*100"
      ],
      "execution_count": 19,
      "outputs": [
        {
          "output_type": "execute_result",
          "data": {
            "text/plain": [
              "1    50.054361\n",
              "2    49.945639\n",
              "Name: VB01001, dtype: float64"
            ]
          },
          "metadata": {
            "tags": []
          },
          "execution_count": 19
        }
      ]
    },
    {
      "cell_type": "markdown",
      "metadata": {
        "id": "tAs2GjKE5dK_"
      },
      "source": [
        "A relação a alunos do sexo masculino e feminino que responderam ao questionário é bem equilibrada. Isso acontece por que essa pergunta faz parte da estratégia de amostragem da pesquisa. No entanto, existem outras perguntas que são independentes dessa estratégia. Como por exemplo a relação de satisfação do aluno com relação a seu corpo (variável VB11007) conforme analisaremos abaixo."
      ]
    },
    {
      "cell_type": "code",
      "metadata": {
        "id": "HE_RxmwK6J6S",
        "colab": {
          "base_uri": "https://localhost:8080/"
        },
        "outputId": "6324dd15-787b-4dfc-b067-b3cb7dba5425"
      },
      "source": [
        "frequencia = dados['VB11007'].value_counts()\n",
        "frequencia"
      ],
      "execution_count": 20,
      "outputs": [
        {
          "output_type": "execute_result",
          "data": {
            "text/plain": [
              "2     6920\n",
              "1     4608\n",
              "4     2326\n",
              "3     1807\n",
              "5      714\n",
              "99     181\n",
              "Name: VB11007, dtype: int64"
            ]
          },
          "metadata": {
            "tags": []
          },
          "execution_count": 20
        }
      ]
    },
    {
      "cell_type": "markdown",
      "metadata": {
        "id": "d_Bb2TxS6_EH"
      },
      "source": [
        "A resposta 2 é a meais respondida, seguido da 1 e da 4... Mas note que é difícil da gente visualizar isso, portanto vamos ao dicionário."
      ]
    },
    {
      "cell_type": "code",
      "metadata": {
        "colab": {
          "base_uri": "https://localhost:8080/"
        },
        "id": "FmjODBe36aZm",
        "outputId": "23adeb0e-e43b-40f6-9c6b-972c1e1e0e94"
      },
      "source": [
        "percentual = dados['VB11007'].value_counts(normalize=True)*100\r\n",
        "percentual"
      ],
      "execution_count": 21,
      "outputs": [
        {
          "output_type": "execute_result",
          "data": {
            "text/plain": [
              "2     41.797536\n",
              "1     27.832810\n",
              "4     14.049287\n",
              "3     10.914472\n",
              "5      4.312636\n",
              "99     1.093259\n",
              "Name: VB11007, dtype: float64"
            ]
          },
          "metadata": {
            "tags": []
          },
          "execution_count": 21
        }
      ]
    },
    {
      "cell_type": "code",
      "metadata": {
        "colab": {
          "base_uri": "https://localhost:8080/",
          "height": 225
        },
        "id": "ZxdF7yHK7fLt",
        "outputId": "7c746620-3555-4998-d437-874a9e4e360b"
      },
      "source": [
        "#Criando a lista de respostas conforme dicionário\r\n",
        "respostas = {1: 'Muito Satisfeito',\r\n",
        "             2: 'Satisfeito',\r\n",
        "             3: 'Indiferente',\r\n",
        "             4: 'Insatisfeito',\r\n",
        "             5: 'Muito insatisfeito',\r\n",
        "             99: 'Não informado'}\r\n",
        "#Criando um data frame para melhor análise dos resultados acima.\r\n",
        "dist_freq = pd.DataFrame({'Frêquencia': frequencia, 'Percentual': percentual})\r\n",
        "dist_freq.rename(index=respostas,inplace=True)\r\n",
        "dist_freq.rename_axis('Sentimento em relação ao seu corpo', axis=1, inplace=True)\r\n",
        "#arredondando os valores percentuais\r\n",
        "dist_freq['Percentual'] = dist_freq['Percentual'].round(2)\r\n",
        "dist_freq"
      ],
      "execution_count": 22,
      "outputs": [
        {
          "output_type": "execute_result",
          "data": {
            "text/html": [
              "<div>\n",
              "<style scoped>\n",
              "    .dataframe tbody tr th:only-of-type {\n",
              "        vertical-align: middle;\n",
              "    }\n",
              "\n",
              "    .dataframe tbody tr th {\n",
              "        vertical-align: top;\n",
              "    }\n",
              "\n",
              "    .dataframe thead th {\n",
              "        text-align: right;\n",
              "    }\n",
              "</style>\n",
              "<table border=\"1\" class=\"dataframe\">\n",
              "  <thead>\n",
              "    <tr style=\"text-align: right;\">\n",
              "      <th>Sentimento em relação ao seu corpo</th>\n",
              "      <th>Frêquencia</th>\n",
              "      <th>Percentual</th>\n",
              "    </tr>\n",
              "  </thead>\n",
              "  <tbody>\n",
              "    <tr>\n",
              "      <th>Satisfeito</th>\n",
              "      <td>6920</td>\n",
              "      <td>41.80</td>\n",
              "    </tr>\n",
              "    <tr>\n",
              "      <th>Muito Satisfeito</th>\n",
              "      <td>4608</td>\n",
              "      <td>27.83</td>\n",
              "    </tr>\n",
              "    <tr>\n",
              "      <th>Insatisfeito</th>\n",
              "      <td>2326</td>\n",
              "      <td>14.05</td>\n",
              "    </tr>\n",
              "    <tr>\n",
              "      <th>Indiferente</th>\n",
              "      <td>1807</td>\n",
              "      <td>10.91</td>\n",
              "    </tr>\n",
              "    <tr>\n",
              "      <th>Muito insatisfeito</th>\n",
              "      <td>714</td>\n",
              "      <td>4.31</td>\n",
              "    </tr>\n",
              "    <tr>\n",
              "      <th>Não informado</th>\n",
              "      <td>181</td>\n",
              "      <td>1.09</td>\n",
              "    </tr>\n",
              "  </tbody>\n",
              "</table>\n",
              "</div>"
            ],
            "text/plain": [
              "Sentimento em relação ao seu corpo  Frêquencia  Percentual\n",
              "Satisfeito                                6920       41.80\n",
              "Muito Satisfeito                          4608       27.83\n",
              "Insatisfeito                              2326       14.05\n",
              "Indiferente                               1807       10.91\n",
              "Muito insatisfeito                         714        4.31\n",
              "Não informado                              181        1.09"
            ]
          },
          "metadata": {
            "tags": []
          },
          "execution_count": 22
        }
      ]
    },
    {
      "cell_type": "markdown",
      "metadata": {
        "id": "GYjhLxR-9Npy"
      },
      "source": [
        "Percebemos que a maioria dos alunos se sentem satisfeitos em relação ao próprio corpo."
      ]
    },
    {
      "cell_type": "markdown",
      "metadata": {
        "id": "GhzojaoO9pI3"
      },
      "source": [
        "##Desafio 4: Criar uma função para gerar as tabelas de freqûencia e, além disso, fazer a análise de outras informações."
      ]
    },
    {
      "cell_type": "code",
      "metadata": {
        "id": "gRyOP2eA87UY"
      },
      "source": [
        "def tabela_frequencia(dados, dicionario=None, titulo_frequencias=None):\n",
        "    '''\n",
        "    Retorna uma tabela de frequência baseada na coluna e no dataframe recebido.\n",
        " \n",
        "    Parametros:\n",
        "        dados (series): Series contendo os dados selecionados\n",
        "        dicionario (dict): Dicionário das respostas/index\n",
        "        titulo_frequencias (str): Título para a coluna index.\n",
        "    Retornos:\n",
        "        dados (DataFrame): Tabela de frequencias das respostas\n",
        "    '''\n",
        " \n",
        "    frequencia = dados.value_counts()\n",
        "    percentual = dados.value_counts(normalize=True) * 100\n",
        "    percentual = percentual.round(2)\n",
        "    dados = pd.DataFrame({\"Frequencia\": frequencia, \"Percentual\": percentual})\n",
        "    if dicionario:\n",
        "      dados.rename(index=dicionario, inplace=True)\n",
        "    if titulo_frequencias:\n",
        "      dados.rename_axis(titulo_frequencias,axis=1,inplace=True)\n",
        " \n",
        "    return dados"
      ],
      "execution_count": 23,
      "outputs": []
    },
    {
      "cell_type": "code",
      "metadata": {
        "id": "q3j168s4_PTs"
      },
      "source": [
        "img_corp = {1: 'Muito Importante',\n",
        "            2: 'Importante',\n",
        "            3: 'Indiferente',\n",
        "            4: 'Insatisfeito(a)',\n",
        "            5: 'Muito insatisfeito(a)',\n",
        "            99: 'Não informado'}\n",
        "test_function = tabela_frequencia(dados['VB11007'],img_corp, 'Grau')"
      ],
      "execution_count": 24,
      "outputs": []
    },
    {
      "cell_type": "code",
      "metadata": {
        "colab": {
          "base_uri": "https://localhost:8080/",
          "height": 225
        },
        "id": "AckP9tjhAGAk",
        "outputId": "91c8a6f6-750a-4da3-ca53-649ba05bbac4"
      },
      "source": [
        "test_function"
      ],
      "execution_count": 25,
      "outputs": [
        {
          "output_type": "execute_result",
          "data": {
            "text/html": [
              "<div>\n",
              "<style scoped>\n",
              "    .dataframe tbody tr th:only-of-type {\n",
              "        vertical-align: middle;\n",
              "    }\n",
              "\n",
              "    .dataframe tbody tr th {\n",
              "        vertical-align: top;\n",
              "    }\n",
              "\n",
              "    .dataframe thead th {\n",
              "        text-align: right;\n",
              "    }\n",
              "</style>\n",
              "<table border=\"1\" class=\"dataframe\">\n",
              "  <thead>\n",
              "    <tr style=\"text-align: right;\">\n",
              "      <th>Grau</th>\n",
              "      <th>Frequencia</th>\n",
              "      <th>Percentual</th>\n",
              "    </tr>\n",
              "  </thead>\n",
              "  <tbody>\n",
              "    <tr>\n",
              "      <th>Importante</th>\n",
              "      <td>6920</td>\n",
              "      <td>41.80</td>\n",
              "    </tr>\n",
              "    <tr>\n",
              "      <th>Muito Importante</th>\n",
              "      <td>4608</td>\n",
              "      <td>27.83</td>\n",
              "    </tr>\n",
              "    <tr>\n",
              "      <th>Insatisfeito(a)</th>\n",
              "      <td>2326</td>\n",
              "      <td>14.05</td>\n",
              "    </tr>\n",
              "    <tr>\n",
              "      <th>Indiferente</th>\n",
              "      <td>1807</td>\n",
              "      <td>10.91</td>\n",
              "    </tr>\n",
              "    <tr>\n",
              "      <th>Muito insatisfeito(a)</th>\n",
              "      <td>714</td>\n",
              "      <td>4.31</td>\n",
              "    </tr>\n",
              "    <tr>\n",
              "      <th>Não informado</th>\n",
              "      <td>181</td>\n",
              "      <td>1.09</td>\n",
              "    </tr>\n",
              "  </tbody>\n",
              "</table>\n",
              "</div>"
            ],
            "text/plain": [
              "Grau                   Frequencia  Percentual\n",
              "Importante                   6920       41.80\n",
              "Muito Importante             4608       27.83\n",
              "Insatisfeito(a)              2326       14.05\n",
              "Indiferente                  1807       10.91\n",
              "Muito insatisfeito(a)         714        4.31\n",
              "Não informado                 181        1.09"
            ]
          },
          "metadata": {
            "tags": []
          },
          "execution_count": 25
        }
      ]
    },
    {
      "cell_type": "markdown",
      "metadata": {
        "id": "HXte5wMoCxQG"
      },
      "source": [
        "#Aula 3 - Frequência em dados contínuos e Pandas CrossTab"
      ]
    },
    {
      "cell_type": "markdown",
      "metadata": {
        "id": "_vCkX5PpC9yw"
      },
      "source": [
        "Agora vamos criar esse tipo de tabela de frequência mas com dados contínuos. Trabalharemos com o VB17004 a altura dos estudantes."
      ]
    },
    {
      "cell_type": "code",
      "metadata": {
        "colab": {
          "base_uri": "https://localhost:8080/"
        },
        "id": "MN6KH8qMANOp",
        "outputId": "bccff085-fb54-4b7d-a9a9-51d6f6651ce8"
      },
      "source": [
        "dados['VB17004']"
      ],
      "execution_count": 26,
      "outputs": [
        {
          "output_type": "execute_result",
          "data": {
            "text/plain": [
              "0        157.0\n",
              "1        152.0\n",
              "2        161.4\n",
              "3        172.5\n",
              "4        167.5\n",
              "         ...  \n",
              "16551    167.9\n",
              "16552    185.8\n",
              "16553    159.4\n",
              "16554    157.8\n",
              "16555    163.9\n",
              "Name: VB17004, Length: 16556, dtype: float64"
            ]
          },
          "metadata": {
            "tags": []
          },
          "execution_count": 26
        }
      ]
    },
    {
      "cell_type": "markdown",
      "metadata": {
        "id": "g2cEeOnCDS7h"
      },
      "source": [
        "Veja que não temos classes pré-definidas nesse caso, como construir, portanto, uma tabela de frequência para esse tipo de informação?\r\n",
        "Uma das formas é criarmos variáveis conforme segue."
      ]
    },
    {
      "cell_type": "code",
      "metadata": {
        "colab": {
          "base_uri": "https://localhost:8080/"
        },
        "id": "KLsrX0QEDN74",
        "outputId": "7a77d203-f2ec-450e-9a55-2b4e9f683c4d"
      },
      "source": [
        "#Criando a variável IMC (VB17003: peso, VB17004: altura), \r\n",
        "#o IMC é o resultado da divisão do peso pela a altura ao quadrado\r\n",
        "#como a altura está em centimetros e o IMC faz a conta por metros iremos dividir\r\n",
        "#por 100 a altura.\r\n",
        "dados['IMC'] = dados['VB17003'] / ((dados['VB17004']/100)**2)\r\n",
        "dados['IMC']"
      ],
      "execution_count": 27,
      "outputs": [
        {
          "output_type": "execute_result",
          "data": {
            "text/plain": [
              "0        15.051321\n",
              "1        21.727839\n",
              "2        18.502907\n",
              "3        23.322831\n",
              "4        28.122076\n",
              "           ...    \n",
              "16551    20.113223\n",
              "16552    17.930782\n",
              "16553    23.968489\n",
              "16554    18.995343\n",
              "16555    23.303246\n",
              "Name: IMC, Length: 16556, dtype: float64"
            ]
          },
          "metadata": {
            "tags": []
          },
          "execution_count": 27
        }
      ]
    },
    {
      "cell_type": "markdown",
      "metadata": {
        "id": "PLbDgJXwGSki"
      },
      "source": [
        "Criando as classes"
      ]
    },
    {
      "cell_type": "code",
      "metadata": {
        "colab": {
          "base_uri": "https://localhost:8080/",
          "height": 402
        },
        "id": "lBPZWPzAEJ2C",
        "outputId": "eca6eb05-f2c2-4424-cf0a-c6bd840d259b"
      },
      "source": [
        "classes = [0, 18.5, 25, 30, 35, 60]\n",
        "labels = ['abaixo', 'adequado', 'sobrepeso', 'obesidade grau I', 'obesidade grau II']\n",
        " \n",
        "dados['CLASSE_IMC'] = pd.cut(x = dados['IMC'],\n",
        "       bins = classes,\n",
        "       #labels = labels,\n",
        "       include_lowest = True)\n",
        " \n",
        "dados[['IMC','CLASSE_IMC']]"
      ],
      "execution_count": 28,
      "outputs": [
        {
          "output_type": "execute_result",
          "data": {
            "text/html": [
              "<div>\n",
              "<style scoped>\n",
              "    .dataframe tbody tr th:only-of-type {\n",
              "        vertical-align: middle;\n",
              "    }\n",
              "\n",
              "    .dataframe tbody tr th {\n",
              "        vertical-align: top;\n",
              "    }\n",
              "\n",
              "    .dataframe thead th {\n",
              "        text-align: right;\n",
              "    }\n",
              "</style>\n",
              "<table border=\"1\" class=\"dataframe\">\n",
              "  <thead>\n",
              "    <tr style=\"text-align: right;\">\n",
              "      <th></th>\n",
              "      <th>IMC</th>\n",
              "      <th>CLASSE_IMC</th>\n",
              "    </tr>\n",
              "  </thead>\n",
              "  <tbody>\n",
              "    <tr>\n",
              "      <th>0</th>\n",
              "      <td>15.051321</td>\n",
              "      <td>(-0.001, 18.5]</td>\n",
              "    </tr>\n",
              "    <tr>\n",
              "      <th>1</th>\n",
              "      <td>21.727839</td>\n",
              "      <td>(18.5, 25.0]</td>\n",
              "    </tr>\n",
              "    <tr>\n",
              "      <th>2</th>\n",
              "      <td>18.502907</td>\n",
              "      <td>(18.5, 25.0]</td>\n",
              "    </tr>\n",
              "    <tr>\n",
              "      <th>3</th>\n",
              "      <td>23.322831</td>\n",
              "      <td>(18.5, 25.0]</td>\n",
              "    </tr>\n",
              "    <tr>\n",
              "      <th>4</th>\n",
              "      <td>28.122076</td>\n",
              "      <td>(25.0, 30.0]</td>\n",
              "    </tr>\n",
              "    <tr>\n",
              "      <th>...</th>\n",
              "      <td>...</td>\n",
              "      <td>...</td>\n",
              "    </tr>\n",
              "    <tr>\n",
              "      <th>16551</th>\n",
              "      <td>20.113223</td>\n",
              "      <td>(18.5, 25.0]</td>\n",
              "    </tr>\n",
              "    <tr>\n",
              "      <th>16552</th>\n",
              "      <td>17.930782</td>\n",
              "      <td>(-0.001, 18.5]</td>\n",
              "    </tr>\n",
              "    <tr>\n",
              "      <th>16553</th>\n",
              "      <td>23.968489</td>\n",
              "      <td>(18.5, 25.0]</td>\n",
              "    </tr>\n",
              "    <tr>\n",
              "      <th>16554</th>\n",
              "      <td>18.995343</td>\n",
              "      <td>(18.5, 25.0]</td>\n",
              "    </tr>\n",
              "    <tr>\n",
              "      <th>16555</th>\n",
              "      <td>23.303246</td>\n",
              "      <td>(18.5, 25.0]</td>\n",
              "    </tr>\n",
              "  </tbody>\n",
              "</table>\n",
              "<p>16556 rows × 2 columns</p>\n",
              "</div>"
            ],
            "text/plain": [
              "             IMC      CLASSE_IMC\n",
              "0      15.051321  (-0.001, 18.5]\n",
              "1      21.727839    (18.5, 25.0]\n",
              "2      18.502907    (18.5, 25.0]\n",
              "3      23.322831    (18.5, 25.0]\n",
              "4      28.122076    (25.0, 30.0]\n",
              "...          ...             ...\n",
              "16551  20.113223    (18.5, 25.0]\n",
              "16552  17.930782  (-0.001, 18.5]\n",
              "16553  23.968489    (18.5, 25.0]\n",
              "16554  18.995343    (18.5, 25.0]\n",
              "16555  23.303246    (18.5, 25.0]\n",
              "\n",
              "[16556 rows x 2 columns]"
            ]
          },
          "metadata": {
            "tags": []
          },
          "execution_count": 28
        }
      ]
    },
    {
      "cell_type": "markdown",
      "metadata": {
        "id": "N1kNe_HfGVJO"
      },
      "source": [
        "Entendendo o intervalo sem incluir a opção labels (comentada no código). Note que o intervalo é do mais baixo (lowest) como aberto `(` e o superior como intervalo fechado `]`"
      ]
    },
    {
      "cell_type": "markdown",
      "metadata": {
        "id": "QPDG8ZxSGa2k"
      },
      "source": [
        "Com a inclusão das labels segue abaixo."
      ]
    },
    {
      "cell_type": "code",
      "metadata": {
        "colab": {
          "base_uri": "https://localhost:8080/",
          "height": 402
        },
        "id": "pQ0Q2TNnFNw9",
        "outputId": "8de4b7b6-499f-4873-da9d-c45d84b8b930"
      },
      "source": [
        "classes = [0, 18.5, 25, 30, 35, 60]\n",
        "labels = ['abaixo', 'normal', 'sobrepeso', 'obesidade grau I', 'obesidade grau II']\n",
        " \n",
        "dados['CLASSE_IMC'] = pd.cut(x = dados['IMC'],\n",
        "       bins = classes,\n",
        "       labels = labels,\n",
        "       include_lowest = True)\n",
        " \n",
        "dados[['IMC','CLASSE_IMC']]"
      ],
      "execution_count": 29,
      "outputs": [
        {
          "output_type": "execute_result",
          "data": {
            "text/html": [
              "<div>\n",
              "<style scoped>\n",
              "    .dataframe tbody tr th:only-of-type {\n",
              "        vertical-align: middle;\n",
              "    }\n",
              "\n",
              "    .dataframe tbody tr th {\n",
              "        vertical-align: top;\n",
              "    }\n",
              "\n",
              "    .dataframe thead th {\n",
              "        text-align: right;\n",
              "    }\n",
              "</style>\n",
              "<table border=\"1\" class=\"dataframe\">\n",
              "  <thead>\n",
              "    <tr style=\"text-align: right;\">\n",
              "      <th></th>\n",
              "      <th>IMC</th>\n",
              "      <th>CLASSE_IMC</th>\n",
              "    </tr>\n",
              "  </thead>\n",
              "  <tbody>\n",
              "    <tr>\n",
              "      <th>0</th>\n",
              "      <td>15.051321</td>\n",
              "      <td>abaixo</td>\n",
              "    </tr>\n",
              "    <tr>\n",
              "      <th>1</th>\n",
              "      <td>21.727839</td>\n",
              "      <td>normal</td>\n",
              "    </tr>\n",
              "    <tr>\n",
              "      <th>2</th>\n",
              "      <td>18.502907</td>\n",
              "      <td>normal</td>\n",
              "    </tr>\n",
              "    <tr>\n",
              "      <th>3</th>\n",
              "      <td>23.322831</td>\n",
              "      <td>normal</td>\n",
              "    </tr>\n",
              "    <tr>\n",
              "      <th>4</th>\n",
              "      <td>28.122076</td>\n",
              "      <td>sobrepeso</td>\n",
              "    </tr>\n",
              "    <tr>\n",
              "      <th>...</th>\n",
              "      <td>...</td>\n",
              "      <td>...</td>\n",
              "    </tr>\n",
              "    <tr>\n",
              "      <th>16551</th>\n",
              "      <td>20.113223</td>\n",
              "      <td>normal</td>\n",
              "    </tr>\n",
              "    <tr>\n",
              "      <th>16552</th>\n",
              "      <td>17.930782</td>\n",
              "      <td>abaixo</td>\n",
              "    </tr>\n",
              "    <tr>\n",
              "      <th>16553</th>\n",
              "      <td>23.968489</td>\n",
              "      <td>normal</td>\n",
              "    </tr>\n",
              "    <tr>\n",
              "      <th>16554</th>\n",
              "      <td>18.995343</td>\n",
              "      <td>normal</td>\n",
              "    </tr>\n",
              "    <tr>\n",
              "      <th>16555</th>\n",
              "      <td>23.303246</td>\n",
              "      <td>normal</td>\n",
              "    </tr>\n",
              "  </tbody>\n",
              "</table>\n",
              "<p>16556 rows × 2 columns</p>\n",
              "</div>"
            ],
            "text/plain": [
              "             IMC CLASSE_IMC\n",
              "0      15.051321     abaixo\n",
              "1      21.727839     normal\n",
              "2      18.502907     normal\n",
              "3      23.322831     normal\n",
              "4      28.122076  sobrepeso\n",
              "...          ...        ...\n",
              "16551  20.113223     normal\n",
              "16552  17.930782     abaixo\n",
              "16553  23.968489     normal\n",
              "16554  18.995343     normal\n",
              "16555  23.303246     normal\n",
              "\n",
              "[16556 rows x 2 columns]"
            ]
          },
          "metadata": {
            "tags": []
          },
          "execution_count": 29
        }
      ]
    },
    {
      "cell_type": "markdown",
      "metadata": {
        "id": "Ze_-0K6PF59E"
      },
      "source": [
        "Colocamos nomes aos intervalos."
      ]
    },
    {
      "cell_type": "code",
      "metadata": {
        "colab": {
          "base_uri": "https://localhost:8080/",
          "height": 195
        },
        "id": "Pfo22heqGYEg",
        "outputId": "a7ed4280-9624-4d5e-b1e1-11c9994f383e"
      },
      "source": [
        "#gera tabela de frequencia\n",
        "dist_freq = tabela_frequencia(dados['CLASSE_IMC'])\n",
        "dist_freq"
      ],
      "execution_count": 30,
      "outputs": [
        {
          "output_type": "execute_result",
          "data": {
            "text/html": [
              "<div>\n",
              "<style scoped>\n",
              "    .dataframe tbody tr th:only-of-type {\n",
              "        vertical-align: middle;\n",
              "    }\n",
              "\n",
              "    .dataframe tbody tr th {\n",
              "        vertical-align: top;\n",
              "    }\n",
              "\n",
              "    .dataframe thead th {\n",
              "        text-align: right;\n",
              "    }\n",
              "</style>\n",
              "<table border=\"1\" class=\"dataframe\">\n",
              "  <thead>\n",
              "    <tr style=\"text-align: right;\">\n",
              "      <th></th>\n",
              "      <th>Frequencia</th>\n",
              "      <th>Percentual</th>\n",
              "    </tr>\n",
              "  </thead>\n",
              "  <tbody>\n",
              "    <tr>\n",
              "      <th>normal</th>\n",
              "      <td>9188</td>\n",
              "      <td>55.50</td>\n",
              "    </tr>\n",
              "    <tr>\n",
              "      <th>abaixo</th>\n",
              "      <td>4975</td>\n",
              "      <td>30.05</td>\n",
              "    </tr>\n",
              "    <tr>\n",
              "      <th>sobrepeso</th>\n",
              "      <td>1760</td>\n",
              "      <td>10.63</td>\n",
              "    </tr>\n",
              "    <tr>\n",
              "      <th>obesidade grau I</th>\n",
              "      <td>488</td>\n",
              "      <td>2.95</td>\n",
              "    </tr>\n",
              "    <tr>\n",
              "      <th>obesidade grau II</th>\n",
              "      <td>145</td>\n",
              "      <td>0.88</td>\n",
              "    </tr>\n",
              "  </tbody>\n",
              "</table>\n",
              "</div>"
            ],
            "text/plain": [
              "                   Frequencia  Percentual\n",
              "normal                   9188       55.50\n",
              "abaixo                   4975       30.05\n",
              "sobrepeso                1760       10.63\n",
              "obesidade grau I          488        2.95\n",
              "obesidade grau II         145        0.88"
            ]
          },
          "metadata": {
            "tags": []
          },
          "execution_count": 30
        }
      ]
    },
    {
      "cell_type": "markdown",
      "metadata": {
        "id": "PLBfBEgIL3-W"
      },
      "source": [
        "Note que 30% dos estudantes estão com o peso abaixo do normal, interesse fato a ser investigado."
      ]
    },
    {
      "cell_type": "markdown",
      "metadata": {
        "id": "NHf6E6fBMDD9"
      },
      "source": [
        "##Regra de Sturges"
      ]
    },
    {
      "cell_type": "markdown",
      "metadata": {
        "id": "_06f5Uv7MKhg"
      },
      "source": [
        "Até agora vimos como definir classificações para frequências, no caso do IMC podemos verificar essas classificações por dados na literatura e outras fontes. Mas e quando não temos esses dados? Quantas classes devemos colocar? Ou seja, qual o número adequado de classes para um conjunto de dados? É o que veremos agora."
      ]
    },
    {
      "cell_type": "code",
      "metadata": {
        "colab": {
          "base_uri": "https://localhost:8080/"
        },
        "id": "PSHONqUjJoKH",
        "outputId": "b407996f-6393-4d98-bdac-bf7718ed4af0"
      },
      "source": [
        "#verificando a altura mínima\r\n",
        "dados['VB17004'].min()"
      ],
      "execution_count": 31,
      "outputs": [
        {
          "output_type": "execute_result",
          "data": {
            "text/plain": [
              "124.1"
            ]
          },
          "metadata": {
            "tags": []
          },
          "execution_count": 31
        }
      ]
    },
    {
      "cell_type": "code",
      "metadata": {
        "colab": {
          "base_uri": "https://localhost:8080/"
        },
        "id": "uGJdq7N-JwCT",
        "outputId": "174180a2-dc19-451b-c75a-98b33c5e8fdf"
      },
      "source": [
        "#verificando a altura máxima\r\n",
        "dados['VB17004'].max()"
      ],
      "execution_count": 32,
      "outputs": [
        {
          "output_type": "execute_result",
          "data": {
            "text/plain": [
              "195.3"
            ]
          },
          "metadata": {
            "tags": []
          },
          "execution_count": 32
        }
      ]
    },
    {
      "cell_type": "markdown",
      "metadata": {
        "id": "BuDDL_gnJ3Ap"
      },
      "source": [
        "Quantas classes temos que ter entre 124.1 e 195.3? Qual esse número? Qual esse K de classes?\r\n",
        "Isso depende do número de amostras do nosso dataset, então, segundo um estatístico chamado Sturges, o número de classes deve ser proporcional ao tamanho da amostra. O K por sua vez é:\r\n",
        "\r\n",
        "### $$K = 1 + \\frac{10}{3} \\cdot  \\log_{10}(N)$$\r\n",
        "\r\n",
        "Onde N = Tamanho da amostra"
      ]
    },
    {
      "cell_type": "code",
      "metadata": {
        "colab": {
          "base_uri": "https://localhost:8080/"
        },
        "id": "AX5EdnvLJ2Q2",
        "outputId": "7eea6299-1f5c-44ca-83c6-1aab07d82c51"
      },
      "source": [
        "#importamos a biblioteca numpy que trata de ferramentas matemáticas.\r\n",
        "import numpy as np\r\n",
        "\r\n",
        "tamanho_amostra = len(dados)\r\n",
        "\r\n",
        "#incluimos o int para desprezar numeros decimais uma vez que queremos classes\r\n",
        "k = int(1 + ((10/3)*np.log10(tamanho_amostra)))\r\n",
        "k"
      ],
      "execution_count": 33,
      "outputs": [
        {
          "output_type": "execute_result",
          "data": {
            "text/plain": [
              "15"
            ]
          },
          "metadata": {
            "tags": []
          },
          "execution_count": 33
        }
      ]
    },
    {
      "cell_type": "markdown",
      "metadata": {
        "id": "-a4tMypCOtM6"
      },
      "source": [
        "K = 15, isso significa que devemos incluir 15 classes para esses dados."
      ]
    },
    {
      "cell_type": "code",
      "metadata": {
        "colab": {
          "base_uri": "https://localhost:8080/",
          "height": 491
        },
        "id": "CKiYLdIbOaUb",
        "outputId": "a618bbca-da4f-497f-c1f1-59d6ba261972"
      },
      "source": [
        "dados['CLASSE_ALTURA'] = pd.cut(x = dados['VB17004'],\r\n",
        "                                bins = k,\r\n",
        "                                include_lowest = True)\r\n",
        "frequencia = dados['CLASSE_ALTURA'].value_counts()\r\n",
        "percentagem = dados['CLASSE_ALTURA'].value_counts(normalize=True)*100\r\n",
        "dist_freq = pd.DataFrame({'Frequência': frequencia, 'Percentagem': percentagem})\r\n",
        "dist_freq"
      ],
      "execution_count": 34,
      "outputs": [
        {
          "output_type": "execute_result",
          "data": {
            "text/html": [
              "<div>\n",
              "<style scoped>\n",
              "    .dataframe tbody tr th:only-of-type {\n",
              "        vertical-align: middle;\n",
              "    }\n",
              "\n",
              "    .dataframe tbody tr th {\n",
              "        vertical-align: top;\n",
              "    }\n",
              "\n",
              "    .dataframe thead th {\n",
              "        text-align: right;\n",
              "    }\n",
              "</style>\n",
              "<table border=\"1\" class=\"dataframe\">\n",
              "  <thead>\n",
              "    <tr style=\"text-align: right;\">\n",
              "      <th></th>\n",
              "      <th>Frequência</th>\n",
              "      <th>Percentagem</th>\n",
              "    </tr>\n",
              "  </thead>\n",
              "  <tbody>\n",
              "    <tr>\n",
              "      <th>(157.327, 162.073]</th>\n",
              "      <td>3110</td>\n",
              "      <td>18.784731</td>\n",
              "    </tr>\n",
              "    <tr>\n",
              "      <th>(152.58, 157.327]</th>\n",
              "      <td>2734</td>\n",
              "      <td>16.513651</td>\n",
              "    </tr>\n",
              "    <tr>\n",
              "      <th>(162.073, 166.82]</th>\n",
              "      <td>2550</td>\n",
              "      <td>15.402271</td>\n",
              "    </tr>\n",
              "    <tr>\n",
              "      <th>(166.82, 171.567]</th>\n",
              "      <td>2063</td>\n",
              "      <td>12.460739</td>\n",
              "    </tr>\n",
              "    <tr>\n",
              "      <th>(147.833, 152.58]</th>\n",
              "      <td>1782</td>\n",
              "      <td>10.763469</td>\n",
              "    </tr>\n",
              "    <tr>\n",
              "      <th>(171.567, 176.313]</th>\n",
              "      <td>1416</td>\n",
              "      <td>8.552791</td>\n",
              "    </tr>\n",
              "    <tr>\n",
              "      <th>(143.087, 147.833]</th>\n",
              "      <td>1012</td>\n",
              "      <td>6.112588</td>\n",
              "    </tr>\n",
              "    <tr>\n",
              "      <th>(176.313, 181.06]</th>\n",
              "      <td>749</td>\n",
              "      <td>4.524040</td>\n",
              "    </tr>\n",
              "    <tr>\n",
              "      <th>(138.34, 143.087]</th>\n",
              "      <td>484</td>\n",
              "      <td>2.923411</td>\n",
              "    </tr>\n",
              "    <tr>\n",
              "      <th>(181.06, 185.807]</th>\n",
              "      <td>300</td>\n",
              "      <td>1.812032</td>\n",
              "    </tr>\n",
              "    <tr>\n",
              "      <th>(133.593, 138.34]</th>\n",
              "      <td>199</td>\n",
              "      <td>1.201981</td>\n",
              "    </tr>\n",
              "    <tr>\n",
              "      <th>(185.807, 190.553]</th>\n",
              "      <td>94</td>\n",
              "      <td>0.567770</td>\n",
              "    </tr>\n",
              "    <tr>\n",
              "      <th>(128.847, 133.593]</th>\n",
              "      <td>47</td>\n",
              "      <td>0.283885</td>\n",
              "    </tr>\n",
              "    <tr>\n",
              "      <th>(190.553, 195.3]</th>\n",
              "      <td>13</td>\n",
              "      <td>0.078521</td>\n",
              "    </tr>\n",
              "    <tr>\n",
              "      <th>(124.02799999999999, 128.847]</th>\n",
              "      <td>3</td>\n",
              "      <td>0.018120</td>\n",
              "    </tr>\n",
              "  </tbody>\n",
              "</table>\n",
              "</div>"
            ],
            "text/plain": [
              "                               Frequência  Percentagem\n",
              "(157.327, 162.073]                   3110    18.784731\n",
              "(152.58, 157.327]                    2734    16.513651\n",
              "(162.073, 166.82]                    2550    15.402271\n",
              "(166.82, 171.567]                    2063    12.460739\n",
              "(147.833, 152.58]                    1782    10.763469\n",
              "(171.567, 176.313]                   1416     8.552791\n",
              "(143.087, 147.833]                   1012     6.112588\n",
              "(176.313, 181.06]                     749     4.524040\n",
              "(138.34, 143.087]                     484     2.923411\n",
              "(181.06, 185.807]                     300     1.812032\n",
              "(133.593, 138.34]                     199     1.201981\n",
              "(185.807, 190.553]                     94     0.567770\n",
              "(128.847, 133.593]                     47     0.283885\n",
              "(190.553, 195.3]                       13     0.078521\n",
              "(124.02799999999999, 128.847]           3     0.018120"
            ]
          },
          "metadata": {
            "tags": []
          },
          "execution_count": 34
        }
      ]
    },
    {
      "cell_type": "markdown",
      "metadata": {
        "id": "AZpUK7MMPMHm"
      },
      "source": [
        "Podemos perceber que já temos nossa classe com os intervalos definidos."
      ]
    },
    {
      "cell_type": "markdown",
      "metadata": {
        "id": "HzFlqMc0P08M"
      },
      "source": [
        "##Desafio 5: Criar uma tabela de frequência com a regra de sturges para o peso."
      ]
    },
    {
      "cell_type": "code",
      "metadata": {
        "colab": {
          "base_uri": "https://localhost:8080/",
          "height": 491
        },
        "id": "KvC23NocOU3e",
        "outputId": "5316847e-3c46-40b1-fea2-48e7b46f2f09"
      },
      "source": [
        "dados['CLASSE_PESO'] = pd.cut(x = dados['VB17003'],\r\n",
        "                              bins = k,\r\n",
        "                              include_lowest=True)\r\n",
        "frequencia = dados['CLASSE_PESO'].value_counts()\r\n",
        "percentagem = dados['CLASSE_PESO'].value_counts(normalize=True)*100\r\n",
        "dist_freq = pd.DataFrame({'Frequência': frequencia, 'Percentagem': percentagem})\r\n",
        "dist_freq"
      ],
      "execution_count": 35,
      "outputs": [
        {
          "output_type": "execute_result",
          "data": {
            "text/html": [
              "<div>\n",
              "<style scoped>\n",
              "    .dataframe tbody tr th:only-of-type {\n",
              "        vertical-align: middle;\n",
              "    }\n",
              "\n",
              "    .dataframe tbody tr th {\n",
              "        vertical-align: top;\n",
              "    }\n",
              "\n",
              "    .dataframe thead th {\n",
              "        text-align: right;\n",
              "    }\n",
              "</style>\n",
              "<table border=\"1\" class=\"dataframe\">\n",
              "  <thead>\n",
              "    <tr style=\"text-align: right;\">\n",
              "      <th></th>\n",
              "      <th>Frequência</th>\n",
              "      <th>Percentagem</th>\n",
              "    </tr>\n",
              "  </thead>\n",
              "  <tbody>\n",
              "    <tr>\n",
              "      <th>(46.32, 57.7]</th>\n",
              "      <td>5754</td>\n",
              "      <td>34.754772</td>\n",
              "    </tr>\n",
              "    <tr>\n",
              "      <th>(34.94, 46.32]</th>\n",
              "      <td>3852</td>\n",
              "      <td>23.266489</td>\n",
              "    </tr>\n",
              "    <tr>\n",
              "      <th>(57.7, 69.08]</th>\n",
              "      <td>3724</td>\n",
              "      <td>22.493356</td>\n",
              "    </tr>\n",
              "    <tr>\n",
              "      <th>(69.08, 80.46]</th>\n",
              "      <td>1425</td>\n",
              "      <td>8.607151</td>\n",
              "    </tr>\n",
              "    <tr>\n",
              "      <th>(23.56, 34.94]</th>\n",
              "      <td>927</td>\n",
              "      <td>5.599179</td>\n",
              "    </tr>\n",
              "    <tr>\n",
              "      <th>(80.46, 91.84]</th>\n",
              "      <td>544</td>\n",
              "      <td>3.285818</td>\n",
              "    </tr>\n",
              "    <tr>\n",
              "      <th>(91.84, 103.22]</th>\n",
              "      <td>202</td>\n",
              "      <td>1.220101</td>\n",
              "    </tr>\n",
              "    <tr>\n",
              "      <th>(103.22, 114.6]</th>\n",
              "      <td>77</td>\n",
              "      <td>0.465088</td>\n",
              "    </tr>\n",
              "    <tr>\n",
              "      <th>(114.6, 125.98]</th>\n",
              "      <td>20</td>\n",
              "      <td>0.120802</td>\n",
              "    </tr>\n",
              "    <tr>\n",
              "      <th>(125.98, 137.36]</th>\n",
              "      <td>15</td>\n",
              "      <td>0.090602</td>\n",
              "    </tr>\n",
              "    <tr>\n",
              "      <th>(137.36, 148.74]</th>\n",
              "      <td>6</td>\n",
              "      <td>0.036241</td>\n",
              "    </tr>\n",
              "    <tr>\n",
              "      <th>(148.74, 160.12]</th>\n",
              "      <td>4</td>\n",
              "      <td>0.024160</td>\n",
              "    </tr>\n",
              "    <tr>\n",
              "      <th>(12.18, 23.56]</th>\n",
              "      <td>3</td>\n",
              "      <td>0.018120</td>\n",
              "    </tr>\n",
              "    <tr>\n",
              "      <th>(160.12, 171.5]</th>\n",
              "      <td>2</td>\n",
              "      <td>0.012080</td>\n",
              "    </tr>\n",
              "    <tr>\n",
              "      <th>(0.628, 12.18]</th>\n",
              "      <td>1</td>\n",
              "      <td>0.006040</td>\n",
              "    </tr>\n",
              "  </tbody>\n",
              "</table>\n",
              "</div>"
            ],
            "text/plain": [
              "                  Frequência  Percentagem\n",
              "(46.32, 57.7]           5754    34.754772\n",
              "(34.94, 46.32]          3852    23.266489\n",
              "(57.7, 69.08]           3724    22.493356\n",
              "(69.08, 80.46]          1425     8.607151\n",
              "(23.56, 34.94]           927     5.599179\n",
              "(80.46, 91.84]           544     3.285818\n",
              "(91.84, 103.22]          202     1.220101\n",
              "(103.22, 114.6]           77     0.465088\n",
              "(114.6, 125.98]           20     0.120802\n",
              "(125.98, 137.36]          15     0.090602\n",
              "(137.36, 148.74]           6     0.036241\n",
              "(148.74, 160.12]           4     0.024160\n",
              "(12.18, 23.56]             3     0.018120\n",
              "(160.12, 171.5]            2     0.012080\n",
              "(0.628, 12.18]             1     0.006040"
            ]
          },
          "metadata": {
            "tags": []
          },
          "execution_count": 35
        }
      ]
    },
    {
      "cell_type": "markdown",
      "metadata": {
        "id": "AIyxltrpUQOK"
      },
      "source": [
        "#CrossTab"
      ]
    },
    {
      "cell_type": "markdown",
      "metadata": {
        "id": "_K8Rn-TbUVzj"
      },
      "source": [
        "Criamos uma tabela anteriormente sobre como o estudante se sentia em relação ao corpo. Vimos a frequencia dessa tabela sobre todos os estudantes, entretanto, será que se observarmos os dados em relação ao sexo dos participantes não teremos outros resultados? É o que veremos a a seguir."
      ]
    },
    {
      "cell_type": "code",
      "metadata": {
        "colab": {
          "base_uri": "https://localhost:8080/",
          "height": 254
        },
        "id": "uM-fut-dTLzV",
        "outputId": "83ef4d3a-f7d7-42b5-d341-56cca15e6e45"
      },
      "source": [
        "#no crosstab informamos o que queremos nas linhas e nas colunas.4\r\n",
        "#VB11007 satisfação em relação ao corpo\r\n",
        "#VB01001\r\n",
        "frequencia_cruzada = pd.crosstab(dados['VB11007'], dados['VB01001'])\r\n",
        "frequencia_cruzada"
      ],
      "execution_count": 36,
      "outputs": [
        {
          "output_type": "execute_result",
          "data": {
            "text/html": [
              "<div>\n",
              "<style scoped>\n",
              "    .dataframe tbody tr th:only-of-type {\n",
              "        vertical-align: middle;\n",
              "    }\n",
              "\n",
              "    .dataframe tbody tr th {\n",
              "        vertical-align: top;\n",
              "    }\n",
              "\n",
              "    .dataframe thead th {\n",
              "        text-align: right;\n",
              "    }\n",
              "</style>\n",
              "<table border=\"1\" class=\"dataframe\">\n",
              "  <thead>\n",
              "    <tr style=\"text-align: right;\">\n",
              "      <th>VB01001</th>\n",
              "      <th>1</th>\n",
              "      <th>2</th>\n",
              "    </tr>\n",
              "    <tr>\n",
              "      <th>VB11007</th>\n",
              "      <th></th>\n",
              "      <th></th>\n",
              "    </tr>\n",
              "  </thead>\n",
              "  <tbody>\n",
              "    <tr>\n",
              "      <th>1</th>\n",
              "      <td>2682</td>\n",
              "      <td>1926</td>\n",
              "    </tr>\n",
              "    <tr>\n",
              "      <th>2</th>\n",
              "      <td>3490</td>\n",
              "      <td>3430</td>\n",
              "    </tr>\n",
              "    <tr>\n",
              "      <th>3</th>\n",
              "      <td>950</td>\n",
              "      <td>857</td>\n",
              "    </tr>\n",
              "    <tr>\n",
              "      <th>4</th>\n",
              "      <td>786</td>\n",
              "      <td>1540</td>\n",
              "    </tr>\n",
              "    <tr>\n",
              "      <th>5</th>\n",
              "      <td>260</td>\n",
              "      <td>454</td>\n",
              "    </tr>\n",
              "    <tr>\n",
              "      <th>99</th>\n",
              "      <td>119</td>\n",
              "      <td>62</td>\n",
              "    </tr>\n",
              "  </tbody>\n",
              "</table>\n",
              "</div>"
            ],
            "text/plain": [
              "VB01001     1     2\n",
              "VB11007            \n",
              "1        2682  1926\n",
              "2        3490  3430\n",
              "3         950   857\n",
              "4         786  1540\n",
              "5         260   454\n",
              "99        119    62"
            ]
          },
          "metadata": {
            "tags": []
          },
          "execution_count": 36
        }
      ]
    },
    {
      "cell_type": "markdown",
      "metadata": {
        "id": "GlIXrw38VVex"
      },
      "source": [
        "Temos a tabela, na primeira coluna do 1 ao 99 é a satisfação em relação ao corpo e as colunas 1(meninos) e 2 (meninas) referente ao sexo.\r\n",
        "Vamos deixar essa tabela mais informativa."
      ]
    },
    {
      "cell_type": "code",
      "metadata": {
        "colab": {
          "base_uri": "https://localhost:8080/",
          "height": 254
        },
        "id": "AdPJyZA5VR2n",
        "outputId": "4cfcae5f-3e07-4bef-f547-b718c1a30de3"
      },
      "source": [
        "frequencia_cruzada = pd.crosstab(dados['VB11007'], dados['VB01001'])\r\n",
        "frequencia_cruzada.rename(index=respostas, inplace=True)\r\n",
        "frequencia_cruzada.rename(columns={1:'Masculino', 2:'Feminino'}, inplace=True)\r\n",
        "frequencia_cruzada"
      ],
      "execution_count": 37,
      "outputs": [
        {
          "output_type": "execute_result",
          "data": {
            "text/html": [
              "<div>\n",
              "<style scoped>\n",
              "    .dataframe tbody tr th:only-of-type {\n",
              "        vertical-align: middle;\n",
              "    }\n",
              "\n",
              "    .dataframe tbody tr th {\n",
              "        vertical-align: top;\n",
              "    }\n",
              "\n",
              "    .dataframe thead th {\n",
              "        text-align: right;\n",
              "    }\n",
              "</style>\n",
              "<table border=\"1\" class=\"dataframe\">\n",
              "  <thead>\n",
              "    <tr style=\"text-align: right;\">\n",
              "      <th>VB01001</th>\n",
              "      <th>Masculino</th>\n",
              "      <th>Feminino</th>\n",
              "    </tr>\n",
              "    <tr>\n",
              "      <th>VB11007</th>\n",
              "      <th></th>\n",
              "      <th></th>\n",
              "    </tr>\n",
              "  </thead>\n",
              "  <tbody>\n",
              "    <tr>\n",
              "      <th>Muito Satisfeito</th>\n",
              "      <td>2682</td>\n",
              "      <td>1926</td>\n",
              "    </tr>\n",
              "    <tr>\n",
              "      <th>Satisfeito</th>\n",
              "      <td>3490</td>\n",
              "      <td>3430</td>\n",
              "    </tr>\n",
              "    <tr>\n",
              "      <th>Indiferente</th>\n",
              "      <td>950</td>\n",
              "      <td>857</td>\n",
              "    </tr>\n",
              "    <tr>\n",
              "      <th>Insatisfeito</th>\n",
              "      <td>786</td>\n",
              "      <td>1540</td>\n",
              "    </tr>\n",
              "    <tr>\n",
              "      <th>Muito insatisfeito</th>\n",
              "      <td>260</td>\n",
              "      <td>454</td>\n",
              "    </tr>\n",
              "    <tr>\n",
              "      <th>Não informado</th>\n",
              "      <td>119</td>\n",
              "      <td>62</td>\n",
              "    </tr>\n",
              "  </tbody>\n",
              "</table>\n",
              "</div>"
            ],
            "text/plain": [
              "VB01001             Masculino  Feminino\n",
              "VB11007                                \n",
              "Muito Satisfeito         2682      1926\n",
              "Satisfeito               3490      3430\n",
              "Indiferente               950       857\n",
              "Insatisfeito              786      1540\n",
              "Muito insatisfeito        260       454\n",
              "Não informado             119        62"
            ]
          },
          "metadata": {
            "tags": []
          },
          "execution_count": 37
        }
      ]
    },
    {
      "cell_type": "markdown",
      "metadata": {
        "id": "3A6yNPOVWXay"
      },
      "source": [
        "Agora ficou mais simples de analisar, vemos que existem muito mais meninas insatisfeitas em relação ao corpo do que os homens."
      ]
    },
    {
      "cell_type": "code",
      "metadata": {
        "colab": {
          "base_uri": "https://localhost:8080/",
          "height": 254
        },
        "id": "LiYxPVHtVzbp",
        "outputId": "7d4e9eaf-dc7c-44f3-c6df-1e2f5ab330c7"
      },
      "source": [
        "frequencia_cruzada = pd.crosstab(dados['VB11007'], dados['VB01001'], normalize=True) *100\r\n",
        "frequencia_cruzada.rename(index=respostas, inplace=True)\r\n",
        "frequencia_cruzada.rename(columns={1:'Masculino', 2:'Feminino'}, inplace=True)\r\n",
        "frequencia_cruzada"
      ],
      "execution_count": 38,
      "outputs": [
        {
          "output_type": "execute_result",
          "data": {
            "text/html": [
              "<div>\n",
              "<style scoped>\n",
              "    .dataframe tbody tr th:only-of-type {\n",
              "        vertical-align: middle;\n",
              "    }\n",
              "\n",
              "    .dataframe tbody tr th {\n",
              "        vertical-align: top;\n",
              "    }\n",
              "\n",
              "    .dataframe thead th {\n",
              "        text-align: right;\n",
              "    }\n",
              "</style>\n",
              "<table border=\"1\" class=\"dataframe\">\n",
              "  <thead>\n",
              "    <tr style=\"text-align: right;\">\n",
              "      <th>VB01001</th>\n",
              "      <th>Masculino</th>\n",
              "      <th>Feminino</th>\n",
              "    </tr>\n",
              "    <tr>\n",
              "      <th>VB11007</th>\n",
              "      <th></th>\n",
              "      <th></th>\n",
              "    </tr>\n",
              "  </thead>\n",
              "  <tbody>\n",
              "    <tr>\n",
              "      <th>Muito Satisfeito</th>\n",
              "      <td>16.199565</td>\n",
              "      <td>11.633245</td>\n",
              "    </tr>\n",
              "    <tr>\n",
              "      <th>Satisfeito</th>\n",
              "      <td>21.079971</td>\n",
              "      <td>20.717565</td>\n",
              "    </tr>\n",
              "    <tr>\n",
              "      <th>Indiferente</th>\n",
              "      <td>5.738101</td>\n",
              "      <td>5.176371</td>\n",
              "    </tr>\n",
              "    <tr>\n",
              "      <th>Insatisfeito</th>\n",
              "      <td>4.747524</td>\n",
              "      <td>9.301764</td>\n",
              "    </tr>\n",
              "    <tr>\n",
              "      <th>Muito insatisfeito</th>\n",
              "      <td>1.570428</td>\n",
              "      <td>2.742208</td>\n",
              "    </tr>\n",
              "    <tr>\n",
              "      <th>Não informado</th>\n",
              "      <td>0.718773</td>\n",
              "      <td>0.374487</td>\n",
              "    </tr>\n",
              "  </tbody>\n",
              "</table>\n",
              "</div>"
            ],
            "text/plain": [
              "VB01001             Masculino   Feminino\n",
              "VB11007                                 \n",
              "Muito Satisfeito    16.199565  11.633245\n",
              "Satisfeito          21.079971  20.717565\n",
              "Indiferente          5.738101   5.176371\n",
              "Insatisfeito         4.747524   9.301764\n",
              "Muito insatisfeito   1.570428   2.742208\n",
              "Não informado        0.718773   0.374487"
            ]
          },
          "metadata": {
            "tags": []
          },
          "execution_count": 38
        }
      ]
    },
    {
      "cell_type": "markdown",
      "metadata": {
        "id": "ujgly5J6WqMt"
      },
      "source": [
        "O crosstab também aceita o normalize para transformar os valores em pocentagens, mas do modo que foi colocado observamos que no **total da contagem** a predominancia é para a resposta *satisfeito* sendo 21% para os meninos e 20.7% para as meninas.\r\n",
        "Só que quando estavamos comparando, queriamos comparar a proporção em relação a coluna por exemplo. Dessa forma passamos o parâmetro columns para o normalize."
      ]
    },
    {
      "cell_type": "code",
      "metadata": {
        "colab": {
          "base_uri": "https://localhost:8080/",
          "height": 254
        },
        "id": "WEEmLlnnWpOw",
        "outputId": "1477235c-fde5-43d6-e561-02d19f86e896"
      },
      "source": [
        "frequencia_cruzada = pd.crosstab(dados['VB11007'], dados['VB01001'], normalize='columns') *100\r\n",
        "frequencia_cruzada.rename(index=respostas, inplace=True)\r\n",
        "frequencia_cruzada.rename(columns={1:'Masculino', 2:'Feminino'}, inplace=True)\r\n",
        "frequencia_cruzada"
      ],
      "execution_count": 39,
      "outputs": [
        {
          "output_type": "execute_result",
          "data": {
            "text/html": [
              "<div>\n",
              "<style scoped>\n",
              "    .dataframe tbody tr th:only-of-type {\n",
              "        vertical-align: middle;\n",
              "    }\n",
              "\n",
              "    .dataframe tbody tr th {\n",
              "        vertical-align: top;\n",
              "    }\n",
              "\n",
              "    .dataframe thead th {\n",
              "        text-align: right;\n",
              "    }\n",
              "</style>\n",
              "<table border=\"1\" class=\"dataframe\">\n",
              "  <thead>\n",
              "    <tr style=\"text-align: right;\">\n",
              "      <th>VB01001</th>\n",
              "      <th>Masculino</th>\n",
              "      <th>Feminino</th>\n",
              "    </tr>\n",
              "    <tr>\n",
              "      <th>VB11007</th>\n",
              "      <th></th>\n",
              "      <th></th>\n",
              "    </tr>\n",
              "  </thead>\n",
              "  <tbody>\n",
              "    <tr>\n",
              "      <th>Muito Satisfeito</th>\n",
              "      <td>32.363944</td>\n",
              "      <td>23.291813</td>\n",
              "    </tr>\n",
              "    <tr>\n",
              "      <th>Satisfeito</th>\n",
              "      <td>42.114155</td>\n",
              "      <td>41.480227</td>\n",
              "    </tr>\n",
              "    <tr>\n",
              "      <th>Indiferente</th>\n",
              "      <td>11.463738</td>\n",
              "      <td>10.364010</td>\n",
              "    </tr>\n",
              "    <tr>\n",
              "      <th>Insatisfeito</th>\n",
              "      <td>9.484735</td>\n",
              "      <td>18.623776</td>\n",
              "    </tr>\n",
              "    <tr>\n",
              "      <th>Muito insatisfeito</th>\n",
              "      <td>3.137444</td>\n",
              "      <td>5.490386</td>\n",
              "    </tr>\n",
              "    <tr>\n",
              "      <th>Não informado</th>\n",
              "      <td>1.435984</td>\n",
              "      <td>0.749788</td>\n",
              "    </tr>\n",
              "  </tbody>\n",
              "</table>\n",
              "</div>"
            ],
            "text/plain": [
              "VB01001             Masculino   Feminino\n",
              "VB11007                                 \n",
              "Muito Satisfeito    32.363944  23.291813\n",
              "Satisfeito          42.114155  41.480227\n",
              "Indiferente         11.463738  10.364010\n",
              "Insatisfeito         9.484735  18.623776\n",
              "Muito insatisfeito   3.137444   5.490386\n",
              "Não informado        1.435984   0.749788"
            ]
          },
          "metadata": {
            "tags": []
          },
          "execution_count": 39
        }
      ]
    },
    {
      "cell_type": "markdown",
      "metadata": {
        "id": "jw4CJOZwXgzC"
      },
      "source": [
        "Agora vemos os percentuais dentro do tipo de sexo, vemos que os homens estão 9.5% insatisfeitos com o corpo, enquanto as meninas 18.6% "
      ]
    },
    {
      "cell_type": "markdown",
      "metadata": {
        "id": "S9uW1Sa4XWdi"
      },
      "source": [
        "De forma análoga fazemos para comparar as linhas com o parâmetro index."
      ]
    },
    {
      "cell_type": "code",
      "metadata": {
        "colab": {
          "base_uri": "https://localhost:8080/",
          "height": 254
        },
        "id": "dMQQHiEDXVRl",
        "outputId": "a14464d2-aa8c-4273-bd2f-016c5e5d70b0"
      },
      "source": [
        "frequencia_cruzada = pd.crosstab(dados['VB11007'], dados['VB01001'], normalize='index') *100\r\n",
        "frequencia_cruzada.rename(index=respostas, inplace=True)\r\n",
        "frequencia_cruzada.rename(columns={1:'Masculino', 2:'Feminino'}, inplace=True)\r\n",
        "frequencia_cruzada"
      ],
      "execution_count": 40,
      "outputs": [
        {
          "output_type": "execute_result",
          "data": {
            "text/html": [
              "<div>\n",
              "<style scoped>\n",
              "    .dataframe tbody tr th:only-of-type {\n",
              "        vertical-align: middle;\n",
              "    }\n",
              "\n",
              "    .dataframe tbody tr th {\n",
              "        vertical-align: top;\n",
              "    }\n",
              "\n",
              "    .dataframe thead th {\n",
              "        text-align: right;\n",
              "    }\n",
              "</style>\n",
              "<table border=\"1\" class=\"dataframe\">\n",
              "  <thead>\n",
              "    <tr style=\"text-align: right;\">\n",
              "      <th>VB01001</th>\n",
              "      <th>Masculino</th>\n",
              "      <th>Feminino</th>\n",
              "    </tr>\n",
              "    <tr>\n",
              "      <th>VB11007</th>\n",
              "      <th></th>\n",
              "      <th></th>\n",
              "    </tr>\n",
              "  </thead>\n",
              "  <tbody>\n",
              "    <tr>\n",
              "      <th>Muito Satisfeito</th>\n",
              "      <td>58.203125</td>\n",
              "      <td>41.796875</td>\n",
              "    </tr>\n",
              "    <tr>\n",
              "      <th>Satisfeito</th>\n",
              "      <td>50.433526</td>\n",
              "      <td>49.566474</td>\n",
              "    </tr>\n",
              "    <tr>\n",
              "      <th>Indiferente</th>\n",
              "      <td>52.573326</td>\n",
              "      <td>47.426674</td>\n",
              "    </tr>\n",
              "    <tr>\n",
              "      <th>Insatisfeito</th>\n",
              "      <td>33.791917</td>\n",
              "      <td>66.208083</td>\n",
              "    </tr>\n",
              "    <tr>\n",
              "      <th>Muito insatisfeito</th>\n",
              "      <td>36.414566</td>\n",
              "      <td>63.585434</td>\n",
              "    </tr>\n",
              "    <tr>\n",
              "      <th>Não informado</th>\n",
              "      <td>65.745856</td>\n",
              "      <td>34.254144</td>\n",
              "    </tr>\n",
              "  </tbody>\n",
              "</table>\n",
              "</div>"
            ],
            "text/plain": [
              "VB01001             Masculino   Feminino\n",
              "VB11007                                 \n",
              "Muito Satisfeito    58.203125  41.796875\n",
              "Satisfeito          50.433526  49.566474\n",
              "Indiferente         52.573326  47.426674\n",
              "Insatisfeito        33.791917  66.208083\n",
              "Muito insatisfeito  36.414566  63.585434\n",
              "Não informado       65.745856  34.254144"
            ]
          },
          "metadata": {
            "tags": []
          },
          "execution_count": 40
        }
      ]
    },
    {
      "cell_type": "markdown",
      "metadata": {
        "id": "w7QX_OLsX1aL"
      },
      "source": [
        "Analisando as linhas, das pessoas que estão insatisfeitas com o corpo, 33.79% são homens e 66.2% mulheres."
      ]
    },
    {
      "cell_type": "markdown",
      "metadata": {
        "id": "11Cb3-OQYUgk"
      },
      "source": [
        "#Desafio 6: Criar outros tipos de crosstab para análises e, além disso, pesquisar sobre o parâmetro aggfunc na documentação do crosstab e testar."
      ]
    },
    {
      "cell_type": "markdown",
      "metadata": {
        "id": "efHr1sv7jcMF"
      },
      "source": [
        "Observando o peso em relação ao sexo do participante."
      ]
    },
    {
      "cell_type": "code",
      "metadata": {
        "colab": {
          "base_uri": "https://localhost:8080/",
          "height": 225
        },
        "id": "nDW5f01Eg4wF",
        "outputId": "26ed8f14-07fc-416e-e3af-3807c830221c"
      },
      "source": [
        "peso_sexo = pd.crosstab(dados['CLASSE_IMC'], dados['VB01001'], normalize='index')*100\r\n",
        "peso_sexo.rename(columns={1:'Masculino', 2:'Feminino'}, inplace=True)\r\n",
        "peso_sexo"
      ],
      "execution_count": 41,
      "outputs": [
        {
          "output_type": "execute_result",
          "data": {
            "text/html": [
              "<div>\n",
              "<style scoped>\n",
              "    .dataframe tbody tr th:only-of-type {\n",
              "        vertical-align: middle;\n",
              "    }\n",
              "\n",
              "    .dataframe tbody tr th {\n",
              "        vertical-align: top;\n",
              "    }\n",
              "\n",
              "    .dataframe thead th {\n",
              "        text-align: right;\n",
              "    }\n",
              "</style>\n",
              "<table border=\"1\" class=\"dataframe\">\n",
              "  <thead>\n",
              "    <tr style=\"text-align: right;\">\n",
              "      <th>VB01001</th>\n",
              "      <th>Masculino</th>\n",
              "      <th>Feminino</th>\n",
              "    </tr>\n",
              "    <tr>\n",
              "      <th>CLASSE_IMC</th>\n",
              "      <th></th>\n",
              "      <th></th>\n",
              "    </tr>\n",
              "  </thead>\n",
              "  <tbody>\n",
              "    <tr>\n",
              "      <th>abaixo</th>\n",
              "      <td>52.663317</td>\n",
              "      <td>47.336683</td>\n",
              "    </tr>\n",
              "    <tr>\n",
              "      <th>normal</th>\n",
              "      <td>49.107532</td>\n",
              "      <td>50.892468</td>\n",
              "    </tr>\n",
              "    <tr>\n",
              "      <th>sobrepeso</th>\n",
              "      <td>47.613636</td>\n",
              "      <td>52.386364</td>\n",
              "    </tr>\n",
              "    <tr>\n",
              "      <th>obesidade grau I</th>\n",
              "      <td>50.204918</td>\n",
              "      <td>49.795082</td>\n",
              "    </tr>\n",
              "    <tr>\n",
              "      <th>obesidade grau II</th>\n",
              "      <td>49.655172</td>\n",
              "      <td>50.344828</td>\n",
              "    </tr>\n",
              "  </tbody>\n",
              "</table>\n",
              "</div>"
            ],
            "text/plain": [
              "VB01001            Masculino   Feminino\n",
              "CLASSE_IMC                             \n",
              "abaixo             52.663317  47.336683\n",
              "normal             49.107532  50.892468\n",
              "sobrepeso          47.613636  52.386364\n",
              "obesidade grau I   50.204918  49.795082\n",
              "obesidade grau II  49.655172  50.344828"
            ]
          },
          "metadata": {
            "tags": []
          },
          "execution_count": 41
        }
      ]
    },
    {
      "cell_type": "markdown",
      "metadata": {
        "id": "ayQ-QO6PlImp"
      },
      "source": [
        "Vemos que mais estudantes do sexo masculino estão abaixo do peso."
      ]
    },
    {
      "cell_type": "markdown",
      "metadata": {
        "id": "ApQ4LA7KjQ0F"
      },
      "source": [
        "Respostas em relação a amigos que utilizam drogas"
      ]
    },
    {
      "cell_type": "code",
      "metadata": {
        "colab": {
          "base_uri": "https://localhost:8080/",
          "height": 314
        },
        "id": "R9Qr9TVBgi_3",
        "outputId": "f0ba5000-2551-40a3-aa91-4cb066d75e89"
      },
      "source": [
        "respostas = {-1:'Pulo no questionário',\r\n",
        "             1:'Nenhum',\r\n",
        "             2:'Poucos',\r\n",
        "             3:'Alguns',\r\n",
        "             4:'A maioria',\r\n",
        "             5:'Todos',\r\n",
        "             6:'Não sei',\r\n",
        "             99:'Não informado'}\r\n",
        "amigos_drogas = pd.crosstab(dados['VB06006'], dados['VB01001'], normalize='index')*100\r\n",
        "amigos_drogas.rename(index=respostas, inplace=True)\r\n",
        "amigos_drogas.rename_axis('Amigos que usam drogas', inplace=True)\r\n",
        "amigos_drogas.rename(columns={1:'Masculino', 2:'Feminino'}, inplace=True)\r\n",
        "amigos_drogas"
      ],
      "execution_count": 42,
      "outputs": [
        {
          "output_type": "execute_result",
          "data": {
            "text/html": [
              "<div>\n",
              "<style scoped>\n",
              "    .dataframe tbody tr th:only-of-type {\n",
              "        vertical-align: middle;\n",
              "    }\n",
              "\n",
              "    .dataframe tbody tr th {\n",
              "        vertical-align: top;\n",
              "    }\n",
              "\n",
              "    .dataframe thead th {\n",
              "        text-align: right;\n",
              "    }\n",
              "</style>\n",
              "<table border=\"1\" class=\"dataframe\">\n",
              "  <thead>\n",
              "    <tr style=\"text-align: right;\">\n",
              "      <th>VB01001</th>\n",
              "      <th>Masculino</th>\n",
              "      <th>Feminino</th>\n",
              "    </tr>\n",
              "    <tr>\n",
              "      <th>Amigos que usam drogas</th>\n",
              "      <th></th>\n",
              "      <th></th>\n",
              "    </tr>\n",
              "  </thead>\n",
              "  <tbody>\n",
              "    <tr>\n",
              "      <th>Pulo no questionário</th>\n",
              "      <td>47.450064</td>\n",
              "      <td>52.549936</td>\n",
              "    </tr>\n",
              "    <tr>\n",
              "      <th>Nenhum</th>\n",
              "      <td>51.198732</td>\n",
              "      <td>48.801268</td>\n",
              "    </tr>\n",
              "    <tr>\n",
              "      <th>Poucos</th>\n",
              "      <td>53.843227</td>\n",
              "      <td>46.156773</td>\n",
              "    </tr>\n",
              "    <tr>\n",
              "      <th>Alguns</th>\n",
              "      <td>48.424069</td>\n",
              "      <td>51.575931</td>\n",
              "    </tr>\n",
              "    <tr>\n",
              "      <th>A maioria</th>\n",
              "      <td>45.304778</td>\n",
              "      <td>54.695222</td>\n",
              "    </tr>\n",
              "    <tr>\n",
              "      <th>Todos</th>\n",
              "      <td>66.315789</td>\n",
              "      <td>33.684211</td>\n",
              "    </tr>\n",
              "    <tr>\n",
              "      <th>Não sei</th>\n",
              "      <td>49.970571</td>\n",
              "      <td>50.029429</td>\n",
              "    </tr>\n",
              "    <tr>\n",
              "      <th>Não informado</th>\n",
              "      <td>79.310345</td>\n",
              "      <td>20.689655</td>\n",
              "    </tr>\n",
              "  </tbody>\n",
              "</table>\n",
              "</div>"
            ],
            "text/plain": [
              "VB01001                 Masculino   Feminino\n",
              "Amigos que usam drogas                      \n",
              "Pulo no questionário    47.450064  52.549936\n",
              "Nenhum                  51.198732  48.801268\n",
              "Poucos                  53.843227  46.156773\n",
              "Alguns                  48.424069  51.575931\n",
              "A maioria               45.304778  54.695222\n",
              "Todos                   66.315789  33.684211\n",
              "Não sei                 49.970571  50.029429\n",
              "Não informado           79.310345  20.689655"
            ]
          },
          "metadata": {
            "tags": []
          },
          "execution_count": 42
        }
      ]
    },
    {
      "cell_type": "markdown",
      "metadata": {
        "id": "NrUJkUEknwR8"
      },
      "source": [
        "Dessa análise observamos que entre estudantes do sexo masculino 66.3% responderam que Todos os amigos utilizam drogas, frente a 33.68% das estudantes do sexo feminino.\r\n",
        "Também é notável o alto número de estudantes do sexo masculino que Não informaram se os amigos usam ou não drogas. Por hipótese isso pode significar medo de responder a essa questão."
      ]
    },
    {
      "cell_type": "markdown",
      "metadata": {
        "id": "3rJKk58ZvodO"
      },
      "source": [
        "##Respondendo ao desafio com aggfunc"
      ]
    },
    {
      "cell_type": "markdown",
      "metadata": {
        "id": "VX-jhX0vpBBL"
      },
      "source": [
        "Verificando a relação dos estudantes que utilizaram algum tipo de droga ilícita nos últimos 30 dias por sexo em relação a média de idade em que experimentaram pela primeira vez alguma droga."
      ]
    },
    {
      "cell_type": "code",
      "metadata": {
        "colab": {
          "base_uri": "https://localhost:8080/",
          "height": 254
        },
        "id": "l7eS8QsVj-XV",
        "outputId": "5c3ce5f7-cc2e-457c-dec1-3f3ea7b0708e"
      },
      "source": [
        "respostas = {-1:'Pulo no questionário',\r\n",
        "             1:'Nenhum nos últimos 30 dias',\r\n",
        "             2:'1 ou 2 dias nos ultimos 30 dias',\r\n",
        "             3:'3 a 5 dias nos ultimos 30 dias',\r\n",
        "             4:'6 a 9 dias nos ultimos 30 dias',\r\n",
        "             5:'10 ou mais dias nos ultimos 30 dias',\r\n",
        "             99:'Não informado'}\r\n",
        "\r\n",
        "#utilizei dados[(dados['VB06002']>1) & (dados['VB06002']<99)]['VB06002']\r\n",
        "#para excluir aqueles alunos que pularam o questionário pois ficaram identificados\r\n",
        "#com a idade = -1 e aqueles que não informaram que ficaram com idade = 99\r\n",
        "drogas = pd.crosstab(dados['VB06003A'], dados['VB01001'], \r\n",
        "                     values=dados[(dados['VB06002']>1) & (dados['VB06002']<99)]\r\n",
        "                     ['VB06002'], aggfunc='mean')\r\n",
        "drogas.rename(index=respostas, inplace=True)\r\n",
        "drogas.rename_axis('Uso de drogas', inplace=True)\r\n",
        "drogas.rename(columns={1:'Masculino', 2:'Feminino'}, inplace=True)\r\n",
        "drogas"
      ],
      "execution_count": 43,
      "outputs": [
        {
          "output_type": "execute_result",
          "data": {
            "text/html": [
              "<div>\n",
              "<style scoped>\n",
              "    .dataframe tbody tr th:only-of-type {\n",
              "        vertical-align: middle;\n",
              "    }\n",
              "\n",
              "    .dataframe tbody tr th {\n",
              "        vertical-align: top;\n",
              "    }\n",
              "\n",
              "    .dataframe thead th {\n",
              "        text-align: right;\n",
              "    }\n",
              "</style>\n",
              "<table border=\"1\" class=\"dataframe\">\n",
              "  <thead>\n",
              "    <tr style=\"text-align: right;\">\n",
              "      <th>VB01001</th>\n",
              "      <th>Masculino</th>\n",
              "      <th>Feminino</th>\n",
              "    </tr>\n",
              "    <tr>\n",
              "      <th>Uso de drogas</th>\n",
              "      <th></th>\n",
              "      <th></th>\n",
              "    </tr>\n",
              "  </thead>\n",
              "  <tbody>\n",
              "    <tr>\n",
              "      <th>Nenhum nos últimos 30 dias</th>\n",
              "      <td>14.306604</td>\n",
              "      <td>14.231844</td>\n",
              "    </tr>\n",
              "    <tr>\n",
              "      <th>1 ou 2 dias nos ultimos 30 dias</th>\n",
              "      <td>14.392157</td>\n",
              "      <td>14.237805</td>\n",
              "    </tr>\n",
              "    <tr>\n",
              "      <th>3 a 5 dias nos ultimos 30 dias</th>\n",
              "      <td>13.603774</td>\n",
              "      <td>13.844444</td>\n",
              "    </tr>\n",
              "    <tr>\n",
              "      <th>6 a 9 dias nos ultimos 30 dias</th>\n",
              "      <td>14.026316</td>\n",
              "      <td>13.869565</td>\n",
              "    </tr>\n",
              "    <tr>\n",
              "      <th>10 ou mais dias nos ultimos 30 dias</th>\n",
              "      <td>13.099099</td>\n",
              "      <td>13.409091</td>\n",
              "    </tr>\n",
              "    <tr>\n",
              "      <th>Não informado</th>\n",
              "      <td>13.500000</td>\n",
              "      <td>10.000000</td>\n",
              "    </tr>\n",
              "  </tbody>\n",
              "</table>\n",
              "</div>"
            ],
            "text/plain": [
              "VB01001                              Masculino   Feminino\n",
              "Uso de drogas                                            \n",
              "Nenhum nos últimos 30 dias           14.306604  14.231844\n",
              "1 ou 2 dias nos ultimos 30 dias      14.392157  14.237805\n",
              "3 a 5 dias nos ultimos 30 dias       13.603774  13.844444\n",
              "6 a 9 dias nos ultimos 30 dias       14.026316  13.869565\n",
              "10 ou mais dias nos ultimos 30 dias  13.099099  13.409091\n",
              "Não informado                        13.500000  10.000000"
            ]
          },
          "metadata": {
            "tags": []
          },
          "execution_count": 43
        }
      ]
    },
    {
      "cell_type": "markdown",
      "metadata": {
        "id": "io1yfO92ujd6"
      },
      "source": [
        "Note que a média de idade de alunos que iniciaram o uso de alguma substância ilícia e continuaram usando no mês da pesquisa fica entre 13 e 14 anos."
      ]
    },
    {
      "cell_type": "markdown",
      "metadata": {
        "id": "0lc51jUpvu9l"
      },
      "source": [
        "#Aula 4 - Histograma e Boxplot"
      ]
    },
    {
      "cell_type": "markdown",
      "metadata": {
        "id": "q4S-erte4rCm"
      },
      "source": [
        "Estamos descrevendo nossos dados até aqui de maneira tabular, mas temos opções gráficas."
      ]
    },
    {
      "cell_type": "markdown",
      "metadata": {
        "id": "3yP_ub7H75gA"
      },
      "source": [
        "Curiosidade uso do np.histogram_bin_edges()"
      ]
    },
    {
      "cell_type": "code",
      "metadata": {
        "colab": {
          "base_uri": "https://localhost:8080/"
        },
        "id": "iXdqhx4m7_Jq",
        "outputId": "bdd07052-d6d3-4ddf-ed85-f6476c9edd01"
      },
      "source": [
        "len(np.histogram_bin_edges(dados['VB17004'], bins='sturges'))"
      ],
      "execution_count": 44,
      "outputs": [
        {
          "output_type": "execute_result",
          "data": {
            "text/plain": [
              "17"
            ]
          },
          "metadata": {
            "tags": []
          },
          "execution_count": 44
        }
      ]
    },
    {
      "cell_type": "markdown",
      "metadata": {
        "id": "X5w67kvs4xbV"
      },
      "source": [
        "##Histogramas e distribuições"
      ]
    },
    {
      "cell_type": "code",
      "metadata": {
        "id": "11BRuk60vzG_",
        "colab": {
          "base_uri": "https://localhost:8080/",
          "height": 404
        },
        "outputId": "3d92f522-cc9f-4e9f-fd3b-a6a1e331051f"
      },
      "source": [
        "import seaborn as sns\r\n",
        "#plotando o histograma da altura\r\n",
        "ax = sns.histplot(data = dados, x = 'VB17004', kde=True)\r\n",
        "#definindo o tamanho do plot\r\n",
        "ax.figure.set_size_inches(12,6)\r\n",
        "#setando título e label x\r\n",
        "ax.set_title('Distribuição de Frequência')\r\n",
        "ax.set_xlabel('Altura')\r\n",
        "ax;"
      ],
      "execution_count": 45,
      "outputs": [
        {
          "output_type": "display_data",
          "data": {
            "image/png": "[encoded data removed]",
            "text/plain": [
              "<Figure size 864x432 with 1 Axes>"
            ]
          },
          "metadata": {
            "tags": [],
            "needs_background": "light"
          }
        }
      ]
    },
    {
      "cell_type": "markdown",
      "metadata": {
        "id": "yNHfV3mI8X99"
      },
      "source": [
        "Vendo o histograma da altura entre os estudantes do sexo masculino e feminino. (incluindo o hue)"
      ]
    },
    {
      "cell_type": "code",
      "metadata": {
        "colab": {
          "base_uri": "https://localhost:8080/",
          "height": 404
        },
        "id": "-pKBhG2P8XNG",
        "outputId": "3417fdc5-cba9-4fa8-bedb-09fb89cd0e7c"
      },
      "source": [
        "#plotando o histograma da altura\r\n",
        "ax = sns.histplot(data = dados, x = 'VB17004', kde=True, hue='VB01001')\r\n",
        "#definindo o tamanho do plot\r\n",
        "ax.figure.set_size_inches(12,6)\r\n",
        "#setando título e label x\r\n",
        "ax.set_title('Distribuição de Frequência')\r\n",
        "ax.set_xlabel('Altura')\r\n",
        "ax;"
      ],
      "execution_count": 46,
      "outputs": [
        {
          "output_type": "display_data",
          "data": {
            "image/png": "[encoded data removed]",
            "text/plain": [
              "<Figure size 864x432 with 1 Axes>"
            ]
          },
          "metadata": {
            "tags": [],
            "needs_background": "light"
          }
        }
      ]
    },
    {
      "cell_type": "markdown",
      "metadata": {
        "id": "pu7-z1tV8syj"
      },
      "source": [
        "Note que temos uma curva normal (simetrica) para as estudantes do sexo feminino enquanto os alunos do sexo masculino possuem uma assimetria a esquerda."
      ]
    },
    {
      "cell_type": "code",
      "metadata": {
        "colab": {
          "base_uri": "https://localhost:8080/",
          "height": 404
        },
        "id": "zkVOKgop9YUJ",
        "outputId": "36a4af72-0404-4b00-ef31-31e175c963d9"
      },
      "source": [
        "#plotando o histograma da altura\r\n",
        "ax = sns.histplot(data = dados, x = 'VB17004', kde=True, hue='VB01003')\r\n",
        "#definindo o tamanho do plot\r\n",
        "ax.figure.set_size_inches(12,6)\r\n",
        "#setando título e label x\r\n",
        "ax.set_title('Distribuição de Frequência')\r\n",
        "ax.set_xlabel('Altura')\r\n",
        "ax;"
      ],
      "execution_count": 47,
      "outputs": [
        {
          "output_type": "display_data",
          "data": {
            "image/png": "[encoded data removed]",
            "text/plain": [
              "<Figure size 864x432 with 1 Axes>"
            ]
          },
          "metadata": {
            "tags": [],
            "needs_background": "light"
          }
        }
      ]
    },
    {
      "cell_type": "markdown",
      "metadata": {
        "id": "RQ6Hiw9j9Ml3"
      },
      "source": [
        "O histograma pode trazer boas informações, no entanto, ele possui certas limitações, como quando, por exemplo, precisamos analisar diversas variáveis, como a idade."
      ]
    },
    {
      "cell_type": "markdown",
      "metadata": {
        "id": "4HwOktsS5tji"
      },
      "source": [
        "###Desafio 7: Calcular o desvio padrão, média, moda e mediana e plotar no gráfico."
      ]
    },
    {
      "cell_type": "markdown",
      "metadata": {
        "id": "LJhPR4FKKcGi"
      },
      "source": [
        "Primeiro vamos identificar o intervalo de plot do desvio padrão."
      ]
    },
    {
      "cell_type": "code",
      "metadata": {
        "id": "VJPWBDczKZOj"
      },
      "source": [
        "#Calculando o devio padrão acima e abaixo da média.\r\n",
        "desvio_acima = dados['VB17004'].mean() + dados['VB17004'].std()\r\n",
        "desvio_abaixo = dados['VB17004'].mean() - dados['VB17004'].std()"
      ],
      "execution_count": 63,
      "outputs": []
    },
    {
      "cell_type": "code",
      "metadata": {
        "colab": {
          "base_uri": "https://localhost:8080/",
          "height": 404
        },
        "id": "9DMihHG7-eFR",
        "outputId": "cf580fb1-39eb-4797-f463-4a9569a5335d"
      },
      "source": [
        "import matplotlib.pyplot as plt\r\n",
        "#plotando o histograma da altura\r\n",
        "ax = sns.histplot(data = dados, x = 'VB17004', kde=True)\r\n",
        "#definindo o tamanho do plot\r\n",
        "ax.figure.set_size_inches(12,6)\r\n",
        "#setando título e label x\r\n",
        "ax.set_title('Distribuição de Frequência')\r\n",
        "ax.set_xlabel('Altura')\r\n",
        "ax.vlines(dados['VB17004'].mean(), ymin=0, ymax=900, color='r', label='Média')\r\n",
        "ax.vlines(dados['VB17004'].median(), ymin=0, ymax=900, color='g',label='Mediana')\r\n",
        "ax.vlines(dados['VB17004'].mode(), ymin=0, ymax=900, color='y', label='Moda')\r\n",
        "ax.axvspan(desvio_abaixo, desvio_acima, facecolor=(0.8,0.8,1), alpha=0.5, label=\"Desvio Padrão\")\r\n",
        "plt.legend()\r\n",
        "ax;"
      ],
      "execution_count": 95,
      "outputs": [
        {
          "output_type": "display_data",
          "data": {
            "image/png": "[encoded data removed]",
            "text/plain": [
              "<Figure size 864x432 with 1 Axes>"
            ]
          },
          "metadata": {
            "tags": [],
            "needs_background": "light"
          }
        }
      ]
    },
    {
      "cell_type": "markdown",
      "metadata": {
        "id": "2rey3UD595Zd"
      },
      "source": [
        "###Desafio 8: Fazer a análise com o histograma para outras informações da base de dados."
      ]
    },
    {
      "cell_type": "code",
      "metadata": {
        "colab": {
          "base_uri": "https://localhost:8080/",
          "height": 404
        },
        "id": "6_qNAHh5CTA2",
        "outputId": "ad51eb1b-e52f-415b-e273-3b0badeccabc"
      },
      "source": [
        "import matplotlib.pyplot as plt\r\n",
        "#plotando o histograma da altura\r\n",
        "ax = sns.histplot(data = dados, x = 'IMC', kde=True)\r\n",
        "#definindo o tamanho do plot\r\n",
        "ax.figure.set_size_inches(12,6)\r\n",
        "#setando título e label x\r\n",
        "ax.set_title('Distribuição de Frequência')\r\n",
        "ax.set_xlabel('IMC')\r\n",
        "ax;"
      ],
      "execution_count": 49,
      "outputs": [
        {
          "output_type": "display_data",
          "data": {
            "image/png": "[encoded data removed]",
            "text/plain": [
              "<Figure size 864x432 with 1 Axes>"
            ]
          },
          "metadata": {
            "tags": [],
            "needs_background": "light"
          }
        }
      ]
    },
    {
      "cell_type": "markdown",
      "metadata": {
        "id": "zaZ5EQtX89v8"
      },
      "source": [
        "##Boxplot e separatrizes"
      ]
    },
    {
      "cell_type": "code",
      "metadata": {
        "colab": {
          "base_uri": "https://localhost:8080/",
          "height": 404
        },
        "id": "Q5PsOUVm7ZVX",
        "outputId": "b259463b-3620-47ca-b50f-8819b9a78688"
      },
      "source": [
        "ax = sns.boxplot(data = dados, x='VB17004')\r\n",
        "ax.figure.set_size_inches(12,6)\r\n",
        "ax.set_title('Boxplot da altura')\r\n",
        "ax.set_xlabel('Altura')\r\n",
        "ax;"
      ],
      "execution_count": 50,
      "outputs": [
        {
          "output_type": "display_data",
          "data": {
            "image/png": "[encoded data removed]",
            "text/plain": [
              "<Figure size 864x432 with 1 Axes>"
            ]
          },
          "metadata": {
            "tags": [],
            "needs_background": "light"
          }
        }
      ]
    },
    {
      "cell_type": "markdown",
      "metadata": {
        "id": "glu2IYZsFmPz"
      },
      "source": [
        "O boxplot mostra diversas medidas estatísticas, os quartis (separatrizes):\r\n",
        "- O traço maior ao centro da caixa azul é a mediana.\r\n",
        "- A primeira linha da caixa do lado esquerdo é o primeiro quartil (separa os primeiros 25% do restante)\r\n",
        "- A segunda linha da caixa do lado direito é o terceiro quartil (separa os 75% do restante)\r\n",
        "- A linha no extremo esquerdo são valores mínimos.\r\n",
        "- A linha na extrema direita são valores máximos.\r\n",
        "Os pontos além das extremidades representam outliers."
      ]
    },
    {
      "cell_type": "code",
      "metadata": {
        "colab": {
          "base_uri": "https://localhost:8080/"
        },
        "id": "z5LZ6El0AQ5P",
        "outputId": "a1703425-cc56-4776-a091-422a69624b47"
      },
      "source": [
        "print('Primeiro quartil -', dados['VB17004'].quantile(0.25))\r\n",
        "print('Mediana -', dados['VB17004'].quantile(0.50))\r\n",
        "print('Terceiro quartil -', dados['VB17004'].quantile(0.75))"
      ],
      "execution_count": 51,
      "outputs": [
        {
          "output_type": "stream",
          "text": [
            "Primeiro quartil - 153.8\n",
            "Mediana - 160.4\n",
            "Terceiro quartil - 167.9\n"
          ],
          "name": "stdout"
        }
      ]
    },
    {
      "cell_type": "markdown",
      "metadata": {
        "id": "yxipf06DIGPa"
      },
      "source": [
        "##Desafio 9: Pesquisar como é determinado os valores de outliers no boxplot do seaborn"
      ]
    },
    {
      "cell_type": "code",
      "metadata": {
        "colab": {
          "base_uri": "https://localhost:8080/"
        },
        "id": "BJhnxZJgGIis",
        "outputId": "7797a6d6-983b-42f3-9175-25fb65930299"
      },
      "source": [
        "primeiro_quartil = dados['VB17004'].quantile(0.25)\r\n",
        "terceiro_quartil = dados['VB17004'].quantile(0.75)\r\n",
        "limite_inferior = primeiro_quartil - 1.5 *(terceiro_quartil - primeiro_quartil)\r\n",
        "limite_superior = terceiro_quartil + 1.5 *(terceiro_quartil - primeiro_quartil)\r\n",
        "print(limite_inferior)\r\n",
        "print(limite_superior)"
      ],
      "execution_count": 52,
      "outputs": [
        {
          "output_type": "stream",
          "text": [
            "132.65000000000003\n",
            "189.05\n"
          ],
          "name": "stdout"
        }
      ]
    },
    {
      "cell_type": "code",
      "metadata": {
        "colab": {
          "base_uri": "https://localhost:8080/",
          "height": 404
        },
        "id": "5s34LJeHJNhx",
        "outputId": "d4e660a7-f506-4398-ec9b-ab700a132a7e"
      },
      "source": [
        "ax = sns.boxplot(data = dados, x='VB17004', y='VB01001', orient='h')\r\n",
        "ax.figure.set_size_inches(12,6)\r\n",
        "ax.set_title('Boxplot da altura')\r\n",
        "ax.set_xlabel('Altura')\r\n",
        "ax.set_ylabel('Sexo')\r\n",
        "ax;"
      ],
      "execution_count": 53,
      "outputs": [
        {
          "output_type": "display_data",
          "data": {
            "image/png": "[encoded data removed]",
            "text/plain": [
              "<Figure size 864x432 with 1 Axes>"
            ]
          },
          "metadata": {
            "tags": [],
            "needs_background": "light"
          }
        }
      ]
    },
    {
      "cell_type": "code",
      "metadata": {
        "colab": {
          "base_uri": "https://localhost:8080/",
          "height": 404
        },
        "id": "zID4GV3tLlnf",
        "outputId": "f27a39b3-9805-427a-bc53-d025f0a3a91e"
      },
      "source": [
        "#Vizualizando a altura por idade.\r\n",
        "ax = sns.boxplot(data = dados, x='VB01003', y='VB17004')\r\n",
        "ax.figure.set_size_inches(12,6)\r\n",
        "ax.set_title('Boxplot da altura')\r\n",
        "ax.set_xlabel('Idade')\r\n",
        "ax.set_ylabel('Altura')\r\n",
        "ax;"
      ],
      "execution_count": 54,
      "outputs": [
        {
          "output_type": "display_data",
          "data": {
            "image/png": "[encoded data removed]",
            "text/plain": [
              "<Figure size 864x432 with 1 Axes>"
            ]
          },
          "metadata": {
            "tags": [],
            "needs_background": "light"
          }
        }
      ]
    },
    {
      "cell_type": "markdown",
      "metadata": {
        "id": "393cOdEdMqjV"
      },
      "source": [
        "Agora, ao contrário do histograma, conseguimos analizar a altura pela idade dos escolares, facilitando e muito a análise. Percebemos que existe uma tendência de subida no crescimento até aos 16 anos e então entra em um platô."
      ]
    },
    {
      "cell_type": "code",
      "metadata": {
        "colab": {
          "base_uri": "https://localhost:8080/",
          "height": 404
        },
        "id": "f9R5rJ2pMlAW",
        "outputId": "5ccc8ae5-f5d3-40d2-9d76-b7c4214d489e"
      },
      "source": [
        "#Vizualizando a altura por idade e sexo.\r\n",
        "ax = sns.boxplot(data = dados, x='VB01003', y='VB17004', hue='VB01001')\r\n",
        "ax.figure.set_size_inches(12,6)\r\n",
        "ax.set_title('Boxplot da altura')\r\n",
        "ax.set_xlabel('Idade')\r\n",
        "ax.set_ylabel('Altura')\r\n",
        "ax;"
      ],
      "execution_count": 55,
      "outputs": [
        {
          "output_type": "display_data",
          "data": {
            "image/png": "[encoded data removed]",
            "text/plain": [
              "<Figure size 864x432 with 1 Axes>"
            ]
          },
          "metadata": {
            "tags": [],
            "needs_background": "light"
          }
        }
      ]
    },
    {
      "cell_type": "markdown",
      "metadata": {
        "id": "8cEI8ZHIO8u9"
      },
      "source": [
        "Aparentemente após os 15 anos a diferença da altura entre pessoas do sexo masculino e feminino aumenta. Percebemos também que a aceleração de crescimento dos alunos do sexo masculino é bem mais acentuada do que a das alunas."
      ]
    },
    {
      "cell_type": "markdown",
      "metadata": {
        "id": "QP6oUQN0PuAF"
      },
      "source": [
        "##Histograma acumulado"
      ]
    },
    {
      "cell_type": "code",
      "metadata": {
        "colab": {
          "base_uri": "https://localhost:8080/",
          "height": 404
        },
        "id": "W1p5SsE8OT-Y",
        "outputId": "5f4d65ba-db11-447d-eed0-18c788f1ac36"
      },
      "source": [
        "ax = sns.histplot(data = dados, x = 'VB17004', kde=True, cumulative=True, stat='density')\r\n",
        "ax.figure.set_size_inches(12,6)\r\n",
        "ax.set_title('Histograma Acumulado')\r\n",
        "ax.set_xlabel('Altura')\r\n",
        "ax;"
      ],
      "execution_count": 56,
      "outputs": [
        {
          "output_type": "display_data",
          "data": {
            "image/png": "[encoded data removed]",
            "text/plain": [
              "<Figure size 864x432 with 1 Axes>"
            ]
          },
          "metadata": {
            "tags": [],
            "needs_background": "light"
          }
        }
      ]
    },
    {
      "cell_type": "markdown",
      "metadata": {
        "id": "X_EKAeCBQWoK"
      },
      "source": [
        "Nesse histograma conseguimos analisar que 20% da população tem 1.52 aproximadamente de altura, já 80% possui aproximadamente 1.70."
      ]
    },
    {
      "cell_type": "code",
      "metadata": {
        "colab": {
          "base_uri": "https://localhost:8080/"
        },
        "id": "3rw6yqSNPsI2",
        "outputId": "86e5528c-7da9-466d-eca8-c7c6df2216de"
      },
      "source": [
        "dados['VB17004'].quantile(0.8)"
      ],
      "execution_count": 57,
      "outputs": [
        {
          "output_type": "execute_result",
          "data": {
            "text/plain": [
              "169.7"
            ]
          },
          "metadata": {
            "tags": []
          },
          "execution_count": 57
        }
      ]
    },
    {
      "cell_type": "code",
      "metadata": {
        "colab": {
          "base_uri": "https://localhost:8080/"
        },
        "id": "zdFSOA50Quf9",
        "outputId": "b7cab742-4a80-4a38-9aac-5c662698fb1f"
      },
      "source": [
        "dados['VB17004'].quantile(0.2)"
      ],
      "execution_count": 58,
      "outputs": [
        {
          "output_type": "execute_result",
          "data": {
            "text/plain": [
              "152.0"
            ]
          },
          "metadata": {
            "tags": []
          },
          "execution_count": 58
        }
      ]
    },
    {
      "cell_type": "markdown",
      "metadata": {
        "id": "CsrCnTXaQ8Mo"
      },
      "source": [
        "#Aula 5 - Medida de centralidade e dispersão"
      ]
    },
    {
      "cell_type": "code",
      "metadata": {
        "id": "oTKHfIqpQ2Bl"
      },
      "source": [
        ""
      ],
      "execution_count": 58,
      "outputs": []
    }
  ]
}
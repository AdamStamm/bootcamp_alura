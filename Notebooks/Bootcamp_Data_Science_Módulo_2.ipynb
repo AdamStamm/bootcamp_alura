{
  "nbformat": 4,
  "nbformat_minor": 0,
  "metadata": {
    "colab": {
      "name": "Bootcamp Data Science - Módulo 2",
      "provenance": [],
      "collapsed_sections": [],
      "toc_visible": true,
      "authorship_tag": "ABX9TyPt01bFimqxXGbjeL3FmP20",
      "include_colab_link": true
    },
    "kernelspec": {
      "name": "python3",
      "display_name": "Python 3"
    }
  },
  "cells": [
    {
      "cell_type": "markdown",
      "metadata": {
        "id": "view-in-github",
        "colab_type": "text"
      },
      "source": [
        "<a href=\"https://colab.research.google.com/github/AdamStamm/bootcamp_alura/blob/main/Notebooks/Bootcamp_Data_Science_M%C3%B3dulo_2.ipynb\" target=\"_parent\"><img src=\"https://colab.research.google.com/assets/colab-badge.svg\" alt=\"Open In Colab\"/></a>"
      ]
    },
    {
      "cell_type": "markdown",
      "metadata": {
        "id": "EDnrc1a6OcXv"
      },
      "source": [
        "#Apresentação\n",
        "\n",
        "Esse notebook contempla os códigos aprendidos no **Módulo 2** do Bootcamp Data Science aplicada desenvolvido pela Alura. O foco de aprendizado é **Visualização de Dados com Seaborn e Matplotlib**."
      ]
    },
    {
      "cell_type": "markdown",
      "metadata": {
        "id": "PVreNnGUVMmU"
      },
      "source": [
        "##Importando bibliotecas necessárias para manipulação de dados"
      ]
    },
    {
      "cell_type": "code",
      "metadata": {
        "id": "OAHIzOfSOb96"
      },
      "source": [
        "import pandas as pd\n",
        "import matplotlib.pyplot as plt\n",
        "import matplotlib.ticker as ticker"
      ],
      "execution_count": 45,
      "outputs": []
    },
    {
      "cell_type": "markdown",
      "metadata": {
        "id": "IPMOgHZPVZxE"
      },
      "source": [
        "##Carregando dados\n",
        "\n",
        "**Os dados estão disponíveis no github da alura através do link:** \n",
        "https://github.com/alura-cursos/agendamento-hospitalar/tree/main/dados\n",
        "\n",
        "*Inicialmente será utilizado o mesmo conjunto de dados da aula 2 do módulo 1"
      ]
    },
    {
      "cell_type": "code",
      "metadata": {
        "colab": {
          "base_uri": "https://localhost:8080/",
          "height": 362
        },
        "id": "inLjqMojVWlF",
        "outputId": "85dd88bf-a65d-461e-a574-f632a29160da"
      },
      "source": [
        "dados = pd.read_csv(\"https://raw.githubusercontent.com/alura-cursos/agendamento-hospitalar/main/dados/A160324189_28_143_208.csv\",\n",
        "                    encoding=\"ISO-8859-1\", skiprows=3, sep=\";\", skipfooter=12, thousands=\".\", decimal=\",\")\n",
        "dados.head()"
      ],
      "execution_count": 46,
      "outputs": [
        {
          "output_type": "stream",
          "text": [
            "/usr/local/lib/python3.6/dist-packages/ipykernel_launcher.py:2: ParserWarning: Falling back to the 'python' engine because the 'c' engine does not support skipfooter; you can avoid this warning by specifying engine='python'.\n",
            "  \n"
          ],
          "name": "stderr"
        },
        {
          "output_type": "execute_result",
          "data": {
            "text/html": [
              "<div>\n",
              "<style scoped>\n",
              "    .dataframe tbody tr th:only-of-type {\n",
              "        vertical-align: middle;\n",
              "    }\n",
              "\n",
              "    .dataframe tbody tr th {\n",
              "        vertical-align: top;\n",
              "    }\n",
              "\n",
              "    .dataframe thead th {\n",
              "        text-align: right;\n",
              "    }\n",
              "</style>\n",
              "<table border=\"1\" class=\"dataframe\">\n",
              "  <thead>\n",
              "    <tr style=\"text-align: right;\">\n",
              "      <th></th>\n",
              "      <th>Unidade da Federação</th>\n",
              "      <th>1992/Mar</th>\n",
              "      <th>1992/Abr</th>\n",
              "      <th>1993/Mai</th>\n",
              "      <th>1993/Dez</th>\n",
              "      <th>1994/Jan</th>\n",
              "      <th>1994/Fev</th>\n",
              "      <th>1994/Mai</th>\n",
              "      <th>1994/Ago</th>\n",
              "      <th>1994/Nov</th>\n",
              "      <th>1995/Jan</th>\n",
              "      <th>1995/Mar</th>\n",
              "      <th>1995/Jun</th>\n",
              "      <th>1995/Ago</th>\n",
              "      <th>1995/Dez</th>\n",
              "      <th>1996/Fev</th>\n",
              "      <th>1996/Mar</th>\n",
              "      <th>1996/Ago</th>\n",
              "      <th>1996/Dez</th>\n",
              "      <th>1997/Fev</th>\n",
              "      <th>1997/Nov</th>\n",
              "      <th>1998/Fev</th>\n",
              "      <th>1998/Mar</th>\n",
              "      <th>1998/Jul</th>\n",
              "      <th>1998/Ago</th>\n",
              "      <th>1998/Set</th>\n",
              "      <th>1998/Out</th>\n",
              "      <th>1998/Dez</th>\n",
              "      <th>1999/Fev</th>\n",
              "      <th>1999/Mar</th>\n",
              "      <th>1999/Mai</th>\n",
              "      <th>1999/Jul</th>\n",
              "      <th>1999/Ago</th>\n",
              "      <th>1999/Set</th>\n",
              "      <th>1999/Out</th>\n",
              "      <th>1999/Nov</th>\n",
              "      <th>1999/Dez</th>\n",
              "      <th>2000/Jan</th>\n",
              "      <th>2000/Fev</th>\n",
              "      <th>2000/Mar</th>\n",
              "      <th>...</th>\n",
              "      <th>2017/Jun</th>\n",
              "      <th>2017/Jul</th>\n",
              "      <th>2017/Ago</th>\n",
              "      <th>2017/Set</th>\n",
              "      <th>2017/Out</th>\n",
              "      <th>2017/Nov</th>\n",
              "      <th>2017/Dez</th>\n",
              "      <th>2018/Jan</th>\n",
              "      <th>2018/Fev</th>\n",
              "      <th>2018/Mar</th>\n",
              "      <th>2018/Abr</th>\n",
              "      <th>2018/Mai</th>\n",
              "      <th>2018/Jun</th>\n",
              "      <th>2018/Jul</th>\n",
              "      <th>2018/Ago</th>\n",
              "      <th>2018/Set</th>\n",
              "      <th>2018/Out</th>\n",
              "      <th>2018/Nov</th>\n",
              "      <th>2018/Dez</th>\n",
              "      <th>2019/Jan</th>\n",
              "      <th>2019/Fev</th>\n",
              "      <th>2019/Mar</th>\n",
              "      <th>2019/Abr</th>\n",
              "      <th>2019/Mai</th>\n",
              "      <th>2019/Jun</th>\n",
              "      <th>2019/Jul</th>\n",
              "      <th>2019/Ago</th>\n",
              "      <th>2019/Set</th>\n",
              "      <th>2019/Out</th>\n",
              "      <th>2019/Nov</th>\n",
              "      <th>2019/Dez</th>\n",
              "      <th>2020/Jan</th>\n",
              "      <th>2020/Fev</th>\n",
              "      <th>2020/Mar</th>\n",
              "      <th>2020/Abr</th>\n",
              "      <th>2020/Mai</th>\n",
              "      <th>2020/Jun</th>\n",
              "      <th>2020/Jul</th>\n",
              "      <th>2020/Ago</th>\n",
              "      <th>Total</th>\n",
              "    </tr>\n",
              "  </thead>\n",
              "  <tbody>\n",
              "    <tr>\n",
              "      <th>0</th>\n",
              "      <td>11 Rondônia</td>\n",
              "      <td>-</td>\n",
              "      <td>-</td>\n",
              "      <td>-</td>\n",
              "      <td>-</td>\n",
              "      <td>-</td>\n",
              "      <td>-</td>\n",
              "      <td>-</td>\n",
              "      <td>-</td>\n",
              "      <td>-</td>\n",
              "      <td>-</td>\n",
              "      <td>-</td>\n",
              "      <td>-</td>\n",
              "      <td>-</td>\n",
              "      <td>-</td>\n",
              "      <td>-</td>\n",
              "      <td>-</td>\n",
              "      <td>-</td>\n",
              "      <td>-</td>\n",
              "      <td>-</td>\n",
              "      <td>-</td>\n",
              "      <td>-</td>\n",
              "      <td>-</td>\n",
              "      <td>-</td>\n",
              "      <td>-</td>\n",
              "      <td>-</td>\n",
              "      <td>-</td>\n",
              "      <td>-</td>\n",
              "      <td>-</td>\n",
              "      <td>-</td>\n",
              "      <td>-</td>\n",
              "      <td>-</td>\n",
              "      <td>-</td>\n",
              "      <td>-</td>\n",
              "      <td>-</td>\n",
              "      <td>-</td>\n",
              "      <td>-</td>\n",
              "      <td>-</td>\n",
              "      <td>-</td>\n",
              "      <td>-</td>\n",
              "      <td>...</td>\n",
              "      <td>8041248.80</td>\n",
              "      <td>8199032.67</td>\n",
              "      <td>8363386.07</td>\n",
              "      <td>7889819.50</td>\n",
              "      <td>8603943.85</td>\n",
              "      <td>8048398.25</td>\n",
              "      <td>8159737.49</td>\n",
              "      <td>8457455.71</td>\n",
              "      <td>7766983.20</td>\n",
              "      <td>8858845.57</td>\n",
              "      <td>8407076.44</td>\n",
              "      <td>9492938.92</td>\n",
              "      <td>8206195.92</td>\n",
              "      <td>9011612.58</td>\n",
              "      <td>9124967.84</td>\n",
              "      <td>8406732.72</td>\n",
              "      <td>8411360.02</td>\n",
              "      <td>8651081.66</td>\n",
              "      <td>8193425.99</td>\n",
              "      <td>8388269.45</td>\n",
              "      <td>8645315.78</td>\n",
              "      <td>9050329.13</td>\n",
              "      <td>9211262.51</td>\n",
              "      <td>9490545.02</td>\n",
              "      <td>8600886.20</td>\n",
              "      <td>8919190.86</td>\n",
              "      <td>8909111.89</td>\n",
              "      <td>8409386.09</td>\n",
              "      <td>8924348.41</td>\n",
              "      <td>8948605.66</td>\n",
              "      <td>8660753.05</td>\n",
              "      <td>8326416.32</td>\n",
              "      <td>8413784.42</td>\n",
              "      <td>7174312.31</td>\n",
              "      <td>7423678.64</td>\n",
              "      <td>8581195.13</td>\n",
              "      <td>9193593.76</td>\n",
              "      <td>7407388.24</td>\n",
              "      <td>3556381.57</td>\n",
              "      <td>929129659.72</td>\n",
              "    </tr>\n",
              "    <tr>\n",
              "      <th>1</th>\n",
              "      <td>12 Acre</td>\n",
              "      <td>-</td>\n",
              "      <td>-</td>\n",
              "      <td>-</td>\n",
              "      <td>-</td>\n",
              "      <td>-</td>\n",
              "      <td>-</td>\n",
              "      <td>-</td>\n",
              "      <td>-</td>\n",
              "      <td>-</td>\n",
              "      <td>-</td>\n",
              "      <td>-</td>\n",
              "      <td>-</td>\n",
              "      <td>-</td>\n",
              "      <td>-</td>\n",
              "      <td>-</td>\n",
              "      <td>-</td>\n",
              "      <td>-</td>\n",
              "      <td>-</td>\n",
              "      <td>-</td>\n",
              "      <td>-</td>\n",
              "      <td>-</td>\n",
              "      <td>-</td>\n",
              "      <td>-</td>\n",
              "      <td>-</td>\n",
              "      <td>-</td>\n",
              "      <td>-</td>\n",
              "      <td>-</td>\n",
              "      <td>-</td>\n",
              "      <td>-</td>\n",
              "      <td>-</td>\n",
              "      <td>-</td>\n",
              "      <td>-</td>\n",
              "      <td>-</td>\n",
              "      <td>-</td>\n",
              "      <td>-</td>\n",
              "      <td>-</td>\n",
              "      <td>-</td>\n",
              "      <td>-</td>\n",
              "      <td>-</td>\n",
              "      <td>...</td>\n",
              "      <td>3355223.35</td>\n",
              "      <td>3562691.54</td>\n",
              "      <td>3375296.64</td>\n",
              "      <td>3341497.58</td>\n",
              "      <td>3358378.05</td>\n",
              "      <td>3145385.44</td>\n",
              "      <td>2638773.92</td>\n",
              "      <td>2968168.75</td>\n",
              "      <td>2769797.39</td>\n",
              "      <td>3057631.96</td>\n",
              "      <td>2874965.31</td>\n",
              "      <td>3175575.17</td>\n",
              "      <td>3060903.21</td>\n",
              "      <td>3253011.61</td>\n",
              "      <td>3040645.05</td>\n",
              "      <td>2926179.27</td>\n",
              "      <td>3126120.64</td>\n",
              "      <td>2473454.85</td>\n",
              "      <td>2277493.49</td>\n",
              "      <td>2594347.32</td>\n",
              "      <td>2234388.36</td>\n",
              "      <td>2473008.49</td>\n",
              "      <td>2979764.77</td>\n",
              "      <td>3070533.95</td>\n",
              "      <td>3249052.69</td>\n",
              "      <td>3567538.64</td>\n",
              "      <td>2981072.98</td>\n",
              "      <td>2998860.31</td>\n",
              "      <td>3293378.97</td>\n",
              "      <td>3174249.43</td>\n",
              "      <td>2959569.09</td>\n",
              "      <td>3261123.88</td>\n",
              "      <td>2981264.22</td>\n",
              "      <td>2859102.06</td>\n",
              "      <td>2472063.08</td>\n",
              "      <td>2383895.48</td>\n",
              "      <td>2199920.70</td>\n",
              "      <td>1163813.08</td>\n",
              "      <td>-</td>\n",
              "      <td>420668039.63</td>\n",
              "    </tr>\n",
              "    <tr>\n",
              "      <th>2</th>\n",
              "      <td>13 Amazonas</td>\n",
              "      <td>-</td>\n",
              "      <td>-</td>\n",
              "      <td>-</td>\n",
              "      <td>-</td>\n",
              "      <td>-</td>\n",
              "      <td>-</td>\n",
              "      <td>-</td>\n",
              "      <td>-</td>\n",
              "      <td>-</td>\n",
              "      <td>-</td>\n",
              "      <td>-</td>\n",
              "      <td>-</td>\n",
              "      <td>-</td>\n",
              "      <td>-</td>\n",
              "      <td>-</td>\n",
              "      <td>-</td>\n",
              "      <td>-</td>\n",
              "      <td>-</td>\n",
              "      <td>-</td>\n",
              "      <td>-</td>\n",
              "      <td>-</td>\n",
              "      <td>-</td>\n",
              "      <td>-</td>\n",
              "      <td>-</td>\n",
              "      <td>-</td>\n",
              "      <td>-</td>\n",
              "      <td>-</td>\n",
              "      <td>-</td>\n",
              "      <td>-</td>\n",
              "      <td>-</td>\n",
              "      <td>-</td>\n",
              "      <td>-</td>\n",
              "      <td>-</td>\n",
              "      <td>-</td>\n",
              "      <td>-</td>\n",
              "      <td>-</td>\n",
              "      <td>-</td>\n",
              "      <td>-</td>\n",
              "      <td>-</td>\n",
              "      <td>...</td>\n",
              "      <td>13718828.46</td>\n",
              "      <td>14396210.86</td>\n",
              "      <td>13745304.22</td>\n",
              "      <td>13979792.94</td>\n",
              "      <td>13895515.90</td>\n",
              "      <td>13518116.80</td>\n",
              "      <td>13635186.02</td>\n",
              "      <td>14549450.86</td>\n",
              "      <td>12753555.36</td>\n",
              "      <td>14749409.47</td>\n",
              "      <td>14577930.81</td>\n",
              "      <td>15381061.96</td>\n",
              "      <td>14653650.77</td>\n",
              "      <td>15544595.79</td>\n",
              "      <td>16374961.41</td>\n",
              "      <td>15343340.93</td>\n",
              "      <td>16249963.61</td>\n",
              "      <td>14255408.82</td>\n",
              "      <td>14274053.94</td>\n",
              "      <td>15358914.00</td>\n",
              "      <td>14100074.56</td>\n",
              "      <td>16103971.89</td>\n",
              "      <td>16154491.82</td>\n",
              "      <td>16529976.06</td>\n",
              "      <td>15509984.83</td>\n",
              "      <td>16642220.71</td>\n",
              "      <td>16493719.52</td>\n",
              "      <td>15346323.27</td>\n",
              "      <td>16282436.68</td>\n",
              "      <td>14781332.42</td>\n",
              "      <td>14923380.22</td>\n",
              "      <td>15939561.23</td>\n",
              "      <td>15138110.70</td>\n",
              "      <td>14773739.41</td>\n",
              "      <td>16330913.81</td>\n",
              "      <td>19441150.53</td>\n",
              "      <td>17509334.66</td>\n",
              "      <td>13358514.02</td>\n",
              "      <td>4726485.73</td>\n",
              "      <td>1771654871.23</td>\n",
              "    </tr>\n",
              "    <tr>\n",
              "      <th>3</th>\n",
              "      <td>14 Roraima</td>\n",
              "      <td>-</td>\n",
              "      <td>-</td>\n",
              "      <td>-</td>\n",
              "      <td>-</td>\n",
              "      <td>-</td>\n",
              "      <td>-</td>\n",
              "      <td>-</td>\n",
              "      <td>-</td>\n",
              "      <td>-</td>\n",
              "      <td>-</td>\n",
              "      <td>-</td>\n",
              "      <td>-</td>\n",
              "      <td>-</td>\n",
              "      <td>-</td>\n",
              "      <td>-</td>\n",
              "      <td>-</td>\n",
              "      <td>-</td>\n",
              "      <td>-</td>\n",
              "      <td>-</td>\n",
              "      <td>-</td>\n",
              "      <td>-</td>\n",
              "      <td>-</td>\n",
              "      <td>-</td>\n",
              "      <td>-</td>\n",
              "      <td>-</td>\n",
              "      <td>-</td>\n",
              "      <td>-</td>\n",
              "      <td>-</td>\n",
              "      <td>-</td>\n",
              "      <td>-</td>\n",
              "      <td>-</td>\n",
              "      <td>-</td>\n",
              "      <td>-</td>\n",
              "      <td>-</td>\n",
              "      <td>-</td>\n",
              "      <td>-</td>\n",
              "      <td>-</td>\n",
              "      <td>-</td>\n",
              "      <td>-</td>\n",
              "      <td>...</td>\n",
              "      <td>2699213.85</td>\n",
              "      <td>2682746.28</td>\n",
              "      <td>2891100.20</td>\n",
              "      <td>2737677.78</td>\n",
              "      <td>2693726.29</td>\n",
              "      <td>2671451.53</td>\n",
              "      <td>2688315.70</td>\n",
              "      <td>2740952.07</td>\n",
              "      <td>2478349.44</td>\n",
              "      <td>2674958.94</td>\n",
              "      <td>2721261.19</td>\n",
              "      <td>2844811.66</td>\n",
              "      <td>2967161.35</td>\n",
              "      <td>2841587.97</td>\n",
              "      <td>3328230.63</td>\n",
              "      <td>2878691.04</td>\n",
              "      <td>2964324.32</td>\n",
              "      <td>2524712.40</td>\n",
              "      <td>2462451.64</td>\n",
              "      <td>2662240.18</td>\n",
              "      <td>2499996.16</td>\n",
              "      <td>2846135.56</td>\n",
              "      <td>2789823.29</td>\n",
              "      <td>2839389.53</td>\n",
              "      <td>2647540.20</td>\n",
              "      <td>2865777.71</td>\n",
              "      <td>3181321.82</td>\n",
              "      <td>3070436.96</td>\n",
              "      <td>3162342.44</td>\n",
              "      <td>3121104.71</td>\n",
              "      <td>2889969.87</td>\n",
              "      <td>3084561.08</td>\n",
              "      <td>2967159.04</td>\n",
              "      <td>2813954.05</td>\n",
              "      <td>2304961.42</td>\n",
              "      <td>2910776.44</td>\n",
              "      <td>3216466.51</td>\n",
              "      <td>2739498.41</td>\n",
              "      <td>1524478.04</td>\n",
              "      <td>305010883.18</td>\n",
              "    </tr>\n",
              "    <tr>\n",
              "      <th>4</th>\n",
              "      <td>15 Pará</td>\n",
              "      <td>-</td>\n",
              "      <td>-</td>\n",
              "      <td>-</td>\n",
              "      <td>-</td>\n",
              "      <td>-</td>\n",
              "      <td>-</td>\n",
              "      <td>-</td>\n",
              "      <td>-</td>\n",
              "      <td>-</td>\n",
              "      <td>-</td>\n",
              "      <td>-</td>\n",
              "      <td>-</td>\n",
              "      <td>-</td>\n",
              "      <td>-</td>\n",
              "      <td>-</td>\n",
              "      <td>-</td>\n",
              "      <td>-</td>\n",
              "      <td>-</td>\n",
              "      <td>-</td>\n",
              "      <td>-</td>\n",
              "      <td>-</td>\n",
              "      <td>-</td>\n",
              "      <td>-</td>\n",
              "      <td>-</td>\n",
              "      <td>-</td>\n",
              "      <td>-</td>\n",
              "      <td>-</td>\n",
              "      <td>-</td>\n",
              "      <td>-</td>\n",
              "      <td>-</td>\n",
              "      <td>-</td>\n",
              "      <td>-</td>\n",
              "      <td>-</td>\n",
              "      <td>-</td>\n",
              "      <td>-</td>\n",
              "      <td>-</td>\n",
              "      <td>-</td>\n",
              "      <td>-</td>\n",
              "      <td>-</td>\n",
              "      <td>...</td>\n",
              "      <td>31808597.47</td>\n",
              "      <td>32133134.42</td>\n",
              "      <td>33770556.65</td>\n",
              "      <td>32979925.38</td>\n",
              "      <td>33665042.35</td>\n",
              "      <td>33475545.29</td>\n",
              "      <td>32067934.67</td>\n",
              "      <td>33615836.09</td>\n",
              "      <td>30623491.62</td>\n",
              "      <td>34121931.00</td>\n",
              "      <td>35039954.20</td>\n",
              "      <td>35424611.06</td>\n",
              "      <td>34160283.18</td>\n",
              "      <td>34484949.49</td>\n",
              "      <td>35618364.04</td>\n",
              "      <td>34380916.90</td>\n",
              "      <td>38441090.50</td>\n",
              "      <td>33583538.08</td>\n",
              "      <td>32789354.87</td>\n",
              "      <td>34513534.80</td>\n",
              "      <td>31885919.67</td>\n",
              "      <td>33236155.79</td>\n",
              "      <td>31008924.95</td>\n",
              "      <td>31064106.50</td>\n",
              "      <td>28543179.30</td>\n",
              "      <td>36713929.36</td>\n",
              "      <td>36462011.47</td>\n",
              "      <td>36790758.67</td>\n",
              "      <td>36974859.69</td>\n",
              "      <td>35555518.00</td>\n",
              "      <td>35222625.80</td>\n",
              "      <td>37009819.17</td>\n",
              "      <td>34635702.52</td>\n",
              "      <td>34749098.46</td>\n",
              "      <td>28714969.96</td>\n",
              "      <td>41248502.78</td>\n",
              "      <td>35396030.78</td>\n",
              "      <td>27618727.51</td>\n",
              "      <td>11559714.54</td>\n",
              "      <td>4437115730.71</td>\n",
              "    </tr>\n",
              "  </tbody>\n",
              "</table>\n",
              "<p>5 rows × 280 columns</p>\n",
              "</div>"
            ],
            "text/plain": [
              "  Unidade da Federação 1992/Mar 1992/Abr  ...    2020/Jul     2020/Ago         Total\n",
              "0          11 Rondônia        -        -  ...  7407388.24   3556381.57  929129659.72\n",
              "1              12 Acre        -        -  ...  1163813.08            -  420668039.63\n",
              "2          13 Amazonas        -        -  ... 13358514.02   4726485.73 1771654871.23\n",
              "3           14 Roraima        -        -  ...  2739498.41   1524478.04  305010883.18\n",
              "4              15 Pará        -        -  ... 27618727.51  11559714.54 4437115730.71\n",
              "\n",
              "[5 rows x 280 columns]"
            ]
          },
          "metadata": {
            "tags": []
          },
          "execution_count": 46
        }
      ]
    },
    {
      "cell_type": "markdown",
      "metadata": {
        "id": "Uocoxs7iBno8"
      },
      "source": [
        "#Organizando dados conforme módulo anterior para continuidade."
      ]
    },
    {
      "cell_type": "code",
      "metadata": {
        "id": "YKgAEeOQmQmM"
      },
      "source": [
        "#Pegaremos o índice da média dos dados (que são os nomes de colunas válidas) e salvaremos na variável colunas_usaveis, o método .tolist() transforma os dados em uma lista para\n",
        "#permitir que esses dados possam ser modificados, isso irá permitir que adicionemos a coluna Unidade da Federação.\n",
        "colunas_usaveis = dados.mean().index.tolist()\n",
        "colunas_usaveis.insert(0, \"Unidade da Federação\") #inserindo a coluna \"Unidade da Federação\" na posição 0."
      ],
      "execution_count": 47,
      "outputs": []
    },
    {
      "cell_type": "code",
      "metadata": {
        "id": "u87e4qrI_8rV"
      },
      "source": [
        "#agora iremos fatiar (fazer o slicing) do nosso data_frame original selecionando apenas essas colunas\n",
        "usaveis = dados[colunas_usaveis] #atribuindo tudo a variável usaveis"
      ],
      "execution_count": 48,
      "outputs": []
    },
    {
      "cell_type": "code",
      "metadata": {
        "colab": {
          "base_uri": "https://localhost:8080/",
          "height": 358
        },
        "id": "nGfh-PBN_-Ui",
        "outputId": "365a0a75-fb61-4f2e-fe3d-96311d01585e"
      },
      "source": [
        "#Setando a coluna Unidade da Federação como índice principal.\n",
        "usaveis = usaveis.set_index(\"Unidade da Federação\")\n",
        "usaveis.head()"
      ],
      "execution_count": 49,
      "outputs": [
        {
          "output_type": "execute_result",
          "data": {
            "text/html": [
              "<div>\n",
              "<style scoped>\n",
              "    .dataframe tbody tr th:only-of-type {\n",
              "        vertical-align: middle;\n",
              "    }\n",
              "\n",
              "    .dataframe tbody tr th {\n",
              "        vertical-align: top;\n",
              "    }\n",
              "\n",
              "    .dataframe thead th {\n",
              "        text-align: right;\n",
              "    }\n",
              "</style>\n",
              "<table border=\"1\" class=\"dataframe\">\n",
              "  <thead>\n",
              "    <tr style=\"text-align: right;\">\n",
              "      <th></th>\n",
              "      <th>2007/Ago</th>\n",
              "      <th>2007/Set</th>\n",
              "      <th>2007/Out</th>\n",
              "      <th>2007/Nov</th>\n",
              "      <th>2007/Dez</th>\n",
              "      <th>2008/Jan</th>\n",
              "      <th>2008/Fev</th>\n",
              "      <th>2008/Mar</th>\n",
              "      <th>2008/Abr</th>\n",
              "      <th>2008/Mai</th>\n",
              "      <th>2008/Jun</th>\n",
              "      <th>2008/Jul</th>\n",
              "      <th>2008/Ago</th>\n",
              "      <th>2008/Set</th>\n",
              "      <th>2008/Out</th>\n",
              "      <th>2008/Nov</th>\n",
              "      <th>2008/Dez</th>\n",
              "      <th>2009/Jan</th>\n",
              "      <th>2009/Fev</th>\n",
              "      <th>2009/Mar</th>\n",
              "      <th>2009/Abr</th>\n",
              "      <th>2009/Mai</th>\n",
              "      <th>2009/Jun</th>\n",
              "      <th>2009/Jul</th>\n",
              "      <th>2009/Ago</th>\n",
              "      <th>2009/Set</th>\n",
              "      <th>2009/Out</th>\n",
              "      <th>2009/Nov</th>\n",
              "      <th>2009/Dez</th>\n",
              "      <th>2010/Jan</th>\n",
              "      <th>2010/Fev</th>\n",
              "      <th>2010/Mar</th>\n",
              "      <th>2010/Abr</th>\n",
              "      <th>2010/Mai</th>\n",
              "      <th>2010/Jun</th>\n",
              "      <th>2010/Jul</th>\n",
              "      <th>2010/Ago</th>\n",
              "      <th>2010/Set</th>\n",
              "      <th>2010/Out</th>\n",
              "      <th>2010/Nov</th>\n",
              "      <th>...</th>\n",
              "      <th>2017/Mai</th>\n",
              "      <th>2017/Jun</th>\n",
              "      <th>2017/Jul</th>\n",
              "      <th>2017/Ago</th>\n",
              "      <th>2017/Set</th>\n",
              "      <th>2017/Out</th>\n",
              "      <th>2017/Nov</th>\n",
              "      <th>2017/Dez</th>\n",
              "      <th>2018/Jan</th>\n",
              "      <th>2018/Fev</th>\n",
              "      <th>2018/Mar</th>\n",
              "      <th>2018/Abr</th>\n",
              "      <th>2018/Mai</th>\n",
              "      <th>2018/Jun</th>\n",
              "      <th>2018/Jul</th>\n",
              "      <th>2018/Ago</th>\n",
              "      <th>2018/Set</th>\n",
              "      <th>2018/Out</th>\n",
              "      <th>2018/Nov</th>\n",
              "      <th>2018/Dez</th>\n",
              "      <th>2019/Jan</th>\n",
              "      <th>2019/Fev</th>\n",
              "      <th>2019/Mar</th>\n",
              "      <th>2019/Abr</th>\n",
              "      <th>2019/Mai</th>\n",
              "      <th>2019/Jun</th>\n",
              "      <th>2019/Jul</th>\n",
              "      <th>2019/Ago</th>\n",
              "      <th>2019/Set</th>\n",
              "      <th>2019/Out</th>\n",
              "      <th>2019/Nov</th>\n",
              "      <th>2019/Dez</th>\n",
              "      <th>2020/Jan</th>\n",
              "      <th>2020/Fev</th>\n",
              "      <th>2020/Mar</th>\n",
              "      <th>2020/Abr</th>\n",
              "      <th>2020/Mai</th>\n",
              "      <th>2020/Jun</th>\n",
              "      <th>2020/Jul</th>\n",
              "      <th>Total</th>\n",
              "    </tr>\n",
              "    <tr>\n",
              "      <th>Unidade da Federação</th>\n",
              "      <th></th>\n",
              "      <th></th>\n",
              "      <th></th>\n",
              "      <th></th>\n",
              "      <th></th>\n",
              "      <th></th>\n",
              "      <th></th>\n",
              "      <th></th>\n",
              "      <th></th>\n",
              "      <th></th>\n",
              "      <th></th>\n",
              "      <th></th>\n",
              "      <th></th>\n",
              "      <th></th>\n",
              "      <th></th>\n",
              "      <th></th>\n",
              "      <th></th>\n",
              "      <th></th>\n",
              "      <th></th>\n",
              "      <th></th>\n",
              "      <th></th>\n",
              "      <th></th>\n",
              "      <th></th>\n",
              "      <th></th>\n",
              "      <th></th>\n",
              "      <th></th>\n",
              "      <th></th>\n",
              "      <th></th>\n",
              "      <th></th>\n",
              "      <th></th>\n",
              "      <th></th>\n",
              "      <th></th>\n",
              "      <th></th>\n",
              "      <th></th>\n",
              "      <th></th>\n",
              "      <th></th>\n",
              "      <th></th>\n",
              "      <th></th>\n",
              "      <th></th>\n",
              "      <th></th>\n",
              "      <th></th>\n",
              "      <th></th>\n",
              "      <th></th>\n",
              "      <th></th>\n",
              "      <th></th>\n",
              "      <th></th>\n",
              "      <th></th>\n",
              "      <th></th>\n",
              "      <th></th>\n",
              "      <th></th>\n",
              "      <th></th>\n",
              "      <th></th>\n",
              "      <th></th>\n",
              "      <th></th>\n",
              "      <th></th>\n",
              "      <th></th>\n",
              "      <th></th>\n",
              "      <th></th>\n",
              "      <th></th>\n",
              "      <th></th>\n",
              "      <th></th>\n",
              "      <th></th>\n",
              "      <th></th>\n",
              "      <th></th>\n",
              "      <th></th>\n",
              "      <th></th>\n",
              "      <th></th>\n",
              "      <th></th>\n",
              "      <th></th>\n",
              "      <th></th>\n",
              "      <th></th>\n",
              "      <th></th>\n",
              "      <th></th>\n",
              "      <th></th>\n",
              "      <th></th>\n",
              "      <th></th>\n",
              "      <th></th>\n",
              "      <th></th>\n",
              "      <th></th>\n",
              "      <th></th>\n",
              "      <th></th>\n",
              "    </tr>\n",
              "  </thead>\n",
              "  <tbody>\n",
              "    <tr>\n",
              "      <th>11 Rondônia</th>\n",
              "      <td>4209.37</td>\n",
              "      <td>16397.03</td>\n",
              "      <td>133645.19</td>\n",
              "      <td>346912.84</td>\n",
              "      <td>711758.31</td>\n",
              "      <td>1829559.71</td>\n",
              "      <td>1940792.63</td>\n",
              "      <td>1955721.68</td>\n",
              "      <td>2143353.81</td>\n",
              "      <td>2280382.58</td>\n",
              "      <td>2624542.97</td>\n",
              "      <td>2973421.02</td>\n",
              "      <td>2938286.29</td>\n",
              "      <td>2843930.91</td>\n",
              "      <td>2878153.20</td>\n",
              "      <td>2780022.62</td>\n",
              "      <td>2651804.89</td>\n",
              "      <td>3147566.24</td>\n",
              "      <td>3082108.12</td>\n",
              "      <td>4190355.33</td>\n",
              "      <td>4040251.62</td>\n",
              "      <td>3946423.71</td>\n",
              "      <td>3372377.96</td>\n",
              "      <td>3720608.86</td>\n",
              "      <td>3787323.26</td>\n",
              "      <td>3679369.94</td>\n",
              "      <td>3866146.99</td>\n",
              "      <td>3667808.60</td>\n",
              "      <td>3633471.79</td>\n",
              "      <td>3812315.59</td>\n",
              "      <td>3911776.03</td>\n",
              "      <td>4663060.75</td>\n",
              "      <td>4524544.88</td>\n",
              "      <td>4778755.26</td>\n",
              "      <td>4369733.23</td>\n",
              "      <td>4632439.12</td>\n",
              "      <td>4464307.47</td>\n",
              "      <td>4668642.02</td>\n",
              "      <td>4490368.23</td>\n",
              "      <td>4423840.08</td>\n",
              "      <td>...</td>\n",
              "      <td>8140639.49</td>\n",
              "      <td>8041248.80</td>\n",
              "      <td>8199032.67</td>\n",
              "      <td>8363386.07</td>\n",
              "      <td>7889819.50</td>\n",
              "      <td>8603943.85</td>\n",
              "      <td>8048398.25</td>\n",
              "      <td>8159737.49</td>\n",
              "      <td>8457455.71</td>\n",
              "      <td>7766983.20</td>\n",
              "      <td>8858845.57</td>\n",
              "      <td>8407076.44</td>\n",
              "      <td>9492938.92</td>\n",
              "      <td>8206195.92</td>\n",
              "      <td>9011612.58</td>\n",
              "      <td>9124967.84</td>\n",
              "      <td>8406732.72</td>\n",
              "      <td>8411360.02</td>\n",
              "      <td>8651081.66</td>\n",
              "      <td>8193425.99</td>\n",
              "      <td>8388269.45</td>\n",
              "      <td>8645315.78</td>\n",
              "      <td>9050329.13</td>\n",
              "      <td>9211262.51</td>\n",
              "      <td>9490545.02</td>\n",
              "      <td>8600886.20</td>\n",
              "      <td>8919190.86</td>\n",
              "      <td>8909111.89</td>\n",
              "      <td>8409386.09</td>\n",
              "      <td>8924348.41</td>\n",
              "      <td>8948605.66</td>\n",
              "      <td>8660753.05</td>\n",
              "      <td>8326416.32</td>\n",
              "      <td>8413784.42</td>\n",
              "      <td>7174312.31</td>\n",
              "      <td>7423678.64</td>\n",
              "      <td>8581195.13</td>\n",
              "      <td>9193593.76</td>\n",
              "      <td>7407388.24</td>\n",
              "      <td>929129659.72</td>\n",
              "    </tr>\n",
              "    <tr>\n",
              "      <th>12 Acre</th>\n",
              "      <td>10470.07</td>\n",
              "      <td>14001.71</td>\n",
              "      <td>86200.85</td>\n",
              "      <td>301323.68</td>\n",
              "      <td>769612.36</td>\n",
              "      <td>1731744.62</td>\n",
              "      <td>1743978.66</td>\n",
              "      <td>2057439.02</td>\n",
              "      <td>2057829.69</td>\n",
              "      <td>2226577.93</td>\n",
              "      <td>2112576.82</td>\n",
              "      <td>2029128.01</td>\n",
              "      <td>1886871.84</td>\n",
              "      <td>2084884.80</td>\n",
              "      <td>2230838.45</td>\n",
              "      <td>2122013.12</td>\n",
              "      <td>2196651.69</td>\n",
              "      <td>2152239.30</td>\n",
              "      <td>2086775.61</td>\n",
              "      <td>2476364.26</td>\n",
              "      <td>2396887.63</td>\n",
              "      <td>2610261.80</td>\n",
              "      <td>2174098.10</td>\n",
              "      <td>2051885.16</td>\n",
              "      <td>1714707.91</td>\n",
              "      <td>1341532.34</td>\n",
              "      <td>2288458.90</td>\n",
              "      <td>2462712.79</td>\n",
              "      <td>2254900.20</td>\n",
              "      <td>2381535.93</td>\n",
              "      <td>2079981.05</td>\n",
              "      <td>2564837.77</td>\n",
              "      <td>2588318.06</td>\n",
              "      <td>2538525.67</td>\n",
              "      <td>2319786.41</td>\n",
              "      <td>2279156.60</td>\n",
              "      <td>2454599.37</td>\n",
              "      <td>2578923.75</td>\n",
              "      <td>2625443.29</td>\n",
              "      <td>2512995.15</td>\n",
              "      <td>...</td>\n",
              "      <td>3161446.53</td>\n",
              "      <td>3355223.35</td>\n",
              "      <td>3562691.54</td>\n",
              "      <td>3375296.64</td>\n",
              "      <td>3341497.58</td>\n",
              "      <td>3358378.05</td>\n",
              "      <td>3145385.44</td>\n",
              "      <td>2638773.92</td>\n",
              "      <td>2968168.75</td>\n",
              "      <td>2769797.39</td>\n",
              "      <td>3057631.96</td>\n",
              "      <td>2874965.31</td>\n",
              "      <td>3175575.17</td>\n",
              "      <td>3060903.21</td>\n",
              "      <td>3253011.61</td>\n",
              "      <td>3040645.05</td>\n",
              "      <td>2926179.27</td>\n",
              "      <td>3126120.64</td>\n",
              "      <td>2473454.85</td>\n",
              "      <td>2277493.49</td>\n",
              "      <td>2594347.32</td>\n",
              "      <td>2234388.36</td>\n",
              "      <td>2473008.49</td>\n",
              "      <td>2979764.77</td>\n",
              "      <td>3070533.95</td>\n",
              "      <td>3249052.69</td>\n",
              "      <td>3567538.64</td>\n",
              "      <td>2981072.98</td>\n",
              "      <td>2998860.31</td>\n",
              "      <td>3293378.97</td>\n",
              "      <td>3174249.43</td>\n",
              "      <td>2959569.09</td>\n",
              "      <td>3261123.88</td>\n",
              "      <td>2981264.22</td>\n",
              "      <td>2859102.06</td>\n",
              "      <td>2472063.08</td>\n",
              "      <td>2383895.48</td>\n",
              "      <td>2199920.70</td>\n",
              "      <td>1163813.08</td>\n",
              "      <td>420668039.63</td>\n",
              "    </tr>\n",
              "    <tr>\n",
              "      <th>13 Amazonas</th>\n",
              "      <td>35752.72</td>\n",
              "      <td>45570.64</td>\n",
              "      <td>416012.30</td>\n",
              "      <td>2020381.79</td>\n",
              "      <td>5949408.99</td>\n",
              "      <td>11419210.08</td>\n",
              "      <td>7934652.10</td>\n",
              "      <td>8641517.13</td>\n",
              "      <td>8531576.49</td>\n",
              "      <td>9079902.15</td>\n",
              "      <td>8646295.77</td>\n",
              "      <td>8755806.50</td>\n",
              "      <td>8331763.97</td>\n",
              "      <td>8148089.92</td>\n",
              "      <td>7681661.02</td>\n",
              "      <td>7761445.21</td>\n",
              "      <td>7764782.66</td>\n",
              "      <td>8607222.74</td>\n",
              "      <td>8385962.92</td>\n",
              "      <td>9207129.28</td>\n",
              "      <td>8160517.20</td>\n",
              "      <td>8562322.43</td>\n",
              "      <td>9484998.71</td>\n",
              "      <td>9465068.52</td>\n",
              "      <td>9267006.58</td>\n",
              "      <td>9092823.55</td>\n",
              "      <td>9218407.34</td>\n",
              "      <td>8674068.02</td>\n",
              "      <td>8365788.46</td>\n",
              "      <td>9386945.03</td>\n",
              "      <td>8373048.81</td>\n",
              "      <td>10321150.01</td>\n",
              "      <td>9990164.13</td>\n",
              "      <td>9767161.23</td>\n",
              "      <td>9151838.50</td>\n",
              "      <td>9140196.88</td>\n",
              "      <td>9437224.41</td>\n",
              "      <td>9742680.49</td>\n",
              "      <td>9996686.44</td>\n",
              "      <td>9532878.27</td>\n",
              "      <td>...</td>\n",
              "      <td>13909566.03</td>\n",
              "      <td>13718828.46</td>\n",
              "      <td>14396210.86</td>\n",
              "      <td>13745304.22</td>\n",
              "      <td>13979792.94</td>\n",
              "      <td>13895515.90</td>\n",
              "      <td>13518116.80</td>\n",
              "      <td>13635186.02</td>\n",
              "      <td>14549450.86</td>\n",
              "      <td>12753555.36</td>\n",
              "      <td>14749409.47</td>\n",
              "      <td>14577930.81</td>\n",
              "      <td>15381061.96</td>\n",
              "      <td>14653650.77</td>\n",
              "      <td>15544595.79</td>\n",
              "      <td>16374961.41</td>\n",
              "      <td>15343340.93</td>\n",
              "      <td>16249963.61</td>\n",
              "      <td>14255408.82</td>\n",
              "      <td>14274053.94</td>\n",
              "      <td>15358914.00</td>\n",
              "      <td>14100074.56</td>\n",
              "      <td>16103971.89</td>\n",
              "      <td>16154491.82</td>\n",
              "      <td>16529976.06</td>\n",
              "      <td>15509984.83</td>\n",
              "      <td>16642220.71</td>\n",
              "      <td>16493719.52</td>\n",
              "      <td>15346323.27</td>\n",
              "      <td>16282436.68</td>\n",
              "      <td>14781332.42</td>\n",
              "      <td>14923380.22</td>\n",
              "      <td>15939561.23</td>\n",
              "      <td>15138110.70</td>\n",
              "      <td>14773739.41</td>\n",
              "      <td>16330913.81</td>\n",
              "      <td>19441150.53</td>\n",
              "      <td>17509334.66</td>\n",
              "      <td>13358514.02</td>\n",
              "      <td>1771654871.23</td>\n",
              "    </tr>\n",
              "    <tr>\n",
              "      <th>14 Roraima</th>\n",
              "      <td>4785.91</td>\n",
              "      <td>11858.63</td>\n",
              "      <td>43852.67</td>\n",
              "      <td>369328.51</td>\n",
              "      <td>470676.43</td>\n",
              "      <td>808448.39</td>\n",
              "      <td>771687.83</td>\n",
              "      <td>876091.18</td>\n",
              "      <td>896952.53</td>\n",
              "      <td>1027288.73</td>\n",
              "      <td>938293.54</td>\n",
              "      <td>1004340.44</td>\n",
              "      <td>1045291.11</td>\n",
              "      <td>1003740.89</td>\n",
              "      <td>1055063.43</td>\n",
              "      <td>1223200.73</td>\n",
              "      <td>1236529.18</td>\n",
              "      <td>1186281.36</td>\n",
              "      <td>1106225.18</td>\n",
              "      <td>1422690.18</td>\n",
              "      <td>1377859.19</td>\n",
              "      <td>1363883.01</td>\n",
              "      <td>1346660.89</td>\n",
              "      <td>1371019.37</td>\n",
              "      <td>1529696.18</td>\n",
              "      <td>1573418.68</td>\n",
              "      <td>1517391.92</td>\n",
              "      <td>1597811.24</td>\n",
              "      <td>1536941.82</td>\n",
              "      <td>1617781.76</td>\n",
              "      <td>1452295.35</td>\n",
              "      <td>1817004.16</td>\n",
              "      <td>1715762.10</td>\n",
              "      <td>1933733.03</td>\n",
              "      <td>1849065.95</td>\n",
              "      <td>1877204.62</td>\n",
              "      <td>2046063.98</td>\n",
              "      <td>1939488.67</td>\n",
              "      <td>1757675.71</td>\n",
              "      <td>1528245.34</td>\n",
              "      <td>...</td>\n",
              "      <td>2761536.23</td>\n",
              "      <td>2699213.85</td>\n",
              "      <td>2682746.28</td>\n",
              "      <td>2891100.20</td>\n",
              "      <td>2737677.78</td>\n",
              "      <td>2693726.29</td>\n",
              "      <td>2671451.53</td>\n",
              "      <td>2688315.70</td>\n",
              "      <td>2740952.07</td>\n",
              "      <td>2478349.44</td>\n",
              "      <td>2674958.94</td>\n",
              "      <td>2721261.19</td>\n",
              "      <td>2844811.66</td>\n",
              "      <td>2967161.35</td>\n",
              "      <td>2841587.97</td>\n",
              "      <td>3328230.63</td>\n",
              "      <td>2878691.04</td>\n",
              "      <td>2964324.32</td>\n",
              "      <td>2524712.40</td>\n",
              "      <td>2462451.64</td>\n",
              "      <td>2662240.18</td>\n",
              "      <td>2499996.16</td>\n",
              "      <td>2846135.56</td>\n",
              "      <td>2789823.29</td>\n",
              "      <td>2839389.53</td>\n",
              "      <td>2647540.20</td>\n",
              "      <td>2865777.71</td>\n",
              "      <td>3181321.82</td>\n",
              "      <td>3070436.96</td>\n",
              "      <td>3162342.44</td>\n",
              "      <td>3121104.71</td>\n",
              "      <td>2889969.87</td>\n",
              "      <td>3084561.08</td>\n",
              "      <td>2967159.04</td>\n",
              "      <td>2813954.05</td>\n",
              "      <td>2304961.42</td>\n",
              "      <td>2910776.44</td>\n",
              "      <td>3216466.51</td>\n",
              "      <td>2739498.41</td>\n",
              "      <td>305010883.18</td>\n",
              "    </tr>\n",
              "    <tr>\n",
              "      <th>15 Pará</th>\n",
              "      <td>181159.29</td>\n",
              "      <td>433414.74</td>\n",
              "      <td>1893197.50</td>\n",
              "      <td>5105406.44</td>\n",
              "      <td>13162823.43</td>\n",
              "      <td>21762104.16</td>\n",
              "      <td>20126081.01</td>\n",
              "      <td>22149375.82</td>\n",
              "      <td>23436682.75</td>\n",
              "      <td>23861080.80</td>\n",
              "      <td>23502915.90</td>\n",
              "      <td>22544291.26</td>\n",
              "      <td>23259148.28</td>\n",
              "      <td>23667690.01</td>\n",
              "      <td>23352577.75</td>\n",
              "      <td>23537613.41</td>\n",
              "      <td>23836162.40</td>\n",
              "      <td>25397157.43</td>\n",
              "      <td>23045700.70</td>\n",
              "      <td>28225957.76</td>\n",
              "      <td>27478025.61</td>\n",
              "      <td>26610951.91</td>\n",
              "      <td>26424970.11</td>\n",
              "      <td>26331756.26</td>\n",
              "      <td>27892582.69</td>\n",
              "      <td>27231854.35</td>\n",
              "      <td>27599957.69</td>\n",
              "      <td>26784181.74</td>\n",
              "      <td>25511285.54</td>\n",
              "      <td>26421157.74</td>\n",
              "      <td>25483553.06</td>\n",
              "      <td>28537493.86</td>\n",
              "      <td>26949923.37</td>\n",
              "      <td>28436425.05</td>\n",
              "      <td>26947713.85</td>\n",
              "      <td>26125357.73</td>\n",
              "      <td>27761867.94</td>\n",
              "      <td>27280175.15</td>\n",
              "      <td>26522062.12</td>\n",
              "      <td>26687663.81</td>\n",
              "      <td>...</td>\n",
              "      <td>33921112.99</td>\n",
              "      <td>31808597.47</td>\n",
              "      <td>32133134.42</td>\n",
              "      <td>33770556.65</td>\n",
              "      <td>32979925.38</td>\n",
              "      <td>33665042.35</td>\n",
              "      <td>33475545.29</td>\n",
              "      <td>32067934.67</td>\n",
              "      <td>33615836.09</td>\n",
              "      <td>30623491.62</td>\n",
              "      <td>34121931.00</td>\n",
              "      <td>35039954.20</td>\n",
              "      <td>35424611.06</td>\n",
              "      <td>34160283.18</td>\n",
              "      <td>34484949.49</td>\n",
              "      <td>35618364.04</td>\n",
              "      <td>34380916.90</td>\n",
              "      <td>38441090.50</td>\n",
              "      <td>33583538.08</td>\n",
              "      <td>32789354.87</td>\n",
              "      <td>34513534.80</td>\n",
              "      <td>31885919.67</td>\n",
              "      <td>33236155.79</td>\n",
              "      <td>31008924.95</td>\n",
              "      <td>31064106.50</td>\n",
              "      <td>28543179.30</td>\n",
              "      <td>36713929.36</td>\n",
              "      <td>36462011.47</td>\n",
              "      <td>36790758.67</td>\n",
              "      <td>36974859.69</td>\n",
              "      <td>35555518.00</td>\n",
              "      <td>35222625.80</td>\n",
              "      <td>37009819.17</td>\n",
              "      <td>34635702.52</td>\n",
              "      <td>34749098.46</td>\n",
              "      <td>28714969.96</td>\n",
              "      <td>41248502.78</td>\n",
              "      <td>35396030.78</td>\n",
              "      <td>27618727.51</td>\n",
              "      <td>4437115730.71</td>\n",
              "    </tr>\n",
              "  </tbody>\n",
              "</table>\n",
              "<p>5 rows × 157 columns</p>\n",
              "</div>"
            ],
            "text/plain": [
              "                      2007/Ago  2007/Set  ...    2020/Jul         Total\n",
              "Unidade da Federação                      ...                          \n",
              "11 Rondônia            4209.37  16397.03  ...  7407388.24  929129659.72\n",
              "12 Acre               10470.07  14001.71  ...  1163813.08  420668039.63\n",
              "13 Amazonas           35752.72  45570.64  ... 13358514.02 1771654871.23\n",
              "14 Roraima             4785.91  11858.63  ...  2739498.41  305010883.18\n",
              "15 Pará              181159.29 433414.74  ... 27618727.51 4437115730.71\n",
              "\n",
              "[5 rows x 157 columns]"
            ]
          },
          "metadata": {
            "tags": []
          },
          "execution_count": 49
        }
      ]
    },
    {
      "cell_type": "code",
      "metadata": {
        "colab": {
          "base_uri": "https://localhost:8080/",
          "height": 391
        },
        "id": "FenhM2I5__um",
        "outputId": "696646e1-3f55-41bd-914c-4150ea9ccebd"
      },
      "source": [
        "ordenado_por_total = usaveis.sort_values('Total', ascending=False)\n",
        "ordenado_por_total = ordenado_por_total.drop('Total', axis=1)\n",
        "ordenado_por_total.head()"
      ],
      "execution_count": 50,
      "outputs": [
        {
          "output_type": "execute_result",
          "data": {
            "text/html": [
              "<div>\n",
              "<style scoped>\n",
              "    .dataframe tbody tr th:only-of-type {\n",
              "        vertical-align: middle;\n",
              "    }\n",
              "\n",
              "    .dataframe tbody tr th {\n",
              "        vertical-align: top;\n",
              "    }\n",
              "\n",
              "    .dataframe thead th {\n",
              "        text-align: right;\n",
              "    }\n",
              "</style>\n",
              "<table border=\"1\" class=\"dataframe\">\n",
              "  <thead>\n",
              "    <tr style=\"text-align: right;\">\n",
              "      <th></th>\n",
              "      <th>2007/Ago</th>\n",
              "      <th>2007/Set</th>\n",
              "      <th>2007/Out</th>\n",
              "      <th>2007/Nov</th>\n",
              "      <th>2007/Dez</th>\n",
              "      <th>2008/Jan</th>\n",
              "      <th>2008/Fev</th>\n",
              "      <th>2008/Mar</th>\n",
              "      <th>2008/Abr</th>\n",
              "      <th>2008/Mai</th>\n",
              "      <th>2008/Jun</th>\n",
              "      <th>2008/Jul</th>\n",
              "      <th>2008/Ago</th>\n",
              "      <th>2008/Set</th>\n",
              "      <th>2008/Out</th>\n",
              "      <th>2008/Nov</th>\n",
              "      <th>2008/Dez</th>\n",
              "      <th>2009/Jan</th>\n",
              "      <th>2009/Fev</th>\n",
              "      <th>2009/Mar</th>\n",
              "      <th>2009/Abr</th>\n",
              "      <th>2009/Mai</th>\n",
              "      <th>2009/Jun</th>\n",
              "      <th>2009/Jul</th>\n",
              "      <th>2009/Ago</th>\n",
              "      <th>2009/Set</th>\n",
              "      <th>2009/Out</th>\n",
              "      <th>2009/Nov</th>\n",
              "      <th>2009/Dez</th>\n",
              "      <th>2010/Jan</th>\n",
              "      <th>2010/Fev</th>\n",
              "      <th>2010/Mar</th>\n",
              "      <th>2010/Abr</th>\n",
              "      <th>2010/Mai</th>\n",
              "      <th>2010/Jun</th>\n",
              "      <th>2010/Jul</th>\n",
              "      <th>2010/Ago</th>\n",
              "      <th>2010/Set</th>\n",
              "      <th>2010/Out</th>\n",
              "      <th>2010/Nov</th>\n",
              "      <th>...</th>\n",
              "      <th>2017/Abr</th>\n",
              "      <th>2017/Mai</th>\n",
              "      <th>2017/Jun</th>\n",
              "      <th>2017/Jul</th>\n",
              "      <th>2017/Ago</th>\n",
              "      <th>2017/Set</th>\n",
              "      <th>2017/Out</th>\n",
              "      <th>2017/Nov</th>\n",
              "      <th>2017/Dez</th>\n",
              "      <th>2018/Jan</th>\n",
              "      <th>2018/Fev</th>\n",
              "      <th>2018/Mar</th>\n",
              "      <th>2018/Abr</th>\n",
              "      <th>2018/Mai</th>\n",
              "      <th>2018/Jun</th>\n",
              "      <th>2018/Jul</th>\n",
              "      <th>2018/Ago</th>\n",
              "      <th>2018/Set</th>\n",
              "      <th>2018/Out</th>\n",
              "      <th>2018/Nov</th>\n",
              "      <th>2018/Dez</th>\n",
              "      <th>2019/Jan</th>\n",
              "      <th>2019/Fev</th>\n",
              "      <th>2019/Mar</th>\n",
              "      <th>2019/Abr</th>\n",
              "      <th>2019/Mai</th>\n",
              "      <th>2019/Jun</th>\n",
              "      <th>2019/Jul</th>\n",
              "      <th>2019/Ago</th>\n",
              "      <th>2019/Set</th>\n",
              "      <th>2019/Out</th>\n",
              "      <th>2019/Nov</th>\n",
              "      <th>2019/Dez</th>\n",
              "      <th>2020/Jan</th>\n",
              "      <th>2020/Fev</th>\n",
              "      <th>2020/Mar</th>\n",
              "      <th>2020/Abr</th>\n",
              "      <th>2020/Mai</th>\n",
              "      <th>2020/Jun</th>\n",
              "      <th>2020/Jul</th>\n",
              "    </tr>\n",
              "    <tr>\n",
              "      <th>Unidade da Federação</th>\n",
              "      <th></th>\n",
              "      <th></th>\n",
              "      <th></th>\n",
              "      <th></th>\n",
              "      <th></th>\n",
              "      <th></th>\n",
              "      <th></th>\n",
              "      <th></th>\n",
              "      <th></th>\n",
              "      <th></th>\n",
              "      <th></th>\n",
              "      <th></th>\n",
              "      <th></th>\n",
              "      <th></th>\n",
              "      <th></th>\n",
              "      <th></th>\n",
              "      <th></th>\n",
              "      <th></th>\n",
              "      <th></th>\n",
              "      <th></th>\n",
              "      <th></th>\n",
              "      <th></th>\n",
              "      <th></th>\n",
              "      <th></th>\n",
              "      <th></th>\n",
              "      <th></th>\n",
              "      <th></th>\n",
              "      <th></th>\n",
              "      <th></th>\n",
              "      <th></th>\n",
              "      <th></th>\n",
              "      <th></th>\n",
              "      <th></th>\n",
              "      <th></th>\n",
              "      <th></th>\n",
              "      <th></th>\n",
              "      <th></th>\n",
              "      <th></th>\n",
              "      <th></th>\n",
              "      <th></th>\n",
              "      <th></th>\n",
              "      <th></th>\n",
              "      <th></th>\n",
              "      <th></th>\n",
              "      <th></th>\n",
              "      <th></th>\n",
              "      <th></th>\n",
              "      <th></th>\n",
              "      <th></th>\n",
              "      <th></th>\n",
              "      <th></th>\n",
              "      <th></th>\n",
              "      <th></th>\n",
              "      <th></th>\n",
              "      <th></th>\n",
              "      <th></th>\n",
              "      <th></th>\n",
              "      <th></th>\n",
              "      <th></th>\n",
              "      <th></th>\n",
              "      <th></th>\n",
              "      <th></th>\n",
              "      <th></th>\n",
              "      <th></th>\n",
              "      <th></th>\n",
              "      <th></th>\n",
              "      <th></th>\n",
              "      <th></th>\n",
              "      <th></th>\n",
              "      <th></th>\n",
              "      <th></th>\n",
              "      <th></th>\n",
              "      <th></th>\n",
              "      <th></th>\n",
              "      <th></th>\n",
              "      <th></th>\n",
              "      <th></th>\n",
              "      <th></th>\n",
              "      <th></th>\n",
              "      <th></th>\n",
              "      <th></th>\n",
              "    </tr>\n",
              "  </thead>\n",
              "  <tbody>\n",
              "    <tr>\n",
              "      <th>35 São Paulo</th>\n",
              "      <td>1665349.90</td>\n",
              "      <td>4434168.64</td>\n",
              "      <td>14577395.84</td>\n",
              "      <td>35032259.98</td>\n",
              "      <td>76668547.41</td>\n",
              "      <td>1023564534.21</td>\n",
              "      <td>172834914.73</td>\n",
              "      <td>170481849.56</td>\n",
              "      <td>170278285.95</td>\n",
              "      <td>172402180.59</td>\n",
              "      <td>175416595.83</td>\n",
              "      <td>179525002.10</td>\n",
              "      <td>179898070.22</td>\n",
              "      <td>180082203.71</td>\n",
              "      <td>191685220.08</td>\n",
              "      <td>190539738.80</td>\n",
              "      <td>177086380.69</td>\n",
              "      <td>192321557.36</td>\n",
              "      <td>178596376.79</td>\n",
              "      <td>216951591.57</td>\n",
              "      <td>215053018.45</td>\n",
              "      <td>212890248.16</td>\n",
              "      <td>212670900.80</td>\n",
              "      <td>214041237.42</td>\n",
              "      <td>215212536.08</td>\n",
              "      <td>214135444.45</td>\n",
              "      <td>216056582.61</td>\n",
              "      <td>208973892.04</td>\n",
              "      <td>192127099.10</td>\n",
              "      <td>213467885.76</td>\n",
              "      <td>195784795.23</td>\n",
              "      <td>239323932.16</td>\n",
              "      <td>221172991.21</td>\n",
              "      <td>231777549.43</td>\n",
              "      <td>223933798.66</td>\n",
              "      <td>224067914.11</td>\n",
              "      <td>248010130.51</td>\n",
              "      <td>224052980.08</td>\n",
              "      <td>238935452.74</td>\n",
              "      <td>225484059.46</td>\n",
              "      <td>...</td>\n",
              "      <td>263471759.13</td>\n",
              "      <td>292113404.78</td>\n",
              "      <td>274301073.14</td>\n",
              "      <td>283534617.42</td>\n",
              "      <td>300593738.96</td>\n",
              "      <td>267297243.95</td>\n",
              "      <td>287114784.48</td>\n",
              "      <td>267113249.04</td>\n",
              "      <td>259451685.90</td>\n",
              "      <td>279497570.89</td>\n",
              "      <td>254004628.07</td>\n",
              "      <td>285270559.62</td>\n",
              "      <td>286191965.06</td>\n",
              "      <td>291440947.02</td>\n",
              "      <td>278926018.36</td>\n",
              "      <td>285851919.68</td>\n",
              "      <td>295419311.15</td>\n",
              "      <td>277576166.24</td>\n",
              "      <td>301454867.05</td>\n",
              "      <td>278114302.44</td>\n",
              "      <td>266239800.80</td>\n",
              "      <td>291081406.59</td>\n",
              "      <td>267662508.70</td>\n",
              "      <td>285576312.72</td>\n",
              "      <td>292584828.35</td>\n",
              "      <td>308925598.24</td>\n",
              "      <td>281405146.78</td>\n",
              "      <td>306633987.91</td>\n",
              "      <td>302367276.77</td>\n",
              "      <td>293685713.15</td>\n",
              "      <td>303382527.10</td>\n",
              "      <td>282391773.21</td>\n",
              "      <td>272697695.04</td>\n",
              "      <td>301991167.67</td>\n",
              "      <td>271356784.04</td>\n",
              "      <td>276606288.92</td>\n",
              "      <td>251696362.66</td>\n",
              "      <td>302857660.98</td>\n",
              "      <td>299060851.62</td>\n",
              "      <td>282709570.31</td>\n",
              "    </tr>\n",
              "    <tr>\n",
              "      <th>31 Minas Gerais</th>\n",
              "      <td>971394.37</td>\n",
              "      <td>2861781.50</td>\n",
              "      <td>10018011.35</td>\n",
              "      <td>21730281.63</td>\n",
              "      <td>43429517.54</td>\n",
              "      <td>205912743.65</td>\n",
              "      <td>70301089.50</td>\n",
              "      <td>79119005.51</td>\n",
              "      <td>79046322.41</td>\n",
              "      <td>79268070.12</td>\n",
              "      <td>79608652.53</td>\n",
              "      <td>82200224.47</td>\n",
              "      <td>80374117.08</td>\n",
              "      <td>82400146.79</td>\n",
              "      <td>88613476.60</td>\n",
              "      <td>84486996.11</td>\n",
              "      <td>88928630.30</td>\n",
              "      <td>99018155.84</td>\n",
              "      <td>83675119.83</td>\n",
              "      <td>100240651.84</td>\n",
              "      <td>91831325.37</td>\n",
              "      <td>97289703.07</td>\n",
              "      <td>95723396.53</td>\n",
              "      <td>100050008.70</td>\n",
              "      <td>98968064.76</td>\n",
              "      <td>98202119.08</td>\n",
              "      <td>96962394.27</td>\n",
              "      <td>94767639.13</td>\n",
              "      <td>92412770.73</td>\n",
              "      <td>95806556.42</td>\n",
              "      <td>90764890.28</td>\n",
              "      <td>107389850.03</td>\n",
              "      <td>100829767.38</td>\n",
              "      <td>105485567.80</td>\n",
              "      <td>99666115.96</td>\n",
              "      <td>103356995.64</td>\n",
              "      <td>107844259.69</td>\n",
              "      <td>104341138.19</td>\n",
              "      <td>100525403.88</td>\n",
              "      <td>101943625.50</td>\n",
              "      <td>...</td>\n",
              "      <td>136715099.44</td>\n",
              "      <td>153412119.69</td>\n",
              "      <td>144291438.09</td>\n",
              "      <td>147533496.74</td>\n",
              "      <td>156055553.43</td>\n",
              "      <td>142285103.84</td>\n",
              "      <td>148306094.14</td>\n",
              "      <td>142323944.76</td>\n",
              "      <td>138341191.84</td>\n",
              "      <td>146501618.07</td>\n",
              "      <td>130702126.27</td>\n",
              "      <td>151496245.19</td>\n",
              "      <td>150687602.95</td>\n",
              "      <td>153589259.44</td>\n",
              "      <td>150251751.37</td>\n",
              "      <td>156633990.16</td>\n",
              "      <td>160420043.49</td>\n",
              "      <td>145941007.54</td>\n",
              "      <td>157247579.70</td>\n",
              "      <td>148172783.99</td>\n",
              "      <td>145387240.73</td>\n",
              "      <td>153177305.19</td>\n",
              "      <td>142669153.77</td>\n",
              "      <td>151943630.56</td>\n",
              "      <td>157922598.68</td>\n",
              "      <td>163591461.79</td>\n",
              "      <td>154114822.71</td>\n",
              "      <td>166735650.41</td>\n",
              "      <td>161707825.05</td>\n",
              "      <td>157419731.93</td>\n",
              "      <td>166133803.32</td>\n",
              "      <td>152106660.17</td>\n",
              "      <td>152398599.06</td>\n",
              "      <td>158097903.98</td>\n",
              "      <td>141323175.61</td>\n",
              "      <td>147078556.29</td>\n",
              "      <td>126330649.86</td>\n",
              "      <td>136867275.75</td>\n",
              "      <td>135977571.87</td>\n",
              "      <td>120467187.34</td>\n",
              "    </tr>\n",
              "    <tr>\n",
              "      <th>41 Paraná</th>\n",
              "      <td>554800.22</td>\n",
              "      <td>1431708.01</td>\n",
              "      <td>4630402.44</td>\n",
              "      <td>11120030.79</td>\n",
              "      <td>28790722.87</td>\n",
              "      <td>58081334.45</td>\n",
              "      <td>48855046.46</td>\n",
              "      <td>55611791.07</td>\n",
              "      <td>56115135.82</td>\n",
              "      <td>55574831.93</td>\n",
              "      <td>56094754.74</td>\n",
              "      <td>59802402.07</td>\n",
              "      <td>56699001.13</td>\n",
              "      <td>58091985.79</td>\n",
              "      <td>61365941.22</td>\n",
              "      <td>59667208.62</td>\n",
              "      <td>57816197.74</td>\n",
              "      <td>60381593.99</td>\n",
              "      <td>57239101.63</td>\n",
              "      <td>69070488.20</td>\n",
              "      <td>64054678.26</td>\n",
              "      <td>68685542.95</td>\n",
              "      <td>67931227.06</td>\n",
              "      <td>70958762.64</td>\n",
              "      <td>69225783.96</td>\n",
              "      <td>67849968.52</td>\n",
              "      <td>68558209.28</td>\n",
              "      <td>67158496.97</td>\n",
              "      <td>63094274.28</td>\n",
              "      <td>66902643.63</td>\n",
              "      <td>64501133.64</td>\n",
              "      <td>77138870.60</td>\n",
              "      <td>70755396.99</td>\n",
              "      <td>73456756.71</td>\n",
              "      <td>71839020.89</td>\n",
              "      <td>73013830.77</td>\n",
              "      <td>76151006.95</td>\n",
              "      <td>74240963.45</td>\n",
              "      <td>73042386.70</td>\n",
              "      <td>76364750.27</td>\n",
              "      <td>...</td>\n",
              "      <td>106027687.78</td>\n",
              "      <td>120535312.96</td>\n",
              "      <td>111725261.22</td>\n",
              "      <td>118590172.07</td>\n",
              "      <td>122122835.72</td>\n",
              "      <td>110656147.72</td>\n",
              "      <td>117567691.91</td>\n",
              "      <td>112457522.94</td>\n",
              "      <td>105558123.29</td>\n",
              "      <td>116133193.49</td>\n",
              "      <td>107075982.24</td>\n",
              "      <td>122331354.51</td>\n",
              "      <td>124731345.17</td>\n",
              "      <td>127073853.11</td>\n",
              "      <td>122616924.02</td>\n",
              "      <td>127991900.80</td>\n",
              "      <td>131257163.40</td>\n",
              "      <td>120647377.43</td>\n",
              "      <td>129530163.96</td>\n",
              "      <td>121810669.26</td>\n",
              "      <td>112984630.73</td>\n",
              "      <td>124159239.68</td>\n",
              "      <td>117715473.32</td>\n",
              "      <td>123907372.22</td>\n",
              "      <td>127447033.66</td>\n",
              "      <td>132576563.13</td>\n",
              "      <td>124858292.37</td>\n",
              "      <td>134621315.53</td>\n",
              "      <td>127174095.05</td>\n",
              "      <td>126172679.50</td>\n",
              "      <td>133847978.48</td>\n",
              "      <td>126209369.22</td>\n",
              "      <td>113545318.91</td>\n",
              "      <td>122268754.10</td>\n",
              "      <td>116061602.52</td>\n",
              "      <td>114476997.52</td>\n",
              "      <td>96727112.19</td>\n",
              "      <td>106103737.62</td>\n",
              "      <td>92901461.36</td>\n",
              "      <td>80320852.69</td>\n",
              "    </tr>\n",
              "    <tr>\n",
              "      <th>43 Rio Grande do Sul</th>\n",
              "      <td>1049252.33</td>\n",
              "      <td>3182913.14</td>\n",
              "      <td>8571312.11</td>\n",
              "      <td>16592432.80</td>\n",
              "      <td>30134255.70</td>\n",
              "      <td>51064610.03</td>\n",
              "      <td>45897704.82</td>\n",
              "      <td>52928695.92</td>\n",
              "      <td>51972416.77</td>\n",
              "      <td>51679350.79</td>\n",
              "      <td>53759674.01</td>\n",
              "      <td>56391647.77</td>\n",
              "      <td>56233758.74</td>\n",
              "      <td>57910170.98</td>\n",
              "      <td>59592124.91</td>\n",
              "      <td>57565742.08</td>\n",
              "      <td>55696920.94</td>\n",
              "      <td>61522380.02</td>\n",
              "      <td>52101637.77</td>\n",
              "      <td>65111965.49</td>\n",
              "      <td>61590828.91</td>\n",
              "      <td>64402291.62</td>\n",
              "      <td>63090640.55</td>\n",
              "      <td>69137004.88</td>\n",
              "      <td>66062629.79</td>\n",
              "      <td>65222011.32</td>\n",
              "      <td>67569409.19</td>\n",
              "      <td>64189115.30</td>\n",
              "      <td>62244282.80</td>\n",
              "      <td>65488387.87</td>\n",
              "      <td>56964528.31</td>\n",
              "      <td>69933577.14</td>\n",
              "      <td>66486835.62</td>\n",
              "      <td>69108367.47</td>\n",
              "      <td>67570770.09</td>\n",
              "      <td>70074754.73</td>\n",
              "      <td>70884009.17</td>\n",
              "      <td>65079794.92</td>\n",
              "      <td>66556015.62</td>\n",
              "      <td>66097030.85</td>\n",
              "      <td>...</td>\n",
              "      <td>83188379.66</td>\n",
              "      <td>95149948.63</td>\n",
              "      <td>93172414.99</td>\n",
              "      <td>94415257.59</td>\n",
              "      <td>94228158.01</td>\n",
              "      <td>86424773.65</td>\n",
              "      <td>91598179.14</td>\n",
              "      <td>85793700.48</td>\n",
              "      <td>82737574.48</td>\n",
              "      <td>91825671.54</td>\n",
              "      <td>77582012.38</td>\n",
              "      <td>91078325.19</td>\n",
              "      <td>91926773.80</td>\n",
              "      <td>91678131.98</td>\n",
              "      <td>90989887.85</td>\n",
              "      <td>94861008.10</td>\n",
              "      <td>96799643.23</td>\n",
              "      <td>87344269.09</td>\n",
              "      <td>97371100.06</td>\n",
              "      <td>90190767.67</td>\n",
              "      <td>81748880.30</td>\n",
              "      <td>92467100.02</td>\n",
              "      <td>85301000.44</td>\n",
              "      <td>91624338.70</td>\n",
              "      <td>92787953.22</td>\n",
              "      <td>99117643.75</td>\n",
              "      <td>95840509.87</td>\n",
              "      <td>103028189.47</td>\n",
              "      <td>98546110.10</td>\n",
              "      <td>94369189.80</td>\n",
              "      <td>96913904.71</td>\n",
              "      <td>90971809.22</td>\n",
              "      <td>88720873.59</td>\n",
              "      <td>97474362.62</td>\n",
              "      <td>85451646.35</td>\n",
              "      <td>84651396.59</td>\n",
              "      <td>76294596.96</td>\n",
              "      <td>86076113.42</td>\n",
              "      <td>89019478.82</td>\n",
              "      <td>78929703.81</td>\n",
              "    </tr>\n",
              "    <tr>\n",
              "      <th>33 Rio de Janeiro</th>\n",
              "      <td>469469.34</td>\n",
              "      <td>921646.57</td>\n",
              "      <td>2994664.57</td>\n",
              "      <td>7250528.08</td>\n",
              "      <td>13627123.27</td>\n",
              "      <td>250564959.99</td>\n",
              "      <td>44122593.19</td>\n",
              "      <td>42892665.52</td>\n",
              "      <td>45295962.86</td>\n",
              "      <td>43951349.46</td>\n",
              "      <td>44102925.77</td>\n",
              "      <td>44348520.04</td>\n",
              "      <td>42487939.51</td>\n",
              "      <td>43066461.47</td>\n",
              "      <td>44553314.55</td>\n",
              "      <td>41351511.51</td>\n",
              "      <td>43009787.04</td>\n",
              "      <td>60870400.36</td>\n",
              "      <td>40657841.56</td>\n",
              "      <td>52749369.57</td>\n",
              "      <td>48895602.42</td>\n",
              "      <td>51167129.65</td>\n",
              "      <td>57231407.48</td>\n",
              "      <td>53485657.68</td>\n",
              "      <td>51220661.43</td>\n",
              "      <td>48481294.83</td>\n",
              "      <td>48667996.09</td>\n",
              "      <td>49685211.69</td>\n",
              "      <td>44407856.80</td>\n",
              "      <td>55993709.91</td>\n",
              "      <td>44820454.33</td>\n",
              "      <td>54457993.44</td>\n",
              "      <td>78118096.31</td>\n",
              "      <td>56007801.98</td>\n",
              "      <td>51435826.33</td>\n",
              "      <td>53861284.43</td>\n",
              "      <td>57867285.17</td>\n",
              "      <td>53736019.37</td>\n",
              "      <td>52371157.05</td>\n",
              "      <td>50220615.43</td>\n",
              "      <td>...</td>\n",
              "      <td>64524506.56</td>\n",
              "      <td>74317064.87</td>\n",
              "      <td>69854028.57</td>\n",
              "      <td>73154854.55</td>\n",
              "      <td>74541924.99</td>\n",
              "      <td>68729446.80</td>\n",
              "      <td>73084899.63</td>\n",
              "      <td>69260882.71</td>\n",
              "      <td>67316622.13</td>\n",
              "      <td>72339878.22</td>\n",
              "      <td>65017051.87</td>\n",
              "      <td>74386639.12</td>\n",
              "      <td>74518096.30</td>\n",
              "      <td>79259775.09</td>\n",
              "      <td>75907708.63</td>\n",
              "      <td>77486691.97</td>\n",
              "      <td>78784068.69</td>\n",
              "      <td>72837645.52</td>\n",
              "      <td>79138170.66</td>\n",
              "      <td>73946904.94</td>\n",
              "      <td>70688186.20</td>\n",
              "      <td>79468378.91</td>\n",
              "      <td>73795013.14</td>\n",
              "      <td>74919398.28</td>\n",
              "      <td>76666971.33</td>\n",
              "      <td>82440728.47</td>\n",
              "      <td>78190652.12</td>\n",
              "      <td>87984485.17</td>\n",
              "      <td>83311603.59</td>\n",
              "      <td>81146690.63</td>\n",
              "      <td>82247728.87</td>\n",
              "      <td>74620476.61</td>\n",
              "      <td>74895861.63</td>\n",
              "      <td>79705663.75</td>\n",
              "      <td>72412810.42</td>\n",
              "      <td>73594497.93</td>\n",
              "      <td>68160773.35</td>\n",
              "      <td>86281033.16</td>\n",
              "      <td>77604925.21</td>\n",
              "      <td>71540227.33</td>\n",
              "    </tr>\n",
              "  </tbody>\n",
              "</table>\n",
              "<p>5 rows × 156 columns</p>\n",
              "</div>"
            ],
            "text/plain": [
              "                       2007/Ago   2007/Set  ...     2020/Jun     2020/Jul\n",
              "Unidade da Federação                        ...                          \n",
              "35 São Paulo         1665349.90 4434168.64  ... 299060851.62 282709570.31\n",
              "31 Minas Gerais       971394.37 2861781.50  ... 135977571.87 120467187.34\n",
              "41 Paraná             554800.22 1431708.01  ...  92901461.36  80320852.69\n",
              "43 Rio Grande do Sul 1049252.33 3182913.14  ...  89019478.82  78929703.81\n",
              "33 Rio de Janeiro     469469.34  921646.57  ...  77604925.21  71540227.33\n",
              "\n",
              "[5 rows x 156 columns]"
            ]
          },
          "metadata": {
            "tags": []
          },
          "execution_count": 50
        }
      ]
    },
    {
      "cell_type": "code",
      "metadata": {
        "id": "44v4wS5WAdTb"
      },
      "source": [
        "o_mes_mais_recente = ordenado_por_total.columns[-1]"
      ],
      "execution_count": 51,
      "outputs": []
    },
    {
      "cell_type": "code",
      "metadata": {
        "colab": {
          "base_uri": "https://localhost:8080/"
        },
        "id": "ejPNAZ1GBRf-",
        "outputId": "ac91306c-a7ff-4116-b27b-b24e97f23a5f"
      },
      "source": [
        "gastos_do_mais_recente = ordenado_por_total[o_mes_mais_recente]\n",
        "gastos_do_mais_recente.head()"
      ],
      "execution_count": 66,
      "outputs": [
        {
          "output_type": "execute_result",
          "data": {
            "text/plain": [
              "Unidade da Federação\n",
              "35 São Paulo           282709570.31\n",
              "31 Minas Gerais        120467187.34\n",
              "41 Paraná               80320852.69\n",
              "43 Rio Grande do Sul    78929703.81\n",
              "33 Rio de Janeiro       71540227.33\n",
              "Name: 2020/Jul, dtype: float64"
            ]
          },
          "metadata": {
            "tags": []
          },
          "execution_count": 66
        }
      ]
    },
    {
      "cell_type": "code",
      "metadata": {
        "id": "ZrWr6iFsBS4d"
      },
      "source": [
        "#Mudando a forma de impressão dos dados para que os valores científicos sejam apresentados como números de ponto flutuante para melhor análise\n",
        "pd.options.display.float_format = \"{:.2f}\".format"
      ],
      "execution_count": 53,
      "outputs": []
    },
    {
      "cell_type": "code",
      "metadata": {
        "colab": {
          "base_uri": "https://localhost:8080/"
        },
        "id": "5sWxjBHvBX_J",
        "outputId": "e04d1b51-238d-4722-cd65-f9333c2462ab"
      },
      "source": [
        "gastos_do_mais_recente = gastos_do_mais_recente/1000000\n",
        "gastos_do_mais_recente = gastos_do_mais_recente.sort_values(ascending=False)\n",
        "gastos_do_mais_recente.head()"
      ],
      "execution_count": 54,
      "outputs": [
        {
          "output_type": "execute_result",
          "data": {
            "text/plain": [
              "Unidade da Federação\n",
              "35 São Paulo           282.71\n",
              "31 Minas Gerais        120.47\n",
              "41 Paraná               80.32\n",
              "43 Rio Grande do Sul    78.93\n",
              "33 Rio de Janeiro       71.54\n",
              "Name: 2020/Jul, dtype: float64"
            ]
          },
          "metadata": {
            "tags": []
          },
          "execution_count": 54
        }
      ]
    },
    {
      "cell_type": "markdown",
      "metadata": {
        "id": "5QCWG0-ZBsmf"
      },
      "source": [
        "#Início do módulo 2"
      ]
    },
    {
      "cell_type": "markdown",
      "metadata": {
        "id": "KgaW1L2FO-JX"
      },
      "source": [
        "#Aula 1 - Fontes externas, limpeza e manipulação"
      ]
    },
    {
      "cell_type": "markdown",
      "metadata": {
        "id": "WviA4diICDMs"
      },
      "source": [
        "Fazendo a análise de gasto proporcional com o total de gastos do país."
      ]
    },
    {
      "cell_type": "code",
      "metadata": {
        "colab": {
          "base_uri": "https://localhost:8080/",
          "height": 404
        },
        "id": "02m_qskTBZNj",
        "outputId": "a5d58ba5-ff60-4d45-9931-050ac58bbabd"
      },
      "source": [
        "gastos_proporcionais = gastos_do_mais_recente / gastos_do_mais_recente.sum()\n",
        "gastos_proporcionais.plot(kind='bar')"
      ],
      "execution_count": 55,
      "outputs": [
        {
          "output_type": "execute_result",
          "data": {
            "text/plain": [
              "<matplotlib.axes._subplots.AxesSubplot at 0x7f5866d73358>"
            ]
          },
          "metadata": {
            "tags": []
          },
          "execution_count": 55
        },
        {
          "output_type": "display_data",
          "data": {
            "image/png": "[encoded data removed]",
            "text/plain": [
              "<Figure size 432x288 with 1 Axes>"
            ]
          },
          "metadata": {
            "tags": [],
            "needs_background": "light"
          }
        }
      ]
    },
    {
      "cell_type": "markdown",
      "metadata": {
        "id": "zT7I2PDwC-vz"
      },
      "source": [
        "##Carregando a populacão dos estados"
      ]
    },
    {
      "cell_type": "markdown",
      "metadata": {
        "id": "cNPrsVWODDWn"
      },
      "source": [
        "Podemos procurar conjuntos de dados tradicionais, como fizemos até agora, para a população brasileira, como por exemplo o site do IBGE etc... Entretanto, para aprendizado iremos obter esses dados de um modo diferente, primeiro veremos abrindo normalmente um arquivo xlsx do excel, e posteriormente a outra maneira."
      ]
    },
    {
      "cell_type": "code",
      "metadata": {
        "colab": {
          "base_uri": "https://localhost:8080/",
          "height": 195
        },
        "id": "by9QT2k1CCBc",
        "outputId": "701f0750-83a8-4459-bc62-e9495fda3aff"
      },
      "source": [
        "ibge_estimativa = pd.read_excel('https://github.com/alura-cursos/agendamento-hospitalar/raw/main/dados/estimativa_dou_2020.xls', header=1)\n",
        "ibge_estimativa.head()"
      ],
      "execution_count": 56,
      "outputs": [
        {
          "output_type": "execute_result",
          "data": {
            "text/html": [
              "<div>\n",
              "<style scoped>\n",
              "    .dataframe tbody tr th:only-of-type {\n",
              "        vertical-align: middle;\n",
              "    }\n",
              "\n",
              "    .dataframe tbody tr th {\n",
              "        vertical-align: top;\n",
              "    }\n",
              "\n",
              "    .dataframe thead th {\n",
              "        text-align: right;\n",
              "    }\n",
              "</style>\n",
              "<table border=\"1\" class=\"dataframe\">\n",
              "  <thead>\n",
              "    <tr style=\"text-align: right;\">\n",
              "      <th></th>\n",
              "      <th>BRASIL E UNIDADES DA FEDERAÇÃO</th>\n",
              "      <th>Unnamed: 1</th>\n",
              "      <th>POPULAÇÃO ESTIMADA</th>\n",
              "    </tr>\n",
              "  </thead>\n",
              "  <tbody>\n",
              "    <tr>\n",
              "      <th>0</th>\n",
              "      <td>Brasil</td>\n",
              "      <td>nan</td>\n",
              "      <td>211755692</td>\n",
              "    </tr>\n",
              "    <tr>\n",
              "      <th>1</th>\n",
              "      <td>Região Norte</td>\n",
              "      <td>nan</td>\n",
              "      <td>18672591</td>\n",
              "    </tr>\n",
              "    <tr>\n",
              "      <th>2</th>\n",
              "      <td>Rondônia</td>\n",
              "      <td>nan</td>\n",
              "      <td>1796460</td>\n",
              "    </tr>\n",
              "    <tr>\n",
              "      <th>3</th>\n",
              "      <td>Acre</td>\n",
              "      <td>nan</td>\n",
              "      <td>894470</td>\n",
              "    </tr>\n",
              "    <tr>\n",
              "      <th>4</th>\n",
              "      <td>Amazonas</td>\n",
              "      <td>nan</td>\n",
              "      <td>4207714</td>\n",
              "    </tr>\n",
              "  </tbody>\n",
              "</table>\n",
              "</div>"
            ],
            "text/plain": [
              "  BRASIL E UNIDADES DA FEDERAÇÃO  Unnamed: 1 POPULAÇÃO ESTIMADA\n",
              "0                         Brasil         nan          211755692\n",
              "1                   Região Norte         nan           18672591\n",
              "2                       Rondônia         nan            1796460\n",
              "3                           Acre         nan             894470\n",
              "4                       Amazonas         nan            4207714"
            ]
          },
          "metadata": {
            "tags": []
          },
          "execution_count": 56
        }
      ]
    },
    {
      "cell_type": "markdown",
      "metadata": {
        "id": "35HK9Y3DDQui"
      },
      "source": [
        "##Lendo arquivos com fluxo de dados usando StringIO."
      ]
    },
    {
      "cell_type": "markdown",
      "metadata": {
        "id": "WSBuNhC5EcK-"
      },
      "source": [
        "Agora sim, veremos uma forma totalmente nova de carregar os dados, uma vez que ler excel não é realmente um desafio. Também devemos considerar que dependendo do que buscamos, não temos nem de onde baixar. No exemplo a seguir iremos acessar a população conforme está descrito na página do wikipedia.\n",
        "Link: https://pt.wikipedia.org/wiki/Lista_de_unidades_federativas_do_Brasil_por_popula%C3%A7%C3%A3o"
      ]
    },
    {
      "cell_type": "markdown",
      "metadata": {
        "id": "tReBSRXVE-rR"
      },
      "source": [
        "Primeiro faremos um \"copy and paste\" da própria página"
      ]
    },
    {
      "cell_type": "code",
      "metadata": {
        "id": "GZnpUI1tEFu7"
      },
      "source": [
        "dados_da_populacao = \"\"\"Posição\tUnidade federativa\tPopulação\t% da pop. total\tPaís comparável\n",
        "(habitantes)\n",
        "\n",
        "1\t São Paulo\t46 289 333\t21,9%\tFlag of Spain.svg Espanha (46 439 864)\n",
        "2\t Minas Gerais\t21 331 292\t10,1%\t Sri Lanka (20 675 000)\n",
        "3\t Rio de Janeiro\t17 366 189\t8,2%\t Países Baixos (16 922 900)\n",
        "4\tBahia Bahia\t14 930 634\t7,1%\t Chade (14 037 000)\n",
        "5\t Paraná\t11 516 840\t5,4%\t Bolívia (11 410 651)\n",
        "6\t Rio Grande do Sul\t11 422 973\t5,4%\t Bélgica (11 250 659)\n",
        "7\t Pernambuco\t9 616 621\t4,5%\t Bielorrússia (9 485 300)\n",
        "8\t Ceará\t9 187 103\t4,3%\t Emirados Árabes Unidos (9 157 000)\n",
        "9\tPará Pará\t8 690 745\t4,1%\t Áustria (8 602 112)\n",
        "10\t Santa Catarina\t7 279 638\t3,4%\t Sérvia (7 114 393)\n",
        "12\t Goiás\t7 142 070\t3,4%\t Paraguai (7 003 406)\n",
        "11\t Maranhão\t7 127 460\t3,4%\t Paraguai (7 003 406)\n",
        "13\t Amazonas\t4 228 381\t2,0%\t Líbano (4 168 000)\n",
        "14\t Espírito Santo\t4 064 052\t1,9%\t Líbano (4 168 000)\n",
        "15\t Paraíba\t4 039 277\t1,9%\t Líbano (4 168 000)\n",
        "16\t Rio Grande do Norte\t3 534 165\t1,7%\t Uruguai (3 415 866)\n",
        "17\t Mato Grosso\t3 526 220\t1,7%\t Uruguai (3 415 866)\n",
        "18\t Alagoas\t3 351 543\t1,6%\t Uruguai (3 415 866)\n",
        "19\t Piauí\t3 281 480\t1,6%\t Kuwait (3 268 431)\n",
        "20\t Distrito Federal\t3 055 149\t1,4%\t Lituânia (2 900 787)\n",
        "21\t Mato Grosso do Sul\t2 809 394\t1,3%\t Jamaica (2 717 991)\n",
        "22\t Sergipe\t2 318 822\t1,1%\t Namíbia (2 280 700)\n",
        "23\t Rondônia\t1 796 460\t0,8%\t Gabão (1 725 000)\n",
        "24\t Tocantins\t1 590 248\t0,7%\t Bahrein (1 359 800)\n",
        "25\t Acre\t894 470\t0,4%\t Fiji (859 178)\n",
        "26\t Amapá\t861 773\t0,4%\t Fiji (859 178)\n",
        "27\t Roraima\t631 181\t0,3%\t Luxemburgo (562 958)\"\"\""
      ],
      "execution_count": 57,
      "outputs": []
    },
    {
      "cell_type": "markdown",
      "metadata": {
        "id": "S8VMnG5aFs9s"
      },
      "source": [
        "Importante, para que se mantenha um aspecto multi-linha é necessário incluir 3 aspas no início e no final da informação para que o python reconheça. Agora sim, iremos ler esses dados, se observarmos ele é similar um arquivo csv normal, porém, separado por tab."
      ]
    },
    {
      "cell_type": "code",
      "metadata": {
        "colab": {
          "base_uri": "https://localhost:8080/",
          "height": 538
        },
        "id": "T4Y6i-8ZFqFg",
        "outputId": "41b2ea63-4414-47bd-b661-df4aa0318b75"
      },
      "source": [
        "pd.read_csv(dados_da_populacao, sep='\\t')"
      ],
      "execution_count": 58,
      "outputs": [
        {
          "output_type": "error",
          "ename": "OSError",
          "evalue": "ignored",
          "traceback": [
            "\u001b[0;31m---------------------------------------------------------------------------\u001b[0m",
            "\u001b[0;31mOSError\u001b[0m                                   Traceback (most recent call last)",
            "\u001b[0;32m<ipython-input-58-86ba1e8378a0>\u001b[0m in \u001b[0;36m<module>\u001b[0;34m()\u001b[0m\n\u001b[0;32m----> 1\u001b[0;31m \u001b[0mpd\u001b[0m\u001b[0;34m.\u001b[0m\u001b[0mread_csv\u001b[0m\u001b[0;34m(\u001b[0m\u001b[0mdados_da_populacao\u001b[0m\u001b[0;34m,\u001b[0m \u001b[0msep\u001b[0m\u001b[0;34m=\u001b[0m\u001b[0;34m'\\t'\u001b[0m\u001b[0;34m)\u001b[0m\u001b[0;34m\u001b[0m\u001b[0;34m\u001b[0m\u001b[0m\n\u001b[0m",
            "\u001b[0;32m/usr/local/lib/python3.6/dist-packages/pandas/io/parsers.py\u001b[0m in \u001b[0;36mread_csv\u001b[0;34m(filepath_or_buffer, sep, delimiter, header, names, index_col, usecols, squeeze, prefix, mangle_dupe_cols, dtype, engine, converters, true_values, false_values, skipinitialspace, skiprows, skipfooter, nrows, na_values, keep_default_na, na_filter, verbose, skip_blank_lines, parse_dates, infer_datetime_format, keep_date_col, date_parser, dayfirst, cache_dates, iterator, chunksize, compression, thousands, decimal, lineterminator, quotechar, quoting, doublequote, escapechar, comment, encoding, dialect, error_bad_lines, warn_bad_lines, delim_whitespace, low_memory, memory_map, float_precision)\u001b[0m\n\u001b[1;32m    686\u001b[0m     )\n\u001b[1;32m    687\u001b[0m \u001b[0;34m\u001b[0m\u001b[0m\n\u001b[0;32m--> 688\u001b[0;31m     \u001b[0;32mreturn\u001b[0m \u001b[0m_read\u001b[0m\u001b[0;34m(\u001b[0m\u001b[0mfilepath_or_buffer\u001b[0m\u001b[0;34m,\u001b[0m \u001b[0mkwds\u001b[0m\u001b[0;34m)\u001b[0m\u001b[0;34m\u001b[0m\u001b[0;34m\u001b[0m\u001b[0m\n\u001b[0m\u001b[1;32m    689\u001b[0m \u001b[0;34m\u001b[0m\u001b[0m\n\u001b[1;32m    690\u001b[0m \u001b[0;34m\u001b[0m\u001b[0m\n",
            "\u001b[0;32m/usr/local/lib/python3.6/dist-packages/pandas/io/parsers.py\u001b[0m in \u001b[0;36m_read\u001b[0;34m(filepath_or_buffer, kwds)\u001b[0m\n\u001b[1;32m    452\u001b[0m \u001b[0;34m\u001b[0m\u001b[0m\n\u001b[1;32m    453\u001b[0m     \u001b[0;31m# Create the parser.\u001b[0m\u001b[0;34m\u001b[0m\u001b[0;34m\u001b[0m\u001b[0;34m\u001b[0m\u001b[0m\n\u001b[0;32m--> 454\u001b[0;31m     \u001b[0mparser\u001b[0m \u001b[0;34m=\u001b[0m \u001b[0mTextFileReader\u001b[0m\u001b[0;34m(\u001b[0m\u001b[0mfp_or_buf\u001b[0m\u001b[0;34m,\u001b[0m \u001b[0;34m**\u001b[0m\u001b[0mkwds\u001b[0m\u001b[0;34m)\u001b[0m\u001b[0;34m\u001b[0m\u001b[0;34m\u001b[0m\u001b[0m\n\u001b[0m\u001b[1;32m    455\u001b[0m \u001b[0;34m\u001b[0m\u001b[0m\n\u001b[1;32m    456\u001b[0m     \u001b[0;32mif\u001b[0m \u001b[0mchunksize\u001b[0m \u001b[0;32mor\u001b[0m \u001b[0miterator\u001b[0m\u001b[0;34m:\u001b[0m\u001b[0;34m\u001b[0m\u001b[0;34m\u001b[0m\u001b[0m\n",
            "\u001b[0;32m/usr/local/lib/python3.6/dist-packages/pandas/io/parsers.py\u001b[0m in \u001b[0;36m__init__\u001b[0;34m(self, f, engine, **kwds)\u001b[0m\n\u001b[1;32m    946\u001b[0m             \u001b[0mself\u001b[0m\u001b[0;34m.\u001b[0m\u001b[0moptions\u001b[0m\u001b[0;34m[\u001b[0m\u001b[0;34m\"has_index_names\"\u001b[0m\u001b[0;34m]\u001b[0m \u001b[0;34m=\u001b[0m \u001b[0mkwds\u001b[0m\u001b[0;34m[\u001b[0m\u001b[0;34m\"has_index_names\"\u001b[0m\u001b[0;34m]\u001b[0m\u001b[0;34m\u001b[0m\u001b[0;34m\u001b[0m\u001b[0m\n\u001b[1;32m    947\u001b[0m \u001b[0;34m\u001b[0m\u001b[0m\n\u001b[0;32m--> 948\u001b[0;31m         \u001b[0mself\u001b[0m\u001b[0;34m.\u001b[0m\u001b[0m_make_engine\u001b[0m\u001b[0;34m(\u001b[0m\u001b[0mself\u001b[0m\u001b[0;34m.\u001b[0m\u001b[0mengine\u001b[0m\u001b[0;34m)\u001b[0m\u001b[0;34m\u001b[0m\u001b[0;34m\u001b[0m\u001b[0m\n\u001b[0m\u001b[1;32m    949\u001b[0m \u001b[0;34m\u001b[0m\u001b[0m\n\u001b[1;32m    950\u001b[0m     \u001b[0;32mdef\u001b[0m \u001b[0mclose\u001b[0m\u001b[0;34m(\u001b[0m\u001b[0mself\u001b[0m\u001b[0;34m)\u001b[0m\u001b[0;34m:\u001b[0m\u001b[0;34m\u001b[0m\u001b[0;34m\u001b[0m\u001b[0m\n",
            "\u001b[0;32m/usr/local/lib/python3.6/dist-packages/pandas/io/parsers.py\u001b[0m in \u001b[0;36m_make_engine\u001b[0;34m(self, engine)\u001b[0m\n\u001b[1;32m   1178\u001b[0m     \u001b[0;32mdef\u001b[0m \u001b[0m_make_engine\u001b[0m\u001b[0;34m(\u001b[0m\u001b[0mself\u001b[0m\u001b[0;34m,\u001b[0m \u001b[0mengine\u001b[0m\u001b[0;34m=\u001b[0m\u001b[0;34m\"c\"\u001b[0m\u001b[0;34m)\u001b[0m\u001b[0;34m:\u001b[0m\u001b[0;34m\u001b[0m\u001b[0;34m\u001b[0m\u001b[0m\n\u001b[1;32m   1179\u001b[0m         \u001b[0;32mif\u001b[0m \u001b[0mengine\u001b[0m \u001b[0;34m==\u001b[0m \u001b[0;34m\"c\"\u001b[0m\u001b[0;34m:\u001b[0m\u001b[0;34m\u001b[0m\u001b[0;34m\u001b[0m\u001b[0m\n\u001b[0;32m-> 1180\u001b[0;31m             \u001b[0mself\u001b[0m\u001b[0;34m.\u001b[0m\u001b[0m_engine\u001b[0m \u001b[0;34m=\u001b[0m \u001b[0mCParserWrapper\u001b[0m\u001b[0;34m(\u001b[0m\u001b[0mself\u001b[0m\u001b[0;34m.\u001b[0m\u001b[0mf\u001b[0m\u001b[0;34m,\u001b[0m \u001b[0;34m**\u001b[0m\u001b[0mself\u001b[0m\u001b[0;34m.\u001b[0m\u001b[0moptions\u001b[0m\u001b[0;34m)\u001b[0m\u001b[0;34m\u001b[0m\u001b[0;34m\u001b[0m\u001b[0m\n\u001b[0m\u001b[1;32m   1181\u001b[0m         \u001b[0;32melse\u001b[0m\u001b[0;34m:\u001b[0m\u001b[0;34m\u001b[0m\u001b[0;34m\u001b[0m\u001b[0m\n\u001b[1;32m   1182\u001b[0m             \u001b[0;32mif\u001b[0m \u001b[0mengine\u001b[0m \u001b[0;34m==\u001b[0m \u001b[0;34m\"python\"\u001b[0m\u001b[0;34m:\u001b[0m\u001b[0;34m\u001b[0m\u001b[0;34m\u001b[0m\u001b[0m\n",
            "\u001b[0;32m/usr/local/lib/python3.6/dist-packages/pandas/io/parsers.py\u001b[0m in \u001b[0;36m__init__\u001b[0;34m(self, src, **kwds)\u001b[0m\n\u001b[1;32m   2008\u001b[0m         \u001b[0mkwds\u001b[0m\u001b[0;34m[\u001b[0m\u001b[0;34m\"usecols\"\u001b[0m\u001b[0;34m]\u001b[0m \u001b[0;34m=\u001b[0m \u001b[0mself\u001b[0m\u001b[0;34m.\u001b[0m\u001b[0musecols\u001b[0m\u001b[0;34m\u001b[0m\u001b[0;34m\u001b[0m\u001b[0m\n\u001b[1;32m   2009\u001b[0m \u001b[0;34m\u001b[0m\u001b[0m\n\u001b[0;32m-> 2010\u001b[0;31m         \u001b[0mself\u001b[0m\u001b[0;34m.\u001b[0m\u001b[0m_reader\u001b[0m \u001b[0;34m=\u001b[0m \u001b[0mparsers\u001b[0m\u001b[0;34m.\u001b[0m\u001b[0mTextReader\u001b[0m\u001b[0;34m(\u001b[0m\u001b[0msrc\u001b[0m\u001b[0;34m,\u001b[0m \u001b[0;34m**\u001b[0m\u001b[0mkwds\u001b[0m\u001b[0;34m)\u001b[0m\u001b[0;34m\u001b[0m\u001b[0;34m\u001b[0m\u001b[0m\n\u001b[0m\u001b[1;32m   2011\u001b[0m         \u001b[0mself\u001b[0m\u001b[0;34m.\u001b[0m\u001b[0munnamed_cols\u001b[0m \u001b[0;34m=\u001b[0m \u001b[0mself\u001b[0m\u001b[0;34m.\u001b[0m\u001b[0m_reader\u001b[0m\u001b[0;34m.\u001b[0m\u001b[0munnamed_cols\u001b[0m\u001b[0;34m\u001b[0m\u001b[0;34m\u001b[0m\u001b[0m\n\u001b[1;32m   2012\u001b[0m \u001b[0;34m\u001b[0m\u001b[0m\n",
            "\u001b[0;32mpandas/_libs/parsers.pyx\u001b[0m in \u001b[0;36mpandas._libs.parsers.TextReader.__cinit__\u001b[0;34m()\u001b[0m\n",
            "\u001b[0;32mpandas/_libs/parsers.pyx\u001b[0m in \u001b[0;36mpandas._libs.parsers.TextReader._setup_parser_source\u001b[0;34m()\u001b[0m\n",
            "\u001b[0;31mOSError\u001b[0m: [Errno 36] File name too long: 'Posição\\tUnidade federativa\\tPopulação\\t% da pop. total\\tPaís comparável\\n(habitantes)\\n\\n1\\t São Paulo\\t46 289 333\\t21,9%\\tFlag of Spain.svg Espanha (46 439 864)\\n2\\t Minas Gerais\\t21 331 292\\t10,1%\\t Sri Lanka (20 675 000)\\n3\\t Rio de Janeiro\\t17 366 189\\t8,2%\\t Países Baixos (16 922 900)\\n4\\tBahia Bahia\\t14 930 634\\t7,1%\\t Chade (14 037 000)\\n5\\t Paraná\\t11 516 840\\t5,4%\\t Bolívia (11 410 651)\\n6\\t Rio Grande do Sul\\t11 422 973\\t5,4%\\t Bélgica (11 250 659)\\n7\\t Pernambuco\\t9 616 621\\t4,5%\\t Bielorrússia (9 485 300)\\n8\\t Ceará\\t9 187 103\\t4,3%\\t Emirados Árabes Unidos (9 157 000)\\n9\\tPará Pará\\t8 690 745\\t4,1%\\t Áustria (8 602 112)\\n10\\t Santa Catarina\\t7 279 638\\t3,4%\\t Sérvia (7 114 393)\\n12\\t Goiás\\t7 142 070\\t3,4%\\t Paraguai (7 003 406)\\n11\\t Maranhão\\t7 127 460\\t3,4%\\t Paraguai (7 003 406)\\n13\\t Amazonas\\t4 228 381\\t2,0%\\t Líbano (4 168 000)\\n14\\t Espírito Santo\\t4 064 052\\t1,9%\\t Líbano (4 168 000)\\n15\\t Paraíba\\t4 039 277\\t1,9%\\t Líbano (4 168 000)\\n16\\t Rio Grande do Norte\\t3 534 165\\t1,7%\\t Uruguai (3 415 866)\\n17\\t Mato Grosso\\t3 526 220\\t1,7%\\t Uruguai (3 415 866)\\n18\\t Alagoas\\t3 351 543\\t1,6%\\t Uruguai (3 415 866)\\n19\\t Piauí\\t3 281 480\\t1,6%\\t Kuwait (3 268 431)\\n20\\t Distrito Federal\\t3 055 149\\t1,4%\\t Lituânia (2 900 787)\\n21\\t Mato Grosso do Sul\\t2 809 394\\t1,3%\\t Jamaica (2 717 991)\\n22\\t Sergipe\\t2 318 822\\t1,1%\\t Namíbia (2 280 700)\\n23\\t Rondônia\\t1 796 460\\t0,8%\\t Gabão (1 725 000)\\n24\\t Tocantins\\..."
          ]
        }
      ]
    },
    {
      "cell_type": "markdown",
      "metadata": {
        "id": "UbG-yUcZGXTP"
      },
      "source": [
        "O erro acima ocorre pois o read_csv espera receber um link para um arquivo e não uma variável, porém, ele aceita receber um fluxo de dados, do seguinte modo:"
      ]
    },
    {
      "cell_type": "code",
      "metadata": {
        "colab": {
          "base_uri": "https://localhost:8080/",
          "height": 876
        },
        "id": "-SeqwGd_GKE8",
        "outputId": "08b9093b-03b1-4767-ed64-54baaee6bfa1"
      },
      "source": [
        "#importando StringIO da biblioteca io.\n",
        "from io import StringIO\n",
        "#Transformando o conjunto de dados em um fluxo de entrada e saida.\n",
        "dados_da_populacao_io = StringIO(dados_da_populacao)\n",
        "#realizando a leitura.\n",
        "pd.read_csv(dados_da_populacao_io, sep='\\t')"
      ],
      "execution_count": 59,
      "outputs": [
        {
          "output_type": "execute_result",
          "data": {
            "text/html": [
              "<div>\n",
              "<style scoped>\n",
              "    .dataframe tbody tr th:only-of-type {\n",
              "        vertical-align: middle;\n",
              "    }\n",
              "\n",
              "    .dataframe tbody tr th {\n",
              "        vertical-align: top;\n",
              "    }\n",
              "\n",
              "    .dataframe thead th {\n",
              "        text-align: right;\n",
              "    }\n",
              "</style>\n",
              "<table border=\"1\" class=\"dataframe\">\n",
              "  <thead>\n",
              "    <tr style=\"text-align: right;\">\n",
              "      <th></th>\n",
              "      <th>Posição</th>\n",
              "      <th>Unidade federativa</th>\n",
              "      <th>População</th>\n",
              "      <th>% da pop. total</th>\n",
              "      <th>País comparável</th>\n",
              "    </tr>\n",
              "  </thead>\n",
              "  <tbody>\n",
              "    <tr>\n",
              "      <th>0</th>\n",
              "      <td>(habitantes)</td>\n",
              "      <td>NaN</td>\n",
              "      <td>NaN</td>\n",
              "      <td>NaN</td>\n",
              "      <td>NaN</td>\n",
              "    </tr>\n",
              "    <tr>\n",
              "      <th>1</th>\n",
              "      <td>1</td>\n",
              "      <td>São Paulo</td>\n",
              "      <td>46 289 333</td>\n",
              "      <td>21,9%</td>\n",
              "      <td>Flag of Spain.svg Espanha (46 439 864)</td>\n",
              "    </tr>\n",
              "    <tr>\n",
              "      <th>2</th>\n",
              "      <td>2</td>\n",
              "      <td>Minas Gerais</td>\n",
              "      <td>21 331 292</td>\n",
              "      <td>10,1%</td>\n",
              "      <td>Sri Lanka (20 675 000)</td>\n",
              "    </tr>\n",
              "    <tr>\n",
              "      <th>3</th>\n",
              "      <td>3</td>\n",
              "      <td>Rio de Janeiro</td>\n",
              "      <td>17 366 189</td>\n",
              "      <td>8,2%</td>\n",
              "      <td>Países Baixos (16 922 900)</td>\n",
              "    </tr>\n",
              "    <tr>\n",
              "      <th>4</th>\n",
              "      <td>4</td>\n",
              "      <td>Bahia Bahia</td>\n",
              "      <td>14 930 634</td>\n",
              "      <td>7,1%</td>\n",
              "      <td>Chade (14 037 000)</td>\n",
              "    </tr>\n",
              "    <tr>\n",
              "      <th>5</th>\n",
              "      <td>5</td>\n",
              "      <td>Paraná</td>\n",
              "      <td>11 516 840</td>\n",
              "      <td>5,4%</td>\n",
              "      <td>Bolívia (11 410 651)</td>\n",
              "    </tr>\n",
              "    <tr>\n",
              "      <th>6</th>\n",
              "      <td>6</td>\n",
              "      <td>Rio Grande do Sul</td>\n",
              "      <td>11 422 973</td>\n",
              "      <td>5,4%</td>\n",
              "      <td>Bélgica (11 250 659)</td>\n",
              "    </tr>\n",
              "    <tr>\n",
              "      <th>7</th>\n",
              "      <td>7</td>\n",
              "      <td>Pernambuco</td>\n",
              "      <td>9 616 621</td>\n",
              "      <td>4,5%</td>\n",
              "      <td>Bielorrússia (9 485 300)</td>\n",
              "    </tr>\n",
              "    <tr>\n",
              "      <th>8</th>\n",
              "      <td>8</td>\n",
              "      <td>Ceará</td>\n",
              "      <td>9 187 103</td>\n",
              "      <td>4,3%</td>\n",
              "      <td>Emirados Árabes Unidos (9 157 000)</td>\n",
              "    </tr>\n",
              "    <tr>\n",
              "      <th>9</th>\n",
              "      <td>9</td>\n",
              "      <td>Pará Pará</td>\n",
              "      <td>8 690 745</td>\n",
              "      <td>4,1%</td>\n",
              "      <td>Áustria (8 602 112)</td>\n",
              "    </tr>\n",
              "    <tr>\n",
              "      <th>10</th>\n",
              "      <td>10</td>\n",
              "      <td>Santa Catarina</td>\n",
              "      <td>7 279 638</td>\n",
              "      <td>3,4%</td>\n",
              "      <td>Sérvia (7 114 393)</td>\n",
              "    </tr>\n",
              "    <tr>\n",
              "      <th>11</th>\n",
              "      <td>12</td>\n",
              "      <td>Goiás</td>\n",
              "      <td>7 142 070</td>\n",
              "      <td>3,4%</td>\n",
              "      <td>Paraguai (7 003 406)</td>\n",
              "    </tr>\n",
              "    <tr>\n",
              "      <th>12</th>\n",
              "      <td>11</td>\n",
              "      <td>Maranhão</td>\n",
              "      <td>7 127 460</td>\n",
              "      <td>3,4%</td>\n",
              "      <td>Paraguai (7 003 406)</td>\n",
              "    </tr>\n",
              "    <tr>\n",
              "      <th>13</th>\n",
              "      <td>13</td>\n",
              "      <td>Amazonas</td>\n",
              "      <td>4 228 381</td>\n",
              "      <td>2,0%</td>\n",
              "      <td>Líbano (4 168 000)</td>\n",
              "    </tr>\n",
              "    <tr>\n",
              "      <th>14</th>\n",
              "      <td>14</td>\n",
              "      <td>Espírito Santo</td>\n",
              "      <td>4 064 052</td>\n",
              "      <td>1,9%</td>\n",
              "      <td>Líbano (4 168 000)</td>\n",
              "    </tr>\n",
              "    <tr>\n",
              "      <th>15</th>\n",
              "      <td>15</td>\n",
              "      <td>Paraíba</td>\n",
              "      <td>4 039 277</td>\n",
              "      <td>1,9%</td>\n",
              "      <td>Líbano (4 168 000)</td>\n",
              "    </tr>\n",
              "    <tr>\n",
              "      <th>16</th>\n",
              "      <td>16</td>\n",
              "      <td>Rio Grande do Norte</td>\n",
              "      <td>3 534 165</td>\n",
              "      <td>1,7%</td>\n",
              "      <td>Uruguai (3 415 866)</td>\n",
              "    </tr>\n",
              "    <tr>\n",
              "      <th>17</th>\n",
              "      <td>17</td>\n",
              "      <td>Mato Grosso</td>\n",
              "      <td>3 526 220</td>\n",
              "      <td>1,7%</td>\n",
              "      <td>Uruguai (3 415 866)</td>\n",
              "    </tr>\n",
              "    <tr>\n",
              "      <th>18</th>\n",
              "      <td>18</td>\n",
              "      <td>Alagoas</td>\n",
              "      <td>3 351 543</td>\n",
              "      <td>1,6%</td>\n",
              "      <td>Uruguai (3 415 866)</td>\n",
              "    </tr>\n",
              "    <tr>\n",
              "      <th>19</th>\n",
              "      <td>19</td>\n",
              "      <td>Piauí</td>\n",
              "      <td>3 281 480</td>\n",
              "      <td>1,6%</td>\n",
              "      <td>Kuwait (3 268 431)</td>\n",
              "    </tr>\n",
              "    <tr>\n",
              "      <th>20</th>\n",
              "      <td>20</td>\n",
              "      <td>Distrito Federal</td>\n",
              "      <td>3 055 149</td>\n",
              "      <td>1,4%</td>\n",
              "      <td>Lituânia (2 900 787)</td>\n",
              "    </tr>\n",
              "    <tr>\n",
              "      <th>21</th>\n",
              "      <td>21</td>\n",
              "      <td>Mato Grosso do Sul</td>\n",
              "      <td>2 809 394</td>\n",
              "      <td>1,3%</td>\n",
              "      <td>Jamaica (2 717 991)</td>\n",
              "    </tr>\n",
              "    <tr>\n",
              "      <th>22</th>\n",
              "      <td>22</td>\n",
              "      <td>Sergipe</td>\n",
              "      <td>2 318 822</td>\n",
              "      <td>1,1%</td>\n",
              "      <td>Namíbia (2 280 700)</td>\n",
              "    </tr>\n",
              "    <tr>\n",
              "      <th>23</th>\n",
              "      <td>23</td>\n",
              "      <td>Rondônia</td>\n",
              "      <td>1 796 460</td>\n",
              "      <td>0,8%</td>\n",
              "      <td>Gabão (1 725 000)</td>\n",
              "    </tr>\n",
              "    <tr>\n",
              "      <th>24</th>\n",
              "      <td>24</td>\n",
              "      <td>Tocantins</td>\n",
              "      <td>1 590 248</td>\n",
              "      <td>0,7%</td>\n",
              "      <td>Bahrein (1 359 800)</td>\n",
              "    </tr>\n",
              "    <tr>\n",
              "      <th>25</th>\n",
              "      <td>25</td>\n",
              "      <td>Acre</td>\n",
              "      <td>894 470</td>\n",
              "      <td>0,4%</td>\n",
              "      <td>Fiji (859 178)</td>\n",
              "    </tr>\n",
              "    <tr>\n",
              "      <th>26</th>\n",
              "      <td>26</td>\n",
              "      <td>Amapá</td>\n",
              "      <td>861 773</td>\n",
              "      <td>0,4%</td>\n",
              "      <td>Fiji (859 178)</td>\n",
              "    </tr>\n",
              "    <tr>\n",
              "      <th>27</th>\n",
              "      <td>27</td>\n",
              "      <td>Roraima</td>\n",
              "      <td>631 181</td>\n",
              "      <td>0,3%</td>\n",
              "      <td>Luxemburgo (562 958)</td>\n",
              "    </tr>\n",
              "  </tbody>\n",
              "</table>\n",
              "</div>"
            ],
            "text/plain": [
              "         Posição  ...                         País comparável\n",
              "0   (habitantes)  ...                                     NaN\n",
              "1              1  ...  Flag of Spain.svg Espanha (46 439 864)\n",
              "2              2  ...                  Sri Lanka (20 675 000)\n",
              "3              3  ...              Países Baixos (16 922 900)\n",
              "4              4  ...                      Chade (14 037 000)\n",
              "5              5  ...                    Bolívia (11 410 651)\n",
              "6              6  ...                    Bélgica (11 250 659)\n",
              "7              7  ...                Bielorrússia (9 485 300)\n",
              "8              8  ...      Emirados Árabes Unidos (9 157 000)\n",
              "9              9  ...                     Áustria (8 602 112)\n",
              "10            10  ...                      Sérvia (7 114 393)\n",
              "11            12  ...                    Paraguai (7 003 406)\n",
              "12            11  ...                    Paraguai (7 003 406)\n",
              "13            13  ...                      Líbano (4 168 000)\n",
              "14            14  ...                      Líbano (4 168 000)\n",
              "15            15  ...                      Líbano (4 168 000)\n",
              "16            16  ...                     Uruguai (3 415 866)\n",
              "17            17  ...                     Uruguai (3 415 866)\n",
              "18            18  ...                     Uruguai (3 415 866)\n",
              "19            19  ...                      Kuwait (3 268 431)\n",
              "20            20  ...                    Lituânia (2 900 787)\n",
              "21            21  ...                     Jamaica (2 717 991)\n",
              "22            22  ...                     Namíbia (2 280 700)\n",
              "23            23  ...                       Gabão (1 725 000)\n",
              "24            24  ...                     Bahrein (1 359 800)\n",
              "25            25  ...                          Fiji (859 178)\n",
              "26            26  ...                          Fiji (859 178)\n",
              "27            27  ...                    Luxemburgo (562 958)\n",
              "\n",
              "[28 rows x 5 columns]"
            ]
          },
          "metadata": {
            "tags": []
          },
          "execution_count": 59
        }
      ]
    },
    {
      "cell_type": "markdown",
      "metadata": {
        "id": "i5wJnTDeGy8l"
      },
      "source": [
        "Como se fosse mágica, não?"
      ]
    },
    {
      "cell_type": "markdown",
      "metadata": {
        "id": "Szys0hdzHQsm"
      },
      "source": [
        "##Desafio 1: Ler o arquivo diretamente da página da internet, direto do wikipedia."
      ]
    },
    {
      "cell_type": "markdown",
      "metadata": {
        "id": "gHBi_QQJDcSD"
      },
      "source": [
        "###Lendo arquivo usando read_html"
      ]
    },
    {
      "cell_type": "code",
      "metadata": {
        "id": "z_WF3E6wGvuk"
      },
      "source": [
        "#utilizando o read_html para carregar a página da wikipedia\n",
        "dados_desafio = pd.read_html('https://pt.wikipedia.org/wiki/Lista_de_unidades_federativas_do_Brasil_por_popula%C3%A7%C3%A3o')\n",
        "#selecionando a primeira tabela da página e lendo\n",
        "dados_desafio = dados_desafio[0]"
      ],
      "execution_count": 60,
      "outputs": []
    },
    {
      "cell_type": "markdown",
      "metadata": {
        "id": "IlVd9AoPH9_x"
      },
      "source": [
        "##Desafio 2: \n",
        "- Mudar o nome das colunas, de Unidade Federativa para uf e População para populacao, e deixar uf como índice.\n",
        "- Modificar os valores da população para número, uma vez que eles estão separados por espaço "
      ]
    },
    {
      "cell_type": "markdown",
      "metadata": {
        "id": "NgUt5xP3DjEM"
      },
      "source": [
        "###limpeza de dados"
      ]
    },
    {
      "cell_type": "code",
      "metadata": {
        "colab": {
          "base_uri": "https://localhost:8080/",
          "height": 376
        },
        "id": "taAXLpTRHgh4",
        "outputId": "b20e186b-dd09-40c7-8165-a8c344910362"
      },
      "source": [
        "dados_desafio['populacao'] = dados_desafio['População']\n",
        "dados_desafio['uf'] = dados_desafio['Unidade federativa']\n",
        "#para excluir valores NaN\n",
        "dados_desafio = dados_desafio.dropna()\n",
        "#para arrancar os espaços entre os números utilizando o replace, porém com as funções de strig, \n",
        "#incluido .str antes do replace, se não for passado o método str o pandas também possui um replace que não funciona do mesmo modo.\n",
        "dados_desafio['populacao'] = dados_desafio['População'].str.replace(' ','').astype(int)\n",
        "#deixando o dataframe apenas com a coluna populacao e uf e setando uf como índice\n",
        "dados_desafio = dados_desafio[['populacao', 'uf']].set_index('uf')\n",
        "display(dados_desafio.head())\n",
        "display(dados_desafio.info())"
      ],
      "execution_count": 17,
      "outputs": [
        {
          "output_type": "display_data",
          "data": {
            "text/html": [
              "<div>\n",
              "<style scoped>\n",
              "    .dataframe tbody tr th:only-of-type {\n",
              "        vertical-align: middle;\n",
              "    }\n",
              "\n",
              "    .dataframe tbody tr th {\n",
              "        vertical-align: top;\n",
              "    }\n",
              "\n",
              "    .dataframe thead th {\n",
              "        text-align: right;\n",
              "    }\n",
              "</style>\n",
              "<table border=\"1\" class=\"dataframe\">\n",
              "  <thead>\n",
              "    <tr style=\"text-align: right;\">\n",
              "      <th></th>\n",
              "      <th>populacao</th>\n",
              "    </tr>\n",
              "    <tr>\n",
              "      <th>uf</th>\n",
              "      <th></th>\n",
              "    </tr>\n",
              "  </thead>\n",
              "  <tbody>\n",
              "    <tr>\n",
              "      <th>São Paulo</th>\n",
              "      <td>46289333</td>\n",
              "    </tr>\n",
              "    <tr>\n",
              "      <th>Minas Gerais</th>\n",
              "      <td>21331292</td>\n",
              "    </tr>\n",
              "    <tr>\n",
              "      <th>Rio de Janeiro</th>\n",
              "      <td>17366189</td>\n",
              "    </tr>\n",
              "    <tr>\n",
              "      <th>Bahia</th>\n",
              "      <td>14930634</td>\n",
              "    </tr>\n",
              "    <tr>\n",
              "      <th>Paraná</th>\n",
              "      <td>11516840</td>\n",
              "    </tr>\n",
              "  </tbody>\n",
              "</table>\n",
              "</div>"
            ],
            "text/plain": [
              "                populacao\n",
              "uf                       \n",
              "São Paulo        46289333\n",
              "Minas Gerais     21331292\n",
              "Rio de Janeiro   17366189\n",
              "Bahia            14930634\n",
              "Paraná           11516840"
            ]
          },
          "metadata": {
            "tags": []
          }
        },
        {
          "output_type": "stream",
          "text": [
            "<class 'pandas.core.frame.DataFrame'>\n",
            "Index: 27 entries, São Paulo to Roraima\n",
            "Data columns (total 1 columns):\n",
            " #   Column     Non-Null Count  Dtype\n",
            "---  ------     --------------  -----\n",
            " 0   populacao  27 non-null     int64\n",
            "dtypes: int64(1)\n",
            "memory usage: 432.0+ bytes\n"
          ],
          "name": "stdout"
        },
        {
          "output_type": "display_data",
          "data": {
            "text/plain": [
              "None"
            ]
          },
          "metadata": {
            "tags": []
          }
        }
      ]
    },
    {
      "cell_type": "markdown",
      "metadata": {
        "id": "ouph5jwsL0bG"
      },
      "source": [
        "###Um exemplo de uso do método .str"
      ]
    },
    {
      "cell_type": "code",
      "metadata": {
        "colab": {
          "base_uri": "https://localhost:8080/"
        },
        "id": "7gXvm0cTIafl",
        "outputId": "3759bc7f-d91c-41d4-88b3-cff8be5b6e2f"
      },
      "source": [
        "dados_desafio.index.str[:3]"
      ],
      "execution_count": 26,
      "outputs": [
        {
          "output_type": "execute_result",
          "data": {
            "text/plain": [
              "Index(['São', 'Min', 'Rio', 'Bah', 'Par', 'Rio', 'Per', 'Cea', 'Par', 'San',\n",
              "       'Goi', 'Mar', 'Ama', 'Esp', 'Par', 'Rio', 'Mat', 'Ala', 'Pia', 'Dis',\n",
              "       'Mat', 'Ser', 'Ron', 'Toc', 'Acr', 'Ama', 'Ror'],\n",
              "      dtype='object', name='uf')"
            ]
          },
          "metadata": {
            "tags": []
          },
          "execution_count": 26
        }
      ]
    },
    {
      "cell_type": "markdown",
      "metadata": {
        "id": "Q1JSfnMdMv8c"
      },
      "source": [
        "##Retomando a aula"
      ]
    },
    {
      "cell_type": "markdown",
      "metadata": {
        "id": "7lxW97NOMyv8"
      },
      "source": [
        "Irei puxar as transformações que realizei para a variável 'populacao' para seguir exatamente como na aula."
      ]
    },
    {
      "cell_type": "code",
      "metadata": {
        "id": "LFyfnLLsL8-x"
      },
      "source": [
        "populacao = dados_desafio"
      ],
      "execution_count": 19,
      "outputs": []
    },
    {
      "cell_type": "markdown",
      "metadata": {
        "id": "vC_Mp9TQDxLq"
      },
      "source": [
        "##Usando o método join para cruzar tabelas."
      ]
    },
    {
      "cell_type": "markdown",
      "metadata": {
        "id": "TbsEBCPAM_jE"
      },
      "source": [
        "Queremos agora cruzar esses dados com os dados da tabela de gastos do mes mais recente do SUS."
      ]
    },
    {
      "cell_type": "code",
      "metadata": {
        "colab": {
          "base_uri": "https://localhost:8080/"
        },
        "id": "FCJ_P9CCM8Dr",
        "outputId": "b2d7f00c-cc54-4f66-fed7-52736e793135"
      },
      "source": [
        "gastos_do_mais_recente.head()"
      ],
      "execution_count": 20,
      "outputs": [
        {
          "output_type": "execute_result",
          "data": {
            "text/plain": [
              "Unidade da Federação\n",
              "35 São Paulo           282.71\n",
              "31 Minas Gerais        120.47\n",
              "41 Paraná               80.32\n",
              "43 Rio Grande do Sul    78.93\n",
              "33 Rio de Janeiro       71.54\n",
              "Name: 2020/Jul, dtype: float64"
            ]
          },
          "metadata": {
            "tags": []
          },
          "execution_count": 20
        }
      ]
    },
    {
      "cell_type": "code",
      "metadata": {
        "colab": {
          "base_uri": "https://localhost:8080/",
          "height": 225
        },
        "id": "RKvaFLJHNHIf",
        "outputId": "69adc787-572e-43ae-f3fa-91ea3dcc4336"
      },
      "source": [
        "populacao.head()"
      ],
      "execution_count": 21,
      "outputs": [
        {
          "output_type": "execute_result",
          "data": {
            "text/html": [
              "<div>\n",
              "<style scoped>\n",
              "    .dataframe tbody tr th:only-of-type {\n",
              "        vertical-align: middle;\n",
              "    }\n",
              "\n",
              "    .dataframe tbody tr th {\n",
              "        vertical-align: top;\n",
              "    }\n",
              "\n",
              "    .dataframe thead th {\n",
              "        text-align: right;\n",
              "    }\n",
              "</style>\n",
              "<table border=\"1\" class=\"dataframe\">\n",
              "  <thead>\n",
              "    <tr style=\"text-align: right;\">\n",
              "      <th></th>\n",
              "      <th>populacao</th>\n",
              "    </tr>\n",
              "    <tr>\n",
              "      <th>uf</th>\n",
              "      <th></th>\n",
              "    </tr>\n",
              "  </thead>\n",
              "  <tbody>\n",
              "    <tr>\n",
              "      <th>São Paulo</th>\n",
              "      <td>46289333</td>\n",
              "    </tr>\n",
              "    <tr>\n",
              "      <th>Minas Gerais</th>\n",
              "      <td>21331292</td>\n",
              "    </tr>\n",
              "    <tr>\n",
              "      <th>Rio de Janeiro</th>\n",
              "      <td>17366189</td>\n",
              "    </tr>\n",
              "    <tr>\n",
              "      <th>Bahia</th>\n",
              "      <td>14930634</td>\n",
              "    </tr>\n",
              "    <tr>\n",
              "      <th>Paraná</th>\n",
              "      <td>11516840</td>\n",
              "    </tr>\n",
              "  </tbody>\n",
              "</table>\n",
              "</div>"
            ],
            "text/plain": [
              "                populacao\n",
              "uf                       \n",
              "São Paulo        46289333\n",
              "Minas Gerais     21331292\n",
              "Rio de Janeiro   17366189\n",
              "Bahia            14930634\n",
              "Paraná           11516840"
            ]
          },
          "metadata": {
            "tags": []
          },
          "execution_count": 21
        }
      ]
    },
    {
      "cell_type": "markdown",
      "metadata": {
        "id": "T5e0d_oUNU4n"
      },
      "source": [
        "Como unificar as tabelas?"
      ]
    },
    {
      "cell_type": "code",
      "metadata": {
        "colab": {
          "base_uri": "https://localhost:8080/",
          "height": 876
        },
        "id": "-xPEJUXpNKqz",
        "outputId": "7304855f-c98d-40be-9cbd-4bb6e2d260fc"
      },
      "source": [
        "populacao.join(gastos_do_mais_recente)"
      ],
      "execution_count": 22,
      "outputs": [
        {
          "output_type": "execute_result",
          "data": {
            "text/html": [
              "<div>\n",
              "<style scoped>\n",
              "    .dataframe tbody tr th:only-of-type {\n",
              "        vertical-align: middle;\n",
              "    }\n",
              "\n",
              "    .dataframe tbody tr th {\n",
              "        vertical-align: top;\n",
              "    }\n",
              "\n",
              "    .dataframe thead th {\n",
              "        text-align: right;\n",
              "    }\n",
              "</style>\n",
              "<table border=\"1\" class=\"dataframe\">\n",
              "  <thead>\n",
              "    <tr style=\"text-align: right;\">\n",
              "      <th></th>\n",
              "      <th>populacao</th>\n",
              "      <th>2020/Jul</th>\n",
              "    </tr>\n",
              "    <tr>\n",
              "      <th>uf</th>\n",
              "      <th></th>\n",
              "      <th></th>\n",
              "    </tr>\n",
              "  </thead>\n",
              "  <tbody>\n",
              "    <tr>\n",
              "      <th>São Paulo</th>\n",
              "      <td>46289333</td>\n",
              "      <td>nan</td>\n",
              "    </tr>\n",
              "    <tr>\n",
              "      <th>Minas Gerais</th>\n",
              "      <td>21331292</td>\n",
              "      <td>nan</td>\n",
              "    </tr>\n",
              "    <tr>\n",
              "      <th>Rio de Janeiro</th>\n",
              "      <td>17366189</td>\n",
              "      <td>nan</td>\n",
              "    </tr>\n",
              "    <tr>\n",
              "      <th>Bahia</th>\n",
              "      <td>14930634</td>\n",
              "      <td>nan</td>\n",
              "    </tr>\n",
              "    <tr>\n",
              "      <th>Paraná</th>\n",
              "      <td>11516840</td>\n",
              "      <td>nan</td>\n",
              "    </tr>\n",
              "    <tr>\n",
              "      <th>Rio Grande do Sul</th>\n",
              "      <td>11422973</td>\n",
              "      <td>nan</td>\n",
              "    </tr>\n",
              "    <tr>\n",
              "      <th>Pernambuco</th>\n",
              "      <td>9616621</td>\n",
              "      <td>nan</td>\n",
              "    </tr>\n",
              "    <tr>\n",
              "      <th>Ceará</th>\n",
              "      <td>9187103</td>\n",
              "      <td>nan</td>\n",
              "    </tr>\n",
              "    <tr>\n",
              "      <th>Pará</th>\n",
              "      <td>8690745</td>\n",
              "      <td>nan</td>\n",
              "    </tr>\n",
              "    <tr>\n",
              "      <th>Santa Catarina</th>\n",
              "      <td>7279638</td>\n",
              "      <td>nan</td>\n",
              "    </tr>\n",
              "    <tr>\n",
              "      <th>Goiás</th>\n",
              "      <td>7142070</td>\n",
              "      <td>nan</td>\n",
              "    </tr>\n",
              "    <tr>\n",
              "      <th>Maranhão</th>\n",
              "      <td>7127460</td>\n",
              "      <td>nan</td>\n",
              "    </tr>\n",
              "    <tr>\n",
              "      <th>Amazonas</th>\n",
              "      <td>4228381</td>\n",
              "      <td>nan</td>\n",
              "    </tr>\n",
              "    <tr>\n",
              "      <th>Espírito Santo</th>\n",
              "      <td>4064052</td>\n",
              "      <td>nan</td>\n",
              "    </tr>\n",
              "    <tr>\n",
              "      <th>Paraíba</th>\n",
              "      <td>4039277</td>\n",
              "      <td>nan</td>\n",
              "    </tr>\n",
              "    <tr>\n",
              "      <th>Rio Grande do Norte</th>\n",
              "      <td>3534165</td>\n",
              "      <td>nan</td>\n",
              "    </tr>\n",
              "    <tr>\n",
              "      <th>Mato Grosso</th>\n",
              "      <td>3526220</td>\n",
              "      <td>nan</td>\n",
              "    </tr>\n",
              "    <tr>\n",
              "      <th>Alagoas</th>\n",
              "      <td>3351543</td>\n",
              "      <td>nan</td>\n",
              "    </tr>\n",
              "    <tr>\n",
              "      <th>Piauí</th>\n",
              "      <td>3281480</td>\n",
              "      <td>nan</td>\n",
              "    </tr>\n",
              "    <tr>\n",
              "      <th>Distrito Federal</th>\n",
              "      <td>3055149</td>\n",
              "      <td>nan</td>\n",
              "    </tr>\n",
              "    <tr>\n",
              "      <th>Mato Grosso do Sul</th>\n",
              "      <td>2809394</td>\n",
              "      <td>nan</td>\n",
              "    </tr>\n",
              "    <tr>\n",
              "      <th>Sergipe</th>\n",
              "      <td>2318822</td>\n",
              "      <td>nan</td>\n",
              "    </tr>\n",
              "    <tr>\n",
              "      <th>Rondônia</th>\n",
              "      <td>1796460</td>\n",
              "      <td>nan</td>\n",
              "    </tr>\n",
              "    <tr>\n",
              "      <th>Tocantins</th>\n",
              "      <td>1590248</td>\n",
              "      <td>nan</td>\n",
              "    </tr>\n",
              "    <tr>\n",
              "      <th>Acre</th>\n",
              "      <td>894470</td>\n",
              "      <td>nan</td>\n",
              "    </tr>\n",
              "    <tr>\n",
              "      <th>Amapá</th>\n",
              "      <td>861773</td>\n",
              "      <td>nan</td>\n",
              "    </tr>\n",
              "    <tr>\n",
              "      <th>Roraima</th>\n",
              "      <td>631181</td>\n",
              "      <td>nan</td>\n",
              "    </tr>\n",
              "  </tbody>\n",
              "</table>\n",
              "</div>"
            ],
            "text/plain": [
              "                     populacao  2020/Jul\n",
              "uf                                      \n",
              "São Paulo             46289333       nan\n",
              "Minas Gerais          21331292       nan\n",
              "Rio de Janeiro        17366189       nan\n",
              "Bahia                 14930634       nan\n",
              "Paraná                11516840       nan\n",
              "Rio Grande do Sul     11422973       nan\n",
              "Pernambuco             9616621       nan\n",
              "Ceará                  9187103       nan\n",
              "Pará                   8690745       nan\n",
              "Santa Catarina         7279638       nan\n",
              "Goiás                  7142070       nan\n",
              "Maranhão               7127460       nan\n",
              "Amazonas               4228381       nan\n",
              "Espírito Santo         4064052       nan\n",
              "Paraíba                4039277       nan\n",
              "Rio Grande do Norte    3534165       nan\n",
              "Mato Grosso            3526220       nan\n",
              "Alagoas                3351543       nan\n",
              "Piauí                  3281480       nan\n",
              "Distrito Federal       3055149       nan\n",
              "Mato Grosso do Sul     2809394       nan\n",
              "Sergipe                2318822       nan\n",
              "Rondônia               1796460       nan\n",
              "Tocantins              1590248       nan\n",
              "Acre                    894470       nan\n",
              "Amapá                   861773       nan\n",
              "Roraima                 631181       nan"
            ]
          },
          "metadata": {
            "tags": []
          },
          "execution_count": 22
        }
      ]
    },
    {
      "cell_type": "markdown",
      "metadata": {
        "id": "I5kgdthFNgKJ"
      },
      "source": [
        "A união não funcionou, por que? O primeiro problema é que os estados dos gastos possui números antes dos nomes. Ex: 33 São Paulo"
      ]
    },
    {
      "cell_type": "markdown",
      "metadata": {
        "id": "EhruE-YQD6GF"
      },
      "source": [
        "##Mais limpeza de dados, usando o método str."
      ]
    },
    {
      "cell_type": "code",
      "metadata": {
        "colab": {
          "base_uri": "https://localhost:8080/"
        },
        "id": "g8IgWgxINbZR",
        "outputId": "514dcfc9-b62b-42cf-bd72-d1c86cbe2881"
      },
      "source": [
        "#tirando a numeração na frente do nome dos estados\n",
        "gastos_do_mais_recente.index = gastos_do_mais_recente.index.str[3:]\n",
        "gastos_do_mais_recente.head()"
      ],
      "execution_count": 23,
      "outputs": [
        {
          "output_type": "execute_result",
          "data": {
            "text/plain": [
              "Unidade da Federação\n",
              "São Paulo           282.71\n",
              "Minas Gerais        120.47\n",
              "Paraná               80.32\n",
              "Rio Grande do Sul    78.93\n",
              "Rio de Janeiro       71.54\n",
              "Name: 2020/Jul, dtype: float64"
            ]
          },
          "metadata": {
            "tags": []
          },
          "execution_count": 23
        }
      ]
    },
    {
      "cell_type": "markdown",
      "metadata": {
        "id": "NtauNiktPKps"
      },
      "source": [
        "Tentaremos o join novamente"
      ]
    },
    {
      "cell_type": "code",
      "metadata": {
        "id": "IRK8xFJcPM6u"
      },
      "source": [
        "gastos_e_populacao_recente = populacao.join(gastos_do_mais_recente)"
      ],
      "execution_count": 24,
      "outputs": []
    },
    {
      "cell_type": "markdown",
      "metadata": {
        "id": "bL-BGmp5RyBk"
      },
      "source": [
        "##Desafio 1: Ler a documentação do python relacionado a métodos relacionados a strings"
      ]
    },
    {
      "cell_type": "markdown",
      "metadata": {
        "id": "iwzPoOeMTw6N"
      },
      "source": [
        "##Desafio 2: Estruturar uma função para leitura e limpeza da tabela devolvendo a tabela populacao e a tabela unificada."
      ]
    },
    {
      "cell_type": "markdown",
      "metadata": {
        "id": "fXYG-qQtBJpA"
      },
      "source": [
        "###Definindo a função"
      ]
    },
    {
      "cell_type": "code",
      "metadata": {
        "id": "oQu-9-fxQViB"
      },
      "source": [
        "#Função que recebe dois data_frames, exclui linhas NaN, exclui espaços em branco (caso existam), trata os espaços entre números\n",
        "#transforma a coluna no tipo inteiro.\n",
        "def leitura_limpeza_join (dados_desafio, gastos_do_mais_recente):\n",
        "    dados_desafio = dados_desafio.dropna()\n",
        "    dados_desafio['uf'] = dados_desafio['Unidade federativa'].str.strip()\n",
        "    dados_desafio['populacao'] = dados_desafio['População'].str.replace(' ', '').astype(int)\n",
        "    dados_desafio = dados_desafio[['populacao', 'uf']].set_index('uf')\n",
        "    populacao = dados_desafio\n",
        "\n",
        "    #tirando a numeração na frente do nome dos estados\n",
        "    if gastos_do_mais_recente.index[0][:2].isnumeric() == True:\n",
        "      gastos_do_mais_recente.index = gastos_do_mais_recente.index.str[3:]\n",
        "    \n",
        "    return populacao.join(gastos_do_mais_recente)"
      ],
      "execution_count": 68,
      "outputs": []
    },
    {
      "cell_type": "markdown",
      "metadata": {
        "id": "7y8V_vg2BNgV"
      },
      "source": [
        "###Verificando retorno"
      ]
    },
    {
      "cell_type": "code",
      "metadata": {
        "colab": {
          "base_uri": "https://localhost:8080/",
          "height": 225
        },
        "id": "SSMDYDgF9LgR",
        "outputId": "cd2485ef-ebf3-4756-ee54-4f1e29cae59f"
      },
      "source": [
        "gastos_e_populacao_recente = leitura_limpeza_join(dados_desafio, gastos_do_mais_recente)\n",
        "#dividindo por milhão para facilitar a leitura\n",
        "gastos_e_populacao_recente['2020/Jul'] = gastos_e_populacao_recente['2020/Jul']/1000000\n",
        "gastos_e_populacao_recente.head()"
      ],
      "execution_count": 79,
      "outputs": [
        {
          "output_type": "execute_result",
          "data": {
            "text/html": [
              "<div>\n",
              "<style scoped>\n",
              "    .dataframe tbody tr th:only-of-type {\n",
              "        vertical-align: middle;\n",
              "    }\n",
              "\n",
              "    .dataframe tbody tr th {\n",
              "        vertical-align: top;\n",
              "    }\n",
              "\n",
              "    .dataframe thead th {\n",
              "        text-align: right;\n",
              "    }\n",
              "</style>\n",
              "<table border=\"1\" class=\"dataframe\">\n",
              "  <thead>\n",
              "    <tr style=\"text-align: right;\">\n",
              "      <th></th>\n",
              "      <th>populacao</th>\n",
              "      <th>2020/Jul</th>\n",
              "    </tr>\n",
              "    <tr>\n",
              "      <th>uf</th>\n",
              "      <th></th>\n",
              "      <th></th>\n",
              "    </tr>\n",
              "  </thead>\n",
              "  <tbody>\n",
              "    <tr>\n",
              "      <th>São Paulo</th>\n",
              "      <td>46289333</td>\n",
              "      <td>282.71</td>\n",
              "    </tr>\n",
              "    <tr>\n",
              "      <th>Minas Gerais</th>\n",
              "      <td>21331292</td>\n",
              "      <td>120.47</td>\n",
              "    </tr>\n",
              "    <tr>\n",
              "      <th>Rio de Janeiro</th>\n",
              "      <td>17366189</td>\n",
              "      <td>71.54</td>\n",
              "    </tr>\n",
              "    <tr>\n",
              "      <th>Bahia</th>\n",
              "      <td>14930634</td>\n",
              "      <td>58.90</td>\n",
              "    </tr>\n",
              "    <tr>\n",
              "      <th>Paraná</th>\n",
              "      <td>11516840</td>\n",
              "      <td>80.32</td>\n",
              "    </tr>\n",
              "  </tbody>\n",
              "</table>\n",
              "</div>"
            ],
            "text/plain": [
              "                populacao  2020/Jul\n",
              "uf                                 \n",
              "São Paulo        46289333    282.71\n",
              "Minas Gerais     21331292    120.47\n",
              "Rio de Janeiro   17366189     71.54\n",
              "Bahia            14930634     58.90\n",
              "Paraná           11516840     80.32"
            ]
          },
          "metadata": {
            "tags": []
          },
          "execution_count": 79
        }
      ]
    },
    {
      "cell_type": "markdown",
      "metadata": {
        "id": "ANaGBCqTEBPO"
      },
      "source": [
        "#Aula 2 - Proporcionalidades e Seaborn "
      ]
    },
    {
      "cell_type": "markdown",
      "metadata": {
        "id": "tsj5EsF8HwX4"
      },
      "source": [
        "Todo esse período acima foi trabalhando e juntando dados para que possamos mostrar algo. O exemplo a seguir irá demonstrar uma prática NÃO recomendada, entretanto, que acontece muito no mundo real.\n",
        "\n"
      ]
    },
    {
      "cell_type": "code",
      "metadata": {
        "colab": {
          "base_uri": "https://localhost:8080/",
          "height": 308
        },
        "id": "H5qQSrumAopn",
        "outputId": "40bfb280-f4b1-49cf-f5c5-bd6c03e70f91"
      },
      "source": [
        "#criando uma coluna de gastos com os valores em milhão para exemplo do plot\n",
        "gastos_e_populacao_recente['gastos'] = gastos_e_populacao_recente['2020/Jul']*1000000\n",
        "gastos_e_populacao_recente[['gastos', 'populacao']].plot()"
      ],
      "execution_count": 80,
      "outputs": [
        {
          "output_type": "execute_result",
          "data": {
            "text/plain": [
              "<matplotlib.axes._subplots.AxesSubplot at 0x7f585db8fb70>"
            ]
          },
          "metadata": {
            "tags": []
          },
          "execution_count": 80
        },
        {
          "output_type": "display_data",
          "data": {
            "image/png": "[encoded data removed]",
            "text/plain": [
              "<Figure size 432x288 with 1 Axes>"
            ]
          },
          "metadata": {
            "tags": [],
            "needs_background": "light"
          }
        }
      ]
    },
    {
      "cell_type": "markdown",
      "metadata": {
        "id": "cn09fJJZI7kV"
      },
      "source": [
        "Apesar de existir uma certa correlação entre gastos e população (quanto maior um, maior o outro) a comparação entre eles não tem sentido, uma vez que, gastos são valores monetários e a população é uma contagem, existem duas escalas sem relação, dois eixos de y diferentes. Isso é **horripilante** em termos de data visualization e permite que informações completamente equivocadas sejam repassadas. Em um primeiro momento podemos pensar que o estado de São Paulo tem um gasto incrivelmente mais alto comparado a Rio Grande do Sul, veremos se isso procede."
      ]
    },
    {
      "cell_type": "code",
      "metadata": {
        "colab": {
          "base_uri": "https://localhost:8080/",
          "height": 136
        },
        "id": "VIT9JifbEpAX",
        "outputId": "a17a3fae-696c-4ead-ae11-f929a2bad549"
      },
      "source": [
        "gastos_e_populacao_recente.loc[['Rio Grande do Sul', 'São Paulo']]"
      ],
      "execution_count": 81,
      "outputs": [
        {
          "output_type": "execute_result",
          "data": {
            "text/html": [
              "<div>\n",
              "<style scoped>\n",
              "    .dataframe tbody tr th:only-of-type {\n",
              "        vertical-align: middle;\n",
              "    }\n",
              "\n",
              "    .dataframe tbody tr th {\n",
              "        vertical-align: top;\n",
              "    }\n",
              "\n",
              "    .dataframe thead th {\n",
              "        text-align: right;\n",
              "    }\n",
              "</style>\n",
              "<table border=\"1\" class=\"dataframe\">\n",
              "  <thead>\n",
              "    <tr style=\"text-align: right;\">\n",
              "      <th></th>\n",
              "      <th>populacao</th>\n",
              "      <th>2020/Jul</th>\n",
              "      <th>gastos</th>\n",
              "    </tr>\n",
              "    <tr>\n",
              "      <th>uf</th>\n",
              "      <th></th>\n",
              "      <th></th>\n",
              "      <th></th>\n",
              "    </tr>\n",
              "  </thead>\n",
              "  <tbody>\n",
              "    <tr>\n",
              "      <th>Rio Grande do Sul</th>\n",
              "      <td>11422973</td>\n",
              "      <td>78.93</td>\n",
              "      <td>78929703.81</td>\n",
              "    </tr>\n",
              "    <tr>\n",
              "      <th>São Paulo</th>\n",
              "      <td>46289333</td>\n",
              "      <td>282.71</td>\n",
              "      <td>282709570.31</td>\n",
              "    </tr>\n",
              "  </tbody>\n",
              "</table>\n",
              "</div>"
            ],
            "text/plain": [
              "                   populacao  2020/Jul       gastos\n",
              "uf                                                 \n",
              "Rio Grande do Sul   11422973     78.93  78929703.81\n",
              "São Paulo           46289333    282.71 282709570.31"
            ]
          },
          "metadata": {
            "tags": []
          },
          "execution_count": 81
        }
      ]
    },
    {
      "cell_type": "code",
      "metadata": {
        "colab": {
          "base_uri": "https://localhost:8080/"
        },
        "id": "MyfURYw7Kh3P",
        "outputId": "28c4ae48-56c9-4cbb-e4c4-9c8799d97131"
      },
      "source": [
        "print('Rio Grande do Sul:',78929703.81/11422973)"
      ],
      "execution_count": 86,
      "outputs": [
        {
          "output_type": "stream",
          "text": [
            "Rio Grande do Sul: 6.909733902899009\n"
          ],
          "name": "stdout"
        }
      ]
    },
    {
      "cell_type": "code",
      "metadata": {
        "colab": {
          "base_uri": "https://localhost:8080/"
        },
        "id": "xBJ7jnqAKq0Z",
        "outputId": "a32ff578-5a8d-4a3a-d9cd-1cc1fc0019bf"
      },
      "source": [
        "print('São Paulo:',282709570.31/46289333)"
      ],
      "execution_count": 87,
      "outputs": [
        {
          "output_type": "stream",
          "text": [
            "São Paulo: 6.107445322446102\n"
          ],
          "name": "stdout"
        }
      ]
    },
    {
      "cell_type": "markdown",
      "metadata": {
        "id": "pTFwPoDPLH5h"
      },
      "source": [
        "Temos que o gasto do RS foi de 6.90 por habitante e em SP de 6.10 por habitante, pode isso? Sim, pode! Se olharmos agora o gráfico acima com mais calma poderemos perceber que SP tem uma população de aproximada de 4 vezes comparada a do RS e os gastos de SP são de aproximadamente, também, de 4 vezes mais comparado ao Rio Grande do Sul, entretanto, no gráfico não conseguimos ver que São Paulo tem um gasto praticamente aproximado ao do Rio Grande do Sul por habitante."
      ]
    },
    {
      "cell_type": "code",
      "metadata": {
        "colab": {
          "base_uri": "https://localhost:8080/",
          "height": 225
        },
        "id": "yEHpKlPwKuVP",
        "outputId": "6c33addd-97cf-4c19-90e0-70555510f429"
      },
      "source": [
        "gastos_e_populacao_recente['gasto_por_habitante'] = gastos_e_populacao_recente['gastos'] / gastos_e_populacao_recente['populacao']\n",
        "gastos_e_populacao_recente.head()"
      ],
      "execution_count": 88,
      "outputs": [
        {
          "output_type": "execute_result",
          "data": {
            "text/html": [
              "<div>\n",
              "<style scoped>\n",
              "    .dataframe tbody tr th:only-of-type {\n",
              "        vertical-align: middle;\n",
              "    }\n",
              "\n",
              "    .dataframe tbody tr th {\n",
              "        vertical-align: top;\n",
              "    }\n",
              "\n",
              "    .dataframe thead th {\n",
              "        text-align: right;\n",
              "    }\n",
              "</style>\n",
              "<table border=\"1\" class=\"dataframe\">\n",
              "  <thead>\n",
              "    <tr style=\"text-align: right;\">\n",
              "      <th></th>\n",
              "      <th>populacao</th>\n",
              "      <th>2020/Jul</th>\n",
              "      <th>gastos</th>\n",
              "      <th>gasto_por_habitante</th>\n",
              "    </tr>\n",
              "    <tr>\n",
              "      <th>uf</th>\n",
              "      <th></th>\n",
              "      <th></th>\n",
              "      <th></th>\n",
              "      <th></th>\n",
              "    </tr>\n",
              "  </thead>\n",
              "  <tbody>\n",
              "    <tr>\n",
              "      <th>São Paulo</th>\n",
              "      <td>46289333</td>\n",
              "      <td>282.71</td>\n",
              "      <td>282709570.31</td>\n",
              "      <td>6.11</td>\n",
              "    </tr>\n",
              "    <tr>\n",
              "      <th>Minas Gerais</th>\n",
              "      <td>21331292</td>\n",
              "      <td>120.47</td>\n",
              "      <td>120467187.34</td>\n",
              "      <td>5.65</td>\n",
              "    </tr>\n",
              "    <tr>\n",
              "      <th>Rio de Janeiro</th>\n",
              "      <td>17366189</td>\n",
              "      <td>71.54</td>\n",
              "      <td>71540227.33</td>\n",
              "      <td>4.12</td>\n",
              "    </tr>\n",
              "    <tr>\n",
              "      <th>Bahia</th>\n",
              "      <td>14930634</td>\n",
              "      <td>58.90</td>\n",
              "      <td>58898100.40</td>\n",
              "      <td>3.94</td>\n",
              "    </tr>\n",
              "    <tr>\n",
              "      <th>Paraná</th>\n",
              "      <td>11516840</td>\n",
              "      <td>80.32</td>\n",
              "      <td>80320852.69</td>\n",
              "      <td>6.97</td>\n",
              "    </tr>\n",
              "  </tbody>\n",
              "</table>\n",
              "</div>"
            ],
            "text/plain": [
              "                populacao  2020/Jul       gastos  gasto_por_habitante\n",
              "uf                                                                   \n",
              "São Paulo        46289333    282.71 282709570.31                 6.11\n",
              "Minas Gerais     21331292    120.47 120467187.34                 5.65\n",
              "Rio de Janeiro   17366189     71.54  71540227.33                 4.12\n",
              "Bahia            14930634     58.90  58898100.40                 3.94\n",
              "Paraná           11516840     80.32  80320852.69                 6.97"
            ]
          },
          "metadata": {
            "tags": []
          },
          "execution_count": 88
        }
      ]
    },
    {
      "cell_type": "markdown",
      "metadata": {
        "id": "_nV9bLmlNzDU"
      },
      "source": [
        "Podemos postar os dados relativo a gastos por habitante, dessa vez como gráfico de barras pois já vimos que por linha não teria sentido."
      ]
    },
    {
      "cell_type": "code",
      "metadata": {
        "colab": {
          "base_uri": "https://localhost:8080/",
          "height": 388
        },
        "id": "3iQk89kIM0yU",
        "outputId": "436f74f6-78e4-41c8-90da-33c5b71fe67b"
      },
      "source": [
        "gastos_e_populacao_recente['gasto_por_habitante'].plot(kind='bar')"
      ],
      "execution_count": 90,
      "outputs": [
        {
          "output_type": "execute_result",
          "data": {
            "text/plain": [
              "<matplotlib.axes._subplots.AxesSubplot at 0x7f585dc8ec50>"
            ]
          },
          "metadata": {
            "tags": []
          },
          "execution_count": 90
        },
        {
          "output_type": "display_data",
          "data": {
            "image/png": "[encoded data removed]",
            "text/plain": [
              "<Figure size 432x288 with 1 Axes>"
            ]
          },
          "metadata": {
            "tags": [],
            "needs_background": "light"
          }
        }
      ]
    },
    {
      "cell_type": "markdown",
      "metadata": {
        "id": "mOKuSbqcOHLY"
      },
      "source": [
        "E que tal ordenarmos esse gráfico? Resposta: Não.\n",
        "Caso queiramos dizer qual é o estado que gasta mais por habitante, realmente, ordenar resolveria, porém, se deixarmos o gráfico dessa forma isso representa a ordem de *valor absoluto*, ou seja, o estado que mais gasta (SP) está gastando aproximadamente 6 reais por habitante e Roraima que é o estado que menos gasta está gastando aproximadamente 4.50 reais por pessoa, ou seja, nessa ordem ainda existe uma história sendo contada. Por isso mantemos esse gráfico. "
      ]
    },
    {
      "cell_type": "markdown",
      "metadata": {
        "id": "gddXQI8APCxW"
      },
      "source": [
        "##Desafio 1: Ordenar por gasto por habitante e ordenar por habitantes."
      ]
    },
    {
      "cell_type": "code",
      "metadata": {
        "colab": {
          "base_uri": "https://localhost:8080/",
          "height": 388
        },
        "id": "cWzbqAo9N_kk",
        "outputId": "9ee13f8b-0845-419c-852e-9c78f1d26b20"
      },
      "source": [
        "gasto_por_habitante_ordenado = gastos_e_populacao_recente['gasto_por_habitante'].sort_values(ascending=False)\n",
        "gasto_por_habitante_ordenado.plot(kind='bar')"
      ],
      "execution_count": 91,
      "outputs": [
        {
          "output_type": "execute_result",
          "data": {
            "text/plain": [
              "<matplotlib.axes._subplots.AxesSubplot at 0x7f585da21a20>"
            ]
          },
          "metadata": {
            "tags": []
          },
          "execution_count": 91
        },
        {
          "output_type": "display_data",
          "data": {
            "image/png": "[encoded data removed]",
            "text/plain": [
              "<Figure size 432x288 with 1 Axes>"
            ]
          },
          "metadata": {
            "tags": [],
            "needs_background": "light"
          }
        }
      ]
    },
    {
      "cell_type": "code",
      "metadata": {
        "colab": {
          "base_uri": "https://localhost:8080/",
          "height": 399
        },
        "id": "BSnLYCk5PbCU",
        "outputId": "52ca8567-dd0f-44cc-d87f-85eba846980c"
      },
      "source": [
        "habitantes = gastos_e_populacao_recente['populacao'].sort_values(ascending=False)\n",
        "habitantes.plot(kind='bar')"
      ],
      "execution_count": 93,
      "outputs": [
        {
          "output_type": "execute_result",
          "data": {
            "text/plain": [
              "<matplotlib.axes._subplots.AxesSubplot at 0x7f585d8fdc18>"
            ]
          },
          "metadata": {
            "tags": []
          },
          "execution_count": 93
        },
        {
          "output_type": "display_data",
          "data": {
            "image/png": "[encoded data removed]",
            "text/plain": [
              "<Figure size 432x288 with 1 Axes>"
            ]
          },
          "metadata": {
            "tags": [],
            "needs_background": "light"
          }
        }
      ]
    },
    {
      "cell_type": "markdown",
      "metadata": {
        "id": "dg4AoTuPP3UO"
      },
      "source": [
        "##Gráficos com Seaborn"
      ]
    },
    {
      "cell_type": "code",
      "metadata": {
        "colab": {
          "base_uri": "https://localhost:8080/",
          "height": 307
        },
        "id": "p_X89cuQPm3x",
        "outputId": "b5f5b1eb-86b7-4cc0-c028-060f25a8c946"
      },
      "source": [
        "import seaborn as sns\n",
        "\n",
        "sns.scatterplot(data=gastos_e_populacao_recente, x='populacao', y='gastos')"
      ],
      "execution_count": 95,
      "outputs": [
        {
          "output_type": "execute_result",
          "data": {
            "text/plain": [
              "<matplotlib.axes._subplots.AxesSubplot at 0x7f58537277b8>"
            ]
          },
          "metadata": {
            "tags": []
          },
          "execution_count": 95
        },
        {
          "output_type": "display_data",
          "data": {
            "image/png": "[encoded data removed]",
            "text/plain": [
              "<Figure size 432x288 with 1 Axes>"
            ]
          },
          "metadata": {
            "tags": [],
            "needs_background": "light"
          }
        }
      ]
    },
    {
      "cell_type": "markdown",
      "metadata": {
        "id": "OMyt8Sm0QRXv"
      },
      "source": [
        "O seaborn utiliza o matplotlib por trás de suas funcionalidades.\n",
        "\n",
        "Então ele criou essa imagem com esse tamanho por padrão, a população crescente em dezenas de milhões e os gastos crescendo em centenas de milhões. Claro, é ruim visualizar esse gráfico com os eixos em 1e7 e 1e8, vamos rascunhar e chegaremos no gráfico que queremos. Um modo de melhorar é dividir por milhão."
      ]
    },
    {
      "cell_type": "code",
      "metadata": {
        "colab": {
          "base_uri": "https://localhost:8080/",
          "height": 296
        },
        "id": "9KsItXtAQCf6",
        "outputId": "dd7016cd-b38d-41f5-ee3b-cbce568cd2d4"
      },
      "source": [
        "import seaborn as sns\n",
        "\n",
        "sns.scatterplot(data=gastos_e_populacao_recente/1000000, x='populacao', y='gastos')"
      ],
      "execution_count": 96,
      "outputs": [
        {
          "output_type": "execute_result",
          "data": {
            "text/plain": [
              "<matplotlib.axes._subplots.AxesSubplot at 0x7f58536b94e0>"
            ]
          },
          "metadata": {
            "tags": []
          },
          "execution_count": 96
        },
        {
          "output_type": "display_data",
          "data": {
            "image/png": "[encoded data removed]",
            "text/plain": [
              "<Figure size 432x288 with 1 Axes>"
            ]
          },
          "metadata": {
            "tags": [],
            "needs_background": "light"
          }
        }
      ]
    },
    {
      "cell_type": "markdown",
      "metadata": {
        "id": "exGCaCIvQ8vX"
      },
      "source": [
        "Podemos observar que existe um ponto onde a população é muito grande e o gasto também.\n",
        "Ademais, parece existir uma tendência (uma reta). Uma reta que aproxima os gastos em função da população. Vamos deixar esse gráfico mais quadrado para observarmos melhor essa reta."
      ]
    },
    {
      "cell_type": "code",
      "metadata": {
        "colab": {
          "base_uri": "https://localhost:8080/",
          "height": 459
        },
        "id": "Wk1OoHnwQ2y_",
        "outputId": "0e9a0e4d-b31a-440d-e2f7-8ecb77dcc2d6"
      },
      "source": [
        "plt.figure(figsize=(7,7))\n",
        "sns.scatterplot(data=gastos_e_populacao_recente/1000000, x='populacao', y='gastos')"
      ],
      "execution_count": 101,
      "outputs": [
        {
          "output_type": "execute_result",
          "data": {
            "text/plain": [
              "<matplotlib.axes._subplots.AxesSubplot at 0x7f58531987b8>"
            ]
          },
          "metadata": {
            "tags": []
          },
          "execution_count": 101
        },
        {
          "output_type": "display_data",
          "data": {
            "image/png": "[encoded data removed]",
            "text/plain": [
              "<Figure size 504x504 with 1 Axes>"
            ]
          },
          "metadata": {
            "tags": [],
            "needs_background": "light"
          }
        }
      ]
    },
    {
      "cell_type": "markdown",
      "metadata": {
        "id": "QaM1SsD1SQ1o"
      },
      "source": [
        "Visualizando o gráfico de gasto por habitante."
      ]
    },
    {
      "cell_type": "code",
      "metadata": {
        "colab": {
          "base_uri": "https://localhost:8080/",
          "height": 459
        },
        "id": "4HZWVmMgRucx",
        "outputId": "08237f0e-d07f-4a03-8f8b-408917e2dade"
      },
      "source": [
        "plt.figure(figsize=(7,7))\n",
        "sns.scatterplot(data=gastos_e_populacao_recente, x='populacao', y='gasto_por_habitante')"
      ],
      "execution_count": 100,
      "outputs": [
        {
          "output_type": "execute_result",
          "data": {
            "text/plain": [
              "<matplotlib.axes._subplots.AxesSubplot at 0x7f5853269908>"
            ]
          },
          "metadata": {
            "tags": []
          },
          "execution_count": 100
        },
        {
          "output_type": "display_data",
          "data": {
            "image/png": "[encoded data removed]",
            "text/plain": [
              "<Figure size 504x504 with 1 Axes>"
            ]
          },
          "metadata": {
            "tags": [],
            "needs_background": "light"
          }
        }
      ]
    },
    {
      "cell_type": "markdown",
      "metadata": {
        "id": "xPYL99H0Sg7-"
      },
      "source": [
        "Agora podemos observar valores muito espalhados, a medida que a população aumenta não necessariamente o gasto aumenta, não vemos  uma tendência."
      ]
    },
    {
      "cell_type": "markdown",
      "metadata": {
        "id": "tZR1r3qxSw7t"
      },
      "source": [
        "##Super desafio 1: Fazer os últimos gráficos para o mês anterior a esse."
      ]
    },
    {
      "cell_type": "markdown",
      "metadata": {
        "id": "Brr4G7-ETDJK"
      },
      "source": [
        "##Super desafio 2: Fazer os últimos gráfios com os dois dados no mesmo gráfico."
      ]
    },
    {
      "cell_type": "code",
      "metadata": {
        "id": "IXY5bbKOSKTF"
      },
      "source": [
        ""
      ],
      "execution_count": null,
      "outputs": []
    }
  ]
}
{
  "nbformat": 4,
  "nbformat_minor": 0,
  "metadata": {
    "colab": {
      "name": "Bootcamp Data Science - Módulo 2",
      "provenance": [],
      "collapsed_sections": [],
      "toc_visible": true,
      "authorship_tag": "ABX9TyPkmdkEdhBkH8WI0OXRlc96",
      "include_colab_link": true
    },
    "kernelspec": {
      "name": "python3",
      "display_name": "Python 3"
    }
  },
  "cells": [
    {
      "cell_type": "markdown",
      "metadata": {
        "id": "view-in-github",
        "colab_type": "text"
      },
      "source": [
        "<a href=\"https://colab.research.google.com/github/AdamStamm/bootcamp_alura/blob/main/Notebooks/Bootcamp_Data_Science_M%C3%B3dulo_2.ipynb\" target=\"_parent\"><img src=\"https://colab.research.google.com/assets/colab-badge.svg\" alt=\"Open In Colab\"/></a>"
      ]
    },
    {
      "cell_type": "markdown",
      "metadata": {
        "id": "EDnrc1a6OcXv"
      },
      "source": [
        "#Apresentação\n",
        "\n",
        "Esse notebook contempla os códigos aprendidos no **Módulo 2** do Bootcamp Data Science aplicada desenvolvido pela Alura. O foco de aprendizado é **Visualização de Dados com Seaborn e Matplotlib**."
      ]
    },
    {
      "cell_type": "markdown",
      "metadata": {
        "id": "PVreNnGUVMmU"
      },
      "source": [
        "##Importando bibliotecas necessárias para manipulação de dados"
      ]
    },
    {
      "cell_type": "code",
      "metadata": {
        "id": "OAHIzOfSOb96"
      },
      "source": [
        "import pandas as pd\n",
        "import matplotlib.pyplot as plt\n",
        "import matplotlib.ticker as ticker"
      ],
      "execution_count": 1,
      "outputs": []
    },
    {
      "cell_type": "markdown",
      "metadata": {
        "id": "IPMOgHZPVZxE"
      },
      "source": [
        "##Carregando dados\n",
        "\n",
        "**Os dados estão disponíveis no github da alura através do link:** \n",
        "https://github.com/alura-cursos/agendamento-hospitalar/tree/main/dados\n",
        "\n",
        "*Inicialmente será utilizado o mesmo conjunto de dados da aula 2 do módulo 1"
      ]
    },
    {
      "cell_type": "code",
      "metadata": {
        "colab": {
          "base_uri": "https://localhost:8080/",
          "height": 362
        },
        "id": "inLjqMojVWlF",
        "outputId": "f197b9f6-74f5-442a-9926-a05fc829bead"
      },
      "source": [
        "dados = pd.read_csv(\"https://raw.githubusercontent.com/alura-cursos/agendamento-hospitalar/main/dados/A160324189_28_143_208.csv\",\n",
        "                    encoding=\"ISO-8859-1\", skiprows=3, sep=\";\", skipfooter=12, thousands=\".\", decimal=\",\")\n",
        "dados.head()"
      ],
      "execution_count": 2,
      "outputs": [
        {
          "output_type": "stream",
          "text": [
            "/usr/local/lib/python3.6/dist-packages/ipykernel_launcher.py:2: ParserWarning: Falling back to the 'python' engine because the 'c' engine does not support skipfooter; you can avoid this warning by specifying engine='python'.\n",
            "  \n"
          ],
          "name": "stderr"
        },
        {
          "output_type": "execute_result",
          "data": {
            "text/html": [
              "<div>\n",
              "<style scoped>\n",
              "    .dataframe tbody tr th:only-of-type {\n",
              "        vertical-align: middle;\n",
              "    }\n",
              "\n",
              "    .dataframe tbody tr th {\n",
              "        vertical-align: top;\n",
              "    }\n",
              "\n",
              "    .dataframe thead th {\n",
              "        text-align: right;\n",
              "    }\n",
              "</style>\n",
              "<table border=\"1\" class=\"dataframe\">\n",
              "  <thead>\n",
              "    <tr style=\"text-align: right;\">\n",
              "      <th></th>\n",
              "      <th>Unidade da Federação</th>\n",
              "      <th>1992/Mar</th>\n",
              "      <th>1992/Abr</th>\n",
              "      <th>1993/Mai</th>\n",
              "      <th>1993/Dez</th>\n",
              "      <th>1994/Jan</th>\n",
              "      <th>1994/Fev</th>\n",
              "      <th>1994/Mai</th>\n",
              "      <th>1994/Ago</th>\n",
              "      <th>1994/Nov</th>\n",
              "      <th>1995/Jan</th>\n",
              "      <th>1995/Mar</th>\n",
              "      <th>1995/Jun</th>\n",
              "      <th>1995/Ago</th>\n",
              "      <th>1995/Dez</th>\n",
              "      <th>1996/Fev</th>\n",
              "      <th>1996/Mar</th>\n",
              "      <th>1996/Ago</th>\n",
              "      <th>1996/Dez</th>\n",
              "      <th>1997/Fev</th>\n",
              "      <th>1997/Nov</th>\n",
              "      <th>1998/Fev</th>\n",
              "      <th>1998/Mar</th>\n",
              "      <th>1998/Jul</th>\n",
              "      <th>1998/Ago</th>\n",
              "      <th>1998/Set</th>\n",
              "      <th>1998/Out</th>\n",
              "      <th>1998/Dez</th>\n",
              "      <th>1999/Fev</th>\n",
              "      <th>1999/Mar</th>\n",
              "      <th>1999/Mai</th>\n",
              "      <th>1999/Jul</th>\n",
              "      <th>1999/Ago</th>\n",
              "      <th>1999/Set</th>\n",
              "      <th>1999/Out</th>\n",
              "      <th>1999/Nov</th>\n",
              "      <th>1999/Dez</th>\n",
              "      <th>2000/Jan</th>\n",
              "      <th>2000/Fev</th>\n",
              "      <th>2000/Mar</th>\n",
              "      <th>...</th>\n",
              "      <th>2017/Jun</th>\n",
              "      <th>2017/Jul</th>\n",
              "      <th>2017/Ago</th>\n",
              "      <th>2017/Set</th>\n",
              "      <th>2017/Out</th>\n",
              "      <th>2017/Nov</th>\n",
              "      <th>2017/Dez</th>\n",
              "      <th>2018/Jan</th>\n",
              "      <th>2018/Fev</th>\n",
              "      <th>2018/Mar</th>\n",
              "      <th>2018/Abr</th>\n",
              "      <th>2018/Mai</th>\n",
              "      <th>2018/Jun</th>\n",
              "      <th>2018/Jul</th>\n",
              "      <th>2018/Ago</th>\n",
              "      <th>2018/Set</th>\n",
              "      <th>2018/Out</th>\n",
              "      <th>2018/Nov</th>\n",
              "      <th>2018/Dez</th>\n",
              "      <th>2019/Jan</th>\n",
              "      <th>2019/Fev</th>\n",
              "      <th>2019/Mar</th>\n",
              "      <th>2019/Abr</th>\n",
              "      <th>2019/Mai</th>\n",
              "      <th>2019/Jun</th>\n",
              "      <th>2019/Jul</th>\n",
              "      <th>2019/Ago</th>\n",
              "      <th>2019/Set</th>\n",
              "      <th>2019/Out</th>\n",
              "      <th>2019/Nov</th>\n",
              "      <th>2019/Dez</th>\n",
              "      <th>2020/Jan</th>\n",
              "      <th>2020/Fev</th>\n",
              "      <th>2020/Mar</th>\n",
              "      <th>2020/Abr</th>\n",
              "      <th>2020/Mai</th>\n",
              "      <th>2020/Jun</th>\n",
              "      <th>2020/Jul</th>\n",
              "      <th>2020/Ago</th>\n",
              "      <th>Total</th>\n",
              "    </tr>\n",
              "  </thead>\n",
              "  <tbody>\n",
              "    <tr>\n",
              "      <th>0</th>\n",
              "      <td>11 Rondônia</td>\n",
              "      <td>-</td>\n",
              "      <td>-</td>\n",
              "      <td>-</td>\n",
              "      <td>-</td>\n",
              "      <td>-</td>\n",
              "      <td>-</td>\n",
              "      <td>-</td>\n",
              "      <td>-</td>\n",
              "      <td>-</td>\n",
              "      <td>-</td>\n",
              "      <td>-</td>\n",
              "      <td>-</td>\n",
              "      <td>-</td>\n",
              "      <td>-</td>\n",
              "      <td>-</td>\n",
              "      <td>-</td>\n",
              "      <td>-</td>\n",
              "      <td>-</td>\n",
              "      <td>-</td>\n",
              "      <td>-</td>\n",
              "      <td>-</td>\n",
              "      <td>-</td>\n",
              "      <td>-</td>\n",
              "      <td>-</td>\n",
              "      <td>-</td>\n",
              "      <td>-</td>\n",
              "      <td>-</td>\n",
              "      <td>-</td>\n",
              "      <td>-</td>\n",
              "      <td>-</td>\n",
              "      <td>-</td>\n",
              "      <td>-</td>\n",
              "      <td>-</td>\n",
              "      <td>-</td>\n",
              "      <td>-</td>\n",
              "      <td>-</td>\n",
              "      <td>-</td>\n",
              "      <td>-</td>\n",
              "      <td>-</td>\n",
              "      <td>...</td>\n",
              "      <td>8041248.80</td>\n",
              "      <td>8199032.67</td>\n",
              "      <td>8363386.07</td>\n",
              "      <td>7889819.50</td>\n",
              "      <td>8603943.85</td>\n",
              "      <td>8048398.25</td>\n",
              "      <td>8159737.49</td>\n",
              "      <td>8457455.71</td>\n",
              "      <td>7766983.20</td>\n",
              "      <td>8858845.57</td>\n",
              "      <td>8407076.44</td>\n",
              "      <td>9492938.92</td>\n",
              "      <td>8206195.92</td>\n",
              "      <td>9011612.58</td>\n",
              "      <td>9124967.84</td>\n",
              "      <td>8406732.72</td>\n",
              "      <td>8411360.02</td>\n",
              "      <td>8651081.66</td>\n",
              "      <td>8193425.99</td>\n",
              "      <td>8388269.45</td>\n",
              "      <td>8645315.78</td>\n",
              "      <td>9050329.13</td>\n",
              "      <td>9211262.51</td>\n",
              "      <td>9490545.02</td>\n",
              "      <td>8600886.20</td>\n",
              "      <td>8919190.86</td>\n",
              "      <td>8909111.89</td>\n",
              "      <td>8409386.09</td>\n",
              "      <td>8924348.41</td>\n",
              "      <td>8948605.66</td>\n",
              "      <td>8660753.05</td>\n",
              "      <td>8326416.32</td>\n",
              "      <td>8413784.42</td>\n",
              "      <td>7174312.31</td>\n",
              "      <td>7423678.64</td>\n",
              "      <td>8581195.13</td>\n",
              "      <td>9193593.76</td>\n",
              "      <td>7407388.24</td>\n",
              "      <td>3556381.57</td>\n",
              "      <td>9.291297e+08</td>\n",
              "    </tr>\n",
              "    <tr>\n",
              "      <th>1</th>\n",
              "      <td>12 Acre</td>\n",
              "      <td>-</td>\n",
              "      <td>-</td>\n",
              "      <td>-</td>\n",
              "      <td>-</td>\n",
              "      <td>-</td>\n",
              "      <td>-</td>\n",
              "      <td>-</td>\n",
              "      <td>-</td>\n",
              "      <td>-</td>\n",
              "      <td>-</td>\n",
              "      <td>-</td>\n",
              "      <td>-</td>\n",
              "      <td>-</td>\n",
              "      <td>-</td>\n",
              "      <td>-</td>\n",
              "      <td>-</td>\n",
              "      <td>-</td>\n",
              "      <td>-</td>\n",
              "      <td>-</td>\n",
              "      <td>-</td>\n",
              "      <td>-</td>\n",
              "      <td>-</td>\n",
              "      <td>-</td>\n",
              "      <td>-</td>\n",
              "      <td>-</td>\n",
              "      <td>-</td>\n",
              "      <td>-</td>\n",
              "      <td>-</td>\n",
              "      <td>-</td>\n",
              "      <td>-</td>\n",
              "      <td>-</td>\n",
              "      <td>-</td>\n",
              "      <td>-</td>\n",
              "      <td>-</td>\n",
              "      <td>-</td>\n",
              "      <td>-</td>\n",
              "      <td>-</td>\n",
              "      <td>-</td>\n",
              "      <td>-</td>\n",
              "      <td>...</td>\n",
              "      <td>3355223.35</td>\n",
              "      <td>3562691.54</td>\n",
              "      <td>3375296.64</td>\n",
              "      <td>3341497.58</td>\n",
              "      <td>3358378.05</td>\n",
              "      <td>3145385.44</td>\n",
              "      <td>2638773.92</td>\n",
              "      <td>2968168.75</td>\n",
              "      <td>2769797.39</td>\n",
              "      <td>3057631.96</td>\n",
              "      <td>2874965.31</td>\n",
              "      <td>3175575.17</td>\n",
              "      <td>3060903.21</td>\n",
              "      <td>3253011.61</td>\n",
              "      <td>3040645.05</td>\n",
              "      <td>2926179.27</td>\n",
              "      <td>3126120.64</td>\n",
              "      <td>2473454.85</td>\n",
              "      <td>2277493.49</td>\n",
              "      <td>2594347.32</td>\n",
              "      <td>2234388.36</td>\n",
              "      <td>2473008.49</td>\n",
              "      <td>2979764.77</td>\n",
              "      <td>3070533.95</td>\n",
              "      <td>3249052.69</td>\n",
              "      <td>3567538.64</td>\n",
              "      <td>2981072.98</td>\n",
              "      <td>2998860.31</td>\n",
              "      <td>3293378.97</td>\n",
              "      <td>3174249.43</td>\n",
              "      <td>2959569.09</td>\n",
              "      <td>3261123.88</td>\n",
              "      <td>2981264.22</td>\n",
              "      <td>2859102.06</td>\n",
              "      <td>2472063.08</td>\n",
              "      <td>2383895.48</td>\n",
              "      <td>2199920.70</td>\n",
              "      <td>1163813.08</td>\n",
              "      <td>-</td>\n",
              "      <td>4.206680e+08</td>\n",
              "    </tr>\n",
              "    <tr>\n",
              "      <th>2</th>\n",
              "      <td>13 Amazonas</td>\n",
              "      <td>-</td>\n",
              "      <td>-</td>\n",
              "      <td>-</td>\n",
              "      <td>-</td>\n",
              "      <td>-</td>\n",
              "      <td>-</td>\n",
              "      <td>-</td>\n",
              "      <td>-</td>\n",
              "      <td>-</td>\n",
              "      <td>-</td>\n",
              "      <td>-</td>\n",
              "      <td>-</td>\n",
              "      <td>-</td>\n",
              "      <td>-</td>\n",
              "      <td>-</td>\n",
              "      <td>-</td>\n",
              "      <td>-</td>\n",
              "      <td>-</td>\n",
              "      <td>-</td>\n",
              "      <td>-</td>\n",
              "      <td>-</td>\n",
              "      <td>-</td>\n",
              "      <td>-</td>\n",
              "      <td>-</td>\n",
              "      <td>-</td>\n",
              "      <td>-</td>\n",
              "      <td>-</td>\n",
              "      <td>-</td>\n",
              "      <td>-</td>\n",
              "      <td>-</td>\n",
              "      <td>-</td>\n",
              "      <td>-</td>\n",
              "      <td>-</td>\n",
              "      <td>-</td>\n",
              "      <td>-</td>\n",
              "      <td>-</td>\n",
              "      <td>-</td>\n",
              "      <td>-</td>\n",
              "      <td>-</td>\n",
              "      <td>...</td>\n",
              "      <td>13718828.46</td>\n",
              "      <td>14396210.86</td>\n",
              "      <td>13745304.22</td>\n",
              "      <td>13979792.94</td>\n",
              "      <td>13895515.90</td>\n",
              "      <td>13518116.80</td>\n",
              "      <td>13635186.02</td>\n",
              "      <td>14549450.86</td>\n",
              "      <td>12753555.36</td>\n",
              "      <td>14749409.47</td>\n",
              "      <td>14577930.81</td>\n",
              "      <td>15381061.96</td>\n",
              "      <td>14653650.77</td>\n",
              "      <td>15544595.79</td>\n",
              "      <td>16374961.41</td>\n",
              "      <td>15343340.93</td>\n",
              "      <td>16249963.61</td>\n",
              "      <td>14255408.82</td>\n",
              "      <td>14274053.94</td>\n",
              "      <td>15358914.00</td>\n",
              "      <td>14100074.56</td>\n",
              "      <td>16103971.89</td>\n",
              "      <td>16154491.82</td>\n",
              "      <td>16529976.06</td>\n",
              "      <td>15509984.83</td>\n",
              "      <td>16642220.71</td>\n",
              "      <td>16493719.52</td>\n",
              "      <td>15346323.27</td>\n",
              "      <td>16282436.68</td>\n",
              "      <td>14781332.42</td>\n",
              "      <td>14923380.22</td>\n",
              "      <td>15939561.23</td>\n",
              "      <td>15138110.70</td>\n",
              "      <td>14773739.41</td>\n",
              "      <td>16330913.81</td>\n",
              "      <td>19441150.53</td>\n",
              "      <td>17509334.66</td>\n",
              "      <td>13358514.02</td>\n",
              "      <td>4726485.73</td>\n",
              "      <td>1.771655e+09</td>\n",
              "    </tr>\n",
              "    <tr>\n",
              "      <th>3</th>\n",
              "      <td>14 Roraima</td>\n",
              "      <td>-</td>\n",
              "      <td>-</td>\n",
              "      <td>-</td>\n",
              "      <td>-</td>\n",
              "      <td>-</td>\n",
              "      <td>-</td>\n",
              "      <td>-</td>\n",
              "      <td>-</td>\n",
              "      <td>-</td>\n",
              "      <td>-</td>\n",
              "      <td>-</td>\n",
              "      <td>-</td>\n",
              "      <td>-</td>\n",
              "      <td>-</td>\n",
              "      <td>-</td>\n",
              "      <td>-</td>\n",
              "      <td>-</td>\n",
              "      <td>-</td>\n",
              "      <td>-</td>\n",
              "      <td>-</td>\n",
              "      <td>-</td>\n",
              "      <td>-</td>\n",
              "      <td>-</td>\n",
              "      <td>-</td>\n",
              "      <td>-</td>\n",
              "      <td>-</td>\n",
              "      <td>-</td>\n",
              "      <td>-</td>\n",
              "      <td>-</td>\n",
              "      <td>-</td>\n",
              "      <td>-</td>\n",
              "      <td>-</td>\n",
              "      <td>-</td>\n",
              "      <td>-</td>\n",
              "      <td>-</td>\n",
              "      <td>-</td>\n",
              "      <td>-</td>\n",
              "      <td>-</td>\n",
              "      <td>-</td>\n",
              "      <td>...</td>\n",
              "      <td>2699213.85</td>\n",
              "      <td>2682746.28</td>\n",
              "      <td>2891100.20</td>\n",
              "      <td>2737677.78</td>\n",
              "      <td>2693726.29</td>\n",
              "      <td>2671451.53</td>\n",
              "      <td>2688315.70</td>\n",
              "      <td>2740952.07</td>\n",
              "      <td>2478349.44</td>\n",
              "      <td>2674958.94</td>\n",
              "      <td>2721261.19</td>\n",
              "      <td>2844811.66</td>\n",
              "      <td>2967161.35</td>\n",
              "      <td>2841587.97</td>\n",
              "      <td>3328230.63</td>\n",
              "      <td>2878691.04</td>\n",
              "      <td>2964324.32</td>\n",
              "      <td>2524712.40</td>\n",
              "      <td>2462451.64</td>\n",
              "      <td>2662240.18</td>\n",
              "      <td>2499996.16</td>\n",
              "      <td>2846135.56</td>\n",
              "      <td>2789823.29</td>\n",
              "      <td>2839389.53</td>\n",
              "      <td>2647540.20</td>\n",
              "      <td>2865777.71</td>\n",
              "      <td>3181321.82</td>\n",
              "      <td>3070436.96</td>\n",
              "      <td>3162342.44</td>\n",
              "      <td>3121104.71</td>\n",
              "      <td>2889969.87</td>\n",
              "      <td>3084561.08</td>\n",
              "      <td>2967159.04</td>\n",
              "      <td>2813954.05</td>\n",
              "      <td>2304961.42</td>\n",
              "      <td>2910776.44</td>\n",
              "      <td>3216466.51</td>\n",
              "      <td>2739498.41</td>\n",
              "      <td>1524478.04</td>\n",
              "      <td>3.050109e+08</td>\n",
              "    </tr>\n",
              "    <tr>\n",
              "      <th>4</th>\n",
              "      <td>15 Pará</td>\n",
              "      <td>-</td>\n",
              "      <td>-</td>\n",
              "      <td>-</td>\n",
              "      <td>-</td>\n",
              "      <td>-</td>\n",
              "      <td>-</td>\n",
              "      <td>-</td>\n",
              "      <td>-</td>\n",
              "      <td>-</td>\n",
              "      <td>-</td>\n",
              "      <td>-</td>\n",
              "      <td>-</td>\n",
              "      <td>-</td>\n",
              "      <td>-</td>\n",
              "      <td>-</td>\n",
              "      <td>-</td>\n",
              "      <td>-</td>\n",
              "      <td>-</td>\n",
              "      <td>-</td>\n",
              "      <td>-</td>\n",
              "      <td>-</td>\n",
              "      <td>-</td>\n",
              "      <td>-</td>\n",
              "      <td>-</td>\n",
              "      <td>-</td>\n",
              "      <td>-</td>\n",
              "      <td>-</td>\n",
              "      <td>-</td>\n",
              "      <td>-</td>\n",
              "      <td>-</td>\n",
              "      <td>-</td>\n",
              "      <td>-</td>\n",
              "      <td>-</td>\n",
              "      <td>-</td>\n",
              "      <td>-</td>\n",
              "      <td>-</td>\n",
              "      <td>-</td>\n",
              "      <td>-</td>\n",
              "      <td>-</td>\n",
              "      <td>...</td>\n",
              "      <td>31808597.47</td>\n",
              "      <td>32133134.42</td>\n",
              "      <td>33770556.65</td>\n",
              "      <td>32979925.38</td>\n",
              "      <td>33665042.35</td>\n",
              "      <td>33475545.29</td>\n",
              "      <td>32067934.67</td>\n",
              "      <td>33615836.09</td>\n",
              "      <td>30623491.62</td>\n",
              "      <td>34121931.00</td>\n",
              "      <td>35039954.20</td>\n",
              "      <td>35424611.06</td>\n",
              "      <td>34160283.18</td>\n",
              "      <td>34484949.49</td>\n",
              "      <td>35618364.04</td>\n",
              "      <td>34380916.90</td>\n",
              "      <td>38441090.50</td>\n",
              "      <td>33583538.08</td>\n",
              "      <td>32789354.87</td>\n",
              "      <td>34513534.80</td>\n",
              "      <td>31885919.67</td>\n",
              "      <td>33236155.79</td>\n",
              "      <td>31008924.95</td>\n",
              "      <td>31064106.50</td>\n",
              "      <td>28543179.30</td>\n",
              "      <td>36713929.36</td>\n",
              "      <td>36462011.47</td>\n",
              "      <td>36790758.67</td>\n",
              "      <td>36974859.69</td>\n",
              "      <td>35555518.00</td>\n",
              "      <td>35222625.80</td>\n",
              "      <td>37009819.17</td>\n",
              "      <td>34635702.52</td>\n",
              "      <td>34749098.46</td>\n",
              "      <td>28714969.96</td>\n",
              "      <td>41248502.78</td>\n",
              "      <td>35396030.78</td>\n",
              "      <td>27618727.51</td>\n",
              "      <td>11559714.54</td>\n",
              "      <td>4.437116e+09</td>\n",
              "    </tr>\n",
              "  </tbody>\n",
              "</table>\n",
              "<p>5 rows × 280 columns</p>\n",
              "</div>"
            ],
            "text/plain": [
              "  Unidade da Federação 1992/Mar  ...     2020/Ago         Total\n",
              "0          11 Rondônia        -  ...   3556381.57  9.291297e+08\n",
              "1              12 Acre        -  ...            -  4.206680e+08\n",
              "2          13 Amazonas        -  ...   4726485.73  1.771655e+09\n",
              "3           14 Roraima        -  ...   1524478.04  3.050109e+08\n",
              "4              15 Pará        -  ...  11559714.54  4.437116e+09\n",
              "\n",
              "[5 rows x 280 columns]"
            ]
          },
          "metadata": {
            "tags": []
          },
          "execution_count": 2
        }
      ]
    },
    {
      "cell_type": "markdown",
      "metadata": {
        "id": "Uocoxs7iBno8"
      },
      "source": [
        "#Organizando dados conforme módulo anterior para continuidade."
      ]
    },
    {
      "cell_type": "code",
      "metadata": {
        "id": "YKgAEeOQmQmM"
      },
      "source": [
        "#Pegaremos o índice da média dos dados (que são os nomes de colunas válidas) e salvaremos na variável colunas_usaveis, o método .tolist() transforma os dados em uma lista para\n",
        "#permitir que esses dados possam ser modificados, isso irá permitir que adicionemos a coluna Unidade da Federação.\n",
        "colunas_usaveis = dados.mean().index.tolist()\n",
        "colunas_usaveis.insert(0, \"Unidade da Federação\") #inserindo a coluna \"Unidade da Federação\" na posição 0."
      ],
      "execution_count": 3,
      "outputs": []
    },
    {
      "cell_type": "code",
      "metadata": {
        "id": "u87e4qrI_8rV"
      },
      "source": [
        "#agora iremos fatiar (fazer o slicing) do nosso data_frame original selecionando apenas essas colunas\n",
        "usaveis = dados[colunas_usaveis] #atribuindo tudo a variável usaveis"
      ],
      "execution_count": 4,
      "outputs": []
    },
    {
      "cell_type": "code",
      "metadata": {
        "colab": {
          "base_uri": "https://localhost:8080/",
          "height": 358
        },
        "id": "nGfh-PBN_-Ui",
        "outputId": "c7c23ef9-dade-445f-9e5f-1469bec9a7fa"
      },
      "source": [
        "#Setando a coluna Unidade da Federação como índice principal.\n",
        "usaveis = usaveis.set_index(\"Unidade da Federação\")\n",
        "usaveis.head()"
      ],
      "execution_count": 5,
      "outputs": [
        {
          "output_type": "execute_result",
          "data": {
            "text/html": [
              "<div>\n",
              "<style scoped>\n",
              "    .dataframe tbody tr th:only-of-type {\n",
              "        vertical-align: middle;\n",
              "    }\n",
              "\n",
              "    .dataframe tbody tr th {\n",
              "        vertical-align: top;\n",
              "    }\n",
              "\n",
              "    .dataframe thead th {\n",
              "        text-align: right;\n",
              "    }\n",
              "</style>\n",
              "<table border=\"1\" class=\"dataframe\">\n",
              "  <thead>\n",
              "    <tr style=\"text-align: right;\">\n",
              "      <th></th>\n",
              "      <th>2007/Ago</th>\n",
              "      <th>2007/Set</th>\n",
              "      <th>2007/Out</th>\n",
              "      <th>2007/Nov</th>\n",
              "      <th>2007/Dez</th>\n",
              "      <th>2008/Jan</th>\n",
              "      <th>2008/Fev</th>\n",
              "      <th>2008/Mar</th>\n",
              "      <th>2008/Abr</th>\n",
              "      <th>2008/Mai</th>\n",
              "      <th>2008/Jun</th>\n",
              "      <th>2008/Jul</th>\n",
              "      <th>2008/Ago</th>\n",
              "      <th>2008/Set</th>\n",
              "      <th>2008/Out</th>\n",
              "      <th>2008/Nov</th>\n",
              "      <th>2008/Dez</th>\n",
              "      <th>2009/Jan</th>\n",
              "      <th>2009/Fev</th>\n",
              "      <th>2009/Mar</th>\n",
              "      <th>2009/Abr</th>\n",
              "      <th>2009/Mai</th>\n",
              "      <th>2009/Jun</th>\n",
              "      <th>2009/Jul</th>\n",
              "      <th>2009/Ago</th>\n",
              "      <th>2009/Set</th>\n",
              "      <th>2009/Out</th>\n",
              "      <th>2009/Nov</th>\n",
              "      <th>2009/Dez</th>\n",
              "      <th>2010/Jan</th>\n",
              "      <th>2010/Fev</th>\n",
              "      <th>2010/Mar</th>\n",
              "      <th>2010/Abr</th>\n",
              "      <th>2010/Mai</th>\n",
              "      <th>2010/Jun</th>\n",
              "      <th>2010/Jul</th>\n",
              "      <th>2010/Ago</th>\n",
              "      <th>2010/Set</th>\n",
              "      <th>2010/Out</th>\n",
              "      <th>2010/Nov</th>\n",
              "      <th>...</th>\n",
              "      <th>2017/Mai</th>\n",
              "      <th>2017/Jun</th>\n",
              "      <th>2017/Jul</th>\n",
              "      <th>2017/Ago</th>\n",
              "      <th>2017/Set</th>\n",
              "      <th>2017/Out</th>\n",
              "      <th>2017/Nov</th>\n",
              "      <th>2017/Dez</th>\n",
              "      <th>2018/Jan</th>\n",
              "      <th>2018/Fev</th>\n",
              "      <th>2018/Mar</th>\n",
              "      <th>2018/Abr</th>\n",
              "      <th>2018/Mai</th>\n",
              "      <th>2018/Jun</th>\n",
              "      <th>2018/Jul</th>\n",
              "      <th>2018/Ago</th>\n",
              "      <th>2018/Set</th>\n",
              "      <th>2018/Out</th>\n",
              "      <th>2018/Nov</th>\n",
              "      <th>2018/Dez</th>\n",
              "      <th>2019/Jan</th>\n",
              "      <th>2019/Fev</th>\n",
              "      <th>2019/Mar</th>\n",
              "      <th>2019/Abr</th>\n",
              "      <th>2019/Mai</th>\n",
              "      <th>2019/Jun</th>\n",
              "      <th>2019/Jul</th>\n",
              "      <th>2019/Ago</th>\n",
              "      <th>2019/Set</th>\n",
              "      <th>2019/Out</th>\n",
              "      <th>2019/Nov</th>\n",
              "      <th>2019/Dez</th>\n",
              "      <th>2020/Jan</th>\n",
              "      <th>2020/Fev</th>\n",
              "      <th>2020/Mar</th>\n",
              "      <th>2020/Abr</th>\n",
              "      <th>2020/Mai</th>\n",
              "      <th>2020/Jun</th>\n",
              "      <th>2020/Jul</th>\n",
              "      <th>Total</th>\n",
              "    </tr>\n",
              "    <tr>\n",
              "      <th>Unidade da Federação</th>\n",
              "      <th></th>\n",
              "      <th></th>\n",
              "      <th></th>\n",
              "      <th></th>\n",
              "      <th></th>\n",
              "      <th></th>\n",
              "      <th></th>\n",
              "      <th></th>\n",
              "      <th></th>\n",
              "      <th></th>\n",
              "      <th></th>\n",
              "      <th></th>\n",
              "      <th></th>\n",
              "      <th></th>\n",
              "      <th></th>\n",
              "      <th></th>\n",
              "      <th></th>\n",
              "      <th></th>\n",
              "      <th></th>\n",
              "      <th></th>\n",
              "      <th></th>\n",
              "      <th></th>\n",
              "      <th></th>\n",
              "      <th></th>\n",
              "      <th></th>\n",
              "      <th></th>\n",
              "      <th></th>\n",
              "      <th></th>\n",
              "      <th></th>\n",
              "      <th></th>\n",
              "      <th></th>\n",
              "      <th></th>\n",
              "      <th></th>\n",
              "      <th></th>\n",
              "      <th></th>\n",
              "      <th></th>\n",
              "      <th></th>\n",
              "      <th></th>\n",
              "      <th></th>\n",
              "      <th></th>\n",
              "      <th></th>\n",
              "      <th></th>\n",
              "      <th></th>\n",
              "      <th></th>\n",
              "      <th></th>\n",
              "      <th></th>\n",
              "      <th></th>\n",
              "      <th></th>\n",
              "      <th></th>\n",
              "      <th></th>\n",
              "      <th></th>\n",
              "      <th></th>\n",
              "      <th></th>\n",
              "      <th></th>\n",
              "      <th></th>\n",
              "      <th></th>\n",
              "      <th></th>\n",
              "      <th></th>\n",
              "      <th></th>\n",
              "      <th></th>\n",
              "      <th></th>\n",
              "      <th></th>\n",
              "      <th></th>\n",
              "      <th></th>\n",
              "      <th></th>\n",
              "      <th></th>\n",
              "      <th></th>\n",
              "      <th></th>\n",
              "      <th></th>\n",
              "      <th></th>\n",
              "      <th></th>\n",
              "      <th></th>\n",
              "      <th></th>\n",
              "      <th></th>\n",
              "      <th></th>\n",
              "      <th></th>\n",
              "      <th></th>\n",
              "      <th></th>\n",
              "      <th></th>\n",
              "      <th></th>\n",
              "      <th></th>\n",
              "    </tr>\n",
              "  </thead>\n",
              "  <tbody>\n",
              "    <tr>\n",
              "      <th>11 Rondônia</th>\n",
              "      <td>4209.37</td>\n",
              "      <td>16397.03</td>\n",
              "      <td>133645.19</td>\n",
              "      <td>346912.84</td>\n",
              "      <td>711758.31</td>\n",
              "      <td>1829559.71</td>\n",
              "      <td>1940792.63</td>\n",
              "      <td>1955721.68</td>\n",
              "      <td>2143353.81</td>\n",
              "      <td>2280382.58</td>\n",
              "      <td>2624542.97</td>\n",
              "      <td>2973421.02</td>\n",
              "      <td>2938286.29</td>\n",
              "      <td>2843930.91</td>\n",
              "      <td>2878153.20</td>\n",
              "      <td>2780022.62</td>\n",
              "      <td>2651804.89</td>\n",
              "      <td>3147566.24</td>\n",
              "      <td>3082108.12</td>\n",
              "      <td>4190355.33</td>\n",
              "      <td>4040251.62</td>\n",
              "      <td>3946423.71</td>\n",
              "      <td>3372377.96</td>\n",
              "      <td>3720608.86</td>\n",
              "      <td>3787323.26</td>\n",
              "      <td>3679369.94</td>\n",
              "      <td>3866146.99</td>\n",
              "      <td>3667808.60</td>\n",
              "      <td>3633471.79</td>\n",
              "      <td>3812315.59</td>\n",
              "      <td>3911776.03</td>\n",
              "      <td>4663060.75</td>\n",
              "      <td>4524544.88</td>\n",
              "      <td>4778755.26</td>\n",
              "      <td>4369733.23</td>\n",
              "      <td>4632439.12</td>\n",
              "      <td>4464307.47</td>\n",
              "      <td>4668642.02</td>\n",
              "      <td>4490368.23</td>\n",
              "      <td>4423840.08</td>\n",
              "      <td>...</td>\n",
              "      <td>8140639.49</td>\n",
              "      <td>8041248.80</td>\n",
              "      <td>8199032.67</td>\n",
              "      <td>8363386.07</td>\n",
              "      <td>7889819.50</td>\n",
              "      <td>8603943.85</td>\n",
              "      <td>8048398.25</td>\n",
              "      <td>8159737.49</td>\n",
              "      <td>8457455.71</td>\n",
              "      <td>7766983.20</td>\n",
              "      <td>8858845.57</td>\n",
              "      <td>8407076.44</td>\n",
              "      <td>9492938.92</td>\n",
              "      <td>8206195.92</td>\n",
              "      <td>9011612.58</td>\n",
              "      <td>9124967.84</td>\n",
              "      <td>8406732.72</td>\n",
              "      <td>8411360.02</td>\n",
              "      <td>8651081.66</td>\n",
              "      <td>8193425.99</td>\n",
              "      <td>8388269.45</td>\n",
              "      <td>8645315.78</td>\n",
              "      <td>9050329.13</td>\n",
              "      <td>9211262.51</td>\n",
              "      <td>9490545.02</td>\n",
              "      <td>8600886.20</td>\n",
              "      <td>8919190.86</td>\n",
              "      <td>8909111.89</td>\n",
              "      <td>8409386.09</td>\n",
              "      <td>8924348.41</td>\n",
              "      <td>8948605.66</td>\n",
              "      <td>8660753.05</td>\n",
              "      <td>8326416.32</td>\n",
              "      <td>8413784.42</td>\n",
              "      <td>7174312.31</td>\n",
              "      <td>7423678.64</td>\n",
              "      <td>8581195.13</td>\n",
              "      <td>9193593.76</td>\n",
              "      <td>7407388.24</td>\n",
              "      <td>9.291297e+08</td>\n",
              "    </tr>\n",
              "    <tr>\n",
              "      <th>12 Acre</th>\n",
              "      <td>10470.07</td>\n",
              "      <td>14001.71</td>\n",
              "      <td>86200.85</td>\n",
              "      <td>301323.68</td>\n",
              "      <td>769612.36</td>\n",
              "      <td>1731744.62</td>\n",
              "      <td>1743978.66</td>\n",
              "      <td>2057439.02</td>\n",
              "      <td>2057829.69</td>\n",
              "      <td>2226577.93</td>\n",
              "      <td>2112576.82</td>\n",
              "      <td>2029128.01</td>\n",
              "      <td>1886871.84</td>\n",
              "      <td>2084884.80</td>\n",
              "      <td>2230838.45</td>\n",
              "      <td>2122013.12</td>\n",
              "      <td>2196651.69</td>\n",
              "      <td>2152239.30</td>\n",
              "      <td>2086775.61</td>\n",
              "      <td>2476364.26</td>\n",
              "      <td>2396887.63</td>\n",
              "      <td>2610261.80</td>\n",
              "      <td>2174098.10</td>\n",
              "      <td>2051885.16</td>\n",
              "      <td>1714707.91</td>\n",
              "      <td>1341532.34</td>\n",
              "      <td>2288458.90</td>\n",
              "      <td>2462712.79</td>\n",
              "      <td>2254900.20</td>\n",
              "      <td>2381535.93</td>\n",
              "      <td>2079981.05</td>\n",
              "      <td>2564837.77</td>\n",
              "      <td>2588318.06</td>\n",
              "      <td>2538525.67</td>\n",
              "      <td>2319786.41</td>\n",
              "      <td>2279156.60</td>\n",
              "      <td>2454599.37</td>\n",
              "      <td>2578923.75</td>\n",
              "      <td>2625443.29</td>\n",
              "      <td>2512995.15</td>\n",
              "      <td>...</td>\n",
              "      <td>3161446.53</td>\n",
              "      <td>3355223.35</td>\n",
              "      <td>3562691.54</td>\n",
              "      <td>3375296.64</td>\n",
              "      <td>3341497.58</td>\n",
              "      <td>3358378.05</td>\n",
              "      <td>3145385.44</td>\n",
              "      <td>2638773.92</td>\n",
              "      <td>2968168.75</td>\n",
              "      <td>2769797.39</td>\n",
              "      <td>3057631.96</td>\n",
              "      <td>2874965.31</td>\n",
              "      <td>3175575.17</td>\n",
              "      <td>3060903.21</td>\n",
              "      <td>3253011.61</td>\n",
              "      <td>3040645.05</td>\n",
              "      <td>2926179.27</td>\n",
              "      <td>3126120.64</td>\n",
              "      <td>2473454.85</td>\n",
              "      <td>2277493.49</td>\n",
              "      <td>2594347.32</td>\n",
              "      <td>2234388.36</td>\n",
              "      <td>2473008.49</td>\n",
              "      <td>2979764.77</td>\n",
              "      <td>3070533.95</td>\n",
              "      <td>3249052.69</td>\n",
              "      <td>3567538.64</td>\n",
              "      <td>2981072.98</td>\n",
              "      <td>2998860.31</td>\n",
              "      <td>3293378.97</td>\n",
              "      <td>3174249.43</td>\n",
              "      <td>2959569.09</td>\n",
              "      <td>3261123.88</td>\n",
              "      <td>2981264.22</td>\n",
              "      <td>2859102.06</td>\n",
              "      <td>2472063.08</td>\n",
              "      <td>2383895.48</td>\n",
              "      <td>2199920.70</td>\n",
              "      <td>1163813.08</td>\n",
              "      <td>4.206680e+08</td>\n",
              "    </tr>\n",
              "    <tr>\n",
              "      <th>13 Amazonas</th>\n",
              "      <td>35752.72</td>\n",
              "      <td>45570.64</td>\n",
              "      <td>416012.30</td>\n",
              "      <td>2020381.79</td>\n",
              "      <td>5949408.99</td>\n",
              "      <td>11419210.08</td>\n",
              "      <td>7934652.10</td>\n",
              "      <td>8641517.13</td>\n",
              "      <td>8531576.49</td>\n",
              "      <td>9079902.15</td>\n",
              "      <td>8646295.77</td>\n",
              "      <td>8755806.50</td>\n",
              "      <td>8331763.97</td>\n",
              "      <td>8148089.92</td>\n",
              "      <td>7681661.02</td>\n",
              "      <td>7761445.21</td>\n",
              "      <td>7764782.66</td>\n",
              "      <td>8607222.74</td>\n",
              "      <td>8385962.92</td>\n",
              "      <td>9207129.28</td>\n",
              "      <td>8160517.20</td>\n",
              "      <td>8562322.43</td>\n",
              "      <td>9484998.71</td>\n",
              "      <td>9465068.52</td>\n",
              "      <td>9267006.58</td>\n",
              "      <td>9092823.55</td>\n",
              "      <td>9218407.34</td>\n",
              "      <td>8674068.02</td>\n",
              "      <td>8365788.46</td>\n",
              "      <td>9386945.03</td>\n",
              "      <td>8373048.81</td>\n",
              "      <td>10321150.01</td>\n",
              "      <td>9990164.13</td>\n",
              "      <td>9767161.23</td>\n",
              "      <td>9151838.50</td>\n",
              "      <td>9140196.88</td>\n",
              "      <td>9437224.41</td>\n",
              "      <td>9742680.49</td>\n",
              "      <td>9996686.44</td>\n",
              "      <td>9532878.27</td>\n",
              "      <td>...</td>\n",
              "      <td>13909566.03</td>\n",
              "      <td>13718828.46</td>\n",
              "      <td>14396210.86</td>\n",
              "      <td>13745304.22</td>\n",
              "      <td>13979792.94</td>\n",
              "      <td>13895515.90</td>\n",
              "      <td>13518116.80</td>\n",
              "      <td>13635186.02</td>\n",
              "      <td>14549450.86</td>\n",
              "      <td>12753555.36</td>\n",
              "      <td>14749409.47</td>\n",
              "      <td>14577930.81</td>\n",
              "      <td>15381061.96</td>\n",
              "      <td>14653650.77</td>\n",
              "      <td>15544595.79</td>\n",
              "      <td>16374961.41</td>\n",
              "      <td>15343340.93</td>\n",
              "      <td>16249963.61</td>\n",
              "      <td>14255408.82</td>\n",
              "      <td>14274053.94</td>\n",
              "      <td>15358914.00</td>\n",
              "      <td>14100074.56</td>\n",
              "      <td>16103971.89</td>\n",
              "      <td>16154491.82</td>\n",
              "      <td>16529976.06</td>\n",
              "      <td>15509984.83</td>\n",
              "      <td>16642220.71</td>\n",
              "      <td>16493719.52</td>\n",
              "      <td>15346323.27</td>\n",
              "      <td>16282436.68</td>\n",
              "      <td>14781332.42</td>\n",
              "      <td>14923380.22</td>\n",
              "      <td>15939561.23</td>\n",
              "      <td>15138110.70</td>\n",
              "      <td>14773739.41</td>\n",
              "      <td>16330913.81</td>\n",
              "      <td>19441150.53</td>\n",
              "      <td>17509334.66</td>\n",
              "      <td>13358514.02</td>\n",
              "      <td>1.771655e+09</td>\n",
              "    </tr>\n",
              "    <tr>\n",
              "      <th>14 Roraima</th>\n",
              "      <td>4785.91</td>\n",
              "      <td>11858.63</td>\n",
              "      <td>43852.67</td>\n",
              "      <td>369328.51</td>\n",
              "      <td>470676.43</td>\n",
              "      <td>808448.39</td>\n",
              "      <td>771687.83</td>\n",
              "      <td>876091.18</td>\n",
              "      <td>896952.53</td>\n",
              "      <td>1027288.73</td>\n",
              "      <td>938293.54</td>\n",
              "      <td>1004340.44</td>\n",
              "      <td>1045291.11</td>\n",
              "      <td>1003740.89</td>\n",
              "      <td>1055063.43</td>\n",
              "      <td>1223200.73</td>\n",
              "      <td>1236529.18</td>\n",
              "      <td>1186281.36</td>\n",
              "      <td>1106225.18</td>\n",
              "      <td>1422690.18</td>\n",
              "      <td>1377859.19</td>\n",
              "      <td>1363883.01</td>\n",
              "      <td>1346660.89</td>\n",
              "      <td>1371019.37</td>\n",
              "      <td>1529696.18</td>\n",
              "      <td>1573418.68</td>\n",
              "      <td>1517391.92</td>\n",
              "      <td>1597811.24</td>\n",
              "      <td>1536941.82</td>\n",
              "      <td>1617781.76</td>\n",
              "      <td>1452295.35</td>\n",
              "      <td>1817004.16</td>\n",
              "      <td>1715762.10</td>\n",
              "      <td>1933733.03</td>\n",
              "      <td>1849065.95</td>\n",
              "      <td>1877204.62</td>\n",
              "      <td>2046063.98</td>\n",
              "      <td>1939488.67</td>\n",
              "      <td>1757675.71</td>\n",
              "      <td>1528245.34</td>\n",
              "      <td>...</td>\n",
              "      <td>2761536.23</td>\n",
              "      <td>2699213.85</td>\n",
              "      <td>2682746.28</td>\n",
              "      <td>2891100.20</td>\n",
              "      <td>2737677.78</td>\n",
              "      <td>2693726.29</td>\n",
              "      <td>2671451.53</td>\n",
              "      <td>2688315.70</td>\n",
              "      <td>2740952.07</td>\n",
              "      <td>2478349.44</td>\n",
              "      <td>2674958.94</td>\n",
              "      <td>2721261.19</td>\n",
              "      <td>2844811.66</td>\n",
              "      <td>2967161.35</td>\n",
              "      <td>2841587.97</td>\n",
              "      <td>3328230.63</td>\n",
              "      <td>2878691.04</td>\n",
              "      <td>2964324.32</td>\n",
              "      <td>2524712.40</td>\n",
              "      <td>2462451.64</td>\n",
              "      <td>2662240.18</td>\n",
              "      <td>2499996.16</td>\n",
              "      <td>2846135.56</td>\n",
              "      <td>2789823.29</td>\n",
              "      <td>2839389.53</td>\n",
              "      <td>2647540.20</td>\n",
              "      <td>2865777.71</td>\n",
              "      <td>3181321.82</td>\n",
              "      <td>3070436.96</td>\n",
              "      <td>3162342.44</td>\n",
              "      <td>3121104.71</td>\n",
              "      <td>2889969.87</td>\n",
              "      <td>3084561.08</td>\n",
              "      <td>2967159.04</td>\n",
              "      <td>2813954.05</td>\n",
              "      <td>2304961.42</td>\n",
              "      <td>2910776.44</td>\n",
              "      <td>3216466.51</td>\n",
              "      <td>2739498.41</td>\n",
              "      <td>3.050109e+08</td>\n",
              "    </tr>\n",
              "    <tr>\n",
              "      <th>15 Pará</th>\n",
              "      <td>181159.29</td>\n",
              "      <td>433414.74</td>\n",
              "      <td>1893197.50</td>\n",
              "      <td>5105406.44</td>\n",
              "      <td>13162823.43</td>\n",
              "      <td>21762104.16</td>\n",
              "      <td>20126081.01</td>\n",
              "      <td>22149375.82</td>\n",
              "      <td>23436682.75</td>\n",
              "      <td>23861080.80</td>\n",
              "      <td>23502915.90</td>\n",
              "      <td>22544291.26</td>\n",
              "      <td>23259148.28</td>\n",
              "      <td>23667690.01</td>\n",
              "      <td>23352577.75</td>\n",
              "      <td>23537613.41</td>\n",
              "      <td>23836162.40</td>\n",
              "      <td>25397157.43</td>\n",
              "      <td>23045700.70</td>\n",
              "      <td>28225957.76</td>\n",
              "      <td>27478025.61</td>\n",
              "      <td>26610951.91</td>\n",
              "      <td>26424970.11</td>\n",
              "      <td>26331756.26</td>\n",
              "      <td>27892582.69</td>\n",
              "      <td>27231854.35</td>\n",
              "      <td>27599957.69</td>\n",
              "      <td>26784181.74</td>\n",
              "      <td>25511285.54</td>\n",
              "      <td>26421157.74</td>\n",
              "      <td>25483553.06</td>\n",
              "      <td>28537493.86</td>\n",
              "      <td>26949923.37</td>\n",
              "      <td>28436425.05</td>\n",
              "      <td>26947713.85</td>\n",
              "      <td>26125357.73</td>\n",
              "      <td>27761867.94</td>\n",
              "      <td>27280175.15</td>\n",
              "      <td>26522062.12</td>\n",
              "      <td>26687663.81</td>\n",
              "      <td>...</td>\n",
              "      <td>33921112.99</td>\n",
              "      <td>31808597.47</td>\n",
              "      <td>32133134.42</td>\n",
              "      <td>33770556.65</td>\n",
              "      <td>32979925.38</td>\n",
              "      <td>33665042.35</td>\n",
              "      <td>33475545.29</td>\n",
              "      <td>32067934.67</td>\n",
              "      <td>33615836.09</td>\n",
              "      <td>30623491.62</td>\n",
              "      <td>34121931.00</td>\n",
              "      <td>35039954.20</td>\n",
              "      <td>35424611.06</td>\n",
              "      <td>34160283.18</td>\n",
              "      <td>34484949.49</td>\n",
              "      <td>35618364.04</td>\n",
              "      <td>34380916.90</td>\n",
              "      <td>38441090.50</td>\n",
              "      <td>33583538.08</td>\n",
              "      <td>32789354.87</td>\n",
              "      <td>34513534.80</td>\n",
              "      <td>31885919.67</td>\n",
              "      <td>33236155.79</td>\n",
              "      <td>31008924.95</td>\n",
              "      <td>31064106.50</td>\n",
              "      <td>28543179.30</td>\n",
              "      <td>36713929.36</td>\n",
              "      <td>36462011.47</td>\n",
              "      <td>36790758.67</td>\n",
              "      <td>36974859.69</td>\n",
              "      <td>35555518.00</td>\n",
              "      <td>35222625.80</td>\n",
              "      <td>37009819.17</td>\n",
              "      <td>34635702.52</td>\n",
              "      <td>34749098.46</td>\n",
              "      <td>28714969.96</td>\n",
              "      <td>41248502.78</td>\n",
              "      <td>35396030.78</td>\n",
              "      <td>27618727.51</td>\n",
              "      <td>4.437116e+09</td>\n",
              "    </tr>\n",
              "  </tbody>\n",
              "</table>\n",
              "<p>5 rows × 157 columns</p>\n",
              "</div>"
            ],
            "text/plain": [
              "                       2007/Ago   2007/Set  ...     2020/Jul         Total\n",
              "Unidade da Federação                        ...                           \n",
              "11 Rondônia             4209.37   16397.03  ...   7407388.24  9.291297e+08\n",
              "12 Acre                10470.07   14001.71  ...   1163813.08  4.206680e+08\n",
              "13 Amazonas            35752.72   45570.64  ...  13358514.02  1.771655e+09\n",
              "14 Roraima              4785.91   11858.63  ...   2739498.41  3.050109e+08\n",
              "15 Pará               181159.29  433414.74  ...  27618727.51  4.437116e+09\n",
              "\n",
              "[5 rows x 157 columns]"
            ]
          },
          "metadata": {
            "tags": []
          },
          "execution_count": 5
        }
      ]
    },
    {
      "cell_type": "code",
      "metadata": {
        "colab": {
          "base_uri": "https://localhost:8080/",
          "height": 391
        },
        "id": "FenhM2I5__um",
        "outputId": "080af0ba-0cba-4a9f-a4b2-b9e0c821fb10"
      },
      "source": [
        "ordenado_por_total = usaveis.sort_values('Total', ascending=False)\n",
        "ordenado_por_total = ordenado_por_total.drop('Total', axis=1)\n",
        "#Organizando conforme a aula, pegando dados a partir de 2008/Fev\n",
        "colunas_interessadas = ordenado_por_total.columns[6:]\n",
        "ordenado_por_total = ordenado_por_total[colunas_interessadas]\n",
        "#ordenado_por_total = ordenado_por_total /1000000\n",
        "ordenado_por_total.head()"
      ],
      "execution_count": 6,
      "outputs": [
        {
          "output_type": "execute_result",
          "data": {
            "text/html": [
              "<div>\n",
              "<style scoped>\n",
              "    .dataframe tbody tr th:only-of-type {\n",
              "        vertical-align: middle;\n",
              "    }\n",
              "\n",
              "    .dataframe tbody tr th {\n",
              "        vertical-align: top;\n",
              "    }\n",
              "\n",
              "    .dataframe thead th {\n",
              "        text-align: right;\n",
              "    }\n",
              "</style>\n",
              "<table border=\"1\" class=\"dataframe\">\n",
              "  <thead>\n",
              "    <tr style=\"text-align: right;\">\n",
              "      <th></th>\n",
              "      <th>2008/Fev</th>\n",
              "      <th>2008/Mar</th>\n",
              "      <th>2008/Abr</th>\n",
              "      <th>2008/Mai</th>\n",
              "      <th>2008/Jun</th>\n",
              "      <th>2008/Jul</th>\n",
              "      <th>2008/Ago</th>\n",
              "      <th>2008/Set</th>\n",
              "      <th>2008/Out</th>\n",
              "      <th>2008/Nov</th>\n",
              "      <th>2008/Dez</th>\n",
              "      <th>2009/Jan</th>\n",
              "      <th>2009/Fev</th>\n",
              "      <th>2009/Mar</th>\n",
              "      <th>2009/Abr</th>\n",
              "      <th>2009/Mai</th>\n",
              "      <th>2009/Jun</th>\n",
              "      <th>2009/Jul</th>\n",
              "      <th>2009/Ago</th>\n",
              "      <th>2009/Set</th>\n",
              "      <th>2009/Out</th>\n",
              "      <th>2009/Nov</th>\n",
              "      <th>2009/Dez</th>\n",
              "      <th>2010/Jan</th>\n",
              "      <th>2010/Fev</th>\n",
              "      <th>2010/Mar</th>\n",
              "      <th>2010/Abr</th>\n",
              "      <th>2010/Mai</th>\n",
              "      <th>2010/Jun</th>\n",
              "      <th>2010/Jul</th>\n",
              "      <th>2010/Ago</th>\n",
              "      <th>2010/Set</th>\n",
              "      <th>2010/Out</th>\n",
              "      <th>2010/Nov</th>\n",
              "      <th>2010/Dez</th>\n",
              "      <th>2011/Jan</th>\n",
              "      <th>2011/Fev</th>\n",
              "      <th>2011/Mar</th>\n",
              "      <th>2011/Abr</th>\n",
              "      <th>2011/Mai</th>\n",
              "      <th>...</th>\n",
              "      <th>2017/Abr</th>\n",
              "      <th>2017/Mai</th>\n",
              "      <th>2017/Jun</th>\n",
              "      <th>2017/Jul</th>\n",
              "      <th>2017/Ago</th>\n",
              "      <th>2017/Set</th>\n",
              "      <th>2017/Out</th>\n",
              "      <th>2017/Nov</th>\n",
              "      <th>2017/Dez</th>\n",
              "      <th>2018/Jan</th>\n",
              "      <th>2018/Fev</th>\n",
              "      <th>2018/Mar</th>\n",
              "      <th>2018/Abr</th>\n",
              "      <th>2018/Mai</th>\n",
              "      <th>2018/Jun</th>\n",
              "      <th>2018/Jul</th>\n",
              "      <th>2018/Ago</th>\n",
              "      <th>2018/Set</th>\n",
              "      <th>2018/Out</th>\n",
              "      <th>2018/Nov</th>\n",
              "      <th>2018/Dez</th>\n",
              "      <th>2019/Jan</th>\n",
              "      <th>2019/Fev</th>\n",
              "      <th>2019/Mar</th>\n",
              "      <th>2019/Abr</th>\n",
              "      <th>2019/Mai</th>\n",
              "      <th>2019/Jun</th>\n",
              "      <th>2019/Jul</th>\n",
              "      <th>2019/Ago</th>\n",
              "      <th>2019/Set</th>\n",
              "      <th>2019/Out</th>\n",
              "      <th>2019/Nov</th>\n",
              "      <th>2019/Dez</th>\n",
              "      <th>2020/Jan</th>\n",
              "      <th>2020/Fev</th>\n",
              "      <th>2020/Mar</th>\n",
              "      <th>2020/Abr</th>\n",
              "      <th>2020/Mai</th>\n",
              "      <th>2020/Jun</th>\n",
              "      <th>2020/Jul</th>\n",
              "    </tr>\n",
              "    <tr>\n",
              "      <th>Unidade da Federação</th>\n",
              "      <th></th>\n",
              "      <th></th>\n",
              "      <th></th>\n",
              "      <th></th>\n",
              "      <th></th>\n",
              "      <th></th>\n",
              "      <th></th>\n",
              "      <th></th>\n",
              "      <th></th>\n",
              "      <th></th>\n",
              "      <th></th>\n",
              "      <th></th>\n",
              "      <th></th>\n",
              "      <th></th>\n",
              "      <th></th>\n",
              "      <th></th>\n",
              "      <th></th>\n",
              "      <th></th>\n",
              "      <th></th>\n",
              "      <th></th>\n",
              "      <th></th>\n",
              "      <th></th>\n",
              "      <th></th>\n",
              "      <th></th>\n",
              "      <th></th>\n",
              "      <th></th>\n",
              "      <th></th>\n",
              "      <th></th>\n",
              "      <th></th>\n",
              "      <th></th>\n",
              "      <th></th>\n",
              "      <th></th>\n",
              "      <th></th>\n",
              "      <th></th>\n",
              "      <th></th>\n",
              "      <th></th>\n",
              "      <th></th>\n",
              "      <th></th>\n",
              "      <th></th>\n",
              "      <th></th>\n",
              "      <th></th>\n",
              "      <th></th>\n",
              "      <th></th>\n",
              "      <th></th>\n",
              "      <th></th>\n",
              "      <th></th>\n",
              "      <th></th>\n",
              "      <th></th>\n",
              "      <th></th>\n",
              "      <th></th>\n",
              "      <th></th>\n",
              "      <th></th>\n",
              "      <th></th>\n",
              "      <th></th>\n",
              "      <th></th>\n",
              "      <th></th>\n",
              "      <th></th>\n",
              "      <th></th>\n",
              "      <th></th>\n",
              "      <th></th>\n",
              "      <th></th>\n",
              "      <th></th>\n",
              "      <th></th>\n",
              "      <th></th>\n",
              "      <th></th>\n",
              "      <th></th>\n",
              "      <th></th>\n",
              "      <th></th>\n",
              "      <th></th>\n",
              "      <th></th>\n",
              "      <th></th>\n",
              "      <th></th>\n",
              "      <th></th>\n",
              "      <th></th>\n",
              "      <th></th>\n",
              "      <th></th>\n",
              "      <th></th>\n",
              "      <th></th>\n",
              "      <th></th>\n",
              "      <th></th>\n",
              "      <th></th>\n",
              "    </tr>\n",
              "  </thead>\n",
              "  <tbody>\n",
              "    <tr>\n",
              "      <th>35 São Paulo</th>\n",
              "      <td>1.728349e+08</td>\n",
              "      <td>1.704818e+08</td>\n",
              "      <td>1.702783e+08</td>\n",
              "      <td>1.724022e+08</td>\n",
              "      <td>1.754166e+08</td>\n",
              "      <td>1.795250e+08</td>\n",
              "      <td>1.798981e+08</td>\n",
              "      <td>1.800822e+08</td>\n",
              "      <td>1.916852e+08</td>\n",
              "      <td>1.905397e+08</td>\n",
              "      <td>1.770864e+08</td>\n",
              "      <td>1.923216e+08</td>\n",
              "      <td>1.785964e+08</td>\n",
              "      <td>2.169516e+08</td>\n",
              "      <td>2.150530e+08</td>\n",
              "      <td>2.128902e+08</td>\n",
              "      <td>2.126709e+08</td>\n",
              "      <td>2.140412e+08</td>\n",
              "      <td>2.152125e+08</td>\n",
              "      <td>2.141354e+08</td>\n",
              "      <td>2.160566e+08</td>\n",
              "      <td>2.089739e+08</td>\n",
              "      <td>1.921271e+08</td>\n",
              "      <td>2.134679e+08</td>\n",
              "      <td>1.957848e+08</td>\n",
              "      <td>2.393239e+08</td>\n",
              "      <td>2.211730e+08</td>\n",
              "      <td>2.317775e+08</td>\n",
              "      <td>2.239338e+08</td>\n",
              "      <td>2.240679e+08</td>\n",
              "      <td>2.480101e+08</td>\n",
              "      <td>2.240530e+08</td>\n",
              "      <td>2.389355e+08</td>\n",
              "      <td>2.254841e+08</td>\n",
              "      <td>2.106115e+08</td>\n",
              "      <td>2.290870e+08</td>\n",
              "      <td>2.215980e+08</td>\n",
              "      <td>2.413999e+08</td>\n",
              "      <td>2.298212e+08</td>\n",
              "      <td>2.507936e+08</td>\n",
              "      <td>...</td>\n",
              "      <td>2.634718e+08</td>\n",
              "      <td>2.921134e+08</td>\n",
              "      <td>2.743011e+08</td>\n",
              "      <td>2.835346e+08</td>\n",
              "      <td>3.005937e+08</td>\n",
              "      <td>2.672972e+08</td>\n",
              "      <td>2.871148e+08</td>\n",
              "      <td>2.671132e+08</td>\n",
              "      <td>2.594517e+08</td>\n",
              "      <td>2.794976e+08</td>\n",
              "      <td>2.540046e+08</td>\n",
              "      <td>2.852706e+08</td>\n",
              "      <td>2.861920e+08</td>\n",
              "      <td>2.914409e+08</td>\n",
              "      <td>2.789260e+08</td>\n",
              "      <td>2.858519e+08</td>\n",
              "      <td>2.954193e+08</td>\n",
              "      <td>2.775762e+08</td>\n",
              "      <td>3.014549e+08</td>\n",
              "      <td>2.781143e+08</td>\n",
              "      <td>2.662398e+08</td>\n",
              "      <td>2.910814e+08</td>\n",
              "      <td>2.676625e+08</td>\n",
              "      <td>2.855763e+08</td>\n",
              "      <td>2.925848e+08</td>\n",
              "      <td>3.089256e+08</td>\n",
              "      <td>2.814051e+08</td>\n",
              "      <td>3.066340e+08</td>\n",
              "      <td>3.023673e+08</td>\n",
              "      <td>2.936857e+08</td>\n",
              "      <td>3.033825e+08</td>\n",
              "      <td>2.823918e+08</td>\n",
              "      <td>2.726977e+08</td>\n",
              "      <td>3.019912e+08</td>\n",
              "      <td>2.713568e+08</td>\n",
              "      <td>2.766063e+08</td>\n",
              "      <td>2.516964e+08</td>\n",
              "      <td>3.028577e+08</td>\n",
              "      <td>2.990609e+08</td>\n",
              "      <td>2.827096e+08</td>\n",
              "    </tr>\n",
              "    <tr>\n",
              "      <th>31 Minas Gerais</th>\n",
              "      <td>7.030109e+07</td>\n",
              "      <td>7.911901e+07</td>\n",
              "      <td>7.904632e+07</td>\n",
              "      <td>7.926807e+07</td>\n",
              "      <td>7.960865e+07</td>\n",
              "      <td>8.220022e+07</td>\n",
              "      <td>8.037412e+07</td>\n",
              "      <td>8.240015e+07</td>\n",
              "      <td>8.861348e+07</td>\n",
              "      <td>8.448700e+07</td>\n",
              "      <td>8.892863e+07</td>\n",
              "      <td>9.901816e+07</td>\n",
              "      <td>8.367512e+07</td>\n",
              "      <td>1.002407e+08</td>\n",
              "      <td>9.183133e+07</td>\n",
              "      <td>9.728970e+07</td>\n",
              "      <td>9.572340e+07</td>\n",
              "      <td>1.000500e+08</td>\n",
              "      <td>9.896806e+07</td>\n",
              "      <td>9.820212e+07</td>\n",
              "      <td>9.696239e+07</td>\n",
              "      <td>9.476764e+07</td>\n",
              "      <td>9.241277e+07</td>\n",
              "      <td>9.580656e+07</td>\n",
              "      <td>9.076489e+07</td>\n",
              "      <td>1.073899e+08</td>\n",
              "      <td>1.008298e+08</td>\n",
              "      <td>1.054856e+08</td>\n",
              "      <td>9.966612e+07</td>\n",
              "      <td>1.033570e+08</td>\n",
              "      <td>1.078443e+08</td>\n",
              "      <td>1.043411e+08</td>\n",
              "      <td>1.005254e+08</td>\n",
              "      <td>1.019436e+08</td>\n",
              "      <td>9.953895e+07</td>\n",
              "      <td>1.077389e+08</td>\n",
              "      <td>1.031408e+08</td>\n",
              "      <td>1.110660e+08</td>\n",
              "      <td>1.060943e+08</td>\n",
              "      <td>1.154872e+08</td>\n",
              "      <td>...</td>\n",
              "      <td>1.367151e+08</td>\n",
              "      <td>1.534121e+08</td>\n",
              "      <td>1.442914e+08</td>\n",
              "      <td>1.475335e+08</td>\n",
              "      <td>1.560556e+08</td>\n",
              "      <td>1.422851e+08</td>\n",
              "      <td>1.483061e+08</td>\n",
              "      <td>1.423239e+08</td>\n",
              "      <td>1.383412e+08</td>\n",
              "      <td>1.465016e+08</td>\n",
              "      <td>1.307021e+08</td>\n",
              "      <td>1.514962e+08</td>\n",
              "      <td>1.506876e+08</td>\n",
              "      <td>1.535893e+08</td>\n",
              "      <td>1.502518e+08</td>\n",
              "      <td>1.566340e+08</td>\n",
              "      <td>1.604200e+08</td>\n",
              "      <td>1.459410e+08</td>\n",
              "      <td>1.572476e+08</td>\n",
              "      <td>1.481728e+08</td>\n",
              "      <td>1.453872e+08</td>\n",
              "      <td>1.531773e+08</td>\n",
              "      <td>1.426692e+08</td>\n",
              "      <td>1.519436e+08</td>\n",
              "      <td>1.579226e+08</td>\n",
              "      <td>1.635915e+08</td>\n",
              "      <td>1.541148e+08</td>\n",
              "      <td>1.667357e+08</td>\n",
              "      <td>1.617078e+08</td>\n",
              "      <td>1.574197e+08</td>\n",
              "      <td>1.661338e+08</td>\n",
              "      <td>1.521067e+08</td>\n",
              "      <td>1.523986e+08</td>\n",
              "      <td>1.580979e+08</td>\n",
              "      <td>1.413232e+08</td>\n",
              "      <td>1.470786e+08</td>\n",
              "      <td>1.263306e+08</td>\n",
              "      <td>1.368673e+08</td>\n",
              "      <td>1.359776e+08</td>\n",
              "      <td>1.204672e+08</td>\n",
              "    </tr>\n",
              "    <tr>\n",
              "      <th>41 Paraná</th>\n",
              "      <td>4.885505e+07</td>\n",
              "      <td>5.561179e+07</td>\n",
              "      <td>5.611514e+07</td>\n",
              "      <td>5.557483e+07</td>\n",
              "      <td>5.609475e+07</td>\n",
              "      <td>5.980240e+07</td>\n",
              "      <td>5.669900e+07</td>\n",
              "      <td>5.809199e+07</td>\n",
              "      <td>6.136594e+07</td>\n",
              "      <td>5.966721e+07</td>\n",
              "      <td>5.781620e+07</td>\n",
              "      <td>6.038159e+07</td>\n",
              "      <td>5.723910e+07</td>\n",
              "      <td>6.907049e+07</td>\n",
              "      <td>6.405468e+07</td>\n",
              "      <td>6.868554e+07</td>\n",
              "      <td>6.793123e+07</td>\n",
              "      <td>7.095876e+07</td>\n",
              "      <td>6.922578e+07</td>\n",
              "      <td>6.784997e+07</td>\n",
              "      <td>6.855821e+07</td>\n",
              "      <td>6.715850e+07</td>\n",
              "      <td>6.309427e+07</td>\n",
              "      <td>6.690264e+07</td>\n",
              "      <td>6.450113e+07</td>\n",
              "      <td>7.713887e+07</td>\n",
              "      <td>7.075540e+07</td>\n",
              "      <td>7.345676e+07</td>\n",
              "      <td>7.183902e+07</td>\n",
              "      <td>7.301383e+07</td>\n",
              "      <td>7.615101e+07</td>\n",
              "      <td>7.424096e+07</td>\n",
              "      <td>7.304239e+07</td>\n",
              "      <td>7.636475e+07</td>\n",
              "      <td>7.051764e+07</td>\n",
              "      <td>7.471278e+07</td>\n",
              "      <td>7.131474e+07</td>\n",
              "      <td>7.691467e+07</td>\n",
              "      <td>7.423294e+07</td>\n",
              "      <td>8.170902e+07</td>\n",
              "      <td>...</td>\n",
              "      <td>1.060277e+08</td>\n",
              "      <td>1.205353e+08</td>\n",
              "      <td>1.117253e+08</td>\n",
              "      <td>1.185902e+08</td>\n",
              "      <td>1.221228e+08</td>\n",
              "      <td>1.106561e+08</td>\n",
              "      <td>1.175677e+08</td>\n",
              "      <td>1.124575e+08</td>\n",
              "      <td>1.055581e+08</td>\n",
              "      <td>1.161332e+08</td>\n",
              "      <td>1.070760e+08</td>\n",
              "      <td>1.223314e+08</td>\n",
              "      <td>1.247313e+08</td>\n",
              "      <td>1.270739e+08</td>\n",
              "      <td>1.226169e+08</td>\n",
              "      <td>1.279919e+08</td>\n",
              "      <td>1.312572e+08</td>\n",
              "      <td>1.206474e+08</td>\n",
              "      <td>1.295302e+08</td>\n",
              "      <td>1.218107e+08</td>\n",
              "      <td>1.129846e+08</td>\n",
              "      <td>1.241592e+08</td>\n",
              "      <td>1.177155e+08</td>\n",
              "      <td>1.239074e+08</td>\n",
              "      <td>1.274470e+08</td>\n",
              "      <td>1.325766e+08</td>\n",
              "      <td>1.248583e+08</td>\n",
              "      <td>1.346213e+08</td>\n",
              "      <td>1.271741e+08</td>\n",
              "      <td>1.261727e+08</td>\n",
              "      <td>1.338480e+08</td>\n",
              "      <td>1.262094e+08</td>\n",
              "      <td>1.135453e+08</td>\n",
              "      <td>1.222688e+08</td>\n",
              "      <td>1.160616e+08</td>\n",
              "      <td>1.144770e+08</td>\n",
              "      <td>9.672711e+07</td>\n",
              "      <td>1.061037e+08</td>\n",
              "      <td>9.290146e+07</td>\n",
              "      <td>8.032085e+07</td>\n",
              "    </tr>\n",
              "    <tr>\n",
              "      <th>43 Rio Grande do Sul</th>\n",
              "      <td>4.589770e+07</td>\n",
              "      <td>5.292870e+07</td>\n",
              "      <td>5.197242e+07</td>\n",
              "      <td>5.167935e+07</td>\n",
              "      <td>5.375967e+07</td>\n",
              "      <td>5.639165e+07</td>\n",
              "      <td>5.623376e+07</td>\n",
              "      <td>5.791017e+07</td>\n",
              "      <td>5.959212e+07</td>\n",
              "      <td>5.756574e+07</td>\n",
              "      <td>5.569692e+07</td>\n",
              "      <td>6.152238e+07</td>\n",
              "      <td>5.210164e+07</td>\n",
              "      <td>6.511197e+07</td>\n",
              "      <td>6.159083e+07</td>\n",
              "      <td>6.440229e+07</td>\n",
              "      <td>6.309064e+07</td>\n",
              "      <td>6.913700e+07</td>\n",
              "      <td>6.606263e+07</td>\n",
              "      <td>6.522201e+07</td>\n",
              "      <td>6.756941e+07</td>\n",
              "      <td>6.418912e+07</td>\n",
              "      <td>6.224428e+07</td>\n",
              "      <td>6.548839e+07</td>\n",
              "      <td>5.696453e+07</td>\n",
              "      <td>6.993358e+07</td>\n",
              "      <td>6.648684e+07</td>\n",
              "      <td>6.910837e+07</td>\n",
              "      <td>6.757077e+07</td>\n",
              "      <td>7.007475e+07</td>\n",
              "      <td>7.088401e+07</td>\n",
              "      <td>6.507979e+07</td>\n",
              "      <td>6.655602e+07</td>\n",
              "      <td>6.609703e+07</td>\n",
              "      <td>6.173710e+07</td>\n",
              "      <td>6.691891e+07</td>\n",
              "      <td>6.137076e+07</td>\n",
              "      <td>6.900497e+07</td>\n",
              "      <td>6.622507e+07</td>\n",
              "      <td>7.217267e+07</td>\n",
              "      <td>...</td>\n",
              "      <td>8.318838e+07</td>\n",
              "      <td>9.514995e+07</td>\n",
              "      <td>9.317241e+07</td>\n",
              "      <td>9.441526e+07</td>\n",
              "      <td>9.422816e+07</td>\n",
              "      <td>8.642477e+07</td>\n",
              "      <td>9.159818e+07</td>\n",
              "      <td>8.579370e+07</td>\n",
              "      <td>8.273757e+07</td>\n",
              "      <td>9.182567e+07</td>\n",
              "      <td>7.758201e+07</td>\n",
              "      <td>9.107833e+07</td>\n",
              "      <td>9.192677e+07</td>\n",
              "      <td>9.167813e+07</td>\n",
              "      <td>9.098989e+07</td>\n",
              "      <td>9.486101e+07</td>\n",
              "      <td>9.679964e+07</td>\n",
              "      <td>8.734427e+07</td>\n",
              "      <td>9.737110e+07</td>\n",
              "      <td>9.019077e+07</td>\n",
              "      <td>8.174888e+07</td>\n",
              "      <td>9.246710e+07</td>\n",
              "      <td>8.530100e+07</td>\n",
              "      <td>9.162434e+07</td>\n",
              "      <td>9.278795e+07</td>\n",
              "      <td>9.911764e+07</td>\n",
              "      <td>9.584051e+07</td>\n",
              "      <td>1.030282e+08</td>\n",
              "      <td>9.854611e+07</td>\n",
              "      <td>9.436919e+07</td>\n",
              "      <td>9.691390e+07</td>\n",
              "      <td>9.097181e+07</td>\n",
              "      <td>8.872087e+07</td>\n",
              "      <td>9.747436e+07</td>\n",
              "      <td>8.545165e+07</td>\n",
              "      <td>8.465140e+07</td>\n",
              "      <td>7.629460e+07</td>\n",
              "      <td>8.607611e+07</td>\n",
              "      <td>8.901948e+07</td>\n",
              "      <td>7.892970e+07</td>\n",
              "    </tr>\n",
              "    <tr>\n",
              "      <th>33 Rio de Janeiro</th>\n",
              "      <td>4.412259e+07</td>\n",
              "      <td>4.289267e+07</td>\n",
              "      <td>4.529596e+07</td>\n",
              "      <td>4.395135e+07</td>\n",
              "      <td>4.410293e+07</td>\n",
              "      <td>4.434852e+07</td>\n",
              "      <td>4.248794e+07</td>\n",
              "      <td>4.306646e+07</td>\n",
              "      <td>4.455331e+07</td>\n",
              "      <td>4.135151e+07</td>\n",
              "      <td>4.300979e+07</td>\n",
              "      <td>6.087040e+07</td>\n",
              "      <td>4.065784e+07</td>\n",
              "      <td>5.274937e+07</td>\n",
              "      <td>4.889560e+07</td>\n",
              "      <td>5.116713e+07</td>\n",
              "      <td>5.723141e+07</td>\n",
              "      <td>5.348566e+07</td>\n",
              "      <td>5.122066e+07</td>\n",
              "      <td>4.848129e+07</td>\n",
              "      <td>4.866800e+07</td>\n",
              "      <td>4.968521e+07</td>\n",
              "      <td>4.440786e+07</td>\n",
              "      <td>5.599371e+07</td>\n",
              "      <td>4.482045e+07</td>\n",
              "      <td>5.445799e+07</td>\n",
              "      <td>7.811810e+07</td>\n",
              "      <td>5.600780e+07</td>\n",
              "      <td>5.143583e+07</td>\n",
              "      <td>5.386128e+07</td>\n",
              "      <td>5.786729e+07</td>\n",
              "      <td>5.373602e+07</td>\n",
              "      <td>5.237116e+07</td>\n",
              "      <td>5.022062e+07</td>\n",
              "      <td>5.089133e+07</td>\n",
              "      <td>7.400562e+07</td>\n",
              "      <td>6.110944e+07</td>\n",
              "      <td>5.532100e+07</td>\n",
              "      <td>5.580637e+07</td>\n",
              "      <td>5.907137e+07</td>\n",
              "      <td>...</td>\n",
              "      <td>6.452451e+07</td>\n",
              "      <td>7.431706e+07</td>\n",
              "      <td>6.985403e+07</td>\n",
              "      <td>7.315485e+07</td>\n",
              "      <td>7.454192e+07</td>\n",
              "      <td>6.872945e+07</td>\n",
              "      <td>7.308490e+07</td>\n",
              "      <td>6.926088e+07</td>\n",
              "      <td>6.731662e+07</td>\n",
              "      <td>7.233988e+07</td>\n",
              "      <td>6.501705e+07</td>\n",
              "      <td>7.438664e+07</td>\n",
              "      <td>7.451810e+07</td>\n",
              "      <td>7.925978e+07</td>\n",
              "      <td>7.590771e+07</td>\n",
              "      <td>7.748669e+07</td>\n",
              "      <td>7.878407e+07</td>\n",
              "      <td>7.283765e+07</td>\n",
              "      <td>7.913817e+07</td>\n",
              "      <td>7.394690e+07</td>\n",
              "      <td>7.068819e+07</td>\n",
              "      <td>7.946838e+07</td>\n",
              "      <td>7.379501e+07</td>\n",
              "      <td>7.491940e+07</td>\n",
              "      <td>7.666697e+07</td>\n",
              "      <td>8.244073e+07</td>\n",
              "      <td>7.819065e+07</td>\n",
              "      <td>8.798449e+07</td>\n",
              "      <td>8.331160e+07</td>\n",
              "      <td>8.114669e+07</td>\n",
              "      <td>8.224773e+07</td>\n",
              "      <td>7.462048e+07</td>\n",
              "      <td>7.489586e+07</td>\n",
              "      <td>7.970566e+07</td>\n",
              "      <td>7.241281e+07</td>\n",
              "      <td>7.359450e+07</td>\n",
              "      <td>6.816077e+07</td>\n",
              "      <td>8.628103e+07</td>\n",
              "      <td>7.760493e+07</td>\n",
              "      <td>7.154023e+07</td>\n",
              "    </tr>\n",
              "  </tbody>\n",
              "</table>\n",
              "<p>5 rows × 150 columns</p>\n",
              "</div>"
            ],
            "text/plain": [
              "                          2008/Fev      2008/Mar  ...      2020/Jun      2020/Jul\n",
              "Unidade da Federação                              ...                            \n",
              "35 São Paulo          1.728349e+08  1.704818e+08  ...  2.990609e+08  2.827096e+08\n",
              "31 Minas Gerais       7.030109e+07  7.911901e+07  ...  1.359776e+08  1.204672e+08\n",
              "41 Paraná             4.885505e+07  5.561179e+07  ...  9.290146e+07  8.032085e+07\n",
              "43 Rio Grande do Sul  4.589770e+07  5.292870e+07  ...  8.901948e+07  7.892970e+07\n",
              "33 Rio de Janeiro     4.412259e+07  4.289267e+07  ...  7.760493e+07  7.154023e+07\n",
              "\n",
              "[5 rows x 150 columns]"
            ]
          },
          "metadata": {
            "tags": []
          },
          "execution_count": 6
        }
      ]
    },
    {
      "cell_type": "code",
      "metadata": {
        "id": "44v4wS5WAdTb"
      },
      "source": [
        "o_mes_mais_recente = ordenado_por_total.columns[-1]"
      ],
      "execution_count": 7,
      "outputs": []
    },
    {
      "cell_type": "code",
      "metadata": {
        "colab": {
          "base_uri": "https://localhost:8080/"
        },
        "id": "ejPNAZ1GBRf-",
        "outputId": "e0845c4f-1a49-49dd-84ee-b50ac8c37e2f"
      },
      "source": [
        "gastos_do_mais_recente = ordenado_por_total[o_mes_mais_recente]\n",
        "gastos_do_mais_recente.head()"
      ],
      "execution_count": 8,
      "outputs": [
        {
          "output_type": "execute_result",
          "data": {
            "text/plain": [
              "Unidade da Federação\n",
              "35 São Paulo            2.827096e+08\n",
              "31 Minas Gerais         1.204672e+08\n",
              "41 Paraná               8.032085e+07\n",
              "43 Rio Grande do Sul    7.892970e+07\n",
              "33 Rio de Janeiro       7.154023e+07\n",
              "Name: 2020/Jul, dtype: float64"
            ]
          },
          "metadata": {
            "tags": []
          },
          "execution_count": 8
        }
      ]
    },
    {
      "cell_type": "code",
      "metadata": {
        "id": "ZrWr6iFsBS4d"
      },
      "source": [
        "#Mudando a forma de impressão dos dados para que os valores científicos sejam apresentados como números de ponto flutuante para melhor análise\n",
        "pd.options.display.float_format = \"{:.2f}\".format"
      ],
      "execution_count": 9,
      "outputs": []
    },
    {
      "cell_type": "code",
      "metadata": {
        "colab": {
          "base_uri": "https://localhost:8080/"
        },
        "id": "5sWxjBHvBX_J",
        "outputId": "96102a16-3f7e-4015-e6cc-56ead4dcb3c9"
      },
      "source": [
        "gastos_do_mais_recente = gastos_do_mais_recente/1000000\n",
        "gastos_do_mais_recente = gastos_do_mais_recente.sort_values(ascending=False)\n",
        "gastos_do_mais_recente.head()"
      ],
      "execution_count": 10,
      "outputs": [
        {
          "output_type": "execute_result",
          "data": {
            "text/plain": [
              "Unidade da Federação\n",
              "35 São Paulo           282.71\n",
              "31 Minas Gerais        120.47\n",
              "41 Paraná               80.32\n",
              "43 Rio Grande do Sul    78.93\n",
              "33 Rio de Janeiro       71.54\n",
              "Name: 2020/Jul, dtype: float64"
            ]
          },
          "metadata": {
            "tags": []
          },
          "execution_count": 10
        }
      ]
    },
    {
      "cell_type": "markdown",
      "metadata": {
        "id": "5QCWG0-ZBsmf"
      },
      "source": [
        "#Início do módulo 2"
      ]
    },
    {
      "cell_type": "markdown",
      "metadata": {
        "id": "KgaW1L2FO-JX"
      },
      "source": [
        "#Aula 1 - Fontes externas, limpeza e manipulação"
      ]
    },
    {
      "cell_type": "markdown",
      "metadata": {
        "id": "WviA4diICDMs"
      },
      "source": [
        "Fazendo a análise de gasto proporcional com o total de gastos do país."
      ]
    },
    {
      "cell_type": "code",
      "metadata": {
        "colab": {
          "base_uri": "https://localhost:8080/",
          "height": 404
        },
        "id": "02m_qskTBZNj",
        "outputId": "a1c77cc2-a775-4b62-ed34-7add29029acb"
      },
      "source": [
        "gastos_proporcionais = gastos_do_mais_recente / gastos_do_mais_recente.sum()\n",
        "gastos_proporcionais.plot(kind='bar')"
      ],
      "execution_count": 11,
      "outputs": [
        {
          "output_type": "execute_result",
          "data": {
            "text/plain": [
              "<matplotlib.axes._subplots.AxesSubplot at 0x7fd69ed39908>"
            ]
          },
          "metadata": {
            "tags": []
          },
          "execution_count": 11
        },
        {
          "output_type": "display_data",
          "data": {
            "image/png": "[encoded data removed]",
            "text/plain": [
              "<Figure size 432x288 with 1 Axes>"
            ]
          },
          "metadata": {
            "tags": [],
            "needs_background": "light"
          }
        }
      ]
    },
    {
      "cell_type": "markdown",
      "metadata": {
        "id": "zT7I2PDwC-vz"
      },
      "source": [
        "##Carregando a populacão dos estados"
      ]
    },
    {
      "cell_type": "markdown",
      "metadata": {
        "id": "cNPrsVWODDWn"
      },
      "source": [
        "Podemos procurar conjuntos de dados tradicionais, como fizemos até agora, para a população brasileira, como por exemplo o site do IBGE etc... Entretanto, para aprendizado iremos obter esses dados de um modo diferente, primeiro veremos abrindo normalmente um arquivo xlsx do excel, e posteriormente a outra maneira."
      ]
    },
    {
      "cell_type": "code",
      "metadata": {
        "colab": {
          "base_uri": "https://localhost:8080/",
          "height": 195
        },
        "id": "by9QT2k1CCBc",
        "outputId": "7257b4d4-99ac-41b5-f5ed-ef894681c914"
      },
      "source": [
        "ibge_estimativa = pd.read_excel('https://github.com/alura-cursos/agendamento-hospitalar/raw/main/dados/estimativa_dou_2020.xls', header=1)\n",
        "ibge_estimativa.head()"
      ],
      "execution_count": 12,
      "outputs": [
        {
          "output_type": "execute_result",
          "data": {
            "text/html": [
              "<div>\n",
              "<style scoped>\n",
              "    .dataframe tbody tr th:only-of-type {\n",
              "        vertical-align: middle;\n",
              "    }\n",
              "\n",
              "    .dataframe tbody tr th {\n",
              "        vertical-align: top;\n",
              "    }\n",
              "\n",
              "    .dataframe thead th {\n",
              "        text-align: right;\n",
              "    }\n",
              "</style>\n",
              "<table border=\"1\" class=\"dataframe\">\n",
              "  <thead>\n",
              "    <tr style=\"text-align: right;\">\n",
              "      <th></th>\n",
              "      <th>BRASIL E UNIDADES DA FEDERAÇÃO</th>\n",
              "      <th>Unnamed: 1</th>\n",
              "      <th>POPULAÇÃO ESTIMADA</th>\n",
              "    </tr>\n",
              "  </thead>\n",
              "  <tbody>\n",
              "    <tr>\n",
              "      <th>0</th>\n",
              "      <td>Brasil</td>\n",
              "      <td>nan</td>\n",
              "      <td>211755692</td>\n",
              "    </tr>\n",
              "    <tr>\n",
              "      <th>1</th>\n",
              "      <td>Região Norte</td>\n",
              "      <td>nan</td>\n",
              "      <td>18672591</td>\n",
              "    </tr>\n",
              "    <tr>\n",
              "      <th>2</th>\n",
              "      <td>Rondônia</td>\n",
              "      <td>nan</td>\n",
              "      <td>1796460</td>\n",
              "    </tr>\n",
              "    <tr>\n",
              "      <th>3</th>\n",
              "      <td>Acre</td>\n",
              "      <td>nan</td>\n",
              "      <td>894470</td>\n",
              "    </tr>\n",
              "    <tr>\n",
              "      <th>4</th>\n",
              "      <td>Amazonas</td>\n",
              "      <td>nan</td>\n",
              "      <td>4207714</td>\n",
              "    </tr>\n",
              "  </tbody>\n",
              "</table>\n",
              "</div>"
            ],
            "text/plain": [
              "  BRASIL E UNIDADES DA FEDERAÇÃO  Unnamed: 1 POPULAÇÃO ESTIMADA\n",
              "0                         Brasil         nan          211755692\n",
              "1                   Região Norte         nan           18672591\n",
              "2                       Rondônia         nan            1796460\n",
              "3                           Acre         nan             894470\n",
              "4                       Amazonas         nan            4207714"
            ]
          },
          "metadata": {
            "tags": []
          },
          "execution_count": 12
        }
      ]
    },
    {
      "cell_type": "markdown",
      "metadata": {
        "id": "35HK9Y3DDQui"
      },
      "source": [
        "##Lendo arquivos com fluxo de dados usando StringIO."
      ]
    },
    {
      "cell_type": "markdown",
      "metadata": {
        "id": "WSBuNhC5EcK-"
      },
      "source": [
        "Agora sim, veremos uma forma totalmente nova de carregar os dados, uma vez que ler excel não é realmente um desafio. Também devemos considerar que dependendo do que buscamos, não temos nem de onde baixar. No exemplo a seguir iremos acessar a população conforme está descrito na página do wikipedia.\n",
        "Link: https://pt.wikipedia.org/wiki/Lista_de_unidades_federativas_do_Brasil_por_popula%C3%A7%C3%A3o"
      ]
    },
    {
      "cell_type": "markdown",
      "metadata": {
        "id": "tReBSRXVE-rR"
      },
      "source": [
        "Primeiro faremos um \"copy and paste\" da própria página"
      ]
    },
    {
      "cell_type": "code",
      "metadata": {
        "id": "GZnpUI1tEFu7"
      },
      "source": [
        "dados_da_populacao = \"\"\"Posição\tUnidade federativa\tPopulação\t% da pop. total\tPaís comparável\n",
        "(habitantes)\n",
        "\n",
        "1\t São Paulo\t46 289 333\t21,9%\tFlag of Spain.svg Espanha (46 439 864)\n",
        "2\t Minas Gerais\t21 331 292\t10,1%\t Sri Lanka (20 675 000)\n",
        "3\t Rio de Janeiro\t17 366 189\t8,2%\t Países Baixos (16 922 900)\n",
        "4\tBahia Bahia\t14 930 634\t7,1%\t Chade (14 037 000)\n",
        "5\t Paraná\t11 516 840\t5,4%\t Bolívia (11 410 651)\n",
        "6\t Rio Grande do Sul\t11 422 973\t5,4%\t Bélgica (11 250 659)\n",
        "7\t Pernambuco\t9 616 621\t4,5%\t Bielorrússia (9 485 300)\n",
        "8\t Ceará\t9 187 103\t4,3%\t Emirados Árabes Unidos (9 157 000)\n",
        "9\tPará Pará\t8 690 745\t4,1%\t Áustria (8 602 112)\n",
        "10\t Santa Catarina\t7 279 638\t3,4%\t Sérvia (7 114 393)\n",
        "12\t Goiás\t7 142 070\t3,4%\t Paraguai (7 003 406)\n",
        "11\t Maranhão\t7 127 460\t3,4%\t Paraguai (7 003 406)\n",
        "13\t Amazonas\t4 228 381\t2,0%\t Líbano (4 168 000)\n",
        "14\t Espírito Santo\t4 064 052\t1,9%\t Líbano (4 168 000)\n",
        "15\t Paraíba\t4 039 277\t1,9%\t Líbano (4 168 000)\n",
        "16\t Rio Grande do Norte\t3 534 165\t1,7%\t Uruguai (3 415 866)\n",
        "17\t Mato Grosso\t3 526 220\t1,7%\t Uruguai (3 415 866)\n",
        "18\t Alagoas\t3 351 543\t1,6%\t Uruguai (3 415 866)\n",
        "19\t Piauí\t3 281 480\t1,6%\t Kuwait (3 268 431)\n",
        "20\t Distrito Federal\t3 055 149\t1,4%\t Lituânia (2 900 787)\n",
        "21\t Mato Grosso do Sul\t2 809 394\t1,3%\t Jamaica (2 717 991)\n",
        "22\t Sergipe\t2 318 822\t1,1%\t Namíbia (2 280 700)\n",
        "23\t Rondônia\t1 796 460\t0,8%\t Gabão (1 725 000)\n",
        "24\t Tocantins\t1 590 248\t0,7%\t Bahrein (1 359 800)\n",
        "25\t Acre\t894 470\t0,4%\t Fiji (859 178)\n",
        "26\t Amapá\t861 773\t0,4%\t Fiji (859 178)\n",
        "27\t Roraima\t631 181\t0,3%\t Luxemburgo (562 958)\"\"\""
      ],
      "execution_count": 13,
      "outputs": []
    },
    {
      "cell_type": "markdown",
      "metadata": {
        "id": "S8VMnG5aFs9s"
      },
      "source": [
        "Importante, para que se mantenha um aspecto multi-linha é necessário incluir 3 aspas no início e no final da informação para que o python reconheça. Agora sim, iremos ler esses dados, se observarmos ele é similar um arquivo csv normal, porém, separado por tab."
      ]
    },
    {
      "cell_type": "code",
      "metadata": {
        "id": "T4Y6i-8ZFqFg"
      },
      "source": [
        "#O código abaixo trás um erro, foi incluso apenas por questões didáticas a este notebook e por isso será comentado.\n",
        "#pd.read_csv(dados_da_populacao, sep='\\t')"
      ],
      "execution_count": 14,
      "outputs": []
    },
    {
      "cell_type": "markdown",
      "metadata": {
        "id": "UbG-yUcZGXTP"
      },
      "source": [
        "O erro acima ocorre pois o read_csv espera receber um link para um arquivo e não uma variável, porém, ele aceita receber um fluxo de dados, do seguinte modo:"
      ]
    },
    {
      "cell_type": "code",
      "metadata": {
        "colab": {
          "base_uri": "https://localhost:8080/",
          "height": 876
        },
        "id": "-SeqwGd_GKE8",
        "outputId": "7d2b381c-13a4-4a77-d24d-87c62f715c13"
      },
      "source": [
        "#importando StringIO da biblioteca io.\n",
        "from io import StringIO\n",
        "#Transformando o conjunto de dados em um fluxo de entrada e saida.\n",
        "dados_da_populacao_io = StringIO(dados_da_populacao)\n",
        "#realizando a leitura.\n",
        "pd.read_csv(dados_da_populacao_io, sep='\\t')"
      ],
      "execution_count": 15,
      "outputs": [
        {
          "output_type": "execute_result",
          "data": {
            "text/html": [
              "<div>\n",
              "<style scoped>\n",
              "    .dataframe tbody tr th:only-of-type {\n",
              "        vertical-align: middle;\n",
              "    }\n",
              "\n",
              "    .dataframe tbody tr th {\n",
              "        vertical-align: top;\n",
              "    }\n",
              "\n",
              "    .dataframe thead th {\n",
              "        text-align: right;\n",
              "    }\n",
              "</style>\n",
              "<table border=\"1\" class=\"dataframe\">\n",
              "  <thead>\n",
              "    <tr style=\"text-align: right;\">\n",
              "      <th></th>\n",
              "      <th>Posição</th>\n",
              "      <th>Unidade federativa</th>\n",
              "      <th>População</th>\n",
              "      <th>% da pop. total</th>\n",
              "      <th>País comparável</th>\n",
              "    </tr>\n",
              "  </thead>\n",
              "  <tbody>\n",
              "    <tr>\n",
              "      <th>0</th>\n",
              "      <td>(habitantes)</td>\n",
              "      <td>NaN</td>\n",
              "      <td>NaN</td>\n",
              "      <td>NaN</td>\n",
              "      <td>NaN</td>\n",
              "    </tr>\n",
              "    <tr>\n",
              "      <th>1</th>\n",
              "      <td>1</td>\n",
              "      <td>São Paulo</td>\n",
              "      <td>46 289 333</td>\n",
              "      <td>21,9%</td>\n",
              "      <td>Flag of Spain.svg Espanha (46 439 864)</td>\n",
              "    </tr>\n",
              "    <tr>\n",
              "      <th>2</th>\n",
              "      <td>2</td>\n",
              "      <td>Minas Gerais</td>\n",
              "      <td>21 331 292</td>\n",
              "      <td>10,1%</td>\n",
              "      <td>Sri Lanka (20 675 000)</td>\n",
              "    </tr>\n",
              "    <tr>\n",
              "      <th>3</th>\n",
              "      <td>3</td>\n",
              "      <td>Rio de Janeiro</td>\n",
              "      <td>17 366 189</td>\n",
              "      <td>8,2%</td>\n",
              "      <td>Países Baixos (16 922 900)</td>\n",
              "    </tr>\n",
              "    <tr>\n",
              "      <th>4</th>\n",
              "      <td>4</td>\n",
              "      <td>Bahia Bahia</td>\n",
              "      <td>14 930 634</td>\n",
              "      <td>7,1%</td>\n",
              "      <td>Chade (14 037 000)</td>\n",
              "    </tr>\n",
              "    <tr>\n",
              "      <th>5</th>\n",
              "      <td>5</td>\n",
              "      <td>Paraná</td>\n",
              "      <td>11 516 840</td>\n",
              "      <td>5,4%</td>\n",
              "      <td>Bolívia (11 410 651)</td>\n",
              "    </tr>\n",
              "    <tr>\n",
              "      <th>6</th>\n",
              "      <td>6</td>\n",
              "      <td>Rio Grande do Sul</td>\n",
              "      <td>11 422 973</td>\n",
              "      <td>5,4%</td>\n",
              "      <td>Bélgica (11 250 659)</td>\n",
              "    </tr>\n",
              "    <tr>\n",
              "      <th>7</th>\n",
              "      <td>7</td>\n",
              "      <td>Pernambuco</td>\n",
              "      <td>9 616 621</td>\n",
              "      <td>4,5%</td>\n",
              "      <td>Bielorrússia (9 485 300)</td>\n",
              "    </tr>\n",
              "    <tr>\n",
              "      <th>8</th>\n",
              "      <td>8</td>\n",
              "      <td>Ceará</td>\n",
              "      <td>9 187 103</td>\n",
              "      <td>4,3%</td>\n",
              "      <td>Emirados Árabes Unidos (9 157 000)</td>\n",
              "    </tr>\n",
              "    <tr>\n",
              "      <th>9</th>\n",
              "      <td>9</td>\n",
              "      <td>Pará Pará</td>\n",
              "      <td>8 690 745</td>\n",
              "      <td>4,1%</td>\n",
              "      <td>Áustria (8 602 112)</td>\n",
              "    </tr>\n",
              "    <tr>\n",
              "      <th>10</th>\n",
              "      <td>10</td>\n",
              "      <td>Santa Catarina</td>\n",
              "      <td>7 279 638</td>\n",
              "      <td>3,4%</td>\n",
              "      <td>Sérvia (7 114 393)</td>\n",
              "    </tr>\n",
              "    <tr>\n",
              "      <th>11</th>\n",
              "      <td>12</td>\n",
              "      <td>Goiás</td>\n",
              "      <td>7 142 070</td>\n",
              "      <td>3,4%</td>\n",
              "      <td>Paraguai (7 003 406)</td>\n",
              "    </tr>\n",
              "    <tr>\n",
              "      <th>12</th>\n",
              "      <td>11</td>\n",
              "      <td>Maranhão</td>\n",
              "      <td>7 127 460</td>\n",
              "      <td>3,4%</td>\n",
              "      <td>Paraguai (7 003 406)</td>\n",
              "    </tr>\n",
              "    <tr>\n",
              "      <th>13</th>\n",
              "      <td>13</td>\n",
              "      <td>Amazonas</td>\n",
              "      <td>4 228 381</td>\n",
              "      <td>2,0%</td>\n",
              "      <td>Líbano (4 168 000)</td>\n",
              "    </tr>\n",
              "    <tr>\n",
              "      <th>14</th>\n",
              "      <td>14</td>\n",
              "      <td>Espírito Santo</td>\n",
              "      <td>4 064 052</td>\n",
              "      <td>1,9%</td>\n",
              "      <td>Líbano (4 168 000)</td>\n",
              "    </tr>\n",
              "    <tr>\n",
              "      <th>15</th>\n",
              "      <td>15</td>\n",
              "      <td>Paraíba</td>\n",
              "      <td>4 039 277</td>\n",
              "      <td>1,9%</td>\n",
              "      <td>Líbano (4 168 000)</td>\n",
              "    </tr>\n",
              "    <tr>\n",
              "      <th>16</th>\n",
              "      <td>16</td>\n",
              "      <td>Rio Grande do Norte</td>\n",
              "      <td>3 534 165</td>\n",
              "      <td>1,7%</td>\n",
              "      <td>Uruguai (3 415 866)</td>\n",
              "    </tr>\n",
              "    <tr>\n",
              "      <th>17</th>\n",
              "      <td>17</td>\n",
              "      <td>Mato Grosso</td>\n",
              "      <td>3 526 220</td>\n",
              "      <td>1,7%</td>\n",
              "      <td>Uruguai (3 415 866)</td>\n",
              "    </tr>\n",
              "    <tr>\n",
              "      <th>18</th>\n",
              "      <td>18</td>\n",
              "      <td>Alagoas</td>\n",
              "      <td>3 351 543</td>\n",
              "      <td>1,6%</td>\n",
              "      <td>Uruguai (3 415 866)</td>\n",
              "    </tr>\n",
              "    <tr>\n",
              "      <th>19</th>\n",
              "      <td>19</td>\n",
              "      <td>Piauí</td>\n",
              "      <td>3 281 480</td>\n",
              "      <td>1,6%</td>\n",
              "      <td>Kuwait (3 268 431)</td>\n",
              "    </tr>\n",
              "    <tr>\n",
              "      <th>20</th>\n",
              "      <td>20</td>\n",
              "      <td>Distrito Federal</td>\n",
              "      <td>3 055 149</td>\n",
              "      <td>1,4%</td>\n",
              "      <td>Lituânia (2 900 787)</td>\n",
              "    </tr>\n",
              "    <tr>\n",
              "      <th>21</th>\n",
              "      <td>21</td>\n",
              "      <td>Mato Grosso do Sul</td>\n",
              "      <td>2 809 394</td>\n",
              "      <td>1,3%</td>\n",
              "      <td>Jamaica (2 717 991)</td>\n",
              "    </tr>\n",
              "    <tr>\n",
              "      <th>22</th>\n",
              "      <td>22</td>\n",
              "      <td>Sergipe</td>\n",
              "      <td>2 318 822</td>\n",
              "      <td>1,1%</td>\n",
              "      <td>Namíbia (2 280 700)</td>\n",
              "    </tr>\n",
              "    <tr>\n",
              "      <th>23</th>\n",
              "      <td>23</td>\n",
              "      <td>Rondônia</td>\n",
              "      <td>1 796 460</td>\n",
              "      <td>0,8%</td>\n",
              "      <td>Gabão (1 725 000)</td>\n",
              "    </tr>\n",
              "    <tr>\n",
              "      <th>24</th>\n",
              "      <td>24</td>\n",
              "      <td>Tocantins</td>\n",
              "      <td>1 590 248</td>\n",
              "      <td>0,7%</td>\n",
              "      <td>Bahrein (1 359 800)</td>\n",
              "    </tr>\n",
              "    <tr>\n",
              "      <th>25</th>\n",
              "      <td>25</td>\n",
              "      <td>Acre</td>\n",
              "      <td>894 470</td>\n",
              "      <td>0,4%</td>\n",
              "      <td>Fiji (859 178)</td>\n",
              "    </tr>\n",
              "    <tr>\n",
              "      <th>26</th>\n",
              "      <td>26</td>\n",
              "      <td>Amapá</td>\n",
              "      <td>861 773</td>\n",
              "      <td>0,4%</td>\n",
              "      <td>Fiji (859 178)</td>\n",
              "    </tr>\n",
              "    <tr>\n",
              "      <th>27</th>\n",
              "      <td>27</td>\n",
              "      <td>Roraima</td>\n",
              "      <td>631 181</td>\n",
              "      <td>0,3%</td>\n",
              "      <td>Luxemburgo (562 958)</td>\n",
              "    </tr>\n",
              "  </tbody>\n",
              "</table>\n",
              "</div>"
            ],
            "text/plain": [
              "         Posição  ...                         País comparável\n",
              "0   (habitantes)  ...                                     NaN\n",
              "1              1  ...  Flag of Spain.svg Espanha (46 439 864)\n",
              "2              2  ...                  Sri Lanka (20 675 000)\n",
              "3              3  ...              Países Baixos (16 922 900)\n",
              "4              4  ...                      Chade (14 037 000)\n",
              "5              5  ...                    Bolívia (11 410 651)\n",
              "6              6  ...                    Bélgica (11 250 659)\n",
              "7              7  ...                Bielorrússia (9 485 300)\n",
              "8              8  ...      Emirados Árabes Unidos (9 157 000)\n",
              "9              9  ...                     Áustria (8 602 112)\n",
              "10            10  ...                      Sérvia (7 114 393)\n",
              "11            12  ...                    Paraguai (7 003 406)\n",
              "12            11  ...                    Paraguai (7 003 406)\n",
              "13            13  ...                      Líbano (4 168 000)\n",
              "14            14  ...                      Líbano (4 168 000)\n",
              "15            15  ...                      Líbano (4 168 000)\n",
              "16            16  ...                     Uruguai (3 415 866)\n",
              "17            17  ...                     Uruguai (3 415 866)\n",
              "18            18  ...                     Uruguai (3 415 866)\n",
              "19            19  ...                      Kuwait (3 268 431)\n",
              "20            20  ...                    Lituânia (2 900 787)\n",
              "21            21  ...                     Jamaica (2 717 991)\n",
              "22            22  ...                     Namíbia (2 280 700)\n",
              "23            23  ...                       Gabão (1 725 000)\n",
              "24            24  ...                     Bahrein (1 359 800)\n",
              "25            25  ...                          Fiji (859 178)\n",
              "26            26  ...                          Fiji (859 178)\n",
              "27            27  ...                    Luxemburgo (562 958)\n",
              "\n",
              "[28 rows x 5 columns]"
            ]
          },
          "metadata": {
            "tags": []
          },
          "execution_count": 15
        }
      ]
    },
    {
      "cell_type": "markdown",
      "metadata": {
        "id": "i5wJnTDeGy8l"
      },
      "source": [
        "Como se fosse mágica, não?"
      ]
    },
    {
      "cell_type": "markdown",
      "metadata": {
        "id": "Szys0hdzHQsm"
      },
      "source": [
        "##Desafio 1: Ler o arquivo diretamente da página da internet, direto do wikipedia."
      ]
    },
    {
      "cell_type": "markdown",
      "metadata": {
        "id": "gHBi_QQJDcSD"
      },
      "source": [
        "###Lendo arquivo usando read_html"
      ]
    },
    {
      "cell_type": "code",
      "metadata": {
        "id": "z_WF3E6wGvuk"
      },
      "source": [
        "#utilizando o read_html para carregar a página da wikipedia\n",
        "dados_desafio = pd.read_html('https://pt.wikipedia.org/wiki/Lista_de_unidades_federativas_do_Brasil_por_popula%C3%A7%C3%A3o')\n",
        "#selecionando a primeira tabela da página e lendo\n",
        "dados_desafio = dados_desafio[0]"
      ],
      "execution_count": 28,
      "outputs": []
    },
    {
      "cell_type": "markdown",
      "metadata": {
        "id": "IlVd9AoPH9_x"
      },
      "source": [
        "##Desafio 2: \n",
        "- Mudar o nome das colunas, de Unidade Federativa para uf e População para populacao, e deixar uf como índice.\n",
        "- Modificar os valores da população para número, uma vez que eles estão separados por espaço "
      ]
    },
    {
      "cell_type": "markdown",
      "metadata": {
        "id": "NgUt5xP3DjEM"
      },
      "source": [
        "###limpeza de dados"
      ]
    },
    {
      "cell_type": "code",
      "metadata": {
        "colab": {
          "base_uri": "https://localhost:8080/",
          "height": 376
        },
        "id": "taAXLpTRHgh4",
        "outputId": "f4490212-eb3d-408d-f3b8-7e486cc46f07"
      },
      "source": [
        "dados_desafio['populacao'] = dados_desafio['População']\n",
        "dados_desafio['uf'] = dados_desafio['Unidade federativa']\n",
        "#para excluir valores NaN\n",
        "dados_desafio = dados_desafio.dropna()\n",
        "#para arrancar os espaços entre os números utilizando o replace, porém com as funções de strig, \n",
        "#incluido .str antes do replace, se não for passado o método str o pandas também possui um replace que não funciona do mesmo modo.\n",
        "dados_desafio['populacao'] = dados_desafio['População'].str.replace(' ','').astype(int)\n",
        "#deixando o dataframe apenas com a coluna populacao e uf e setando uf como índice\n",
        "dados_desafio = dados_desafio[['populacao', 'uf']].set_index('uf')\n",
        "display(dados_desafio.head())\n",
        "display(dados_desafio.info())"
      ],
      "execution_count": 17,
      "outputs": [
        {
          "output_type": "display_data",
          "data": {
            "text/html": [
              "<div>\n",
              "<style scoped>\n",
              "    .dataframe tbody tr th:only-of-type {\n",
              "        vertical-align: middle;\n",
              "    }\n",
              "\n",
              "    .dataframe tbody tr th {\n",
              "        vertical-align: top;\n",
              "    }\n",
              "\n",
              "    .dataframe thead th {\n",
              "        text-align: right;\n",
              "    }\n",
              "</style>\n",
              "<table border=\"1\" class=\"dataframe\">\n",
              "  <thead>\n",
              "    <tr style=\"text-align: right;\">\n",
              "      <th></th>\n",
              "      <th>populacao</th>\n",
              "    </tr>\n",
              "    <tr>\n",
              "      <th>uf</th>\n",
              "      <th></th>\n",
              "    </tr>\n",
              "  </thead>\n",
              "  <tbody>\n",
              "    <tr>\n",
              "      <th>São Paulo</th>\n",
              "      <td>46289333</td>\n",
              "    </tr>\n",
              "    <tr>\n",
              "      <th>Minas Gerais</th>\n",
              "      <td>21331292</td>\n",
              "    </tr>\n",
              "    <tr>\n",
              "      <th>Rio de Janeiro</th>\n",
              "      <td>17366189</td>\n",
              "    </tr>\n",
              "    <tr>\n",
              "      <th>Bahia</th>\n",
              "      <td>14930634</td>\n",
              "    </tr>\n",
              "    <tr>\n",
              "      <th>Paraná</th>\n",
              "      <td>11516840</td>\n",
              "    </tr>\n",
              "  </tbody>\n",
              "</table>\n",
              "</div>"
            ],
            "text/plain": [
              "                populacao\n",
              "uf                       \n",
              "São Paulo        46289333\n",
              "Minas Gerais     21331292\n",
              "Rio de Janeiro   17366189\n",
              "Bahia            14930634\n",
              "Paraná           11516840"
            ]
          },
          "metadata": {
            "tags": []
          }
        },
        {
          "output_type": "stream",
          "text": [
            "<class 'pandas.core.frame.DataFrame'>\n",
            "Index: 27 entries, São Paulo to Roraima\n",
            "Data columns (total 1 columns):\n",
            " #   Column     Non-Null Count  Dtype\n",
            "---  ------     --------------  -----\n",
            " 0   populacao  27 non-null     int64\n",
            "dtypes: int64(1)\n",
            "memory usage: 432.0+ bytes\n"
          ],
          "name": "stdout"
        },
        {
          "output_type": "display_data",
          "data": {
            "text/plain": [
              "None"
            ]
          },
          "metadata": {
            "tags": []
          }
        }
      ]
    },
    {
      "cell_type": "markdown",
      "metadata": {
        "id": "ouph5jwsL0bG"
      },
      "source": [
        "###Um exemplo de uso do método .str"
      ]
    },
    {
      "cell_type": "code",
      "metadata": {
        "id": "7gXvm0cTIafl"
      },
      "source": [
        "#dados_desafio.index.str[:3]"
      ],
      "execution_count": 18,
      "outputs": []
    },
    {
      "cell_type": "markdown",
      "metadata": {
        "id": "Q1JSfnMdMv8c"
      },
      "source": [
        "##Retomando a aula"
      ]
    },
    {
      "cell_type": "markdown",
      "metadata": {
        "id": "7lxW97NOMyv8"
      },
      "source": [
        "Irei puxar as transformações que realizei para a variável 'populacao' para seguir exatamente como na aula."
      ]
    },
    {
      "cell_type": "code",
      "metadata": {
        "id": "LFyfnLLsL8-x"
      },
      "source": [
        "populacao = dados_desafio"
      ],
      "execution_count": 19,
      "outputs": []
    },
    {
      "cell_type": "markdown",
      "metadata": {
        "id": "vC_Mp9TQDxLq"
      },
      "source": [
        "##Usando o método join para cruzar tabelas."
      ]
    },
    {
      "cell_type": "markdown",
      "metadata": {
        "id": "TbsEBCPAM_jE"
      },
      "source": [
        "Queremos agora cruzar esses dados com os dados da tabela de gastos do mes mais recente do SUS."
      ]
    },
    {
      "cell_type": "code",
      "metadata": {
        "colab": {
          "base_uri": "https://localhost:8080/"
        },
        "id": "FCJ_P9CCM8Dr",
        "outputId": "f06e40b4-06ba-4068-f0f8-799797db7cac"
      },
      "source": [
        "gastos_do_mais_recente.head()"
      ],
      "execution_count": 20,
      "outputs": [
        {
          "output_type": "execute_result",
          "data": {
            "text/plain": [
              "Unidade da Federação\n",
              "35 São Paulo           282.71\n",
              "31 Minas Gerais        120.47\n",
              "41 Paraná               80.32\n",
              "43 Rio Grande do Sul    78.93\n",
              "33 Rio de Janeiro       71.54\n",
              "Name: 2020/Jul, dtype: float64"
            ]
          },
          "metadata": {
            "tags": []
          },
          "execution_count": 20
        }
      ]
    },
    {
      "cell_type": "code",
      "metadata": {
        "colab": {
          "base_uri": "https://localhost:8080/",
          "height": 225
        },
        "id": "RKvaFLJHNHIf",
        "outputId": "b9169a3f-bd7a-4894-ec8b-d0ae9d406070"
      },
      "source": [
        "populacao.head()"
      ],
      "execution_count": 21,
      "outputs": [
        {
          "output_type": "execute_result",
          "data": {
            "text/html": [
              "<div>\n",
              "<style scoped>\n",
              "    .dataframe tbody tr th:only-of-type {\n",
              "        vertical-align: middle;\n",
              "    }\n",
              "\n",
              "    .dataframe tbody tr th {\n",
              "        vertical-align: top;\n",
              "    }\n",
              "\n",
              "    .dataframe thead th {\n",
              "        text-align: right;\n",
              "    }\n",
              "</style>\n",
              "<table border=\"1\" class=\"dataframe\">\n",
              "  <thead>\n",
              "    <tr style=\"text-align: right;\">\n",
              "      <th></th>\n",
              "      <th>populacao</th>\n",
              "    </tr>\n",
              "    <tr>\n",
              "      <th>uf</th>\n",
              "      <th></th>\n",
              "    </tr>\n",
              "  </thead>\n",
              "  <tbody>\n",
              "    <tr>\n",
              "      <th>São Paulo</th>\n",
              "      <td>46289333</td>\n",
              "    </tr>\n",
              "    <tr>\n",
              "      <th>Minas Gerais</th>\n",
              "      <td>21331292</td>\n",
              "    </tr>\n",
              "    <tr>\n",
              "      <th>Rio de Janeiro</th>\n",
              "      <td>17366189</td>\n",
              "    </tr>\n",
              "    <tr>\n",
              "      <th>Bahia</th>\n",
              "      <td>14930634</td>\n",
              "    </tr>\n",
              "    <tr>\n",
              "      <th>Paraná</th>\n",
              "      <td>11516840</td>\n",
              "    </tr>\n",
              "  </tbody>\n",
              "</table>\n",
              "</div>"
            ],
            "text/plain": [
              "                populacao\n",
              "uf                       \n",
              "São Paulo        46289333\n",
              "Minas Gerais     21331292\n",
              "Rio de Janeiro   17366189\n",
              "Bahia            14930634\n",
              "Paraná           11516840"
            ]
          },
          "metadata": {
            "tags": []
          },
          "execution_count": 21
        }
      ]
    },
    {
      "cell_type": "markdown",
      "metadata": {
        "id": "T5e0d_oUNU4n"
      },
      "source": [
        "Como unificar as tabelas?"
      ]
    },
    {
      "cell_type": "code",
      "metadata": {
        "colab": {
          "base_uri": "https://localhost:8080/",
          "height": 876
        },
        "id": "-xPEJUXpNKqz",
        "outputId": "fbbb209b-a02f-403e-8379-cb3fb7b62863"
      },
      "source": [
        "populacao.join(gastos_do_mais_recente)"
      ],
      "execution_count": 22,
      "outputs": [
        {
          "output_type": "execute_result",
          "data": {
            "text/html": [
              "<div>\n",
              "<style scoped>\n",
              "    .dataframe tbody tr th:only-of-type {\n",
              "        vertical-align: middle;\n",
              "    }\n",
              "\n",
              "    .dataframe tbody tr th {\n",
              "        vertical-align: top;\n",
              "    }\n",
              "\n",
              "    .dataframe thead th {\n",
              "        text-align: right;\n",
              "    }\n",
              "</style>\n",
              "<table border=\"1\" class=\"dataframe\">\n",
              "  <thead>\n",
              "    <tr style=\"text-align: right;\">\n",
              "      <th></th>\n",
              "      <th>populacao</th>\n",
              "      <th>2020/Jul</th>\n",
              "    </tr>\n",
              "    <tr>\n",
              "      <th>uf</th>\n",
              "      <th></th>\n",
              "      <th></th>\n",
              "    </tr>\n",
              "  </thead>\n",
              "  <tbody>\n",
              "    <tr>\n",
              "      <th>São Paulo</th>\n",
              "      <td>46289333</td>\n",
              "      <td>nan</td>\n",
              "    </tr>\n",
              "    <tr>\n",
              "      <th>Minas Gerais</th>\n",
              "      <td>21331292</td>\n",
              "      <td>nan</td>\n",
              "    </tr>\n",
              "    <tr>\n",
              "      <th>Rio de Janeiro</th>\n",
              "      <td>17366189</td>\n",
              "      <td>nan</td>\n",
              "    </tr>\n",
              "    <tr>\n",
              "      <th>Bahia</th>\n",
              "      <td>14930634</td>\n",
              "      <td>nan</td>\n",
              "    </tr>\n",
              "    <tr>\n",
              "      <th>Paraná</th>\n",
              "      <td>11516840</td>\n",
              "      <td>nan</td>\n",
              "    </tr>\n",
              "    <tr>\n",
              "      <th>Rio Grande do Sul</th>\n",
              "      <td>11422973</td>\n",
              "      <td>nan</td>\n",
              "    </tr>\n",
              "    <tr>\n",
              "      <th>Pernambuco</th>\n",
              "      <td>9616621</td>\n",
              "      <td>nan</td>\n",
              "    </tr>\n",
              "    <tr>\n",
              "      <th>Ceará</th>\n",
              "      <td>9187103</td>\n",
              "      <td>nan</td>\n",
              "    </tr>\n",
              "    <tr>\n",
              "      <th>Pará</th>\n",
              "      <td>8690745</td>\n",
              "      <td>nan</td>\n",
              "    </tr>\n",
              "    <tr>\n",
              "      <th>Santa Catarina</th>\n",
              "      <td>7279638</td>\n",
              "      <td>nan</td>\n",
              "    </tr>\n",
              "    <tr>\n",
              "      <th>Goiás</th>\n",
              "      <td>7142070</td>\n",
              "      <td>nan</td>\n",
              "    </tr>\n",
              "    <tr>\n",
              "      <th>Maranhão</th>\n",
              "      <td>7127460</td>\n",
              "      <td>nan</td>\n",
              "    </tr>\n",
              "    <tr>\n",
              "      <th>Amazonas</th>\n",
              "      <td>4228381</td>\n",
              "      <td>nan</td>\n",
              "    </tr>\n",
              "    <tr>\n",
              "      <th>Espírito Santo</th>\n",
              "      <td>4064052</td>\n",
              "      <td>nan</td>\n",
              "    </tr>\n",
              "    <tr>\n",
              "      <th>Paraíba</th>\n",
              "      <td>4039277</td>\n",
              "      <td>nan</td>\n",
              "    </tr>\n",
              "    <tr>\n",
              "      <th>Rio Grande do Norte</th>\n",
              "      <td>3534165</td>\n",
              "      <td>nan</td>\n",
              "    </tr>\n",
              "    <tr>\n",
              "      <th>Mato Grosso</th>\n",
              "      <td>3526220</td>\n",
              "      <td>nan</td>\n",
              "    </tr>\n",
              "    <tr>\n",
              "      <th>Alagoas</th>\n",
              "      <td>3351543</td>\n",
              "      <td>nan</td>\n",
              "    </tr>\n",
              "    <tr>\n",
              "      <th>Piauí</th>\n",
              "      <td>3281480</td>\n",
              "      <td>nan</td>\n",
              "    </tr>\n",
              "    <tr>\n",
              "      <th>Distrito Federal</th>\n",
              "      <td>3055149</td>\n",
              "      <td>nan</td>\n",
              "    </tr>\n",
              "    <tr>\n",
              "      <th>Mato Grosso do Sul</th>\n",
              "      <td>2809394</td>\n",
              "      <td>nan</td>\n",
              "    </tr>\n",
              "    <tr>\n",
              "      <th>Sergipe</th>\n",
              "      <td>2318822</td>\n",
              "      <td>nan</td>\n",
              "    </tr>\n",
              "    <tr>\n",
              "      <th>Rondônia</th>\n",
              "      <td>1796460</td>\n",
              "      <td>nan</td>\n",
              "    </tr>\n",
              "    <tr>\n",
              "      <th>Tocantins</th>\n",
              "      <td>1590248</td>\n",
              "      <td>nan</td>\n",
              "    </tr>\n",
              "    <tr>\n",
              "      <th>Acre</th>\n",
              "      <td>894470</td>\n",
              "      <td>nan</td>\n",
              "    </tr>\n",
              "    <tr>\n",
              "      <th>Amapá</th>\n",
              "      <td>861773</td>\n",
              "      <td>nan</td>\n",
              "    </tr>\n",
              "    <tr>\n",
              "      <th>Roraima</th>\n",
              "      <td>631181</td>\n",
              "      <td>nan</td>\n",
              "    </tr>\n",
              "  </tbody>\n",
              "</table>\n",
              "</div>"
            ],
            "text/plain": [
              "                     populacao  2020/Jul\n",
              "uf                                      \n",
              "São Paulo             46289333       nan\n",
              "Minas Gerais          21331292       nan\n",
              "Rio de Janeiro        17366189       nan\n",
              "Bahia                 14930634       nan\n",
              "Paraná                11516840       nan\n",
              "Rio Grande do Sul     11422973       nan\n",
              "Pernambuco             9616621       nan\n",
              "Ceará                  9187103       nan\n",
              "Pará                   8690745       nan\n",
              "Santa Catarina         7279638       nan\n",
              "Goiás                  7142070       nan\n",
              "Maranhão               7127460       nan\n",
              "Amazonas               4228381       nan\n",
              "Espírito Santo         4064052       nan\n",
              "Paraíba                4039277       nan\n",
              "Rio Grande do Norte    3534165       nan\n",
              "Mato Grosso            3526220       nan\n",
              "Alagoas                3351543       nan\n",
              "Piauí                  3281480       nan\n",
              "Distrito Federal       3055149       nan\n",
              "Mato Grosso do Sul     2809394       nan\n",
              "Sergipe                2318822       nan\n",
              "Rondônia               1796460       nan\n",
              "Tocantins              1590248       nan\n",
              "Acre                    894470       nan\n",
              "Amapá                   861773       nan\n",
              "Roraima                 631181       nan"
            ]
          },
          "metadata": {
            "tags": []
          },
          "execution_count": 22
        }
      ]
    },
    {
      "cell_type": "markdown",
      "metadata": {
        "id": "I5kgdthFNgKJ"
      },
      "source": [
        "A união não funcionou, por que? O primeiro problema é que os estados dos gastos possui números antes dos nomes. Ex: 33 São Paulo"
      ]
    },
    {
      "cell_type": "markdown",
      "metadata": {
        "id": "EhruE-YQD6GF"
      },
      "source": [
        "##Mais limpeza de dados, usando o método str."
      ]
    },
    {
      "cell_type": "code",
      "metadata": {
        "colab": {
          "base_uri": "https://localhost:8080/"
        },
        "id": "g8IgWgxINbZR",
        "outputId": "c2e55530-510d-42b7-e599-1e90e1b1e300"
      },
      "source": [
        "#tirando a numeração na frente do nome dos estados\n",
        "#gastos_do_mais_recente.index = gastos_do_mais_recente.index.str[3:]\n",
        "gastos_do_mais_recente.head()"
      ],
      "execution_count": 23,
      "outputs": [
        {
          "output_type": "execute_result",
          "data": {
            "text/plain": [
              "Unidade da Federação\n",
              "35 São Paulo           282.71\n",
              "31 Minas Gerais        120.47\n",
              "41 Paraná               80.32\n",
              "43 Rio Grande do Sul    78.93\n",
              "33 Rio de Janeiro       71.54\n",
              "Name: 2020/Jul, dtype: float64"
            ]
          },
          "metadata": {
            "tags": []
          },
          "execution_count": 23
        }
      ]
    },
    {
      "cell_type": "markdown",
      "metadata": {
        "id": "NtauNiktPKps"
      },
      "source": [
        "Tentaremos o join novamente"
      ]
    },
    {
      "cell_type": "code",
      "metadata": {
        "id": "IRK8xFJcPM6u"
      },
      "source": [
        "gastos_e_populacao_recente = populacao.join(gastos_do_mais_recente)"
      ],
      "execution_count": 24,
      "outputs": []
    },
    {
      "cell_type": "code",
      "metadata": {
        "colab": {
          "base_uri": "https://localhost:8080/",
          "height": 225
        },
        "id": "mryE2yVcH_Ux",
        "outputId": "f70b9640-3db2-4c9f-ffb3-a8124f3ba5fa"
      },
      "source": [
        "gastos_e_populacao_recente.head()"
      ],
      "execution_count": 25,
      "outputs": [
        {
          "output_type": "execute_result",
          "data": {
            "text/html": [
              "<div>\n",
              "<style scoped>\n",
              "    .dataframe tbody tr th:only-of-type {\n",
              "        vertical-align: middle;\n",
              "    }\n",
              "\n",
              "    .dataframe tbody tr th {\n",
              "        vertical-align: top;\n",
              "    }\n",
              "\n",
              "    .dataframe thead th {\n",
              "        text-align: right;\n",
              "    }\n",
              "</style>\n",
              "<table border=\"1\" class=\"dataframe\">\n",
              "  <thead>\n",
              "    <tr style=\"text-align: right;\">\n",
              "      <th></th>\n",
              "      <th>populacao</th>\n",
              "      <th>2020/Jul</th>\n",
              "    </tr>\n",
              "    <tr>\n",
              "      <th>uf</th>\n",
              "      <th></th>\n",
              "      <th></th>\n",
              "    </tr>\n",
              "  </thead>\n",
              "  <tbody>\n",
              "    <tr>\n",
              "      <th>São Paulo</th>\n",
              "      <td>46289333</td>\n",
              "      <td>nan</td>\n",
              "    </tr>\n",
              "    <tr>\n",
              "      <th>Minas Gerais</th>\n",
              "      <td>21331292</td>\n",
              "      <td>nan</td>\n",
              "    </tr>\n",
              "    <tr>\n",
              "      <th>Rio de Janeiro</th>\n",
              "      <td>17366189</td>\n",
              "      <td>nan</td>\n",
              "    </tr>\n",
              "    <tr>\n",
              "      <th>Bahia</th>\n",
              "      <td>14930634</td>\n",
              "      <td>nan</td>\n",
              "    </tr>\n",
              "    <tr>\n",
              "      <th>Paraná</th>\n",
              "      <td>11516840</td>\n",
              "      <td>nan</td>\n",
              "    </tr>\n",
              "  </tbody>\n",
              "</table>\n",
              "</div>"
            ],
            "text/plain": [
              "                populacao  2020/Jul\n",
              "uf                                 \n",
              "São Paulo        46289333       nan\n",
              "Minas Gerais     21331292       nan\n",
              "Rio de Janeiro   17366189       nan\n",
              "Bahia            14930634       nan\n",
              "Paraná           11516840       nan"
            ]
          },
          "metadata": {
            "tags": []
          },
          "execution_count": 25
        }
      ]
    },
    {
      "cell_type": "markdown",
      "metadata": {
        "id": "bL-BGmp5RyBk"
      },
      "source": [
        "##Desafio 1: Ler a documentação do python relacionado a métodos relacionados a strings"
      ]
    },
    {
      "cell_type": "markdown",
      "metadata": {
        "id": "iwzPoOeMTw6N"
      },
      "source": [
        "##Desafio 2: Estruturar uma função para leitura e limpeza da tabela devolvendo a tabela populacao e a tabela unificada."
      ]
    },
    {
      "cell_type": "markdown",
      "metadata": {
        "id": "fXYG-qQtBJpA"
      },
      "source": [
        "###Definindo a função"
      ]
    },
    {
      "cell_type": "markdown",
      "metadata": {
        "id": "l96FDEbACw4G"
      },
      "source": [
        "**OBS:** É importante **não** executar as células criadas anteriormente a função após a leitura dos dados pois como ocorreram modificações isso ocasionará erros nesse bloco de código. Manterei a sequência por quesões didáticas a aula."
      ]
    },
    {
      "cell_type": "code",
      "metadata": {
        "id": "oQu-9-fxQViB"
      },
      "source": [
        "#Função que recebe dois data_frames, exclui linhas NaN, exclui espaços em branco (caso existam), trata os espaços entre números\n",
        "#transforma a coluna no tipo inteiro.\n",
        "def leitura_limpeza_join (dados_desafio, gastos_do_mais_recente):\n",
        "    dados_desafio = dados_desafio.dropna()\n",
        "    dados_desafio['uf'] = dados_desafio['Unidade federativa'].str.strip()\n",
        "    dados_desafio['populacao'] = dados_desafio['População'].str.replace(' ', '').astype(int)\n",
        "    dados_desafio = dados_desafio[['populacao', 'uf']].set_index('uf')\n",
        "    populacao = dados_desafio\n",
        "\n",
        "    #tirando a numeração na frente do nome dos estados\n",
        "    if gastos_do_mais_recente.index[0][:2].isnumeric() == True:\n",
        "      gastos_do_mais_recente.index = gastos_do_mais_recente.index.str[3:]\n",
        "    \n",
        "    return populacao.join(gastos_do_mais_recente)"
      ],
      "execution_count": 26,
      "outputs": []
    },
    {
      "cell_type": "markdown",
      "metadata": {
        "id": "7y8V_vg2BNgV"
      },
      "source": [
        "###Verificando retorno"
      ]
    },
    {
      "cell_type": "code",
      "metadata": {
        "colab": {
          "base_uri": "https://localhost:8080/",
          "height": 225
        },
        "id": "SSMDYDgF9LgR",
        "outputId": "5e26c8b9-911a-406f-df24-e6618dc16394"
      },
      "source": [
        "gastos_e_populacao_recente = leitura_limpeza_join(dados_desafio, gastos_do_mais_recente)\n",
        "\n",
        "gastos_e_populacao_recente.head()"
      ],
      "execution_count": 29,
      "outputs": [
        {
          "output_type": "execute_result",
          "data": {
            "text/html": [
              "<div>\n",
              "<style scoped>\n",
              "    .dataframe tbody tr th:only-of-type {\n",
              "        vertical-align: middle;\n",
              "    }\n",
              "\n",
              "    .dataframe tbody tr th {\n",
              "        vertical-align: top;\n",
              "    }\n",
              "\n",
              "    .dataframe thead th {\n",
              "        text-align: right;\n",
              "    }\n",
              "</style>\n",
              "<table border=\"1\" class=\"dataframe\">\n",
              "  <thead>\n",
              "    <tr style=\"text-align: right;\">\n",
              "      <th></th>\n",
              "      <th>populacao</th>\n",
              "      <th>2020/Jul</th>\n",
              "    </tr>\n",
              "    <tr>\n",
              "      <th>uf</th>\n",
              "      <th></th>\n",
              "      <th></th>\n",
              "    </tr>\n",
              "  </thead>\n",
              "  <tbody>\n",
              "    <tr>\n",
              "      <th>São Paulo</th>\n",
              "      <td>46289333</td>\n",
              "      <td>282.71</td>\n",
              "    </tr>\n",
              "    <tr>\n",
              "      <th>Minas Gerais</th>\n",
              "      <td>21331292</td>\n",
              "      <td>120.47</td>\n",
              "    </tr>\n",
              "    <tr>\n",
              "      <th>Rio de Janeiro</th>\n",
              "      <td>17366189</td>\n",
              "      <td>71.54</td>\n",
              "    </tr>\n",
              "    <tr>\n",
              "      <th>Bahia</th>\n",
              "      <td>14930634</td>\n",
              "      <td>58.90</td>\n",
              "    </tr>\n",
              "    <tr>\n",
              "      <th>Paraná</th>\n",
              "      <td>11516840</td>\n",
              "      <td>80.32</td>\n",
              "    </tr>\n",
              "  </tbody>\n",
              "</table>\n",
              "</div>"
            ],
            "text/plain": [
              "                populacao  2020/Jul\n",
              "uf                                 \n",
              "São Paulo        46289333    282.71\n",
              "Minas Gerais     21331292    120.47\n",
              "Rio de Janeiro   17366189     71.54\n",
              "Bahia            14930634     58.90\n",
              "Paraná           11516840     80.32"
            ]
          },
          "metadata": {
            "tags": []
          },
          "execution_count": 29
        }
      ]
    },
    {
      "cell_type": "code",
      "metadata": {
        "colab": {
          "base_uri": "https://localhost:8080/",
          "height": 195
        },
        "id": "wli8VXLBHWge",
        "outputId": "68a43151-3acb-4538-d55b-5608d79e59f9"
      },
      "source": [
        "dados_desafio.head()"
      ],
      "execution_count": 30,
      "outputs": [
        {
          "output_type": "execute_result",
          "data": {
            "text/html": [
              "<div>\n",
              "<style scoped>\n",
              "    .dataframe tbody tr th:only-of-type {\n",
              "        vertical-align: middle;\n",
              "    }\n",
              "\n",
              "    .dataframe tbody tr th {\n",
              "        vertical-align: top;\n",
              "    }\n",
              "\n",
              "    .dataframe thead th {\n",
              "        text-align: right;\n",
              "    }\n",
              "</style>\n",
              "<table border=\"1\" class=\"dataframe\">\n",
              "  <thead>\n",
              "    <tr style=\"text-align: right;\">\n",
              "      <th></th>\n",
              "      <th>Posição</th>\n",
              "      <th>Unidade federativa</th>\n",
              "      <th>População</th>\n",
              "      <th>% da pop. total</th>\n",
              "      <th>País comparável (habitantes)</th>\n",
              "    </tr>\n",
              "  </thead>\n",
              "  <tbody>\n",
              "    <tr>\n",
              "      <th>0</th>\n",
              "      <td>1</td>\n",
              "      <td>São Paulo</td>\n",
              "      <td>46 289 333</td>\n",
              "      <td>21,9%</td>\n",
              "      <td>Espanha (46 439 864)</td>\n",
              "    </tr>\n",
              "    <tr>\n",
              "      <th>1</th>\n",
              "      <td>2</td>\n",
              "      <td>Minas Gerais</td>\n",
              "      <td>21 331 292</td>\n",
              "      <td>10,1%</td>\n",
              "      <td>Sri Lanka (20 675 000)</td>\n",
              "    </tr>\n",
              "    <tr>\n",
              "      <th>2</th>\n",
              "      <td>3</td>\n",
              "      <td>Rio de Janeiro</td>\n",
              "      <td>17 366 189</td>\n",
              "      <td>8,2%</td>\n",
              "      <td>Países Baixos (16 922 900)</td>\n",
              "    </tr>\n",
              "    <tr>\n",
              "      <th>3</th>\n",
              "      <td>4</td>\n",
              "      <td>Bahia</td>\n",
              "      <td>14 930 634</td>\n",
              "      <td>7,1%</td>\n",
              "      <td>Chade (14 037 000)</td>\n",
              "    </tr>\n",
              "    <tr>\n",
              "      <th>4</th>\n",
              "      <td>5</td>\n",
              "      <td>Paraná</td>\n",
              "      <td>11 516 840</td>\n",
              "      <td>5,4%</td>\n",
              "      <td>Bolívia (11 410 651)</td>\n",
              "    </tr>\n",
              "  </tbody>\n",
              "</table>\n",
              "</div>"
            ],
            "text/plain": [
              "   Posição Unidade federativa  ... % da pop. total País comparável (habitantes)\n",
              "0        1          São Paulo  ...           21,9%         Espanha (46 439 864)\n",
              "1        2       Minas Gerais  ...           10,1%       Sri Lanka (20 675 000)\n",
              "2        3     Rio de Janeiro  ...            8,2%   Países Baixos (16 922 900)\n",
              "3        4              Bahia  ...            7,1%           Chade (14 037 000)\n",
              "4        5             Paraná  ...            5,4%         Bolívia (11 410 651)\n",
              "\n",
              "[5 rows x 5 columns]"
            ]
          },
          "metadata": {
            "tags": []
          },
          "execution_count": 30
        }
      ]
    },
    {
      "cell_type": "markdown",
      "metadata": {
        "id": "ANaGBCqTEBPO"
      },
      "source": [
        "#Aula 2 - Proporcionalidades e Seaborn "
      ]
    },
    {
      "cell_type": "code",
      "metadata": {
        "id": "Uj8Q6T4_K9BL"
      },
      "source": [
        "ordenado_por_total = ordenado_por_total /1000000"
      ],
      "execution_count": 31,
      "outputs": []
    },
    {
      "cell_type": "markdown",
      "metadata": {
        "id": "tsj5EsF8HwX4"
      },
      "source": [
        "Todo esse período acima foi trabalhando e juntando dados para que possamos mostrar algo. O exemplo a seguir irá demonstrar uma prática NÃO recomendada, entretanto, que acontece muito no mundo real.\n",
        "\n"
      ]
    },
    {
      "cell_type": "code",
      "metadata": {
        "id": "h8dnDI_dLTMZ"
      },
      "source": [
        "def insere_gastos_e_gasto_por_habitante_para(todos_os_gastos, dados, mes: str):\n",
        "  gastos_do_mes = todos_os_gastos[mes]\n",
        "  dados[f'gastos_{mes}'] = gastos_do_mes*1000000\n",
        "  dados[f'gasto_por_habitante_{mes}'] = dados[f'gastos_{mes}'] / dados['populacao']"
      ],
      "execution_count": 32,
      "outputs": []
    },
    {
      "cell_type": "code",
      "metadata": {
        "colab": {
          "base_uri": "https://localhost:8080/",
          "height": 308
        },
        "id": "H5qQSrumAopn",
        "outputId": "48b87545-a3be-4333-db9f-51947df0ba3a"
      },
      "source": [
        "ordenado_por_total.index = ordenado_por_total.index.str[3:]\n",
        "#=====================Após a criação da função acima===================================================\n",
        "insere_gastos_e_gasto_por_habitante_para(ordenado_por_total, gastos_e_populacao_recente, '2020/Jul')\n",
        "#======================================================================================================\n",
        "#criando uma coluna de gastos com os valores em milhão para exemplo do plot\n",
        "#A linha abaixo foi comentada após a criação da função insere_gastos_e_gasto_por_habitante_para\n",
        "#gastos_e_populacao_recente['gastos'] = gastos_e_populacao_recente['2020/Jul']*1000000\n",
        "gastos_e_populacao_recente[['gastos_2020/Jul', 'populacao']].plot()"
      ],
      "execution_count": 33,
      "outputs": [
        {
          "output_type": "execute_result",
          "data": {
            "text/plain": [
              "<matplotlib.axes._subplots.AxesSubplot at 0x7fd69d6667f0>"
            ]
          },
          "metadata": {
            "tags": []
          },
          "execution_count": 33
        },
        {
          "output_type": "display_data",
          "data": {
            "image/png": "[encoded data removed]",
            "text/plain": [
              "<Figure size 432x288 with 1 Axes>"
            ]
          },
          "metadata": {
            "tags": [],
            "needs_background": "light"
          }
        }
      ]
    },
    {
      "cell_type": "markdown",
      "metadata": {
        "id": "cn09fJJZI7kV"
      },
      "source": [
        "Apesar de existir uma certa correlação entre gastos e população (quanto maior um, maior o outro) a comparação entre eles não tem sentido, uma vez que, gastos são valores monetários e a população é uma contagem, existem duas escalas sem relação, dois eixos de y diferentes. Isso é **horripilante** em termos de data visualization e permite que informações completamente equivocadas sejam repassadas. Em um primeiro momento podemos pensar que o estado de São Paulo tem um gasto incrivelmente mais alto comparado a Rio Grande do Sul, veremos se isso procede."
      ]
    },
    {
      "cell_type": "code",
      "metadata": {
        "colab": {
          "base_uri": "https://localhost:8080/",
          "height": 136
        },
        "id": "VIT9JifbEpAX",
        "outputId": "f5494826-8010-4e9c-f653-6cacd0902cc1"
      },
      "source": [
        "gastos_e_populacao_recente.loc[['Rio Grande do Sul', 'São Paulo']]"
      ],
      "execution_count": 34,
      "outputs": [
        {
          "output_type": "execute_result",
          "data": {
            "text/html": [
              "<div>\n",
              "<style scoped>\n",
              "    .dataframe tbody tr th:only-of-type {\n",
              "        vertical-align: middle;\n",
              "    }\n",
              "\n",
              "    .dataframe tbody tr th {\n",
              "        vertical-align: top;\n",
              "    }\n",
              "\n",
              "    .dataframe thead th {\n",
              "        text-align: right;\n",
              "    }\n",
              "</style>\n",
              "<table border=\"1\" class=\"dataframe\">\n",
              "  <thead>\n",
              "    <tr style=\"text-align: right;\">\n",
              "      <th></th>\n",
              "      <th>populacao</th>\n",
              "      <th>2020/Jul</th>\n",
              "      <th>gastos_2020/Jul</th>\n",
              "      <th>gasto_por_habitante_2020/Jul</th>\n",
              "    </tr>\n",
              "    <tr>\n",
              "      <th>uf</th>\n",
              "      <th></th>\n",
              "      <th></th>\n",
              "      <th></th>\n",
              "      <th></th>\n",
              "    </tr>\n",
              "  </thead>\n",
              "  <tbody>\n",
              "    <tr>\n",
              "      <th>Rio Grande do Sul</th>\n",
              "      <td>11422973</td>\n",
              "      <td>78.93</td>\n",
              "      <td>78929703.81</td>\n",
              "      <td>6.91</td>\n",
              "    </tr>\n",
              "    <tr>\n",
              "      <th>São Paulo</th>\n",
              "      <td>46289333</td>\n",
              "      <td>282.71</td>\n",
              "      <td>282709570.31</td>\n",
              "      <td>6.11</td>\n",
              "    </tr>\n",
              "  </tbody>\n",
              "</table>\n",
              "</div>"
            ],
            "text/plain": [
              "                   populacao  ...  gasto_por_habitante_2020/Jul\n",
              "uf                            ...                              \n",
              "Rio Grande do Sul   11422973  ...                          6.91\n",
              "São Paulo           46289333  ...                          6.11\n",
              "\n",
              "[2 rows x 4 columns]"
            ]
          },
          "metadata": {
            "tags": []
          },
          "execution_count": 34
        }
      ]
    },
    {
      "cell_type": "code",
      "metadata": {
        "colab": {
          "base_uri": "https://localhost:8080/"
        },
        "id": "MyfURYw7Kh3P",
        "outputId": "be9e44c7-9484-4f2f-d05b-14d53c6ca67f"
      },
      "source": [
        "print('Rio Grande do Sul:',78929703.81/11422973)"
      ],
      "execution_count": 35,
      "outputs": [
        {
          "output_type": "stream",
          "text": [
            "Rio Grande do Sul: 6.909733902899009\n"
          ],
          "name": "stdout"
        }
      ]
    },
    {
      "cell_type": "code",
      "metadata": {
        "colab": {
          "base_uri": "https://localhost:8080/"
        },
        "id": "xBJ7jnqAKq0Z",
        "outputId": "26e77144-fdd9-499f-e7ee-7a06ae7c4e24"
      },
      "source": [
        "print('São Paulo:',282709570.31/46289333)"
      ],
      "execution_count": 36,
      "outputs": [
        {
          "output_type": "stream",
          "text": [
            "São Paulo: 6.107445322446102\n"
          ],
          "name": "stdout"
        }
      ]
    },
    {
      "cell_type": "markdown",
      "metadata": {
        "id": "pTFwPoDPLH5h"
      },
      "source": [
        "Temos que o gasto do RS foi de 6.90 por habitante e em SP de 6.10 por habitante, pode isso? Sim, pode! Se olharmos agora o gráfico acima com mais calma poderemos perceber que SP tem uma população de aproximada de 4 vezes comparada a do RS e os gastos de SP são de aproximadamente, também, de 4 vezes mais comparado ao Rio Grande do Sul, entretanto, no gráfico não conseguimos ver que São Paulo tem um gasto praticamente aproximado ao do Rio Grande do Sul por habitante."
      ]
    },
    {
      "cell_type": "code",
      "metadata": {
        "colab": {
          "base_uri": "https://localhost:8080/",
          "height": 225
        },
        "id": "yEHpKlPwKuVP",
        "outputId": "f0834f83-dc4d-4a3e-e89e-b4929d5e7812"
      },
      "source": [
        "#A linha abaixo foi comentada após a criação da função insere_gastos_e_gasto_por_habitante_para\n",
        "#gastos_e_populacao_recente['gasto_por_habitante'] = gastos_e_populacao_recente['gastos'] / gastos_e_populacao_recente['populacao']\n",
        "gastos_e_populacao_recente.head()"
      ],
      "execution_count": 37,
      "outputs": [
        {
          "output_type": "execute_result",
          "data": {
            "text/html": [
              "<div>\n",
              "<style scoped>\n",
              "    .dataframe tbody tr th:only-of-type {\n",
              "        vertical-align: middle;\n",
              "    }\n",
              "\n",
              "    .dataframe tbody tr th {\n",
              "        vertical-align: top;\n",
              "    }\n",
              "\n",
              "    .dataframe thead th {\n",
              "        text-align: right;\n",
              "    }\n",
              "</style>\n",
              "<table border=\"1\" class=\"dataframe\">\n",
              "  <thead>\n",
              "    <tr style=\"text-align: right;\">\n",
              "      <th></th>\n",
              "      <th>populacao</th>\n",
              "      <th>2020/Jul</th>\n",
              "      <th>gastos_2020/Jul</th>\n",
              "      <th>gasto_por_habitante_2020/Jul</th>\n",
              "    </tr>\n",
              "    <tr>\n",
              "      <th>uf</th>\n",
              "      <th></th>\n",
              "      <th></th>\n",
              "      <th></th>\n",
              "      <th></th>\n",
              "    </tr>\n",
              "  </thead>\n",
              "  <tbody>\n",
              "    <tr>\n",
              "      <th>São Paulo</th>\n",
              "      <td>46289333</td>\n",
              "      <td>282.71</td>\n",
              "      <td>282709570.31</td>\n",
              "      <td>6.11</td>\n",
              "    </tr>\n",
              "    <tr>\n",
              "      <th>Minas Gerais</th>\n",
              "      <td>21331292</td>\n",
              "      <td>120.47</td>\n",
              "      <td>120467187.34</td>\n",
              "      <td>5.65</td>\n",
              "    </tr>\n",
              "    <tr>\n",
              "      <th>Rio de Janeiro</th>\n",
              "      <td>17366189</td>\n",
              "      <td>71.54</td>\n",
              "      <td>71540227.33</td>\n",
              "      <td>4.12</td>\n",
              "    </tr>\n",
              "    <tr>\n",
              "      <th>Bahia</th>\n",
              "      <td>14930634</td>\n",
              "      <td>58.90</td>\n",
              "      <td>58898100.40</td>\n",
              "      <td>3.94</td>\n",
              "    </tr>\n",
              "    <tr>\n",
              "      <th>Paraná</th>\n",
              "      <td>11516840</td>\n",
              "      <td>80.32</td>\n",
              "      <td>80320852.69</td>\n",
              "      <td>6.97</td>\n",
              "    </tr>\n",
              "  </tbody>\n",
              "</table>\n",
              "</div>"
            ],
            "text/plain": [
              "                populacao  ...  gasto_por_habitante_2020/Jul\n",
              "uf                         ...                              \n",
              "São Paulo        46289333  ...                          6.11\n",
              "Minas Gerais     21331292  ...                          5.65\n",
              "Rio de Janeiro   17366189  ...                          4.12\n",
              "Bahia            14930634  ...                          3.94\n",
              "Paraná           11516840  ...                          6.97\n",
              "\n",
              "[5 rows x 4 columns]"
            ]
          },
          "metadata": {
            "tags": []
          },
          "execution_count": 37
        }
      ]
    },
    {
      "cell_type": "markdown",
      "metadata": {
        "id": "_nV9bLmlNzDU"
      },
      "source": [
        "Podemos postar os dados relativo a gastos por habitante, dessa vez como gráfico de barras pois já vimos que por linha não teria sentido."
      ]
    },
    {
      "cell_type": "code",
      "metadata": {
        "colab": {
          "base_uri": "https://localhost:8080/",
          "height": 388
        },
        "id": "3iQk89kIM0yU",
        "outputId": "1d534578-cc21-4d13-96dd-a7b86b7c7ced"
      },
      "source": [
        "gastos_e_populacao_recente['gasto_por_habitante_2020/Jul'].plot(kind='bar')"
      ],
      "execution_count": 38,
      "outputs": [
        {
          "output_type": "execute_result",
          "data": {
            "text/plain": [
              "<matplotlib.axes._subplots.AxesSubplot at 0x7fd69d5ad588>"
            ]
          },
          "metadata": {
            "tags": []
          },
          "execution_count": 38
        },
        {
          "output_type": "display_data",
          "data": {
            "image/png": "[encoded data removed]",
            "text/plain": [
              "<Figure size 432x288 with 1 Axes>"
            ]
          },
          "metadata": {
            "tags": [],
            "needs_background": "light"
          }
        }
      ]
    },
    {
      "cell_type": "markdown",
      "metadata": {
        "id": "mOKuSbqcOHLY"
      },
      "source": [
        "E que tal ordenarmos esse gráfico? Resposta: Não.\n",
        "Caso queiramos dizer qual é o estado que gasta mais por habitante, realmente, ordenar resolveria, porém, se deixarmos o gráfico dessa forma isso representa a ordem de *valor absoluto*, ou seja, o estado que mais gasta (SP) está gastando aproximadamente 6 reais por habitante e Roraima que é o estado que menos gasta está gastando aproximadamente 4.50 reais por pessoa, ou seja, nessa ordem ainda existe uma história sendo contada. Por isso mantemos esse gráfico. "
      ]
    },
    {
      "cell_type": "markdown",
      "metadata": {
        "id": "gddXQI8APCxW"
      },
      "source": [
        "##Desafio 1: Ordenar por gasto por habitante e ordenar por habitantes."
      ]
    },
    {
      "cell_type": "code",
      "metadata": {
        "colab": {
          "base_uri": "https://localhost:8080/",
          "height": 388
        },
        "id": "cWzbqAo9N_kk",
        "outputId": "e48a12f4-0584-4a8d-edf1-7f5030015f59"
      },
      "source": [
        "gasto_por_habitante_ordenado = gastos_e_populacao_recente['gasto_por_habitante_2020/Jul'].sort_values(ascending=False)\n",
        "gasto_por_habitante_ordenado.plot(kind='bar')"
      ],
      "execution_count": 39,
      "outputs": [
        {
          "output_type": "execute_result",
          "data": {
            "text/plain": [
              "<matplotlib.axes._subplots.AxesSubplot at 0x7fd69d4bbef0>"
            ]
          },
          "metadata": {
            "tags": []
          },
          "execution_count": 39
        },
        {
          "output_type": "display_data",
          "data": {
            "image/png": "[encoded data removed]",
            "text/plain": [
              "<Figure size 432x288 with 1 Axes>"
            ]
          },
          "metadata": {
            "tags": [],
            "needs_background": "light"
          }
        }
      ]
    },
    {
      "cell_type": "code",
      "metadata": {
        "colab": {
          "base_uri": "https://localhost:8080/",
          "height": 399
        },
        "id": "BSnLYCk5PbCU",
        "outputId": "fb02b7e1-4806-4cbd-8108-77a81b443915"
      },
      "source": [
        "habitantes = gastos_e_populacao_recente['populacao'].sort_values(ascending=False)\n",
        "habitantes.plot(kind='bar')"
      ],
      "execution_count": 40,
      "outputs": [
        {
          "output_type": "execute_result",
          "data": {
            "text/plain": [
              "<matplotlib.axes._subplots.AxesSubplot at 0x7fd69d417f60>"
            ]
          },
          "metadata": {
            "tags": []
          },
          "execution_count": 40
        },
        {
          "output_type": "display_data",
          "data": {
            "image/png": "[encoded data removed]",
            "text/plain": [
              "<Figure size 432x288 with 1 Axes>"
            ]
          },
          "metadata": {
            "tags": [],
            "needs_background": "light"
          }
        }
      ]
    },
    {
      "cell_type": "markdown",
      "metadata": {
        "id": "dg4AoTuPP3UO"
      },
      "source": [
        "##Gráficos com Seaborn"
      ]
    },
    {
      "cell_type": "code",
      "metadata": {
        "colab": {
          "base_uri": "https://localhost:8080/",
          "height": 307
        },
        "id": "p_X89cuQPm3x",
        "outputId": "81d48bc0-2d3a-4932-c22b-b50dc42a1178"
      },
      "source": [
        "import seaborn as sns\n",
        "\n",
        "sns.scatterplot(data=gastos_e_populacao_recente, x='populacao', y='gastos_2020/Jul')"
      ],
      "execution_count": 41,
      "outputs": [
        {
          "output_type": "execute_result",
          "data": {
            "text/plain": [
              "<matplotlib.axes._subplots.AxesSubplot at 0x7fd69361aa20>"
            ]
          },
          "metadata": {
            "tags": []
          },
          "execution_count": 41
        },
        {
          "output_type": "display_data",
          "data": {
            "image/png": "[encoded data removed]",
            "text/plain": [
              "<Figure size 432x288 with 1 Axes>"
            ]
          },
          "metadata": {
            "tags": [],
            "needs_background": "light"
          }
        }
      ]
    },
    {
      "cell_type": "markdown",
      "metadata": {
        "id": "OMyt8Sm0QRXv"
      },
      "source": [
        "O seaborn utiliza o matplotlib por trás de suas funcionalidades.\n",
        "\n",
        "Então ele criou essa imagem com esse tamanho por padrão, a população crescente em dezenas de milhões e os gastos crescendo em centenas de milhões. Claro, é ruim visualizar esse gráfico com os eixos em 1e7 e 1e8, vamos rascunhar e chegaremos no gráfico que queremos. Um modo de melhorar é dividir por milhão."
      ]
    },
    {
      "cell_type": "code",
      "metadata": {
        "colab": {
          "base_uri": "https://localhost:8080/",
          "height": 296
        },
        "id": "9KsItXtAQCf6",
        "outputId": "da2162a7-a3f7-400a-95e4-c16e8cc6b977"
      },
      "source": [
        "import seaborn as sns\n",
        "\n",
        "sns.scatterplot(data=gastos_e_populacao_recente/1000000, x='populacao', y='gastos_2020/Jul')"
      ],
      "execution_count": 42,
      "outputs": [
        {
          "output_type": "execute_result",
          "data": {
            "text/plain": [
              "<matplotlib.axes._subplots.AxesSubplot at 0x7fd693597588>"
            ]
          },
          "metadata": {
            "tags": []
          },
          "execution_count": 42
        },
        {
          "output_type": "display_data",
          "data": {
            "image/png": "[encoded data removed]",
            "text/plain": [
              "<Figure size 432x288 with 1 Axes>"
            ]
          },
          "metadata": {
            "tags": [],
            "needs_background": "light"
          }
        }
      ]
    },
    {
      "cell_type": "markdown",
      "metadata": {
        "id": "exGCaCIvQ8vX"
      },
      "source": [
        "Podemos observar que existe um ponto onde a população é muito grande e o gasto também.\n",
        "Ademais, parece existir uma tendência (uma reta). Uma reta que aproxima os gastos em função da população. Vamos deixar esse gráfico mais quadrado para observarmos melhor essa reta."
      ]
    },
    {
      "cell_type": "code",
      "metadata": {
        "colab": {
          "base_uri": "https://localhost:8080/",
          "height": 459
        },
        "id": "Wk1OoHnwQ2y_",
        "outputId": "31c4e3af-5c43-489b-bc80-4370adb13fac"
      },
      "source": [
        "plt.figure(figsize=(7,7))\n",
        "sns.scatterplot(data=gastos_e_populacao_recente/1000000, x='populacao', y='gastos_2020/Jul')"
      ],
      "execution_count": 43,
      "outputs": [
        {
          "output_type": "execute_result",
          "data": {
            "text/plain": [
              "<matplotlib.axes._subplots.AxesSubplot at 0x7fd693509860>"
            ]
          },
          "metadata": {
            "tags": []
          },
          "execution_count": 43
        },
        {
          "output_type": "display_data",
          "data": {
            "image/png": "[encoded data removed]",
            "text/plain": [
              "<Figure size 504x504 with 1 Axes>"
            ]
          },
          "metadata": {
            "tags": [],
            "needs_background": "light"
          }
        }
      ]
    },
    {
      "cell_type": "markdown",
      "metadata": {
        "id": "QaM1SsD1SQ1o"
      },
      "source": [
        "Visualizando o gráfico de gasto por habitante."
      ]
    },
    {
      "cell_type": "code",
      "metadata": {
        "colab": {
          "base_uri": "https://localhost:8080/",
          "height": 459
        },
        "id": "4HZWVmMgRucx",
        "outputId": "b8512e30-6d09-4800-d558-f22507ae5d82"
      },
      "source": [
        "plt.figure(figsize=(7,7))\n",
        "sns.scatterplot(data=gastos_e_populacao_recente, x='populacao', y='gasto_por_habitante_2020/Jul')"
      ],
      "execution_count": 44,
      "outputs": [
        {
          "output_type": "execute_result",
          "data": {
            "text/plain": [
              "<matplotlib.axes._subplots.AxesSubplot at 0x7fd6934df4e0>"
            ]
          },
          "metadata": {
            "tags": []
          },
          "execution_count": 44
        },
        {
          "output_type": "display_data",
          "data": {
            "image/png": "[encoded data removed]",
            "text/plain": [
              "<Figure size 504x504 with 1 Axes>"
            ]
          },
          "metadata": {
            "tags": [],
            "needs_background": "light"
          }
        }
      ]
    },
    {
      "cell_type": "markdown",
      "metadata": {
        "id": "xPYL99H0Sg7-"
      },
      "source": [
        "Agora podemos observar valores muito espalhados, a medida que a população aumenta não necessariamente o gasto aumenta, não vemos  uma tendência."
      ]
    },
    {
      "cell_type": "markdown",
      "metadata": {
        "id": "tZR1r3qxSw7t"
      },
      "source": [
        "##Super desafio 1: Fazer os últimos gráficos para o mês anterior a esse."
      ]
    },
    {
      "cell_type": "markdown",
      "metadata": {
        "id": "Brr4G7-ETDJK"
      },
      "source": [
        "##Super desafio 2: Fazer os últimos gráfios com os dois dados no mesmo gráfico."
      ]
    },
    {
      "cell_type": "markdown",
      "metadata": {
        "id": "_DNoIsZYKKd4"
      },
      "source": [
        "Como a estimativa do IBGE é a mesma para o mês anterior então podemos usar a mesma população. Precisamos então apenas incluir os dados para 2020/Jun, para isso, criaremos uma função acima da célula em que fizemos gastos_e_populacao_recente[2020/Jul], localizada logo após o índice Aula 2 - Proporcionalidades e Seaborn"
      ]
    },
    {
      "cell_type": "code",
      "metadata": {
        "colab": {
          "base_uri": "https://localhost:8080/",
          "height": 295
        },
        "id": "wb6ETwW5KDZL",
        "outputId": "27341209-edeb-4d57-e15d-7572add71c0e"
      },
      "source": [
        "insere_gastos_e_gasto_por_habitante_para(ordenado_por_total, gastos_e_populacao_recente, '2020/Jun')\n",
        "insere_gastos_e_gasto_por_habitante_para(ordenado_por_total, gastos_e_populacao_recente, '2020/Mai')\n",
        "gastos_e_populacao_recente.head()"
      ],
      "execution_count": 45,
      "outputs": [
        {
          "output_type": "execute_result",
          "data": {
            "text/html": [
              "<div>\n",
              "<style scoped>\n",
              "    .dataframe tbody tr th:only-of-type {\n",
              "        vertical-align: middle;\n",
              "    }\n",
              "\n",
              "    .dataframe tbody tr th {\n",
              "        vertical-align: top;\n",
              "    }\n",
              "\n",
              "    .dataframe thead th {\n",
              "        text-align: right;\n",
              "    }\n",
              "</style>\n",
              "<table border=\"1\" class=\"dataframe\">\n",
              "  <thead>\n",
              "    <tr style=\"text-align: right;\">\n",
              "      <th></th>\n",
              "      <th>populacao</th>\n",
              "      <th>2020/Jul</th>\n",
              "      <th>gastos_2020/Jul</th>\n",
              "      <th>gasto_por_habitante_2020/Jul</th>\n",
              "      <th>gastos_2020/Jun</th>\n",
              "      <th>gasto_por_habitante_2020/Jun</th>\n",
              "      <th>gastos_2020/Mai</th>\n",
              "      <th>gasto_por_habitante_2020/Mai</th>\n",
              "    </tr>\n",
              "    <tr>\n",
              "      <th>uf</th>\n",
              "      <th></th>\n",
              "      <th></th>\n",
              "      <th></th>\n",
              "      <th></th>\n",
              "      <th></th>\n",
              "      <th></th>\n",
              "      <th></th>\n",
              "      <th></th>\n",
              "    </tr>\n",
              "  </thead>\n",
              "  <tbody>\n",
              "    <tr>\n",
              "      <th>São Paulo</th>\n",
              "      <td>46289333</td>\n",
              "      <td>282.71</td>\n",
              "      <td>282709570.31</td>\n",
              "      <td>6.11</td>\n",
              "      <td>299060851.62</td>\n",
              "      <td>6.46</td>\n",
              "      <td>302857660.98</td>\n",
              "      <td>6.54</td>\n",
              "    </tr>\n",
              "    <tr>\n",
              "      <th>Minas Gerais</th>\n",
              "      <td>21331292</td>\n",
              "      <td>120.47</td>\n",
              "      <td>120467187.34</td>\n",
              "      <td>5.65</td>\n",
              "      <td>135977571.87</td>\n",
              "      <td>6.37</td>\n",
              "      <td>136867275.75</td>\n",
              "      <td>6.42</td>\n",
              "    </tr>\n",
              "    <tr>\n",
              "      <th>Rio de Janeiro</th>\n",
              "      <td>17366189</td>\n",
              "      <td>71.54</td>\n",
              "      <td>71540227.33</td>\n",
              "      <td>4.12</td>\n",
              "      <td>77604925.21</td>\n",
              "      <td>4.47</td>\n",
              "      <td>86281033.16</td>\n",
              "      <td>4.97</td>\n",
              "    </tr>\n",
              "    <tr>\n",
              "      <th>Bahia</th>\n",
              "      <td>14930634</td>\n",
              "      <td>58.90</td>\n",
              "      <td>58898100.40</td>\n",
              "      <td>3.94</td>\n",
              "      <td>65159300.63</td>\n",
              "      <td>4.36</td>\n",
              "      <td>61756775.71</td>\n",
              "      <td>4.14</td>\n",
              "    </tr>\n",
              "    <tr>\n",
              "      <th>Paraná</th>\n",
              "      <td>11516840</td>\n",
              "      <td>80.32</td>\n",
              "      <td>80320852.69</td>\n",
              "      <td>6.97</td>\n",
              "      <td>92901461.36</td>\n",
              "      <td>8.07</td>\n",
              "      <td>106103737.62</td>\n",
              "      <td>9.21</td>\n",
              "    </tr>\n",
              "  </tbody>\n",
              "</table>\n",
              "</div>"
            ],
            "text/plain": [
              "                populacao  ...  gasto_por_habitante_2020/Mai\n",
              "uf                         ...                              \n",
              "São Paulo        46289333  ...                          6.54\n",
              "Minas Gerais     21331292  ...                          6.42\n",
              "Rio de Janeiro   17366189  ...                          4.97\n",
              "Bahia            14930634  ...                          4.14\n",
              "Paraná           11516840  ...                          9.21\n",
              "\n",
              "[5 rows x 8 columns]"
            ]
          },
          "metadata": {
            "tags": []
          },
          "execution_count": 45
        }
      ]
    },
    {
      "cell_type": "code",
      "metadata": {
        "colab": {
          "base_uri": "https://localhost:8080/",
          "height": 459
        },
        "id": "ZjC_BvXxKD3x",
        "outputId": "c7327220-2078-45e1-d9c3-e341b1763c3d"
      },
      "source": [
        "plt.figure(figsize=(7,7))\n",
        "sns.scatterplot(data=gastos_e_populacao_recente/1000000, x='populacao', y='gastos_2020/Jul')\n",
        "sns.scatterplot(data=gastos_e_populacao_recente/1000000, x='populacao', y='gastos_2020/Jun')\n",
        "sns.scatterplot(data=gastos_e_populacao_recente/1000000, x='populacao', y='gastos_2020/Mai')"
      ],
      "execution_count": 46,
      "outputs": [
        {
          "output_type": "execute_result",
          "data": {
            "text/plain": [
              "<matplotlib.axes._subplots.AxesSubplot at 0x7fd693430390>"
            ]
          },
          "metadata": {
            "tags": []
          },
          "execution_count": 46
        },
        {
          "output_type": "display_data",
          "data": {
            "image/png": "[encoded data removed]",
            "text/plain": [
              "<Figure size 504x504 with 1 Axes>"
            ]
          },
          "metadata": {
            "tags": [],
            "needs_background": "light"
          }
        }
      ]
    },
    {
      "cell_type": "markdown",
      "metadata": {
        "id": "Sc0I1azRFabv"
      },
      "source": [
        "##Desafio: Analise os gráficos e tente chegar a hipóteses que explicam o que você está entendendo dos dados. Lembre-se que a conclusão é, também, uma hipótese e que esses dados poderão sofrer alterações."
      ]
    },
    {
      "cell_type": "markdown",
      "metadata": {
        "id": "1DJ_DvpRFw8e"
      },
      "source": [
        "#Aula 3 - Ticks, escalas e formatação de imagens."
      ]
    },
    {
      "cell_type": "markdown",
      "metadata": {
        "id": "MlyCKFmXPbe-"
      },
      "source": [
        "##Scatterplot"
      ]
    },
    {
      "cell_type": "code",
      "metadata": {
        "id": "IXY5bbKOSKTF",
        "colab": {
          "base_uri": "https://localhost:8080/",
          "height": 374
        },
        "outputId": "f8c21fce-aff2-4043-dc9c-ff52e08c96fb"
      },
      "source": [
        "ordenado_por_total.head()"
      ],
      "execution_count": 47,
      "outputs": [
        {
          "output_type": "execute_result",
          "data": {
            "text/html": [
              "<div>\n",
              "<style scoped>\n",
              "    .dataframe tbody tr th:only-of-type {\n",
              "        vertical-align: middle;\n",
              "    }\n",
              "\n",
              "    .dataframe tbody tr th {\n",
              "        vertical-align: top;\n",
              "    }\n",
              "\n",
              "    .dataframe thead th {\n",
              "        text-align: right;\n",
              "    }\n",
              "</style>\n",
              "<table border=\"1\" class=\"dataframe\">\n",
              "  <thead>\n",
              "    <tr style=\"text-align: right;\">\n",
              "      <th></th>\n",
              "      <th>2008/Fev</th>\n",
              "      <th>2008/Mar</th>\n",
              "      <th>2008/Abr</th>\n",
              "      <th>2008/Mai</th>\n",
              "      <th>2008/Jun</th>\n",
              "      <th>2008/Jul</th>\n",
              "      <th>2008/Ago</th>\n",
              "      <th>2008/Set</th>\n",
              "      <th>2008/Out</th>\n",
              "      <th>2008/Nov</th>\n",
              "      <th>2008/Dez</th>\n",
              "      <th>2009/Jan</th>\n",
              "      <th>2009/Fev</th>\n",
              "      <th>2009/Mar</th>\n",
              "      <th>2009/Abr</th>\n",
              "      <th>2009/Mai</th>\n",
              "      <th>2009/Jun</th>\n",
              "      <th>2009/Jul</th>\n",
              "      <th>2009/Ago</th>\n",
              "      <th>2009/Set</th>\n",
              "      <th>2009/Out</th>\n",
              "      <th>2009/Nov</th>\n",
              "      <th>2009/Dez</th>\n",
              "      <th>2010/Jan</th>\n",
              "      <th>2010/Fev</th>\n",
              "      <th>2010/Mar</th>\n",
              "      <th>2010/Abr</th>\n",
              "      <th>2010/Mai</th>\n",
              "      <th>2010/Jun</th>\n",
              "      <th>2010/Jul</th>\n",
              "      <th>2010/Ago</th>\n",
              "      <th>2010/Set</th>\n",
              "      <th>2010/Out</th>\n",
              "      <th>2010/Nov</th>\n",
              "      <th>2010/Dez</th>\n",
              "      <th>2011/Jan</th>\n",
              "      <th>2011/Fev</th>\n",
              "      <th>2011/Mar</th>\n",
              "      <th>2011/Abr</th>\n",
              "      <th>2011/Mai</th>\n",
              "      <th>...</th>\n",
              "      <th>2017/Abr</th>\n",
              "      <th>2017/Mai</th>\n",
              "      <th>2017/Jun</th>\n",
              "      <th>2017/Jul</th>\n",
              "      <th>2017/Ago</th>\n",
              "      <th>2017/Set</th>\n",
              "      <th>2017/Out</th>\n",
              "      <th>2017/Nov</th>\n",
              "      <th>2017/Dez</th>\n",
              "      <th>2018/Jan</th>\n",
              "      <th>2018/Fev</th>\n",
              "      <th>2018/Mar</th>\n",
              "      <th>2018/Abr</th>\n",
              "      <th>2018/Mai</th>\n",
              "      <th>2018/Jun</th>\n",
              "      <th>2018/Jul</th>\n",
              "      <th>2018/Ago</th>\n",
              "      <th>2018/Set</th>\n",
              "      <th>2018/Out</th>\n",
              "      <th>2018/Nov</th>\n",
              "      <th>2018/Dez</th>\n",
              "      <th>2019/Jan</th>\n",
              "      <th>2019/Fev</th>\n",
              "      <th>2019/Mar</th>\n",
              "      <th>2019/Abr</th>\n",
              "      <th>2019/Mai</th>\n",
              "      <th>2019/Jun</th>\n",
              "      <th>2019/Jul</th>\n",
              "      <th>2019/Ago</th>\n",
              "      <th>2019/Set</th>\n",
              "      <th>2019/Out</th>\n",
              "      <th>2019/Nov</th>\n",
              "      <th>2019/Dez</th>\n",
              "      <th>2020/Jan</th>\n",
              "      <th>2020/Fev</th>\n",
              "      <th>2020/Mar</th>\n",
              "      <th>2020/Abr</th>\n",
              "      <th>2020/Mai</th>\n",
              "      <th>2020/Jun</th>\n",
              "      <th>2020/Jul</th>\n",
              "    </tr>\n",
              "    <tr>\n",
              "      <th>Unidade da Federação</th>\n",
              "      <th></th>\n",
              "      <th></th>\n",
              "      <th></th>\n",
              "      <th></th>\n",
              "      <th></th>\n",
              "      <th></th>\n",
              "      <th></th>\n",
              "      <th></th>\n",
              "      <th></th>\n",
              "      <th></th>\n",
              "      <th></th>\n",
              "      <th></th>\n",
              "      <th></th>\n",
              "      <th></th>\n",
              "      <th></th>\n",
              "      <th></th>\n",
              "      <th></th>\n",
              "      <th></th>\n",
              "      <th></th>\n",
              "      <th></th>\n",
              "      <th></th>\n",
              "      <th></th>\n",
              "      <th></th>\n",
              "      <th></th>\n",
              "      <th></th>\n",
              "      <th></th>\n",
              "      <th></th>\n",
              "      <th></th>\n",
              "      <th></th>\n",
              "      <th></th>\n",
              "      <th></th>\n",
              "      <th></th>\n",
              "      <th></th>\n",
              "      <th></th>\n",
              "      <th></th>\n",
              "      <th></th>\n",
              "      <th></th>\n",
              "      <th></th>\n",
              "      <th></th>\n",
              "      <th></th>\n",
              "      <th></th>\n",
              "      <th></th>\n",
              "      <th></th>\n",
              "      <th></th>\n",
              "      <th></th>\n",
              "      <th></th>\n",
              "      <th></th>\n",
              "      <th></th>\n",
              "      <th></th>\n",
              "      <th></th>\n",
              "      <th></th>\n",
              "      <th></th>\n",
              "      <th></th>\n",
              "      <th></th>\n",
              "      <th></th>\n",
              "      <th></th>\n",
              "      <th></th>\n",
              "      <th></th>\n",
              "      <th></th>\n",
              "      <th></th>\n",
              "      <th></th>\n",
              "      <th></th>\n",
              "      <th></th>\n",
              "      <th></th>\n",
              "      <th></th>\n",
              "      <th></th>\n",
              "      <th></th>\n",
              "      <th></th>\n",
              "      <th></th>\n",
              "      <th></th>\n",
              "      <th></th>\n",
              "      <th></th>\n",
              "      <th></th>\n",
              "      <th></th>\n",
              "      <th></th>\n",
              "      <th></th>\n",
              "      <th></th>\n",
              "      <th></th>\n",
              "      <th></th>\n",
              "      <th></th>\n",
              "      <th></th>\n",
              "    </tr>\n",
              "  </thead>\n",
              "  <tbody>\n",
              "    <tr>\n",
              "      <th>São Paulo</th>\n",
              "      <td>172.83</td>\n",
              "      <td>170.48</td>\n",
              "      <td>170.28</td>\n",
              "      <td>172.40</td>\n",
              "      <td>175.42</td>\n",
              "      <td>179.53</td>\n",
              "      <td>179.90</td>\n",
              "      <td>180.08</td>\n",
              "      <td>191.69</td>\n",
              "      <td>190.54</td>\n",
              "      <td>177.09</td>\n",
              "      <td>192.32</td>\n",
              "      <td>178.60</td>\n",
              "      <td>216.95</td>\n",
              "      <td>215.05</td>\n",
              "      <td>212.89</td>\n",
              "      <td>212.67</td>\n",
              "      <td>214.04</td>\n",
              "      <td>215.21</td>\n",
              "      <td>214.14</td>\n",
              "      <td>216.06</td>\n",
              "      <td>208.97</td>\n",
              "      <td>192.13</td>\n",
              "      <td>213.47</td>\n",
              "      <td>195.78</td>\n",
              "      <td>239.32</td>\n",
              "      <td>221.17</td>\n",
              "      <td>231.78</td>\n",
              "      <td>223.93</td>\n",
              "      <td>224.07</td>\n",
              "      <td>248.01</td>\n",
              "      <td>224.05</td>\n",
              "      <td>238.94</td>\n",
              "      <td>225.48</td>\n",
              "      <td>210.61</td>\n",
              "      <td>229.09</td>\n",
              "      <td>221.60</td>\n",
              "      <td>241.40</td>\n",
              "      <td>229.82</td>\n",
              "      <td>250.79</td>\n",
              "      <td>...</td>\n",
              "      <td>263.47</td>\n",
              "      <td>292.11</td>\n",
              "      <td>274.30</td>\n",
              "      <td>283.53</td>\n",
              "      <td>300.59</td>\n",
              "      <td>267.30</td>\n",
              "      <td>287.11</td>\n",
              "      <td>267.11</td>\n",
              "      <td>259.45</td>\n",
              "      <td>279.50</td>\n",
              "      <td>254.00</td>\n",
              "      <td>285.27</td>\n",
              "      <td>286.19</td>\n",
              "      <td>291.44</td>\n",
              "      <td>278.93</td>\n",
              "      <td>285.85</td>\n",
              "      <td>295.42</td>\n",
              "      <td>277.58</td>\n",
              "      <td>301.45</td>\n",
              "      <td>278.11</td>\n",
              "      <td>266.24</td>\n",
              "      <td>291.08</td>\n",
              "      <td>267.66</td>\n",
              "      <td>285.58</td>\n",
              "      <td>292.58</td>\n",
              "      <td>308.93</td>\n",
              "      <td>281.41</td>\n",
              "      <td>306.63</td>\n",
              "      <td>302.37</td>\n",
              "      <td>293.69</td>\n",
              "      <td>303.38</td>\n",
              "      <td>282.39</td>\n",
              "      <td>272.70</td>\n",
              "      <td>301.99</td>\n",
              "      <td>271.36</td>\n",
              "      <td>276.61</td>\n",
              "      <td>251.70</td>\n",
              "      <td>302.86</td>\n",
              "      <td>299.06</td>\n",
              "      <td>282.71</td>\n",
              "    </tr>\n",
              "    <tr>\n",
              "      <th>Minas Gerais</th>\n",
              "      <td>70.30</td>\n",
              "      <td>79.12</td>\n",
              "      <td>79.05</td>\n",
              "      <td>79.27</td>\n",
              "      <td>79.61</td>\n",
              "      <td>82.20</td>\n",
              "      <td>80.37</td>\n",
              "      <td>82.40</td>\n",
              "      <td>88.61</td>\n",
              "      <td>84.49</td>\n",
              "      <td>88.93</td>\n",
              "      <td>99.02</td>\n",
              "      <td>83.68</td>\n",
              "      <td>100.24</td>\n",
              "      <td>91.83</td>\n",
              "      <td>97.29</td>\n",
              "      <td>95.72</td>\n",
              "      <td>100.05</td>\n",
              "      <td>98.97</td>\n",
              "      <td>98.20</td>\n",
              "      <td>96.96</td>\n",
              "      <td>94.77</td>\n",
              "      <td>92.41</td>\n",
              "      <td>95.81</td>\n",
              "      <td>90.76</td>\n",
              "      <td>107.39</td>\n",
              "      <td>100.83</td>\n",
              "      <td>105.49</td>\n",
              "      <td>99.67</td>\n",
              "      <td>103.36</td>\n",
              "      <td>107.84</td>\n",
              "      <td>104.34</td>\n",
              "      <td>100.53</td>\n",
              "      <td>101.94</td>\n",
              "      <td>99.54</td>\n",
              "      <td>107.74</td>\n",
              "      <td>103.14</td>\n",
              "      <td>111.07</td>\n",
              "      <td>106.09</td>\n",
              "      <td>115.49</td>\n",
              "      <td>...</td>\n",
              "      <td>136.72</td>\n",
              "      <td>153.41</td>\n",
              "      <td>144.29</td>\n",
              "      <td>147.53</td>\n",
              "      <td>156.06</td>\n",
              "      <td>142.29</td>\n",
              "      <td>148.31</td>\n",
              "      <td>142.32</td>\n",
              "      <td>138.34</td>\n",
              "      <td>146.50</td>\n",
              "      <td>130.70</td>\n",
              "      <td>151.50</td>\n",
              "      <td>150.69</td>\n",
              "      <td>153.59</td>\n",
              "      <td>150.25</td>\n",
              "      <td>156.63</td>\n",
              "      <td>160.42</td>\n",
              "      <td>145.94</td>\n",
              "      <td>157.25</td>\n",
              "      <td>148.17</td>\n",
              "      <td>145.39</td>\n",
              "      <td>153.18</td>\n",
              "      <td>142.67</td>\n",
              "      <td>151.94</td>\n",
              "      <td>157.92</td>\n",
              "      <td>163.59</td>\n",
              "      <td>154.11</td>\n",
              "      <td>166.74</td>\n",
              "      <td>161.71</td>\n",
              "      <td>157.42</td>\n",
              "      <td>166.13</td>\n",
              "      <td>152.11</td>\n",
              "      <td>152.40</td>\n",
              "      <td>158.10</td>\n",
              "      <td>141.32</td>\n",
              "      <td>147.08</td>\n",
              "      <td>126.33</td>\n",
              "      <td>136.87</td>\n",
              "      <td>135.98</td>\n",
              "      <td>120.47</td>\n",
              "    </tr>\n",
              "    <tr>\n",
              "      <th>Paraná</th>\n",
              "      <td>48.86</td>\n",
              "      <td>55.61</td>\n",
              "      <td>56.12</td>\n",
              "      <td>55.57</td>\n",
              "      <td>56.09</td>\n",
              "      <td>59.80</td>\n",
              "      <td>56.70</td>\n",
              "      <td>58.09</td>\n",
              "      <td>61.37</td>\n",
              "      <td>59.67</td>\n",
              "      <td>57.82</td>\n",
              "      <td>60.38</td>\n",
              "      <td>57.24</td>\n",
              "      <td>69.07</td>\n",
              "      <td>64.05</td>\n",
              "      <td>68.69</td>\n",
              "      <td>67.93</td>\n",
              "      <td>70.96</td>\n",
              "      <td>69.23</td>\n",
              "      <td>67.85</td>\n",
              "      <td>68.56</td>\n",
              "      <td>67.16</td>\n",
              "      <td>63.09</td>\n",
              "      <td>66.90</td>\n",
              "      <td>64.50</td>\n",
              "      <td>77.14</td>\n",
              "      <td>70.76</td>\n",
              "      <td>73.46</td>\n",
              "      <td>71.84</td>\n",
              "      <td>73.01</td>\n",
              "      <td>76.15</td>\n",
              "      <td>74.24</td>\n",
              "      <td>73.04</td>\n",
              "      <td>76.36</td>\n",
              "      <td>70.52</td>\n",
              "      <td>74.71</td>\n",
              "      <td>71.31</td>\n",
              "      <td>76.91</td>\n",
              "      <td>74.23</td>\n",
              "      <td>81.71</td>\n",
              "      <td>...</td>\n",
              "      <td>106.03</td>\n",
              "      <td>120.54</td>\n",
              "      <td>111.73</td>\n",
              "      <td>118.59</td>\n",
              "      <td>122.12</td>\n",
              "      <td>110.66</td>\n",
              "      <td>117.57</td>\n",
              "      <td>112.46</td>\n",
              "      <td>105.56</td>\n",
              "      <td>116.13</td>\n",
              "      <td>107.08</td>\n",
              "      <td>122.33</td>\n",
              "      <td>124.73</td>\n",
              "      <td>127.07</td>\n",
              "      <td>122.62</td>\n",
              "      <td>127.99</td>\n",
              "      <td>131.26</td>\n",
              "      <td>120.65</td>\n",
              "      <td>129.53</td>\n",
              "      <td>121.81</td>\n",
              "      <td>112.98</td>\n",
              "      <td>124.16</td>\n",
              "      <td>117.72</td>\n",
              "      <td>123.91</td>\n",
              "      <td>127.45</td>\n",
              "      <td>132.58</td>\n",
              "      <td>124.86</td>\n",
              "      <td>134.62</td>\n",
              "      <td>127.17</td>\n",
              "      <td>126.17</td>\n",
              "      <td>133.85</td>\n",
              "      <td>126.21</td>\n",
              "      <td>113.55</td>\n",
              "      <td>122.27</td>\n",
              "      <td>116.06</td>\n",
              "      <td>114.48</td>\n",
              "      <td>96.73</td>\n",
              "      <td>106.10</td>\n",
              "      <td>92.90</td>\n",
              "      <td>80.32</td>\n",
              "    </tr>\n",
              "    <tr>\n",
              "      <th>Rio Grande do Sul</th>\n",
              "      <td>45.90</td>\n",
              "      <td>52.93</td>\n",
              "      <td>51.97</td>\n",
              "      <td>51.68</td>\n",
              "      <td>53.76</td>\n",
              "      <td>56.39</td>\n",
              "      <td>56.23</td>\n",
              "      <td>57.91</td>\n",
              "      <td>59.59</td>\n",
              "      <td>57.57</td>\n",
              "      <td>55.70</td>\n",
              "      <td>61.52</td>\n",
              "      <td>52.10</td>\n",
              "      <td>65.11</td>\n",
              "      <td>61.59</td>\n",
              "      <td>64.40</td>\n",
              "      <td>63.09</td>\n",
              "      <td>69.14</td>\n",
              "      <td>66.06</td>\n",
              "      <td>65.22</td>\n",
              "      <td>67.57</td>\n",
              "      <td>64.19</td>\n",
              "      <td>62.24</td>\n",
              "      <td>65.49</td>\n",
              "      <td>56.96</td>\n",
              "      <td>69.93</td>\n",
              "      <td>66.49</td>\n",
              "      <td>69.11</td>\n",
              "      <td>67.57</td>\n",
              "      <td>70.07</td>\n",
              "      <td>70.88</td>\n",
              "      <td>65.08</td>\n",
              "      <td>66.56</td>\n",
              "      <td>66.10</td>\n",
              "      <td>61.74</td>\n",
              "      <td>66.92</td>\n",
              "      <td>61.37</td>\n",
              "      <td>69.00</td>\n",
              "      <td>66.23</td>\n",
              "      <td>72.17</td>\n",
              "      <td>...</td>\n",
              "      <td>83.19</td>\n",
              "      <td>95.15</td>\n",
              "      <td>93.17</td>\n",
              "      <td>94.42</td>\n",
              "      <td>94.23</td>\n",
              "      <td>86.42</td>\n",
              "      <td>91.60</td>\n",
              "      <td>85.79</td>\n",
              "      <td>82.74</td>\n",
              "      <td>91.83</td>\n",
              "      <td>77.58</td>\n",
              "      <td>91.08</td>\n",
              "      <td>91.93</td>\n",
              "      <td>91.68</td>\n",
              "      <td>90.99</td>\n",
              "      <td>94.86</td>\n",
              "      <td>96.80</td>\n",
              "      <td>87.34</td>\n",
              "      <td>97.37</td>\n",
              "      <td>90.19</td>\n",
              "      <td>81.75</td>\n",
              "      <td>92.47</td>\n",
              "      <td>85.30</td>\n",
              "      <td>91.62</td>\n",
              "      <td>92.79</td>\n",
              "      <td>99.12</td>\n",
              "      <td>95.84</td>\n",
              "      <td>103.03</td>\n",
              "      <td>98.55</td>\n",
              "      <td>94.37</td>\n",
              "      <td>96.91</td>\n",
              "      <td>90.97</td>\n",
              "      <td>88.72</td>\n",
              "      <td>97.47</td>\n",
              "      <td>85.45</td>\n",
              "      <td>84.65</td>\n",
              "      <td>76.29</td>\n",
              "      <td>86.08</td>\n",
              "      <td>89.02</td>\n",
              "      <td>78.93</td>\n",
              "    </tr>\n",
              "    <tr>\n",
              "      <th>Rio de Janeiro</th>\n",
              "      <td>44.12</td>\n",
              "      <td>42.89</td>\n",
              "      <td>45.30</td>\n",
              "      <td>43.95</td>\n",
              "      <td>44.10</td>\n",
              "      <td>44.35</td>\n",
              "      <td>42.49</td>\n",
              "      <td>43.07</td>\n",
              "      <td>44.55</td>\n",
              "      <td>41.35</td>\n",
              "      <td>43.01</td>\n",
              "      <td>60.87</td>\n",
              "      <td>40.66</td>\n",
              "      <td>52.75</td>\n",
              "      <td>48.90</td>\n",
              "      <td>51.17</td>\n",
              "      <td>57.23</td>\n",
              "      <td>53.49</td>\n",
              "      <td>51.22</td>\n",
              "      <td>48.48</td>\n",
              "      <td>48.67</td>\n",
              "      <td>49.69</td>\n",
              "      <td>44.41</td>\n",
              "      <td>55.99</td>\n",
              "      <td>44.82</td>\n",
              "      <td>54.46</td>\n",
              "      <td>78.12</td>\n",
              "      <td>56.01</td>\n",
              "      <td>51.44</td>\n",
              "      <td>53.86</td>\n",
              "      <td>57.87</td>\n",
              "      <td>53.74</td>\n",
              "      <td>52.37</td>\n",
              "      <td>50.22</td>\n",
              "      <td>50.89</td>\n",
              "      <td>74.01</td>\n",
              "      <td>61.11</td>\n",
              "      <td>55.32</td>\n",
              "      <td>55.81</td>\n",
              "      <td>59.07</td>\n",
              "      <td>...</td>\n",
              "      <td>64.52</td>\n",
              "      <td>74.32</td>\n",
              "      <td>69.85</td>\n",
              "      <td>73.15</td>\n",
              "      <td>74.54</td>\n",
              "      <td>68.73</td>\n",
              "      <td>73.08</td>\n",
              "      <td>69.26</td>\n",
              "      <td>67.32</td>\n",
              "      <td>72.34</td>\n",
              "      <td>65.02</td>\n",
              "      <td>74.39</td>\n",
              "      <td>74.52</td>\n",
              "      <td>79.26</td>\n",
              "      <td>75.91</td>\n",
              "      <td>77.49</td>\n",
              "      <td>78.78</td>\n",
              "      <td>72.84</td>\n",
              "      <td>79.14</td>\n",
              "      <td>73.95</td>\n",
              "      <td>70.69</td>\n",
              "      <td>79.47</td>\n",
              "      <td>73.80</td>\n",
              "      <td>74.92</td>\n",
              "      <td>76.67</td>\n",
              "      <td>82.44</td>\n",
              "      <td>78.19</td>\n",
              "      <td>87.98</td>\n",
              "      <td>83.31</td>\n",
              "      <td>81.15</td>\n",
              "      <td>82.25</td>\n",
              "      <td>74.62</td>\n",
              "      <td>74.90</td>\n",
              "      <td>79.71</td>\n",
              "      <td>72.41</td>\n",
              "      <td>73.59</td>\n",
              "      <td>68.16</td>\n",
              "      <td>86.28</td>\n",
              "      <td>77.60</td>\n",
              "      <td>71.54</td>\n",
              "    </tr>\n",
              "  </tbody>\n",
              "</table>\n",
              "<p>5 rows × 150 columns</p>\n",
              "</div>"
            ],
            "text/plain": [
              "                      2008/Fev  2008/Mar  ...  2020/Jun  2020/Jul\n",
              "Unidade da Federação                      ...                    \n",
              "São Paulo               172.83    170.48  ...    299.06    282.71\n",
              "Minas Gerais             70.30     79.12  ...    135.98    120.47\n",
              "Paraná                   48.86     55.61  ...     92.90     80.32\n",
              "Rio Grande do Sul        45.90     52.93  ...     89.02     78.93\n",
              "Rio de Janeiro           44.12     42.89  ...     77.60     71.54\n",
              "\n",
              "[5 rows x 150 columns]"
            ]
          },
          "metadata": {
            "tags": []
          },
          "execution_count": 47
        }
      ]
    },
    {
      "cell_type": "markdown",
      "metadata": {
        "id": "C0zTfoarGYh5"
      },
      "source": [
        "Queremos agora fazer um gráfico, por exemplo, de São Paulo. Como fazemos se queremos plotar mês a mês e valor? Sendo que o mês são colunas e valores LINHAS?\n",
        "\n",
        "Até o momento os gráficos foram plotados apenas se utilizando colunas, vejamos como prosseguir."
      ]
    },
    {
      "cell_type": "code",
      "metadata": {
        "colab": {
          "base_uri": "https://localhost:8080/",
          "height": 282
        },
        "id": "CxGn4dsGGR1D",
        "outputId": "fa10d8c6-40c2-493b-f197-6e9a56a2310b"
      },
      "source": [
        "sns.scatterplot(x=ordenado_por_total.columns, y=ordenado_por_total.loc['São Paulo'])"
      ],
      "execution_count": 48,
      "outputs": [
        {
          "output_type": "execute_result",
          "data": {
            "text/plain": [
              "<matplotlib.axes._subplots.AxesSubplot at 0x7fd6933aca90>"
            ]
          },
          "metadata": {
            "tags": []
          },
          "execution_count": 48
        },
        {
          "output_type": "display_data",
          "data": {
            "image/png": "[encoded data removed]",
            "text/plain": [
              "<Figure size 432x288 with 1 Axes>"
            ]
          },
          "metadata": {
            "tags": [],
            "needs_background": "light"
          }
        }
      ]
    },
    {
      "cell_type": "markdown",
      "metadata": {
        "id": "hEV5SB7JMaLM"
      },
      "source": [
        "Funciona usar o scatterplot sem um dataframe usando apenas duas séries, mas não fica muito legal em termos de uso. Dessa forma podemos usar uma matriz transposta transformando 'São Paulo' em coluna."
      ]
    },
    {
      "cell_type": "code",
      "metadata": {
        "colab": {
          "base_uri": "https://localhost:8080/",
          "height": 266
        },
        "id": "gz4C7YNMHgvQ",
        "outputId": "4612e33c-70e3-4a0e-97eb-4a700e236ce3"
      },
      "source": [
        "mensal = ordenado_por_total.T\n",
        "mensal.head()"
      ],
      "execution_count": 52,
      "outputs": [
        {
          "output_type": "execute_result",
          "data": {
            "text/html": [
              "<div>\n",
              "<style scoped>\n",
              "    .dataframe tbody tr th:only-of-type {\n",
              "        vertical-align: middle;\n",
              "    }\n",
              "\n",
              "    .dataframe tbody tr th {\n",
              "        vertical-align: top;\n",
              "    }\n",
              "\n",
              "    .dataframe thead th {\n",
              "        text-align: right;\n",
              "    }\n",
              "</style>\n",
              "<table border=\"1\" class=\"dataframe\">\n",
              "  <thead>\n",
              "    <tr style=\"text-align: right;\">\n",
              "      <th>Unidade da Federação</th>\n",
              "      <th>São Paulo</th>\n",
              "      <th>Minas Gerais</th>\n",
              "      <th>Paraná</th>\n",
              "      <th>Rio Grande do Sul</th>\n",
              "      <th>Rio de Janeiro</th>\n",
              "      <th>Bahia</th>\n",
              "      <th>Pernambuco</th>\n",
              "      <th>Santa Catarina</th>\n",
              "      <th>Ceará</th>\n",
              "      <th>Goiás</th>\n",
              "      <th>Pará</th>\n",
              "      <th>Maranhão</th>\n",
              "      <th>Espírito Santo</th>\n",
              "      <th>Rio Grande do Norte</th>\n",
              "      <th>Paraíba</th>\n",
              "      <th>Distrito Federal</th>\n",
              "      <th>Mato Grosso do Sul</th>\n",
              "      <th>Piauí</th>\n",
              "      <th>Alagoas</th>\n",
              "      <th>Mato Grosso</th>\n",
              "      <th>Amazonas</th>\n",
              "      <th>Sergipe</th>\n",
              "      <th>Tocantins</th>\n",
              "      <th>Rondônia</th>\n",
              "      <th>Acre</th>\n",
              "      <th>Roraima</th>\n",
              "      <th>Amapá</th>\n",
              "    </tr>\n",
              "  </thead>\n",
              "  <tbody>\n",
              "    <tr>\n",
              "      <th>2008/Fev</th>\n",
              "      <td>172.83</td>\n",
              "      <td>70.30</td>\n",
              "      <td>48.86</td>\n",
              "      <td>45.90</td>\n",
              "      <td>44.12</td>\n",
              "      <td>33.41</td>\n",
              "      <td>26.22</td>\n",
              "      <td>24.41</td>\n",
              "      <td>27.64</td>\n",
              "      <td>18.15</td>\n",
              "      <td>20.13</td>\n",
              "      <td>13.45</td>\n",
              "      <td>10.03</td>\n",
              "      <td>9.11</td>\n",
              "      <td>10.87</td>\n",
              "      <td>10.22</td>\n",
              "      <td>8.28</td>\n",
              "      <td>9.71</td>\n",
              "      <td>8.11</td>\n",
              "      <td>7.93</td>\n",
              "      <td>7.93</td>\n",
              "      <td>4.64</td>\n",
              "      <td>5.05</td>\n",
              "      <td>1.94</td>\n",
              "      <td>1.74</td>\n",
              "      <td>0.77</td>\n",
              "      <td>1.28</td>\n",
              "    </tr>\n",
              "    <tr>\n",
              "      <th>2008/Mar</th>\n",
              "      <td>170.48</td>\n",
              "      <td>79.12</td>\n",
              "      <td>55.61</td>\n",
              "      <td>52.93</td>\n",
              "      <td>42.89</td>\n",
              "      <td>41.30</td>\n",
              "      <td>30.72</td>\n",
              "      <td>27.48</td>\n",
              "      <td>30.09</td>\n",
              "      <td>20.99</td>\n",
              "      <td>22.15</td>\n",
              "      <td>14.75</td>\n",
              "      <td>12.26</td>\n",
              "      <td>10.13</td>\n",
              "      <td>12.35</td>\n",
              "      <td>11.63</td>\n",
              "      <td>9.79</td>\n",
              "      <td>10.43</td>\n",
              "      <td>9.21</td>\n",
              "      <td>9.42</td>\n",
              "      <td>8.64</td>\n",
              "      <td>5.02</td>\n",
              "      <td>5.20</td>\n",
              "      <td>1.96</td>\n",
              "      <td>2.06</td>\n",
              "      <td>0.88</td>\n",
              "      <td>1.18</td>\n",
              "    </tr>\n",
              "    <tr>\n",
              "      <th>2008/Abr</th>\n",
              "      <td>170.28</td>\n",
              "      <td>79.05</td>\n",
              "      <td>56.12</td>\n",
              "      <td>51.97</td>\n",
              "      <td>45.30</td>\n",
              "      <td>42.83</td>\n",
              "      <td>30.59</td>\n",
              "      <td>27.81</td>\n",
              "      <td>31.38</td>\n",
              "      <td>21.05</td>\n",
              "      <td>23.44</td>\n",
              "      <td>15.15</td>\n",
              "      <td>12.45</td>\n",
              "      <td>10.96</td>\n",
              "      <td>12.68</td>\n",
              "      <td>11.92</td>\n",
              "      <td>9.00</td>\n",
              "      <td>10.23</td>\n",
              "      <td>10.47</td>\n",
              "      <td>9.39</td>\n",
              "      <td>8.53</td>\n",
              "      <td>5.27</td>\n",
              "      <td>5.34</td>\n",
              "      <td>2.14</td>\n",
              "      <td>2.06</td>\n",
              "      <td>0.90</td>\n",
              "      <td>1.40</td>\n",
              "    </tr>\n",
              "    <tr>\n",
              "      <th>2008/Mai</th>\n",
              "      <td>172.40</td>\n",
              "      <td>79.27</td>\n",
              "      <td>55.57</td>\n",
              "      <td>51.68</td>\n",
              "      <td>43.95</td>\n",
              "      <td>42.07</td>\n",
              "      <td>31.41</td>\n",
              "      <td>28.35</td>\n",
              "      <td>31.19</td>\n",
              "      <td>19.16</td>\n",
              "      <td>23.86</td>\n",
              "      <td>14.54</td>\n",
              "      <td>11.79</td>\n",
              "      <td>11.03</td>\n",
              "      <td>13.26</td>\n",
              "      <td>11.90</td>\n",
              "      <td>9.84</td>\n",
              "      <td>10.56</td>\n",
              "      <td>9.84</td>\n",
              "      <td>9.38</td>\n",
              "      <td>9.08</td>\n",
              "      <td>5.37</td>\n",
              "      <td>5.34</td>\n",
              "      <td>2.28</td>\n",
              "      <td>2.23</td>\n",
              "      <td>1.03</td>\n",
              "      <td>1.41</td>\n",
              "    </tr>\n",
              "    <tr>\n",
              "      <th>2008/Jun</th>\n",
              "      <td>175.42</td>\n",
              "      <td>79.61</td>\n",
              "      <td>56.09</td>\n",
              "      <td>53.76</td>\n",
              "      <td>44.10</td>\n",
              "      <td>39.91</td>\n",
              "      <td>28.95</td>\n",
              "      <td>28.99</td>\n",
              "      <td>29.46</td>\n",
              "      <td>20.33</td>\n",
              "      <td>23.50</td>\n",
              "      <td>14.55</td>\n",
              "      <td>11.89</td>\n",
              "      <td>10.45</td>\n",
              "      <td>12.25</td>\n",
              "      <td>11.97</td>\n",
              "      <td>10.26</td>\n",
              "      <td>10.47</td>\n",
              "      <td>10.29</td>\n",
              "      <td>9.45</td>\n",
              "      <td>8.65</td>\n",
              "      <td>4.98</td>\n",
              "      <td>5.40</td>\n",
              "      <td>2.62</td>\n",
              "      <td>2.11</td>\n",
              "      <td>0.94</td>\n",
              "      <td>1.42</td>\n",
              "    </tr>\n",
              "  </tbody>\n",
              "</table>\n",
              "</div>"
            ],
            "text/plain": [
              "Unidade da Federação  São Paulo  Minas Gerais  Paraná  ...  Acre  Roraima  Amapá\n",
              "2008/Fev                 172.83         70.30   48.86  ...  1.74     0.77   1.28\n",
              "2008/Mar                 170.48         79.12   55.61  ...  2.06     0.88   1.18\n",
              "2008/Abr                 170.28         79.05   56.12  ...  2.06     0.90   1.40\n",
              "2008/Mai                 172.40         79.27   55.57  ...  2.23     1.03   1.41\n",
              "2008/Jun                 175.42         79.61   56.09  ...  2.11     0.94   1.42\n",
              "\n",
              "[5 rows x 27 columns]"
            ]
          },
          "metadata": {
            "tags": []
          },
          "execution_count": 52
        }
      ]
    },
    {
      "cell_type": "code",
      "metadata": {
        "colab": {
          "base_uri": "https://localhost:8080/",
          "height": 282
        },
        "id": "oy9bJWtoMyax",
        "outputId": "4c768beb-8515-48ae-ebb8-7932fafc5c22"
      },
      "source": [
        "sns.scatterplot(data=mensal,x=mensal.index, y='São Paulo')"
      ],
      "execution_count": 53,
      "outputs": [
        {
          "output_type": "execute_result",
          "data": {
            "text/plain": [
              "<matplotlib.axes._subplots.AxesSubplot at 0x7fd692eccc50>"
            ]
          },
          "metadata": {
            "tags": []
          },
          "execution_count": 53
        },
        {
          "output_type": "display_data",
          "data": {
            "image/png": "[encoded data removed]",
            "text/plain": [
              "<Figure size 432x288 with 1 Axes>"
            ]
          },
          "metadata": {
            "tags": [],
            "needs_background": "light"
          }
        }
      ]
    },
    {
      "cell_type": "markdown",
      "metadata": {
        "id": "d0XMMwXaOrZh"
      },
      "source": [
        "Obtemos a mesma informação mas utilizando o DataFrame. Mas de todo modo o gráfico ainda é ruim por si só, observe que os índices estão bagunçados impossibilitando a leitura. Veremos após o desafio outras formas de tratamento."
      ]
    },
    {
      "cell_type": "markdown",
      "metadata": {
        "id": "PjdSPTC6PD-t"
      },
      "source": [
        "##Desafio 1: Faça o mesmo para seu estado."
      ]
    },
    {
      "cell_type": "code",
      "metadata": {
        "colab": {
          "base_uri": "https://localhost:8080/",
          "height": 282
        },
        "id": "ER0WlQ9WPCmQ",
        "outputId": "de84ad3f-a0da-4b7c-aa87-3189ba50844b"
      },
      "source": [
        "sns.scatterplot(data=mensal, x=mensal.index, y='Paraná')"
      ],
      "execution_count": 55,
      "outputs": [
        {
          "output_type": "execute_result",
          "data": {
            "text/plain": [
              "<matplotlib.axes._subplots.AxesSubplot at 0x7fd692b236a0>"
            ]
          },
          "metadata": {
            "tags": []
          },
          "execution_count": 55
        },
        {
          "output_type": "display_data",
          "data": {
            "image/png": "[encoded data removed]",
            "text/plain": [
              "<Figure size 432x288 with 1 Axes>"
            ]
          },
          "metadata": {
            "tags": [],
            "needs_background": "light"
          }
        }
      ]
    },
    {
      "cell_type": "markdown",
      "metadata": {
        "id": "ICWyoA8ePWce"
      },
      "source": [
        "##Lineplot"
      ]
    },
    {
      "cell_type": "code",
      "metadata": {
        "colab": {
          "base_uri": "https://localhost:8080/",
          "height": 282
        },
        "id": "pD8PK-95M_ud",
        "outputId": "9121ab6f-7b7d-440c-9722-393cee0abbb2"
      },
      "source": [
        "sns.lineplot(data=mensal, x=mensal.index, y='São Paulo')"
      ],
      "execution_count": 56,
      "outputs": [
        {
          "output_type": "execute_result",
          "data": {
            "text/plain": [
              "<matplotlib.axes._subplots.AxesSubplot at 0x7fd692f58b00>"
            ]
          },
          "metadata": {
            "tags": []
          },
          "execution_count": 56
        },
        {
          "output_type": "display_data",
          "data": {
            "image/png": "[encoded data removed]",
            "text/plain": [
              "<Figure size 432x288 with 1 Axes>"
            ]
          },
          "metadata": {
            "tags": [],
            "needs_background": "light"
          }
        }
      ]
    },
    {
      "cell_type": "markdown",
      "metadata": {
        "id": "RALDI3N9Pol6"
      },
      "source": [
        "Nesse gráfico conseguimos observar sazonalidades. Mas agora sim vamos melhorar esse plot, retocando o gráfico."
      ]
    },
    {
      "cell_type": "code",
      "metadata": {
        "colab": {
          "base_uri": "https://localhost:8080/",
          "height": 396
        },
        "id": "oSqFMIPZPmTV",
        "outputId": "dd26956d-523c-4246-be13-00b6f6a6cd71"
      },
      "source": [
        "plt.figure(figsize=(10,6))\n",
        "ax = sns.lineplot(data=mensal, x=mensal.index, y='São Paulo')\n",
        "#ax.yaxis.set_major_formatter(ticker.StrMethodFormatter(\"{x:,.0f}.000.000\")) #transformando eixo das ordenadas para valores de ponto flutuante\n",
        "plt.xticks(rotation=30)\n",
        "#Modifica os índices incluindo os principais ticks.\n",
        "ax.xaxis.set_major_locator(ticker.AutoLocator())\n",
        "plt.show()"
      ],
      "execution_count": 74,
      "outputs": [
        {
          "output_type": "display_data",
          "data": {
            "image/png": "[encoded data removed]",
            "text/plain": [
              "<Figure size 720x432 with 1 Axes>"
            ]
          },
          "metadata": {
            "tags": [],
            "needs_background": "light"
          }
        }
      ]
    },
    {
      "cell_type": "markdown",
      "metadata": {
        "id": "2ixORuYEUIS7"
      },
      "source": [
        "Utilizamos o construtor ticker.AutoLocator para colocar os principais pontos para os tickers do eixo x, entretanto, não necessariamente esse método é ótimo pois perdemos o controle do intervalo que é plotado. Desse modo fazemos o IndexLocator controlando isso informando a base (no caso será 12 para que seja de 12 em 12 meses) e o offset que informa de onde deve iniciar essa contagem. "
      ]
    },
    {
      "cell_type": "code",
      "metadata": {
        "colab": {
          "base_uri": "https://localhost:8080/",
          "height": 400
        },
        "id": "EE32q_D3UavM",
        "outputId": "bbd71b16-5af4-4927-ed4c-b8227b99508a"
      },
      "source": [
        "plt.figure(figsize=(10,6))\n",
        "ax = sns.lineplot(data=mensal, x=mensal.index, y='São Paulo')\n",
        "#ax.yaxis.set_major_formatter(ticker.StrMethodFormatter(\"{x:,.0f}.000.000\")) #transformando eixo das ordenadas para valores de ponto flutuante\n",
        "plt.xticks(rotation=30)\n",
        "plt.ylim(0,350)\n",
        "#Modifica os índices incluindo os principais ticks.\n",
        "ax.xaxis.set_major_locator(ticker.IndexLocator(base=12, offset=0))\n",
        "plt.grid(linestyle='--')\n",
        "plt.show()"
      ],
      "execution_count": 83,
      "outputs": [
        {
          "output_type": "display_data",
          "data": {
            "image/png": "[encoded data removed]",
            "text/plain": [
              "<Figure size 720x432 with 1 Axes>"
            ]
          },
          "metadata": {
            "tags": [],
            "needs_background": "light"
          }
        }
      ]
    },
    {
      "cell_type": "markdown",
      "metadata": {
        "id": "Cz-KK_irVZAZ"
      },
      "source": [
        "Fazendo esses ajustes percebemos como o Matplotlib é o que roda por baixo dos panos do Seaborn."
      ]
    },
    {
      "cell_type": "markdown",
      "metadata": {
        "id": "Co2SlgsvQT-p"
      },
      "source": [
        "##Desafio 2: Formatar o eixo y deixando os valores em milhões, colocar um título principal e nos eixos e, também, alterar a fonte desses."
      ]
    },
    {
      "cell_type": "code",
      "metadata": {
        "colab": {
          "base_uri": "https://localhost:8080/",
          "height": 432
        },
        "id": "3GAsHHy4QAJo",
        "outputId": "ae029bef-98e9-49b3-ea85-1da08dc67587"
      },
      "source": [
        "plt.figure(figsize=(10,6))\n",
        "ax = sns.lineplot(data=mensal, x=mensal.index, y='São Paulo')\n",
        "ax.yaxis.set_major_formatter(ticker.StrMethodFormatter(\"{x:,.0f}.000.000\")) #transformando eixo das ordenadas para valores de ponto flutuante\n",
        "plt.xticks(rotation=30)\n",
        "plt.ylim(0,350)\n",
        "ax.xaxis.set_major_locator(ticker.IndexLocator(base=12, offset=0))\n",
        "plt.title('Gastos no SIH/SUS através dos anos no estado de São Paulo', fontsize=16)\n",
        "plt.xlabel('Ano/Mês', fontsize=14)\n",
        "plt.ylabel('Gastos em milhões de reais', fontsize=14)\n",
        "plt.grid(linestyle='--')\n",
        "plt.show()"
      ],
      "execution_count": 97,
      "outputs": [
        {
          "output_type": "display_data",
          "data": {
            "image/png": "[encoded data removed]",
            "text/plain": [
              "<Figure size 720x432 with 1 Axes>"
            ]
          },
          "metadata": {
            "tags": [],
            "needs_background": "light"
          }
        }
      ]
    },
    {
      "cell_type": "code",
      "metadata": {
        "id": "irh6t-KqWVV3"
      },
      "source": [
        ""
      ],
      "execution_count": null,
      "outputs": []
    }
  ]
}
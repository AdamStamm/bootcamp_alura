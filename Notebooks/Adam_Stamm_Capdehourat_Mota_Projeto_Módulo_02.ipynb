{
  "nbformat": 4,
  "nbformat_minor": 0,
  "metadata": {
    "colab": {
      "name": "Adam Stamm Capdehourat Mota - Projeto Módulo 02.ipynb",
      "provenance": [],
      "collapsed_sections": [
        "GjxJx05rzlgr"
      ],
      "toc_visible": true,
      "include_colab_link": true
    },
    "kernelspec": {
      "name": "python3",
      "display_name": "Python 3"
    }
  },
  "cells": [
    {
      "cell_type": "markdown",
      "metadata": {
        "id": "view-in-github",
        "colab_type": "text"
      },
      "source": [
        "<a href=\"https://colab.research.google.com/github/AdamStamm/bootcamp_alura/blob/main/Notebooks/Adam_Stamm_Capdehourat_Mota_Projeto_M%C3%B3dulo_02.ipynb\" target=\"_parent\"><img src=\"https://colab.research.google.com/assets/colab-badge.svg\" alt=\"Open In Colab\"/></a>"
      ]
    },
    {
      "cell_type": "markdown",
      "metadata": {
        "id": "E27fQer3E8K9"
      },
      "source": [
        "Olá **Cientista**!\n",
        "\n",
        "Bem vinda e bem vindo ao **projeto do Módulo 02**, neste desafio queremos que você aplique tudo que aprendeu no módulo 1 e 2, analisando dados do [programa de imunização nacional](http://tabnet.datasus.gov.br/cgi/tabcgi.exe?pni/cnv/cpniuf.def), você pode analisar dados de **imunos** escolhidos por você, pode analisar toda a base de dados, apenas do seu estado ou de estados específicos. Pode analisar as taxas a cobertura ou doses calculadas, buscar outras fontes de informações fora do data SUS, como também, usar outros dados do DataSUS para enriquecer suas análises. \n",
        "\n",
        "\n",
        "\n",
        "Algumas dicas para você mandar bem no desafio final, capriche nas análises, escreva suas conclusões e hipóteses (mesmo que resultado seja inconclusivo) e não esqueça de colocar um resumo dos pontos que julgar mais interessantes do seu projeto.\n",
        "\n",
        "**P.S: Vamos agendar um cafezinho para discutir o módulo 2, fique atento para os aviso no DISCORD**\n",
        "\n",
        "E para que o seu projeto tenha a oportunidade de ser avalido pelo Thiago G. Santos e Átila Iamarino, ao vivo na **live de revisão de projetos** submeta o link compartilhado do seu notebook até dia 06/12 às 23h59 neste [formulário](https://forms.gle/HNR6yen2xB5ttv7D6).\n",
        "\n",
        "Para facilitar a vida dos seus instrutores favoritos, no momento da correção, algumas dicas de como estruturar seu projeto:\n",
        "\n",
        "- Como título do seu **Colab** coloque seu nome (Ex: Thiago_Gonçalves.ipynb)\n",
        "- Crie um resumo das suas análises na parte superior do notebook\n",
        "- Informe no resumo os dados que vc vai analisar (Ex: Finaceiros e Internações)\n",
        "\n",
        "Qualquer dúvida não deixe de perguntar no Discord, compatilhe seu projeto nas redes sociais e crie um repositório no github, esse é o início do seu portifólio em Data Science.\n",
        "\n",
        "\n",
        "\n",
        "Fique a vontade para utilizar esse notebook como template projeto.\n",
        "\n"
      ]
    },
    {
      "cell_type": "markdown",
      "metadata": {
        "id": "RshO3GgDFGhB"
      },
      "source": [
        "## Resumo:\n",
        " \n",
        "No Brasil onde mais de 50% da população acredita que as vacinas são importantes, seguras e eficazes, foi identificada uma possível queda nesses índices entre os períodos de 2015 a 2019, de acordo com o estudo global de [mapeamento de tendências globais na confiança de vacinas e investigação de barreiras para vacinação](https://www.thelancet.com/action/showPdf?pii=S0140-6736%2820%2931558-0), disponibilizado pela revista científica [Lancet](https://www.thelancet.com/).\n",
        " \n",
        "A [Organização Mundial da Saúde](https://www.who.int/news-room/spotlight/ten-threats-to-global-health-in-2019) incluiu em 2019 a hesitação de vacinas num rol das 10 maiores ameaças a saúde mundial. Segundo a mesma, a vacinação evita de 2 a 3 milhões de mortes por ano e mais de 1,5 milhões podem ser evitadas caso a cobertura vacinal melhore, entretanto, o Sarampo apresentou um aumento de 30% no mundo e retornou em países que estavam proximos de eliminar a doença.\n",
        " \n",
        "O Brasil é um dos países que tinha o Sarampo declarado erradicado em 2016 quando a OMS identificou que o país estava há um ano sem registro de casos, entretanto, em 2018 o país voltou a apresentar registros da doença.\n",
        " \n",
        "O objetivo desse projeto é estudar o comportamento da cobertura vacinal, abandono e de casos de Sarampo no Brasil, afim de promover uma reflexão sobre o tema. Além disso esse projeto irá abordar a história e a importância das vacinas para a humanidade com finalidade informativa."
      ]
    },
    {
      "cell_type": "markdown",
      "metadata": {
        "id": "1IkjAQbgvqj3"
      },
      "source": [
        "##Carregando bibliotecas"
      ]
    },
    {
      "cell_type": "code",
      "metadata": {
        "id": "BUHuWTjaFGMV"
      },
      "source": [
        "import pandas as pd\n",
        "import numpy as np\n",
        "import datetime\n",
        "from io import StringIO\n",
        "import matplotlib.pyplot as plt\n",
        "import matplotlib.ticker as ticker\n",
        "import matplotlib\n",
        "import seaborn as sns"
      ],
      "execution_count": 1,
      "outputs": []
    },
    {
      "cell_type": "markdown",
      "metadata": {
        "id": "GjxJx05rzlgr"
      },
      "source": [
        "##Carregando conjuntos dos dados que serão analizados."
      ]
    },
    {
      "cell_type": "code",
      "metadata": {
        "colab": {
          "base_uri": "https://localhost:8080/"
        },
        "id": "1_JBFpXC03aY",
        "outputId": "0e05f698-4a00-41b8-b7b4-91298643ae57"
      },
      "source": [
        "#Dados do tabnet\n",
        "cobertura_imuno_por_ano = pd.read_csv('https://raw.githubusercontent.com/AdamStamm/bootcamp_alura/main/dados/A213015189_28_143_208-cobertura_imuno_por_ano.csv',\n",
        "                                      encoding='ISO-8859-1', sep=';', skiprows=3, skipfooter=19, thousands='.', decimal=',')\n",
        "regiao_imuno2015 = pd.read_csv('https://raw.githubusercontent.com/AdamStamm/bootcamp_alura/main/dados/A194826189_28_143_208_regiao_imuno_2015.csv',\n",
        "                               encoding='ISO-8859-1', sep=';', skiprows=3, skipfooter=19, thousands='.', decimal=',')\n",
        "regiao_imuno2016 = pd.read_csv('https://raw.githubusercontent.com/AdamStamm/bootcamp_alura/main/dados/A194914189_28_143_208_regiao_imuno_2016.csv',\n",
        "                               encoding='ISO-8859-1', sep=';', skiprows=3, skipfooter=19, thousands='.', decimal=',')\n",
        "regiao_imuno2017 = pd.read_csv('https://raw.githubusercontent.com/AdamStamm/bootcamp_alura/main/dados/A194951189_28_143_208_regiao_imuno_2017.csv',\n",
        "                               encoding='ISO-8859-1', sep=';', skiprows=3, skipfooter=19, thousands='.', decimal=',')\n",
        "regiao_imuno2018 = pd.read_csv('https://raw.githubusercontent.com/AdamStamm/bootcamp_alura/main/dados/A195023189_28_143_208_regiao_imuno_2018.csv',\n",
        "                               encoding='ISO-8859-1', sep=';', skiprows=3, skipfooter=19, thousands='.', decimal=',')\n",
        "regiao_imuno2019 = pd.read_csv('https://raw.githubusercontent.com/AdamStamm/bootcamp_alura/main/dados/A195052189_28_143_208_regiao_imuno_2019.csv',\n",
        "                               encoding='ISO-8859-1', sep=';', skiprows=3, skipfooter=19, thousands='.', decimal=',')\n",
        "\n",
        "\n",
        "#dados transcritos do portal de arquivos de saúde.\n",
        "casos_sarampo_regiao = pd.read_csv('https://raw.githubusercontent.com/AdamStamm/bootcamp_alura/main/dados/casos_confirmados_sarampo_regiao.csv', sep=';')\n",
        "\n",
        "#Dados extraídos do boletim epidemiologico de Outubro de 2020 do ministério da saúde.\n",
        "boletim_out2020= '''ID UF Confirmados \"Porcentagem de Confirmados\" Óbitos \"Porcentagem de Óbitos\"\n",
        "1 Pará 5.287 64,5 5 71,4\n",
        "2 \"Rio de Janeiro\" 1.333 16,3 1 14,3\n",
        "3 \"São Paulo\" 822 10,0 1 14,3\n",
        "4 Paraná 377 4,6 0 0,0\n",
        "5 \"Santa Catarina\" 110 1,3 0 0,0\n",
        "6 Amapá 107 1,3 0 0,0\n",
        "7 \"Rio Grande do Sul\" 37 0,5 0 0,0\n",
        "8 Pernambuco 34 0,4 0 0,0\n",
        "9 \"Minas Gerais\" 21 0,3 0 0,0\n",
        "10 Maranhão 17 0,2 0 0,0\n",
        "11 Goiás 8 0,1 0 0,0\n",
        "12 Sergipe 8 0,1 0 0,0\n",
        "13 Bahia 7 0,1 0 0,0\n",
        "14 Ceará 7 0,1 0 0,0\n",
        "15 \"Mato Grosso do Sul\" 7 0,1 0 0,0\n",
        "16 Rondônia 6 0,1 0 0,0\n",
        "17 \"Distrito Federal\" 5 0,1 0 0,0\n",
        "18 Amazonas 4 0,0 0 0,0\n",
        "19 Alagoas 3 0,0 0 0,0\n",
        "20 \"Mato Grosso\" 1 0,0 0 0,0\n",
        "21 Tocantins 1 0,0 0 0,0\n",
        "Total 8.202 100,0 7 100,0'''\n",
        "\n",
        "#Dados extraídos do boletim epidemiologico de Novembro de 2020 do ministério da saúde.\n",
        "boletim_nov2020 = '''ID UF Confirmados \"Porcentagem de Confirmados\" Óbitos \"Porcentagem de Óbitos\"\n",
        "1 Pará 5.327 64,5 5 71,4\n",
        "2 \"Rio de Janeiro\" 1.340 16,2 1 14,3\n",
        "3 \"São Paulo\" 825 10,0 1 14,3\n",
        "4 Paraná 377 4,6 0 0,0\n",
        "5 Amapá 115 1,4 0 0,0\n",
        "6 \"Santa Catarina\" 110 1,3 0 0,0\n",
        "7 \"Rio Grande do Sul\" 37 0,4 0 0,0\n",
        "8 Pernambuco 34 0,4 0 0,0\n",
        "9 \"Minas Gerais\" 21 0,3 0 0,0\n",
        "10 Maranhão 17 0,2 0 0,0\n",
        "11 \"Mato Grosso do Sul\" 8 0,1 0 0,0\n",
        "12 Goiás 8 0,1 0 0,0\n",
        "13 Sergipe 8 0,1 0 0,0\n",
        "14 Bahia 7 0,1 0 0,0\n",
        "15 Ceará 7 0,1 0 0,0\n",
        "16 Rondônia 6 0,1 0 0,0\n",
        "17 \"Distrito Federal\" 5 0,1 0 0,0\n",
        "18 Amazonas 4 0,0 0 0,0\n",
        "19 Alagoas 3 0,0 0 0,0\n",
        "20 \"Mato Grosso\" 1 0,0 0 0,0\n",
        "21 Tocantins 1 0,0 0 0,0\n",
        "Total 8.261 100,0 7 100,0'''\n",
        "\n"
      ],
      "execution_count": 2,
      "outputs": [
        {
          "output_type": "stream",
          "text": [
            "/usr/local/lib/python3.6/dist-packages/ipykernel_launcher.py:3: ParserWarning: Falling back to the 'python' engine because the 'c' engine does not support skipfooter; you can avoid this warning by specifying engine='python'.\n",
            "  This is separate from the ipykernel package so we can avoid doing imports until\n",
            "/usr/local/lib/python3.6/dist-packages/ipykernel_launcher.py:5: ParserWarning: Falling back to the 'python' engine because the 'c' engine does not support skipfooter; you can avoid this warning by specifying engine='python'.\n",
            "  \"\"\"\n",
            "/usr/local/lib/python3.6/dist-packages/ipykernel_launcher.py:7: ParserWarning: Falling back to the 'python' engine because the 'c' engine does not support skipfooter; you can avoid this warning by specifying engine='python'.\n",
            "  import sys\n",
            "/usr/local/lib/python3.6/dist-packages/ipykernel_launcher.py:9: ParserWarning: Falling back to the 'python' engine because the 'c' engine does not support skipfooter; you can avoid this warning by specifying engine='python'.\n",
            "  if __name__ == '__main__':\n",
            "/usr/local/lib/python3.6/dist-packages/ipykernel_launcher.py:11: ParserWarning: Falling back to the 'python' engine because the 'c' engine does not support skipfooter; you can avoid this warning by specifying engine='python'.\n",
            "  # This is added back by InteractiveShellApp.init_path()\n",
            "/usr/local/lib/python3.6/dist-packages/ipykernel_launcher.py:13: ParserWarning: Falling back to the 'python' engine because the 'c' engine does not support skipfooter; you can avoid this warning by specifying engine='python'.\n",
            "  del sys.path[0]\n"
          ],
          "name": "stderr"
        }
      ]
    },
    {
      "cell_type": "markdown",
      "metadata": {
        "id": "Zx-66TJPu9kB"
      },
      "source": [
        "Informações sobre os dados:\n",
        "- `cobertura_imuno_por_ano` foi retirado do [Programa de imunização nacional](http://tabnet.datasus.gov.br/cgi/tabcgi.exe?pni/cnv/cpniuf.def)\n",
        "\n",
        "- `casos_sarampo_regiao` foi retirado do [portal de arquivos da saúde](https://portalarquivos2.saude.gov.br/images/pdf/2018/abril/25/Casos-confirmados-sarampo.pdf) e precisou ser transcrito para o excel de forma manual pois o arquivo pdf continha um print de imagem da tabela, impossibilitando a extração por aqui.\n",
        "\n",
        "- `boetim_out2020` e `boletim_nov2020` foram retirados dos [boletins epidemiológicos do ministério da saúde](https://www.gov.br/saude/pt-br/assuntos/boletins-epidemiologicos-1/)"
      ]
    },
    {
      "cell_type": "code",
      "metadata": {
        "colab": {
          "base_uri": "https://localhost:8080/",
          "height": 232
        },
        "id": "tquI4kicupBm",
        "outputId": "9769ef2f-4a2a-4747-d583-8c2d93eca672"
      },
      "source": [
        "casos_sarampo_regiao.head()"
      ],
      "execution_count": 3,
      "outputs": [
        {
          "output_type": "execute_result",
          "data": {
            "text/html": [
              "<div>\n",
              "<style scoped>\n",
              "    .dataframe tbody tr th:only-of-type {\n",
              "        vertical-align: middle;\n",
              "    }\n",
              "\n",
              "    .dataframe tbody tr th {\n",
              "        vertical-align: top;\n",
              "    }\n",
              "\n",
              "    .dataframe thead th {\n",
              "        text-align: right;\n",
              "    }\n",
              "</style>\n",
              "<table border=\"1\" class=\"dataframe\">\n",
              "  <thead>\n",
              "    <tr style=\"text-align: right;\">\n",
              "      <th></th>\n",
              "      <th>regiao</th>\n",
              "      <th>1990</th>\n",
              "      <th>1991</th>\n",
              "      <th>1992</th>\n",
              "      <th>1993</th>\n",
              "      <th>1994</th>\n",
              "      <th>1995</th>\n",
              "      <th>1996</th>\n",
              "      <th>1997</th>\n",
              "      <th>1998</th>\n",
              "      <th>1999</th>\n",
              "      <th>2000</th>\n",
              "      <th>2001</th>\n",
              "      <th>2002</th>\n",
              "      <th>2003</th>\n",
              "      <th>2004</th>\n",
              "      <th>2005</th>\n",
              "      <th>2006</th>\n",
              "      <th>2007</th>\n",
              "      <th>2008</th>\n",
              "      <th>2009</th>\n",
              "      <th>2010</th>\n",
              "      <th>2011</th>\n",
              "      <th>2012</th>\n",
              "      <th>2013</th>\n",
              "      <th>2014</th>\n",
              "      <th>2015</th>\n",
              "      <th>2016</th>\n",
              "      <th>2017</th>\n",
              "      <th>2018</th>\n",
              "    </tr>\n",
              "  </thead>\n",
              "  <tbody>\n",
              "    <tr>\n",
              "      <th>0</th>\n",
              "      <td>norte</td>\n",
              "      <td>5396</td>\n",
              "      <td>4665</td>\n",
              "      <td>480</td>\n",
              "      <td>239</td>\n",
              "      <td>265</td>\n",
              "      <td>141</td>\n",
              "      <td>101</td>\n",
              "      <td>231</td>\n",
              "      <td>245</td>\n",
              "      <td>91</td>\n",
              "      <td>17</td>\n",
              "      <td>0</td>\n",
              "      <td>0</td>\n",
              "      <td>0</td>\n",
              "      <td>0</td>\n",
              "      <td>0</td>\n",
              "      <td>0</td>\n",
              "      <td>0</td>\n",
              "      <td>0</td>\n",
              "      <td>0</td>\n",
              "      <td>3</td>\n",
              "      <td>0</td>\n",
              "      <td>0</td>\n",
              "      <td>0</td>\n",
              "      <td>0</td>\n",
              "      <td>1</td>\n",
              "      <td>0</td>\n",
              "      <td>0</td>\n",
              "      <td>95</td>\n",
              "    </tr>\n",
              "    <tr>\n",
              "      <th>1</th>\n",
              "      <td>nordeste</td>\n",
              "      <td>13776</td>\n",
              "      <td>11364</td>\n",
              "      <td>2758</td>\n",
              "      <td>366</td>\n",
              "      <td>303</td>\n",
              "      <td>195</td>\n",
              "      <td>664</td>\n",
              "      <td>4547</td>\n",
              "      <td>607</td>\n",
              "      <td>369</td>\n",
              "      <td>0</td>\n",
              "      <td>0</td>\n",
              "      <td>0</td>\n",
              "      <td>0</td>\n",
              "      <td>0</td>\n",
              "      <td>0</td>\n",
              "      <td>57</td>\n",
              "      <td>0</td>\n",
              "      <td>0</td>\n",
              "      <td>0</td>\n",
              "      <td>57</td>\n",
              "      <td>2</td>\n",
              "      <td>1</td>\n",
              "      <td>210</td>\n",
              "      <td>866</td>\n",
              "      <td>211</td>\n",
              "      <td>0</td>\n",
              "      <td>0</td>\n",
              "      <td>0</td>\n",
              "    </tr>\n",
              "    <tr>\n",
              "      <th>2</th>\n",
              "      <td>sudeste</td>\n",
              "      <td>22202</td>\n",
              "      <td>10893</td>\n",
              "      <td>2635</td>\n",
              "      <td>1002</td>\n",
              "      <td>354</td>\n",
              "      <td>346</td>\n",
              "      <td>2083</td>\n",
              "      <td>45503</td>\n",
              "      <td>618</td>\n",
              "      <td>359</td>\n",
              "      <td>15</td>\n",
              "      <td>1</td>\n",
              "      <td>1</td>\n",
              "      <td>0</td>\n",
              "      <td>0</td>\n",
              "      <td>2</td>\n",
              "      <td>0</td>\n",
              "      <td>0</td>\n",
              "      <td>0</td>\n",
              "      <td>0</td>\n",
              "      <td>0</td>\n",
              "      <td>32</td>\n",
              "      <td>1</td>\n",
              "      <td>8</td>\n",
              "      <td>10</td>\n",
              "      <td>2</td>\n",
              "      <td>0</td>\n",
              "      <td>0</td>\n",
              "      <td>0</td>\n",
              "    </tr>\n",
              "    <tr>\n",
              "      <th>3</th>\n",
              "      <td>sul</td>\n",
              "      <td>6599</td>\n",
              "      <td>11140</td>\n",
              "      <td>1058</td>\n",
              "      <td>558</td>\n",
              "      <td>227</td>\n",
              "      <td>253</td>\n",
              "      <td>270</td>\n",
              "      <td>1770</td>\n",
              "      <td>1046</td>\n",
              "      <td>39</td>\n",
              "      <td>3</td>\n",
              "      <td>0</td>\n",
              "      <td>0</td>\n",
              "      <td>2</td>\n",
              "      <td>0</td>\n",
              "      <td>4</td>\n",
              "      <td>0</td>\n",
              "      <td>0</td>\n",
              "      <td>0</td>\n",
              "      <td>0</td>\n",
              "      <td>8</td>\n",
              "      <td>7</td>\n",
              "      <td>0</td>\n",
              "      <td>1</td>\n",
              "      <td>0</td>\n",
              "      <td>0</td>\n",
              "      <td>0</td>\n",
              "      <td>0</td>\n",
              "      <td>1</td>\n",
              "    </tr>\n",
              "    <tr>\n",
              "      <th>4</th>\n",
              "      <td>centro-oeste</td>\n",
              "      <td>13498</td>\n",
              "      <td>4470</td>\n",
              "      <td>766</td>\n",
              "      <td>231</td>\n",
              "      <td>113</td>\n",
              "      <td>37</td>\n",
              "      <td>208</td>\n",
              "      <td>1613</td>\n",
              "      <td>265</td>\n",
              "      <td>50</td>\n",
              "      <td>1</td>\n",
              "      <td>0</td>\n",
              "      <td>0</td>\n",
              "      <td>0</td>\n",
              "      <td>0</td>\n",
              "      <td>0</td>\n",
              "      <td>0</td>\n",
              "      <td>0</td>\n",
              "      <td>0</td>\n",
              "      <td>0</td>\n",
              "      <td>0</td>\n",
              "      <td>2</td>\n",
              "      <td>0</td>\n",
              "      <td>1</td>\n",
              "      <td>0</td>\n",
              "      <td>0</td>\n",
              "      <td>0</td>\n",
              "      <td>0</td>\n",
              "      <td>0</td>\n",
              "    </tr>\n",
              "  </tbody>\n",
              "</table>\n",
              "</div>"
            ],
            "text/plain": [
              "         regiao   1990   1991  1992  1993  ...  2014  2015  2016  2017  2018\n",
              "0         norte   5396   4665   480   239  ...     0     1     0     0    95\n",
              "1      nordeste  13776  11364  2758   366  ...   866   211     0     0     0\n",
              "2       sudeste  22202  10893  2635  1002  ...    10     2     0     0     0\n",
              "3           sul   6599  11140  1058   558  ...     0     0     0     0     1\n",
              "4  centro-oeste  13498   4470   766   231  ...     0     0     0     0     0\n",
              "\n",
              "[5 rows x 30 columns]"
            ]
          },
          "metadata": {
            "tags": []
          },
          "execution_count": 3
        }
      ]
    },
    {
      "cell_type": "code",
      "metadata": {
        "colab": {
          "base_uri": "https://localhost:8080/",
          "height": 299
        },
        "id": "9OQcLUu8myT7",
        "outputId": "63e6c262-201b-4bad-a98a-4f609f85c9a1"
      },
      "source": [
        "cobertura_imuno_por_ano.head()"
      ],
      "execution_count": 4,
      "outputs": [
        {
          "output_type": "execute_result",
          "data": {
            "text/html": [
              "<div>\n",
              "<style scoped>\n",
              "    .dataframe tbody tr th:only-of-type {\n",
              "        vertical-align: middle;\n",
              "    }\n",
              "\n",
              "    .dataframe tbody tr th {\n",
              "        vertical-align: top;\n",
              "    }\n",
              "\n",
              "    .dataframe thead th {\n",
              "        text-align: right;\n",
              "    }\n",
              "</style>\n",
              "<table border=\"1\" class=\"dataframe\">\n",
              "  <thead>\n",
              "    <tr style=\"text-align: right;\">\n",
              "      <th></th>\n",
              "      <th>Ano</th>\n",
              "      <th>072 BCG</th>\n",
              "      <th>099 Hepatite B  em crianças até 30 dias</th>\n",
              "      <th>061 Rotavírus Humano</th>\n",
              "      <th>053 Meningococo C</th>\n",
              "      <th>073 Hepatite B</th>\n",
              "      <th>080 Penta</th>\n",
              "      <th>012 Pneumocócica</th>\n",
              "      <th>074 Poliomielite</th>\n",
              "      <th>100 Poliomielite 4 anos</th>\n",
              "      <th>006 Febre Amarela</th>\n",
              "      <th>096 Hepatite A</th>\n",
              "      <th>091 Pneumocócica(1º ref)</th>\n",
              "      <th>092 Meningococo C (1º ref)</th>\n",
              "      <th>093 Poliomielite(1º ref)</th>\n",
              "      <th>021 Tríplice Viral  D1</th>\n",
              "      <th>098 Tríplice Viral  D2</th>\n",
              "      <th>097 Tetra Viral(SRC+VZ)</th>\n",
              "      <th>075 DTP</th>\n",
              "      <th>102 DTP REF (4 e 6 anos)</th>\n",
              "      <th>095 Tríplice Bacteriana(DTP)(1º ref)</th>\n",
              "      <th>018 Sarampo</th>\n",
              "      <th>009 Haemophilus influenzae b</th>\n",
              "      <th>094 Dupla adulto e tríplice acelular gestante</th>\n",
              "      <th>003 dTpa gestante</th>\n",
              "      <th>Total</th>\n",
              "    </tr>\n",
              "  </thead>\n",
              "  <tbody>\n",
              "    <tr>\n",
              "      <th>0</th>\n",
              "      <td>1994</td>\n",
              "      <td>88.29</td>\n",
              "      <td>NaN</td>\n",
              "      <td>NaN</td>\n",
              "      <td>NaN</td>\n",
              "      <td>8.85</td>\n",
              "      <td>NaN</td>\n",
              "      <td>NaN</td>\n",
              "      <td>58.23</td>\n",
              "      <td>NaN</td>\n",
              "      <td>5.27</td>\n",
              "      <td>NaN</td>\n",
              "      <td>NaN</td>\n",
              "      <td>NaN</td>\n",
              "      <td>NaN</td>\n",
              "      <td>NaN</td>\n",
              "      <td>NaN</td>\n",
              "      <td>NaN</td>\n",
              "      <td>64.75</td>\n",
              "      <td>NaN</td>\n",
              "      <td>NaN</td>\n",
              "      <td>71.35</td>\n",
              "      <td>NaN</td>\n",
              "      <td>NaN</td>\n",
              "      <td>NaN</td>\n",
              "      <td>49.46</td>\n",
              "    </tr>\n",
              "    <tr>\n",
              "      <th>1</th>\n",
              "      <td>1995</td>\n",
              "      <td>103.62</td>\n",
              "      <td>NaN</td>\n",
              "      <td>NaN</td>\n",
              "      <td>NaN</td>\n",
              "      <td>10.50</td>\n",
              "      <td>NaN</td>\n",
              "      <td>NaN</td>\n",
              "      <td>77.82</td>\n",
              "      <td>NaN</td>\n",
              "      <td>4.81</td>\n",
              "      <td>NaN</td>\n",
              "      <td>NaN</td>\n",
              "      <td>NaN</td>\n",
              "      <td>NaN</td>\n",
              "      <td>NaN</td>\n",
              "      <td>NaN</td>\n",
              "      <td>NaN</td>\n",
              "      <td>80.53</td>\n",
              "      <td>NaN</td>\n",
              "      <td>NaN</td>\n",
              "      <td>86.85</td>\n",
              "      <td>0.00</td>\n",
              "      <td>NaN</td>\n",
              "      <td>NaN</td>\n",
              "      <td>52.02</td>\n",
              "    </tr>\n",
              "    <tr>\n",
              "      <th>2</th>\n",
              "      <td>1996</td>\n",
              "      <td>104.19</td>\n",
              "      <td>NaN</td>\n",
              "      <td>NaN</td>\n",
              "      <td>NaN</td>\n",
              "      <td>16.50</td>\n",
              "      <td>NaN</td>\n",
              "      <td>NaN</td>\n",
              "      <td>80.85</td>\n",
              "      <td>NaN</td>\n",
              "      <td>5.65</td>\n",
              "      <td>NaN</td>\n",
              "      <td>NaN</td>\n",
              "      <td>NaN</td>\n",
              "      <td>NaN</td>\n",
              "      <td>NaN</td>\n",
              "      <td>NaN</td>\n",
              "      <td>NaN</td>\n",
              "      <td>78.24</td>\n",
              "      <td>NaN</td>\n",
              "      <td>NaN</td>\n",
              "      <td>80.39</td>\n",
              "      <td>0.01</td>\n",
              "      <td>NaN</td>\n",
              "      <td>NaN</td>\n",
              "      <td>52.26</td>\n",
              "    </tr>\n",
              "    <tr>\n",
              "      <th>3</th>\n",
              "      <td>1997</td>\n",
              "      <td>117.12</td>\n",
              "      <td>NaN</td>\n",
              "      <td>NaN</td>\n",
              "      <td>NaN</td>\n",
              "      <td>5.79</td>\n",
              "      <td>NaN</td>\n",
              "      <td>NaN</td>\n",
              "      <td>89.27</td>\n",
              "      <td>NaN</td>\n",
              "      <td>7.84</td>\n",
              "      <td>NaN</td>\n",
              "      <td>NaN</td>\n",
              "      <td>NaN</td>\n",
              "      <td>NaN</td>\n",
              "      <td>NaN</td>\n",
              "      <td>NaN</td>\n",
              "      <td>NaN</td>\n",
              "      <td>78.50</td>\n",
              "      <td>NaN</td>\n",
              "      <td>NaN</td>\n",
              "      <td>108.61</td>\n",
              "      <td>0.03</td>\n",
              "      <td>NaN</td>\n",
              "      <td>NaN</td>\n",
              "      <td>58.17</td>\n",
              "    </tr>\n",
              "    <tr>\n",
              "      <th>4</th>\n",
              "      <td>1998</td>\n",
              "      <td>111.61</td>\n",
              "      <td>NaN</td>\n",
              "      <td>NaN</td>\n",
              "      <td>NaN</td>\n",
              "      <td>12.63</td>\n",
              "      <td>NaN</td>\n",
              "      <td>NaN</td>\n",
              "      <td>95.30</td>\n",
              "      <td>NaN</td>\n",
              "      <td>18.49</td>\n",
              "      <td>NaN</td>\n",
              "      <td>NaN</td>\n",
              "      <td>NaN</td>\n",
              "      <td>NaN</td>\n",
              "      <td>NaN</td>\n",
              "      <td>NaN</td>\n",
              "      <td>NaN</td>\n",
              "      <td>92.97</td>\n",
              "      <td>NaN</td>\n",
              "      <td>NaN</td>\n",
              "      <td>95.26</td>\n",
              "      <td>0.84</td>\n",
              "      <td>NaN</td>\n",
              "      <td>NaN</td>\n",
              "      <td>61.01</td>\n",
              "    </tr>\n",
              "  </tbody>\n",
              "</table>\n",
              "</div>"
            ],
            "text/plain": [
              "    Ano  072 BCG  ... 003 dTpa gestante  Total\n",
              "0  1994    88.29  ...               NaN  49.46\n",
              "1  1995   103.62  ...               NaN  52.02\n",
              "2  1996   104.19  ...               NaN  52.26\n",
              "3  1997   117.12  ...               NaN  58.17\n",
              "4  1998   111.61  ...               NaN  61.01\n",
              "\n",
              "[5 rows x 26 columns]"
            ]
          },
          "metadata": {
            "tags": []
          },
          "execution_count": 4
        }
      ]
    },
    {
      "cell_type": "code",
      "metadata": {
        "colab": {
          "base_uri": "https://localhost:8080/",
          "height": 195
        },
        "id": "ZtkSXJap41Mw",
        "outputId": "316d8533-40a7-428d-d585-0c681e666756"
      },
      "source": [
        "boletim_out2020_io = StringIO(boletim_out2020)\n",
        "sarampo_out2020 = pd.read_csv(boletim_out2020_io,encoding='ISO-8859-1', sep=' ', decimal=',')\n",
        "sarampo_out2020['Óbitos'] = sarampo_out2020['Óbitos'].astype(int)\n",
        "sarampo_out2020.head()"
      ],
      "execution_count": 5,
      "outputs": [
        {
          "output_type": "execute_result",
          "data": {
            "text/html": [
              "<div>\n",
              "<style scoped>\n",
              "    .dataframe tbody tr th:only-of-type {\n",
              "        vertical-align: middle;\n",
              "    }\n",
              "\n",
              "    .dataframe tbody tr th {\n",
              "        vertical-align: top;\n",
              "    }\n",
              "\n",
              "    .dataframe thead th {\n",
              "        text-align: right;\n",
              "    }\n",
              "</style>\n",
              "<table border=\"1\" class=\"dataframe\">\n",
              "  <thead>\n",
              "    <tr style=\"text-align: right;\">\n",
              "      <th></th>\n",
              "      <th>ID</th>\n",
              "      <th>UF</th>\n",
              "      <th>Confirmados</th>\n",
              "      <th>Porcentagem de Confirmados</th>\n",
              "      <th>Óbitos</th>\n",
              "      <th>Porcentagem de Óbitos</th>\n",
              "    </tr>\n",
              "  </thead>\n",
              "  <tbody>\n",
              "    <tr>\n",
              "      <th>0</th>\n",
              "      <td>1</td>\n",
              "      <td>Pará</td>\n",
              "      <td>5.287</td>\n",
              "      <td>64.5</td>\n",
              "      <td>5</td>\n",
              "      <td>71.4</td>\n",
              "    </tr>\n",
              "    <tr>\n",
              "      <th>1</th>\n",
              "      <td>2</td>\n",
              "      <td>Rio de Janeiro</td>\n",
              "      <td>1.333</td>\n",
              "      <td>16.3</td>\n",
              "      <td>1</td>\n",
              "      <td>14.3</td>\n",
              "    </tr>\n",
              "    <tr>\n",
              "      <th>2</th>\n",
              "      <td>3</td>\n",
              "      <td>São Paulo</td>\n",
              "      <td>822</td>\n",
              "      <td>10.0</td>\n",
              "      <td>1</td>\n",
              "      <td>14.3</td>\n",
              "    </tr>\n",
              "    <tr>\n",
              "      <th>3</th>\n",
              "      <td>4</td>\n",
              "      <td>Paraná</td>\n",
              "      <td>377</td>\n",
              "      <td>4.6</td>\n",
              "      <td>0</td>\n",
              "      <td>0.0</td>\n",
              "    </tr>\n",
              "    <tr>\n",
              "      <th>4</th>\n",
              "      <td>5</td>\n",
              "      <td>Santa Catarina</td>\n",
              "      <td>110</td>\n",
              "      <td>1.3</td>\n",
              "      <td>0</td>\n",
              "      <td>0.0</td>\n",
              "    </tr>\n",
              "  </tbody>\n",
              "</table>\n",
              "</div>"
            ],
            "text/plain": [
              "  ID              UF  ... Óbitos  Porcentagem de Óbitos\n",
              "0  1            Pará  ...      5                   71.4\n",
              "1  2  Rio de Janeiro  ...      1                   14.3\n",
              "2  3       São Paulo  ...      1                   14.3\n",
              "3  4          Paraná  ...      0                    0.0\n",
              "4  5  Santa Catarina  ...      0                    0.0\n",
              "\n",
              "[5 rows x 6 columns]"
            ]
          },
          "metadata": {
            "tags": []
          },
          "execution_count": 5
        }
      ]
    },
    {
      "cell_type": "code",
      "metadata": {
        "colab": {
          "base_uri": "https://localhost:8080/",
          "height": 195
        },
        "id": "9AXCl6tEKETX",
        "outputId": "adf61ec7-f3a3-49b4-a3bf-0efee842ec63"
      },
      "source": [
        "boletim_nov2020_io = StringIO(boletim_nov2020)\n",
        "sarampo_nov2020 = pd.read_csv(boletim_nov2020_io,encoding='ISO-8859-1', sep=' ',decimal=',')\n",
        "sarampo_nov2020['Óbitos'] = sarampo_nov2020['Óbitos'].astype(int)\n",
        "sarampo_nov2020.head()"
      ],
      "execution_count": 6,
      "outputs": [
        {
          "output_type": "execute_result",
          "data": {
            "text/html": [
              "<div>\n",
              "<style scoped>\n",
              "    .dataframe tbody tr th:only-of-type {\n",
              "        vertical-align: middle;\n",
              "    }\n",
              "\n",
              "    .dataframe tbody tr th {\n",
              "        vertical-align: top;\n",
              "    }\n",
              "\n",
              "    .dataframe thead th {\n",
              "        text-align: right;\n",
              "    }\n",
              "</style>\n",
              "<table border=\"1\" class=\"dataframe\">\n",
              "  <thead>\n",
              "    <tr style=\"text-align: right;\">\n",
              "      <th></th>\n",
              "      <th>ID</th>\n",
              "      <th>UF</th>\n",
              "      <th>Confirmados</th>\n",
              "      <th>Porcentagem de Confirmados</th>\n",
              "      <th>Óbitos</th>\n",
              "      <th>Porcentagem de Óbitos</th>\n",
              "    </tr>\n",
              "  </thead>\n",
              "  <tbody>\n",
              "    <tr>\n",
              "      <th>0</th>\n",
              "      <td>1</td>\n",
              "      <td>Pará</td>\n",
              "      <td>5.327</td>\n",
              "      <td>64.5</td>\n",
              "      <td>5</td>\n",
              "      <td>71.4</td>\n",
              "    </tr>\n",
              "    <tr>\n",
              "      <th>1</th>\n",
              "      <td>2</td>\n",
              "      <td>Rio de Janeiro</td>\n",
              "      <td>1.340</td>\n",
              "      <td>16.2</td>\n",
              "      <td>1</td>\n",
              "      <td>14.3</td>\n",
              "    </tr>\n",
              "    <tr>\n",
              "      <th>2</th>\n",
              "      <td>3</td>\n",
              "      <td>São Paulo</td>\n",
              "      <td>825</td>\n",
              "      <td>10.0</td>\n",
              "      <td>1</td>\n",
              "      <td>14.3</td>\n",
              "    </tr>\n",
              "    <tr>\n",
              "      <th>3</th>\n",
              "      <td>4</td>\n",
              "      <td>Paraná</td>\n",
              "      <td>377</td>\n",
              "      <td>4.6</td>\n",
              "      <td>0</td>\n",
              "      <td>0.0</td>\n",
              "    </tr>\n",
              "    <tr>\n",
              "      <th>4</th>\n",
              "      <td>5</td>\n",
              "      <td>Amapá</td>\n",
              "      <td>115</td>\n",
              "      <td>1.4</td>\n",
              "      <td>0</td>\n",
              "      <td>0.0</td>\n",
              "    </tr>\n",
              "  </tbody>\n",
              "</table>\n",
              "</div>"
            ],
            "text/plain": [
              "  ID              UF  ... Óbitos  Porcentagem de Óbitos\n",
              "0  1            Pará  ...      5                   71.4\n",
              "1  2  Rio de Janeiro  ...      1                   14.3\n",
              "2  3       São Paulo  ...      1                   14.3\n",
              "3  4          Paraná  ...      0                    0.0\n",
              "4  5           Amapá  ...      0                    0.0\n",
              "\n",
              "[5 rows x 6 columns]"
            ]
          },
          "metadata": {
            "tags": []
          },
          "execution_count": 6
        }
      ]
    },
    {
      "cell_type": "markdown",
      "metadata": {
        "id": "Lsn5BcN_cZny"
      },
      "source": [
        "##Fontes:\n",
        "\n",
        "[Lancet](https://www.thelancet.com/journals/lancet/article/PIIS0140-6736(20)31558-0/fulltext)\n",
        "\n",
        "[Tabnet](http://tabnet.datasus.gov.br/cgi/tabcgi.exe?pni/cnv/cpniuf.def)\n",
        "\n",
        "[Boletim epidemiologico agosto 2020](https://antigo.saude.gov.br/images/pdf/2020/August/31/Boletim-epidemiologico-SVS-34.pdf)\n",
        "\n",
        "[Boletim epidemiologico novembro 2020](https://www.gov.br/saude/pt-br/media/pdf/2020/novembro/03/boletim_epidemiologico_svs_43.pdf)\n",
        "\n",
        "[Organização Mundial da Saúde](https://www.who.int)\n",
        "\n",
        "[Data World Bank](https://data.worldbank.org/) \n",
        "\n",
        "[Casos de Sarampo no Brasil](https://portalarquivos2.saude.gov.br/images/pdf/2018/abril/25/Casos-confirmados-sarampo.pdf)\n",
        "\n",
        "Todos os dados foram disponibilizados em meu próprio [github](http://github.com/AdamStamm/bootcamp_alura)\n"
      ]
    },
    {
      "cell_type": "markdown",
      "metadata": {
        "id": "C61mUhDLHVFw"
      },
      "source": [
        "#Vacinas: Uma história a ser contada:\n",
        "\n",
        "*A ciência não tem pátria*, Louis Pasteur.\n",
        "\n",
        "Hoje em dia não é difícil imaginar o quão perigoso é um mundo sem vacinas, afinal estamos em pleno combate ao coronavirus (Sars-CoV-2), agora imagine o quão perigoso era o mundo **sem nenhuma vacina**.\n",
        "\n",
        "O surgimento das vacinas se deu em um momento histórico de combate a varíola, uma das doenças mais temidas no mundo no século XVIII, com uma taxa de mortalidade em torno de 10% a 40%. ([https://www.centralnacionalunimed.com.br/](https://www.centralnacionalunimed.com.br/documents/2520476/2523487/folder_cobertura_vacinal__alta+sem+marca.pdf/c18e23e3-0c27-4d09-87f8-b81bd5bd9474)).\n",
        "\n",
        "De forma rudimentar, a **China**, foi possívelmente o primeiro país a descobrir uma \"forma\" de vacinação, na realidade, chamada de *variolação*. O método tratava de introduzir na pele de pessoas saudáveis um líquido extraído  de crostas de varíola de um paciente infectado. Esse método foi levado para a Europa Ocidental, onde então, apesar de vários casos de óbitos relacionados a varíola, começou a ser utilizado na Inglaterra e nos Estados Unidos. [(FEIJÓ & SÁFADI, 2006)](https://www.scielo.br/scielo.php?script=sci_arttext&pid=S0021-75572006000400001)\n",
        "\n",
        "Em 1798, o médico britânico Edward Jenner, publicou suas primeiras investigações sobre o tema no trabalho *Variloae Vaccinae*. Ele observou que camponeses desenvolviam uma certa imunidade conhecida por *vacinnia*, devido ao contato com vacas infectadas com varíola bovina *(cow pox)*, isso possibilitou que as primeiras técnicas de imunização fossem desenvolvidas, isso possibilitou que, mais tarde em 1870, Louis Pasteur, químico e cientista francês, e Robert Koch, médico, patologista e bacteriologista alemão, estabelecessem a relação de causa-efeito entre a presença de microorganismo patogênicos e doenças. A fim de homenagear Jenner, Pasteur deu o nome de vacina. [(FEIJÓ & SÁFADI,2006)](https://www.scielo.br/scielo.php?script=sci_arttext&pid=S0021-75572006000400001)\n",
        "\n",
        "Em 1885, Pasteur desenvolve a vacina contra a raiva humana.\n",
        "\n",
        "<center>\n",
        "<img src='https://exame.com/wp-content/uploads/2019/09/gettyimages-157204335.gif?quality=70&strip=info&resize=680,453'>\n",
        "</center>"
      ]
    },
    {
      "cell_type": "markdown",
      "metadata": {
        "id": "73xBlopALdSJ"
      },
      "source": [
        "##Vacinas: O que são?\n",
        "\n",
        "Produzidas com bactérias, vírus, e até mesmo com partes deles (fragmentadas), atenuados ou inativados(enfraquecidos), também pode ser produzida por uma substância química semelhante a um agente infeccioso. A vacina é reconhecida pelo sistema imunológico do individuo que a recebeu produzindo uma resposta que o protege da doença. A vacina, portanto, tem a finalidade de induzir o sistema imunologico do ser humano a reagir como se realmente tivesse sido infectado. [(VERMELHO, 2011)](http://redeglobo.globo.com/globociencia/noticia/2011/11/artigo-louis-pasteur-foi-determinante-para-criacao-das-primeiras-vacinas.html)\n",
        "\n",
        "Além das formas de vacinas acima, e desde 1796 quando Edward Jenner inoculou um garoto de oito anos com a varíola bovina criando a primeira vacina, hoje, durante a pandemia de Covid está ocorrendo uma revolução na forma de produção das vacinas, com vacinas feitas por mRNA, ou RNA mensageiro. [(CARDOSO, 2020)](https://tecnoblog.net/meiobit/432695/como-funciona-a-vacina-de-mrna-a-mais-promissora-contra-o-covid-19/)\n",
        "\n",
        "*“Estamos diante de fatos inusitados e uma experiência nova, extraordinária. Em nossos melhores sonhos, seria impossível imaginar que, do ponto de vista de vacinas, conseguiríamos andar tão rápido e ir tão longe\"* [(FORATO, 2020)](https://canaltech.com.br/saude/vacinas-de-mrna-contra-covid-o-que-sao-e-por-que-vao-revolucionar-a-ciencia-174922/)\n",
        "\n",
        "O DNA é uma molécula que armazena todas as nossas informações genéticas, inclusive, sobre como as células devem produzir proteínas, o mRNA, é responsável por copiar parte desse código genético e traduzi-lo nessas proteínas. \"Ele é um instrumento que a célula tem para pegar um determinado código genético e enviar para estrutura que produz novas proteínas. Então, esse mensageiro diz: ‘Produza proteínas deste modo’\". [(FORATO, 2020)](https://canaltech.com.br/saude/vacinas-de-mrna-contra-covid-o-que-sao-e-por-que-vao-revolucionar-a-ciencia-174922/), ou seja, no lugar de injetar um patógeno inteiro ou partes deste no corpo de um paciente, essas vacinas injetam um trecho do código genético do vírus do qual contém as instruções para produzir uma proteína que seja reconhecível pelo nosso sistema imunológico, na prática, no lugar de injetar a proteína pronta, essas vacinas injetam a \"receita\" para que elas sejam produzidas *pelo nosso próprio organismo*. [(CARBINATTO, 2020)](https://super.abril.com.br/saude/como-funcionam-4-vacinas-que-estao-sendo-testadas-contra-o-coronavirus/).\n",
        "\n",
        "<center>\n",
        "<img src=\"https://www.news-medical.net/image.axd?picture=2018%2f11%2fBy_Designua.jpg&ts=20181112091027&ri=673\">\n",
        "</center>\n",
        "\n",
        "\n"
      ]
    },
    {
      "cell_type": "markdown",
      "metadata": {
        "id": "1L3K8RCxWtLj"
      },
      "source": [
        "#A história do Sarampo no Brasil:\n",
        "\n",
        "Em 1968, o sarampo, passou a ser uma doença de notificação compulsória. Causa de morbidades e mortalidades infantis, principalmente em menores de 1 ano, a doença causava epidemias a cada 2 ou 3 anos, mesmo com a vacina tendo sido introduzida em 1960, sua utilização pública foi o resultado de alguns governos estaduais que importavam a vacina no mercado internacional, entretanto, de modo descontínuo. \n",
        "\n",
        "O Programa Nacional de Imunizações - PNI, criado em 1973 com o objetivo de organizar, implementar e avaliar as ações de imunização em todo o país. No mesmo ano e no ano seguinte foram realizadas campanhas de vacinação em áreas urbanas de diversos estados, essa forma de atuação logo foi substituida pela valorização dos serviços de rotina e expansão dos serviços básicos de saúde.\n",
        "\n",
        "Na década de 80, por dificuldades em se estabelecer as coberturas vacinais mínimas para o controle de doenças, foram realizadas campanhas em locais ondem existia uma baixa cobertura.\n",
        "\n",
        "1986 foi o ano em que ocorreu a maior epidemia da década, sendo notificados 129.942 casos, o que representou uma incidência de sarampo de 97.7 a cada 100.000 habitantes. [(DOMINGUES et.al., 1997)](http://scielo.iec.gov.br/scielo.php?script=sci_arttext&pid=S0104-16731997000100002#:~:text=O%20sarampo%20passou%20a%20ser,ou%203%20anos2%2C3.)\n",
        "\n",
        "Experiências adquiridas em campanhas mundiais de erradicação da Varíola e do Poliovírus Selvagem Autócne nas Américas, motivaram a aplicação de estratégias de controle e de vigilância epidemiológica das doenças evitáveis por imunização. Além disso, ocorreram algumas campanhas bem sucedidas de controle e até mesmo de eliminação do sarampo em locais como Cuba, Caribe e no próprio estado de São Paulo, o que evidenciou a possibilidade de controle e eliminação desse. \n",
        "\n",
        "Em 1992, visando atingir essa meta, o Brasil definiu a extinção da doença como prioridade, estabelecendo o Plano Nacional de Eliminação do Sarampo que tinha algumas estratégias a seguir:\n",
        "\n",
        "- Vacinação da população entre 9 meses e 14 anos de idade, independente do histórico de vacinação e de doença.\n",
        "\n",
        "- Manutenção de, no mínimo, 95% de cobertura vacinal para os menores de 1 ano de idade.\n",
        "\n",
        "- Campanhas de *\"follow-up\"* entre 3 e 5 anos.\n",
        "\n",
        "- Vigilância epidemiológica intensiva para os casos de suspeita.\n",
        "\n",
        "- Diagnóstico laboratorial etiológico de todo caso suspeito notificado.\n",
        "\n",
        "- Capacitação de pessoal para o desenvolvimento das atividades do plano em nível nacional.\n",
        "\n",
        "- Campanhas de divulgação, com a finalidade de sensibilizar a população em geral além da classe política e dos profissionais de saúde.\n",
        "\n",
        "O impacto dessas ações foi imediato, com o país obtendo uma redução de 81% no número de casos, contabilizados nos anos de 1991 e 1992, entretanto, após esses anos apenas 32% dos municípios brasileiros, em média, conseguiram atingir a cobertura satisfatória para controle de sarampo entre os menores de 1 ano de idade. Portanto, o segundo ponto da estratégia não estava tendo êxito.\n",
        "\n",
        "Nos anos seguintes, apesar da cobertura vacinal de igual ou maior de 95% estar sendo atingida na maioria do país, aconteceu uma importante diminuição no número de casos confirmados por sarampo, e por consequência, na letalidade.\n",
        "\n",
        "Em setembro de 1994, durante a solenidade de entrega do certificado de erradicação da Poliomelite nas Américas, foi decidido definir uma meta para eliminação do sarampo no hemisfério ocidental até o ano de 2000, o Ministério da Saúde brasileiro também assumiu essa meta.[(DOMINGUES et.al., 1997)](http://scielo.iec.gov.br/scielo.php?script=sci_arttext&pid=S0104-16731997000100002#:~:text=O%20sarampo%20passou%20a%20ser,ou%203%20anos2%2C3.)\n",
        "\n",
        "O último caso autócne de Sarampo no país foi confirmado em 2000 e em 2008 foi realizada uma megaoperação contra a rubéola onde foi criada uma comissão para acompanhar a eliminação do sarampo e da rubéola. [(DOMINGUES, 2013)](http://www.blog.saude.gov.br/index.php/servicos/32998-decadas-de-1990-e-2000-reforcam-sucesso-do-programa-nacional-de-imunizacoes)\n",
        "\n",
        "Em 2015 foi registrado um último caso de Sarampo no Brasil, o que fez com que o país recebesse em 2016, pela Organização Pan-Americana de saúde, o certificado de eliminação do sarampo, infelizmente, isso durou pouco tempo, em 2018 o país voltou a registrar casos da doença o que fez com que o país perdesse o certificado em fevereiro de 2019. [(MENEZES, 2019)](https://www.aosfatos.org/noticias/desenhamos-fatos-sobre-o-surto-de-sarampo-no-brasil/)\n",
        "\n",
        "\n",
        "\n",
        "\n"
      ]
    },
    {
      "cell_type": "markdown",
      "metadata": {
        "id": "vGw-ncAa6eFf"
      },
      "source": [
        "Abaixo temos a tabela de casos de sarampo registrados de 1990 a 2018"
      ]
    },
    {
      "cell_type": "code",
      "metadata": {
        "colab": {
          "base_uri": "https://localhost:8080/",
          "height": 232
        },
        "id": "ExzHi34wxh_S",
        "outputId": "2ff441bb-de2e-4d34-d9cf-f827f62f7492"
      },
      "source": [
        "casos_sarampo_regiao"
      ],
      "execution_count": 7,
      "outputs": [
        {
          "output_type": "execute_result",
          "data": {
            "text/html": [
              "<div>\n",
              "<style scoped>\n",
              "    .dataframe tbody tr th:only-of-type {\n",
              "        vertical-align: middle;\n",
              "    }\n",
              "\n",
              "    .dataframe tbody tr th {\n",
              "        vertical-align: top;\n",
              "    }\n",
              "\n",
              "    .dataframe thead th {\n",
              "        text-align: right;\n",
              "    }\n",
              "</style>\n",
              "<table border=\"1\" class=\"dataframe\">\n",
              "  <thead>\n",
              "    <tr style=\"text-align: right;\">\n",
              "      <th></th>\n",
              "      <th>regiao</th>\n",
              "      <th>1990</th>\n",
              "      <th>1991</th>\n",
              "      <th>1992</th>\n",
              "      <th>1993</th>\n",
              "      <th>1994</th>\n",
              "      <th>1995</th>\n",
              "      <th>1996</th>\n",
              "      <th>1997</th>\n",
              "      <th>1998</th>\n",
              "      <th>1999</th>\n",
              "      <th>2000</th>\n",
              "      <th>2001</th>\n",
              "      <th>2002</th>\n",
              "      <th>2003</th>\n",
              "      <th>2004</th>\n",
              "      <th>2005</th>\n",
              "      <th>2006</th>\n",
              "      <th>2007</th>\n",
              "      <th>2008</th>\n",
              "      <th>2009</th>\n",
              "      <th>2010</th>\n",
              "      <th>2011</th>\n",
              "      <th>2012</th>\n",
              "      <th>2013</th>\n",
              "      <th>2014</th>\n",
              "      <th>2015</th>\n",
              "      <th>2016</th>\n",
              "      <th>2017</th>\n",
              "      <th>2018</th>\n",
              "    </tr>\n",
              "  </thead>\n",
              "  <tbody>\n",
              "    <tr>\n",
              "      <th>0</th>\n",
              "      <td>norte</td>\n",
              "      <td>5396</td>\n",
              "      <td>4665</td>\n",
              "      <td>480</td>\n",
              "      <td>239</td>\n",
              "      <td>265</td>\n",
              "      <td>141</td>\n",
              "      <td>101</td>\n",
              "      <td>231</td>\n",
              "      <td>245</td>\n",
              "      <td>91</td>\n",
              "      <td>17</td>\n",
              "      <td>0</td>\n",
              "      <td>0</td>\n",
              "      <td>0</td>\n",
              "      <td>0</td>\n",
              "      <td>0</td>\n",
              "      <td>0</td>\n",
              "      <td>0</td>\n",
              "      <td>0</td>\n",
              "      <td>0</td>\n",
              "      <td>3</td>\n",
              "      <td>0</td>\n",
              "      <td>0</td>\n",
              "      <td>0</td>\n",
              "      <td>0</td>\n",
              "      <td>1</td>\n",
              "      <td>0</td>\n",
              "      <td>0</td>\n",
              "      <td>95</td>\n",
              "    </tr>\n",
              "    <tr>\n",
              "      <th>1</th>\n",
              "      <td>nordeste</td>\n",
              "      <td>13776</td>\n",
              "      <td>11364</td>\n",
              "      <td>2758</td>\n",
              "      <td>366</td>\n",
              "      <td>303</td>\n",
              "      <td>195</td>\n",
              "      <td>664</td>\n",
              "      <td>4547</td>\n",
              "      <td>607</td>\n",
              "      <td>369</td>\n",
              "      <td>0</td>\n",
              "      <td>0</td>\n",
              "      <td>0</td>\n",
              "      <td>0</td>\n",
              "      <td>0</td>\n",
              "      <td>0</td>\n",
              "      <td>57</td>\n",
              "      <td>0</td>\n",
              "      <td>0</td>\n",
              "      <td>0</td>\n",
              "      <td>57</td>\n",
              "      <td>2</td>\n",
              "      <td>1</td>\n",
              "      <td>210</td>\n",
              "      <td>866</td>\n",
              "      <td>211</td>\n",
              "      <td>0</td>\n",
              "      <td>0</td>\n",
              "      <td>0</td>\n",
              "    </tr>\n",
              "    <tr>\n",
              "      <th>2</th>\n",
              "      <td>sudeste</td>\n",
              "      <td>22202</td>\n",
              "      <td>10893</td>\n",
              "      <td>2635</td>\n",
              "      <td>1002</td>\n",
              "      <td>354</td>\n",
              "      <td>346</td>\n",
              "      <td>2083</td>\n",
              "      <td>45503</td>\n",
              "      <td>618</td>\n",
              "      <td>359</td>\n",
              "      <td>15</td>\n",
              "      <td>1</td>\n",
              "      <td>1</td>\n",
              "      <td>0</td>\n",
              "      <td>0</td>\n",
              "      <td>2</td>\n",
              "      <td>0</td>\n",
              "      <td>0</td>\n",
              "      <td>0</td>\n",
              "      <td>0</td>\n",
              "      <td>0</td>\n",
              "      <td>32</td>\n",
              "      <td>1</td>\n",
              "      <td>8</td>\n",
              "      <td>10</td>\n",
              "      <td>2</td>\n",
              "      <td>0</td>\n",
              "      <td>0</td>\n",
              "      <td>0</td>\n",
              "    </tr>\n",
              "    <tr>\n",
              "      <th>3</th>\n",
              "      <td>sul</td>\n",
              "      <td>6599</td>\n",
              "      <td>11140</td>\n",
              "      <td>1058</td>\n",
              "      <td>558</td>\n",
              "      <td>227</td>\n",
              "      <td>253</td>\n",
              "      <td>270</td>\n",
              "      <td>1770</td>\n",
              "      <td>1046</td>\n",
              "      <td>39</td>\n",
              "      <td>3</td>\n",
              "      <td>0</td>\n",
              "      <td>0</td>\n",
              "      <td>2</td>\n",
              "      <td>0</td>\n",
              "      <td>4</td>\n",
              "      <td>0</td>\n",
              "      <td>0</td>\n",
              "      <td>0</td>\n",
              "      <td>0</td>\n",
              "      <td>8</td>\n",
              "      <td>7</td>\n",
              "      <td>0</td>\n",
              "      <td>1</td>\n",
              "      <td>0</td>\n",
              "      <td>0</td>\n",
              "      <td>0</td>\n",
              "      <td>0</td>\n",
              "      <td>1</td>\n",
              "    </tr>\n",
              "    <tr>\n",
              "      <th>4</th>\n",
              "      <td>centro-oeste</td>\n",
              "      <td>13498</td>\n",
              "      <td>4470</td>\n",
              "      <td>766</td>\n",
              "      <td>231</td>\n",
              "      <td>113</td>\n",
              "      <td>37</td>\n",
              "      <td>208</td>\n",
              "      <td>1613</td>\n",
              "      <td>265</td>\n",
              "      <td>50</td>\n",
              "      <td>1</td>\n",
              "      <td>0</td>\n",
              "      <td>0</td>\n",
              "      <td>0</td>\n",
              "      <td>0</td>\n",
              "      <td>0</td>\n",
              "      <td>0</td>\n",
              "      <td>0</td>\n",
              "      <td>0</td>\n",
              "      <td>0</td>\n",
              "      <td>0</td>\n",
              "      <td>2</td>\n",
              "      <td>0</td>\n",
              "      <td>1</td>\n",
              "      <td>0</td>\n",
              "      <td>0</td>\n",
              "      <td>0</td>\n",
              "      <td>0</td>\n",
              "      <td>0</td>\n",
              "    </tr>\n",
              "  </tbody>\n",
              "</table>\n",
              "</div>"
            ],
            "text/plain": [
              "         regiao   1990   1991  1992  1993  ...  2014  2015  2016  2017  2018\n",
              "0         norte   5396   4665   480   239  ...     0     1     0     0    95\n",
              "1      nordeste  13776  11364  2758   366  ...   866   211     0     0     0\n",
              "2       sudeste  22202  10893  2635  1002  ...    10     2     0     0     0\n",
              "3           sul   6599  11140  1058   558  ...     0     0     0     0     1\n",
              "4  centro-oeste  13498   4470   766   231  ...     0     0     0     0     0\n",
              "\n",
              "[5 rows x 30 columns]"
            ]
          },
          "metadata": {
            "tags": []
          },
          "execution_count": 7
        }
      ]
    },
    {
      "cell_type": "code",
      "metadata": {
        "id": "cMpCy8KX1Omk"
      },
      "source": [
        "casos = casos_sarampo_regiao.set_index('regiao')"
      ],
      "execution_count": 8,
      "outputs": []
    },
    {
      "cell_type": "code",
      "metadata": {
        "colab": {
          "base_uri": "https://localhost:8080/",
          "height": 553
        },
        "id": "ewF32-pz1b5a",
        "outputId": "79f2ce15-146e-446e-fbb6-c3dcf3de8ad7"
      },
      "source": [
        "casos_2013_2018 = casos.T.loc['2013':]\n",
        "casos_2013_2018.plot(kind='bar',figsize=(12,8))\n",
        "plt.title('Casos de sarampo por região', fontsize=18)\n",
        "plt.xlabel('Anos', fontsize=14)\n",
        "plt.ylabel('Casos', fontsize=14)"
      ],
      "execution_count": 9,
      "outputs": [
        {
          "output_type": "execute_result",
          "data": {
            "text/plain": [
              "Text(0, 0.5, 'Casos')"
            ]
          },
          "metadata": {
            "tags": []
          },
          "execution_count": 9
        },
        {
          "output_type": "display_data",
          "data": {
            "image/png": "[encoded data removed]",
            "text/plain": [
              "<Figure size 864x576 with 1 Axes>"
            ]
          },
          "metadata": {
            "tags": [],
            "needs_background": "light"
          }
        }
      ]
    },
    {
      "cell_type": "markdown",
      "metadata": {
        "id": "NJl1PHri69vo"
      },
      "source": [
        "É possível notar o retorno do sarampo na região norte através do gráfico acima."
      ]
    },
    {
      "cell_type": "markdown",
      "metadata": {
        "id": "5StEGlr0kF6N"
      },
      "source": [
        "##O retorno do Sarampo:\n",
        "\n",
        "Infelizmente, o sarampo esta de volta, ao final de 2018 o Brasil registrou 10262 casos de Sarampo[(MINISTERIO DA SAUDE,2018)](https://portalarquivos2.saude.gov.br/images/pdf/2018/dezembro/14/Informe-Sarampo-n34-12dez18.pdf). Números expressivos em vista do histório da doença observado anteriormente.\n",
        "\n",
        "Uma das causas para o retorno do sarampo, após dois anos consecutivos sem registros de casos, foi a \"importação\" do vírus, ou seja, brasileiros que viajaram para países onde se tinha a circulação da doença ou quando um estrangeiro vindo de um desses locais visitava o país. [(MENEZES,2019)](https://www.aosfatos.org/noticias/desenhamos-fatos-sobre-o-surto-de-sarampo-no-brasil/)\n",
        "\n",
        "Segundo o Ministério da Saúde, o surto de sarampo em 2018, predominante no norte do país, estavam relacionados com um genótipo do virus da Venezuela. [(LABOISSIÈRE,2019)](https://agenciabrasil.ebc.com.br/saude/noticia/2019-01/brasil-tem-10274-casos-confirmados-de-sarampo)\n",
        "\n",
        "Já em 2019 a [Prefeitura de São Paulo](https://www.prefeitura.sp.gov.br/cidade/secretarias/justica/noticias/?p=280566) informou que os casos na cidade foram importados da Noruega, Malta e Israel.\n",
        "\n",
        "Outro fator que deve ser verificado é a **cobertura vacinal da doença**. Por isso vamos aos dados.\n",
        "\n"
      ]
    },
    {
      "cell_type": "markdown",
      "metadata": {
        "id": "Yf6QLAUoDag_"
      },
      "source": [
        "<center>\n",
        "<img src='https://www.scielo.br/img/revistas/hcsm/v10s2/a13img05.gif'>\n",
        "</center>"
      ]
    },
    {
      "cell_type": "markdown",
      "metadata": {
        "id": "yKEaOaRJC7BD"
      },
      "source": [
        "#Dados de cobertura vacinal"
      ]
    },
    {
      "cell_type": "markdown",
      "metadata": {
        "id": "c0wAdBUiDDUI"
      },
      "source": [
        "##Limpeza dos dados"
      ]
    },
    {
      "cell_type": "code",
      "metadata": {
        "colab": {
          "base_uri": "https://localhost:8080/",
          "height": 846
        },
        "id": "szg0RWIJ3fsq",
        "outputId": "772c7f68-e327-4b70-c0ef-6d02ba293cad"
      },
      "source": [
        "cobertura_imuno_por_ano[['Ano','021 Tríplice Viral  D1','098 Tríplice Viral  D2','018 Sarampo']]"
      ],
      "execution_count": 10,
      "outputs": [
        {
          "output_type": "execute_result",
          "data": {
            "text/html": [
              "<div>\n",
              "<style scoped>\n",
              "    .dataframe tbody tr th:only-of-type {\n",
              "        vertical-align: middle;\n",
              "    }\n",
              "\n",
              "    .dataframe tbody tr th {\n",
              "        vertical-align: top;\n",
              "    }\n",
              "\n",
              "    .dataframe thead th {\n",
              "        text-align: right;\n",
              "    }\n",
              "</style>\n",
              "<table border=\"1\" class=\"dataframe\">\n",
              "  <thead>\n",
              "    <tr style=\"text-align: right;\">\n",
              "      <th></th>\n",
              "      <th>Ano</th>\n",
              "      <th>021 Tríplice Viral  D1</th>\n",
              "      <th>098 Tríplice Viral  D2</th>\n",
              "      <th>018 Sarampo</th>\n",
              "    </tr>\n",
              "  </thead>\n",
              "  <tbody>\n",
              "    <tr>\n",
              "      <th>0</th>\n",
              "      <td>1994</td>\n",
              "      <td>NaN</td>\n",
              "      <td>NaN</td>\n",
              "      <td>71.35</td>\n",
              "    </tr>\n",
              "    <tr>\n",
              "      <th>1</th>\n",
              "      <td>1995</td>\n",
              "      <td>NaN</td>\n",
              "      <td>NaN</td>\n",
              "      <td>86.85</td>\n",
              "    </tr>\n",
              "    <tr>\n",
              "      <th>2</th>\n",
              "      <td>1996</td>\n",
              "      <td>NaN</td>\n",
              "      <td>NaN</td>\n",
              "      <td>80.39</td>\n",
              "    </tr>\n",
              "    <tr>\n",
              "      <th>3</th>\n",
              "      <td>1997</td>\n",
              "      <td>NaN</td>\n",
              "      <td>NaN</td>\n",
              "      <td>108.61</td>\n",
              "    </tr>\n",
              "    <tr>\n",
              "      <th>4</th>\n",
              "      <td>1998</td>\n",
              "      <td>NaN</td>\n",
              "      <td>NaN</td>\n",
              "      <td>95.26</td>\n",
              "    </tr>\n",
              "    <tr>\n",
              "      <th>5</th>\n",
              "      <td>1999</td>\n",
              "      <td>6692.10</td>\n",
              "      <td>NaN</td>\n",
              "      <td>99.31</td>\n",
              "    </tr>\n",
              "    <tr>\n",
              "      <th>6</th>\n",
              "      <td>2000</td>\n",
              "      <td>77.50</td>\n",
              "      <td>NaN</td>\n",
              "      <td>105.35</td>\n",
              "    </tr>\n",
              "    <tr>\n",
              "      <th>7</th>\n",
              "      <td>2001</td>\n",
              "      <td>88.43</td>\n",
              "      <td>NaN</td>\n",
              "      <td>103.85</td>\n",
              "    </tr>\n",
              "    <tr>\n",
              "      <th>8</th>\n",
              "      <td>2002</td>\n",
              "      <td>96.92</td>\n",
              "      <td>NaN</td>\n",
              "      <td>96.02</td>\n",
              "    </tr>\n",
              "    <tr>\n",
              "      <th>9</th>\n",
              "      <td>2003</td>\n",
              "      <td>112.95</td>\n",
              "      <td>NaN</td>\n",
              "      <td>4.06</td>\n",
              "    </tr>\n",
              "    <tr>\n",
              "      <th>10</th>\n",
              "      <td>2004</td>\n",
              "      <td>110.93</td>\n",
              "      <td>NaN</td>\n",
              "      <td>NaN</td>\n",
              "    </tr>\n",
              "    <tr>\n",
              "      <th>11</th>\n",
              "      <td>2005</td>\n",
              "      <td>106.55</td>\n",
              "      <td>NaN</td>\n",
              "      <td>NaN</td>\n",
              "    </tr>\n",
              "    <tr>\n",
              "      <th>12</th>\n",
              "      <td>2006</td>\n",
              "      <td>105.35</td>\n",
              "      <td>NaN</td>\n",
              "      <td>NaN</td>\n",
              "    </tr>\n",
              "    <tr>\n",
              "      <th>13</th>\n",
              "      <td>2007</td>\n",
              "      <td>106.80</td>\n",
              "      <td>NaN</td>\n",
              "      <td>NaN</td>\n",
              "    </tr>\n",
              "    <tr>\n",
              "      <th>14</th>\n",
              "      <td>2008</td>\n",
              "      <td>99.81</td>\n",
              "      <td>NaN</td>\n",
              "      <td>NaN</td>\n",
              "    </tr>\n",
              "    <tr>\n",
              "      <th>15</th>\n",
              "      <td>2009</td>\n",
              "      <td>103.74</td>\n",
              "      <td>NaN</td>\n",
              "      <td>NaN</td>\n",
              "    </tr>\n",
              "    <tr>\n",
              "      <th>16</th>\n",
              "      <td>2010</td>\n",
              "      <td>99.93</td>\n",
              "      <td>NaN</td>\n",
              "      <td>NaN</td>\n",
              "    </tr>\n",
              "    <tr>\n",
              "      <th>17</th>\n",
              "      <td>2011</td>\n",
              "      <td>102.39</td>\n",
              "      <td>NaN</td>\n",
              "      <td>NaN</td>\n",
              "    </tr>\n",
              "    <tr>\n",
              "      <th>18</th>\n",
              "      <td>2012</td>\n",
              "      <td>99.50</td>\n",
              "      <td>NaN</td>\n",
              "      <td>NaN</td>\n",
              "    </tr>\n",
              "    <tr>\n",
              "      <th>19</th>\n",
              "      <td>2013</td>\n",
              "      <td>107.46</td>\n",
              "      <td>68.87</td>\n",
              "      <td>NaN</td>\n",
              "    </tr>\n",
              "    <tr>\n",
              "      <th>20</th>\n",
              "      <td>2014</td>\n",
              "      <td>112.80</td>\n",
              "      <td>92.88</td>\n",
              "      <td>NaN</td>\n",
              "    </tr>\n",
              "    <tr>\n",
              "      <th>21</th>\n",
              "      <td>2015</td>\n",
              "      <td>96.07</td>\n",
              "      <td>79.94</td>\n",
              "      <td>NaN</td>\n",
              "    </tr>\n",
              "    <tr>\n",
              "      <th>22</th>\n",
              "      <td>2016</td>\n",
              "      <td>95.41</td>\n",
              "      <td>76.71</td>\n",
              "      <td>NaN</td>\n",
              "    </tr>\n",
              "    <tr>\n",
              "      <th>23</th>\n",
              "      <td>2017</td>\n",
              "      <td>90.85</td>\n",
              "      <td>76.45</td>\n",
              "      <td>NaN</td>\n",
              "    </tr>\n",
              "    <tr>\n",
              "      <th>24</th>\n",
              "      <td>2018</td>\n",
              "      <td>91.89</td>\n",
              "      <td>76.49</td>\n",
              "      <td>NaN</td>\n",
              "    </tr>\n",
              "    <tr>\n",
              "      <th>25</th>\n",
              "      <td>2019</td>\n",
              "      <td>57.19</td>\n",
              "      <td>48.37</td>\n",
              "      <td>NaN</td>\n",
              "    </tr>\n",
              "    <tr>\n",
              "      <th>26</th>\n",
              "      <td>Total</td>\n",
              "      <td>102.30</td>\n",
              "      <td>74.23</td>\n",
              "      <td>85.97</td>\n",
              "    </tr>\n",
              "  </tbody>\n",
              "</table>\n",
              "</div>"
            ],
            "text/plain": [
              "      Ano  021 Tríplice Viral  D1  098 Tríplice Viral  D2  018 Sarampo\n",
              "0    1994                     NaN                     NaN        71.35\n",
              "1    1995                     NaN                     NaN        86.85\n",
              "2    1996                     NaN                     NaN        80.39\n",
              "3    1997                     NaN                     NaN       108.61\n",
              "4    1998                     NaN                     NaN        95.26\n",
              "5    1999                 6692.10                     NaN        99.31\n",
              "6    2000                   77.50                     NaN       105.35\n",
              "7    2001                   88.43                     NaN       103.85\n",
              "8    2002                   96.92                     NaN        96.02\n",
              "9    2003                  112.95                     NaN         4.06\n",
              "10   2004                  110.93                     NaN          NaN\n",
              "11   2005                  106.55                     NaN          NaN\n",
              "12   2006                  105.35                     NaN          NaN\n",
              "13   2007                  106.80                     NaN          NaN\n",
              "14   2008                   99.81                     NaN          NaN\n",
              "15   2009                  103.74                     NaN          NaN\n",
              "16   2010                   99.93                     NaN          NaN\n",
              "17   2011                  102.39                     NaN          NaN\n",
              "18   2012                   99.50                     NaN          NaN\n",
              "19   2013                  107.46                   68.87          NaN\n",
              "20   2014                  112.80                   92.88          NaN\n",
              "21   2015                   96.07                   79.94          NaN\n",
              "22   2016                   95.41                   76.71          NaN\n",
              "23   2017                   90.85                   76.45          NaN\n",
              "24   2018                   91.89                   76.49          NaN\n",
              "25   2019                   57.19                   48.37          NaN\n",
              "26  Total                  102.30                   74.23        85.97"
            ]
          },
          "metadata": {
            "tags": []
          },
          "execution_count": 10
        }
      ]
    },
    {
      "cell_type": "markdown",
      "metadata": {
        "id": "47julk4e5EP1"
      },
      "source": [
        "É possível observar que temos dados de vacinação de Sarampo de 1994 a 2002 pois a partir de 2003 a vacina contra o sarampo foi substituída pela vacina Tríplice Viral SCR(Sarampo / Caxumba / Rubéola) segundo a [página 4 das notas técnicas do Tabnet](http://tabnet.datasus.gov.br/cgi/pni/Imun_cobertura_desde_1994.pdf). Já os dados da segunda dose da tríplice viral estão disponíveis apenas a partir de 2013. Considerando que dados de 1994 a 1996 não possuem boa precisão pela própria implantação do banco de dados e que os dados de 2019 estão incompletos vou optar por realizar a análise de 2013 a 2018."
      ]
    },
    {
      "cell_type": "code",
      "metadata": {
        "colab": {
          "base_uri": "https://localhost:8080/",
          "height": 254
        },
        "id": "UTb71chz4L0v",
        "outputId": "b33f58d0-d230-4ace-d2e6-fc5f6e989c55"
      },
      "source": [
        "#Selecionando as linhas de 2013 em diante.\n",
        "cobertura_sarampo_ano = cobertura_imuno_por_ano[['Ano','021 Tríplice Viral  D1',\n",
        "                                                 '098 Tríplice Viral  D2']][19:]\n",
        "#Setando o ano como índice\n",
        "cobertura_sarampo_ano = cobertura_sarampo_ano.set_index('Ano')\n",
        "#Renomeando colunas\n",
        "cobertura_sarampo_ano = cobertura_sarampo_ano.rename(columns={'021 Tríplice Viral  D1': 'triplice_viral_1,', \n",
        "                                                              '098 Tríplice Viral  D2': 'triplice_viral_2'})\n",
        "#Excluindo as linhas Total e 2019\n",
        "cobertura_sarampo_ano = cobertura_sarampo_ano.drop(['Total','2019'], axis=0)\n",
        "cobertura_sarampo_ano.head(10)"
      ],
      "execution_count": 11,
      "outputs": [
        {
          "output_type": "execute_result",
          "data": {
            "text/html": [
              "<div>\n",
              "<style scoped>\n",
              "    .dataframe tbody tr th:only-of-type {\n",
              "        vertical-align: middle;\n",
              "    }\n",
              "\n",
              "    .dataframe tbody tr th {\n",
              "        vertical-align: top;\n",
              "    }\n",
              "\n",
              "    .dataframe thead th {\n",
              "        text-align: right;\n",
              "    }\n",
              "</style>\n",
              "<table border=\"1\" class=\"dataframe\">\n",
              "  <thead>\n",
              "    <tr style=\"text-align: right;\">\n",
              "      <th></th>\n",
              "      <th>triplice_viral_1,</th>\n",
              "      <th>triplice_viral_2</th>\n",
              "    </tr>\n",
              "    <tr>\n",
              "      <th>Ano</th>\n",
              "      <th></th>\n",
              "      <th></th>\n",
              "    </tr>\n",
              "  </thead>\n",
              "  <tbody>\n",
              "    <tr>\n",
              "      <th>2013</th>\n",
              "      <td>107.46</td>\n",
              "      <td>68.87</td>\n",
              "    </tr>\n",
              "    <tr>\n",
              "      <th>2014</th>\n",
              "      <td>112.80</td>\n",
              "      <td>92.88</td>\n",
              "    </tr>\n",
              "    <tr>\n",
              "      <th>2015</th>\n",
              "      <td>96.07</td>\n",
              "      <td>79.94</td>\n",
              "    </tr>\n",
              "    <tr>\n",
              "      <th>2016</th>\n",
              "      <td>95.41</td>\n",
              "      <td>76.71</td>\n",
              "    </tr>\n",
              "    <tr>\n",
              "      <th>2017</th>\n",
              "      <td>90.85</td>\n",
              "      <td>76.45</td>\n",
              "    </tr>\n",
              "    <tr>\n",
              "      <th>2018</th>\n",
              "      <td>91.89</td>\n",
              "      <td>76.49</td>\n",
              "    </tr>\n",
              "  </tbody>\n",
              "</table>\n",
              "</div>"
            ],
            "text/plain": [
              "      triplice_viral_1,  triplice_viral_2\n",
              "Ano                                      \n",
              "2013             107.46             68.87\n",
              "2014             112.80             92.88\n",
              "2015              96.07             79.94\n",
              "2016              95.41             76.71\n",
              "2017              90.85             76.45\n",
              "2018              91.89             76.49"
            ]
          },
          "metadata": {
            "tags": []
          },
          "execution_count": 11
        }
      ]
    },
    {
      "cell_type": "markdown",
      "metadata": {
        "id": "2shIkfeIAt4Z"
      },
      "source": [
        "Fazendo um plot superficial apenas para verificar se já temos uma ideia do comportamento dos dados"
      ]
    },
    {
      "cell_type": "code",
      "metadata": {
        "colab": {
          "base_uri": "https://localhost:8080/",
          "height": 296
        },
        "id": "Q_1yyxdu_QhS",
        "outputId": "949888fc-1f17-4200-8531-5daf0a144079"
      },
      "source": [
        "cobertura_sarampo_ano.plot()"
      ],
      "execution_count": 12,
      "outputs": [
        {
          "output_type": "execute_result",
          "data": {
            "text/plain": [
              "<matplotlib.axes._subplots.AxesSubplot at 0x7f97b3df5240>"
            ]
          },
          "metadata": {
            "tags": []
          },
          "execution_count": 12
        },
        {
          "output_type": "display_data",
          "data": {
            "image/png": "[encoded data removed]",
            "text/plain": [
              "<Figure size 432x288 with 1 Axes>"
            ]
          },
          "metadata": {
            "tags": [],
            "needs_background": "light"
          }
        }
      ]
    },
    {
      "cell_type": "markdown",
      "metadata": {
        "id": "ErM4PZqIA8-Y"
      },
      "source": [
        "Como vemos, apesar de ser uma análise inicial, esse gráfico já nos tráz preocupações, é possível notar uma grande queda na cobertura vacinal a partir de 2014, além disso, é notável o fato da segunda dose ter uma adesão muito baixa."
      ]
    },
    {
      "cell_type": "code",
      "metadata": {
        "colab": {
          "base_uri": "https://localhost:8080/",
          "height": 312
        },
        "id": "fpQn0-84ESNJ",
        "outputId": "338b87ec-8e14-4212-a677-4e09967a6e39"
      },
      "source": [
        "cobertura_sarampo_ano.plot(kind='bar')"
      ],
      "execution_count": 13,
      "outputs": [
        {
          "output_type": "execute_result",
          "data": {
            "text/plain": [
              "<matplotlib.axes._subplots.AxesSubplot at 0x7f97b390c0f0>"
            ]
          },
          "metadata": {
            "tags": []
          },
          "execution_count": 13
        },
        {
          "output_type": "display_data",
          "data": {
            "image/png": "[encoded data removed]",
            "text/plain": [
              "<Figure size 432x288 with 1 Axes>"
            ]
          },
          "metadata": {
            "tags": [],
            "needs_background": "light"
          }
        }
      ]
    },
    {
      "cell_type": "markdown",
      "metadata": {
        "id": "gkKmlFWsE1ZV"
      },
      "source": [
        "Mais preocupante ainda é notar que a primeira dose está e descrescimento quase pareando com os índices da segunda."
      ]
    },
    {
      "cell_type": "markdown",
      "metadata": {
        "id": "HeEqJWT4IG3u"
      },
      "source": [
        "Na extração de dados do tabnet a seleção de região por ano realiza uma soma da cobertura vacinal, dessa forma, fiz uma seleção dos dados de 2015 a 2019 e uma extração específica para cada ano, assim poderemos observar de uma melhor forma esses dados, para isso serão feitas algumas limpezas desses dados."
      ]
    },
    {
      "cell_type": "code",
      "metadata": {
        "id": "L4q-2CipQuw_"
      },
      "source": [
        "colunas = ['Região', '021 Tríplice Viral  D1', '098 Tríplice Viral  D2']\n",
        "dados = [regiao_imuno2015,regiao_imuno2016,regiao_imuno2017,\n",
        "         regiao_imuno2018,regiao_imuno2019]"
      ],
      "execution_count": 14,
      "outputs": []
    },
    {
      "cell_type": "code",
      "metadata": {
        "id": "3B4f4NAuOicb"
      },
      "source": [
        "#criando uma função para automatizar a limpeza dos dados\n",
        "def limpa_dados(dados):\n",
        "  dados = dados[colunas]\n",
        "  dados = dados.set_index('Região')\n",
        "  dados = dados.drop('Total')\n",
        "\n",
        "  return dados"
      ],
      "execution_count": 15,
      "outputs": []
    },
    {
      "cell_type": "code",
      "metadata": {
        "id": "ncJnbF8VTWa_"
      },
      "source": [
        "regiao_imuno2015 = limpa_dados(regiao_imuno2015)\n",
        "regiao_imuno2016 = limpa_dados(regiao_imuno2016)\n",
        "regiao_imuno2017 = limpa_dados(regiao_imuno2017)\n",
        "regiao_imuno2018 = limpa_dados(regiao_imuno2018)\n",
        "regiao_imuno2019 = limpa_dados(regiao_imuno2019)"
      ],
      "execution_count": 16,
      "outputs": []
    },
    {
      "cell_type": "code",
      "metadata": {
        "colab": {
          "base_uri": "https://localhost:8080/",
          "height": 399
        },
        "id": "opro6iqZVKPY",
        "outputId": "0ed65b7a-e7c1-425f-96bd-7e209f536489"
      },
      "source": [
        "regiao_imuno2015.plot(kind='bar')"
      ],
      "execution_count": 17,
      "outputs": [
        {
          "output_type": "execute_result",
          "data": {
            "text/plain": [
              "<matplotlib.axes._subplots.AxesSubplot at 0x7f97b3716d68>"
            ]
          },
          "metadata": {
            "tags": []
          },
          "execution_count": 17
        },
        {
          "output_type": "display_data",
          "data": {
            "image/png": "[encoded data removed]",
            "text/plain": [
              "<Figure size 432x288 with 1 Axes>"
            ]
          },
          "metadata": {
            "tags": [],
            "needs_background": "light"
          }
        }
      ]
    },
    {
      "cell_type": "code",
      "metadata": {
        "id": "ZLjHjMucWFgu"
      },
      "source": [
        ""
      ],
      "execution_count": null,
      "outputs": []
    }
  ]
}